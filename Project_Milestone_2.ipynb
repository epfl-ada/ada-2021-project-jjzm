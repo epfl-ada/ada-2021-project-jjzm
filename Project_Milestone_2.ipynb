{
  "nbformat": 4,
  "nbformat_minor": 0,
  "metadata": {
    "colab": {
      "name": "Project Milestone 2.ipynb",
      "provenance": [],
      "collapsed_sections": []
    },
    "kernelspec": {
      "name": "python3",
      "display_name": "Python 3"
    },
    "language_info": {
      "name": "python"
    }
  },
  "cells": [
    {
      "cell_type": "markdown",
      "metadata": {
        "id": "hwcsufM5siRb"
      },
      "source": [
        "# Project Milestone 2"
      ]
    },
    {
      "cell_type": "markdown",
      "metadata": {
        "id": "rDIwbh2Ssx1H"
      },
      "source": [
        "## Tools"
      ]
    },
    {
      "cell_type": "code",
      "metadata": {
        "id": "p3ZUlq_gsnDy"
      },
      "source": [
        "pip install pandas==1.0.5"
      ],
      "execution_count": null,
      "outputs": []
    },
    {
      "cell_type": "code",
      "metadata": {
        "colab": {
          "base_uri": "https://localhost:8080/"
        },
        "id": "ZbelLu3-sxpB",
        "outputId": "1846011d-842f-4adf-b325-5a3abbbd00b4"
      },
      "source": [
        "import pandas as pd\n",
        "import matplotlib.pyplot as plt\n",
        "import seaborn as sns\n",
        "import collections\n",
        "import nltk\n",
        "import requests\n",
        "import pickle\n",
        "from nltk.corpus import wordnet\n",
        "from nltk.corpus import stopwords\n",
        "from wordcloud import WordCloud\n",
        "print('pandas version: ' + pd.__version__)"
      ],
      "execution_count": 4,
      "outputs": [
        {
          "output_type": "stream",
          "name": "stdout",
          "text": [
            "pandas version: 1.0.5\n"
          ]
        }
      ]
    },
    {
      "cell_type": "code",
      "metadata": {
        "colab": {
          "base_uri": "https://localhost:8080/"
        },
        "id": "3jGqI8P_s7x5",
        "outputId": "9564c64b-5b8f-4a57-8d0b-e33bfb4a653f"
      },
      "source": [
        "from google.colab import drive\n",
        "drive.mount('/content/drive')"
      ],
      "execution_count": 5,
      "outputs": [
        {
          "output_type": "stream",
          "name": "stdout",
          "text": [
            "Drive already mounted at /content/drive; to attempt to forcibly remount, call drive.mount(\"/content/drive\", force_remount=True).\n"
          ]
        }
      ]
    },
    {
      "cell_type": "code",
      "metadata": {
        "id": "JpT3uaZ3tW82"
      },
      "source": [
        "path_data = '/content/drive/MyDrive/Quotebank/'"
      ],
      "execution_count": 6,
      "outputs": []
    },
    {
      "cell_type": "code",
      "metadata": {
        "id": "6AP49Ub4tf2D"
      },
      "source": [
        "# loop through nb_chunks_to_read chunks (if 0, through all chunks) and apply process_function to each of them\n",
        "# return the result as a dataframe\n",
        "def loop_chuncks(chunks, process_function, nb_chunks_to_read=0):\n",
        "  i = 0\n",
        "  result = []\n",
        "  columns = None\n",
        "  for chunk in chunks:\n",
        "    processed = process_function(chunk)\n",
        "    if processed is not None:\n",
        "      if not isinstance(processed, pd.Series):\n",
        "        columns = processed.columns\n",
        "      for r in processed.values.tolist():\n",
        "        result.append(r)\n",
        "    i += 1\n",
        "    if i == nb_chunks_to_read:\n",
        "      break\n",
        "  return pd.DataFrame(result, columns=columns)"
      ],
      "execution_count": 7,
      "outputs": []
    },
    {
      "cell_type": "code",
      "metadata": {
        "colab": {
          "base_uri": "https://localhost:8080/",
          "height": 193
        },
        "id": "JmtK07x4trUq",
        "outputId": "2ea37a06-0ddb-4b47-cfa5-8035a75bbd14"
      },
      "source": [
        "# return the first 3 elements of a chunk\n",
        "def chunck_head(chunk):\n",
        "  return chunk.head(3)\n",
        "\n",
        "# example\n",
        "chunks = pd.read_json(path_data + 'quotes-2020.json.bz2', lines=True, compression='bz2', chunksize=10000)\n",
        "loop_chuncks(chunks, chunck_head, 1)"
      ],
      "execution_count": 8,
      "outputs": [
        {
          "output_type": "execute_result",
          "data": {
            "text/html": [
              "<div>\n",
              "<style scoped>\n",
              "    .dataframe tbody tr th:only-of-type {\n",
              "        vertical-align: middle;\n",
              "    }\n",
              "\n",
              "    .dataframe tbody tr th {\n",
              "        vertical-align: top;\n",
              "    }\n",
              "\n",
              "    .dataframe thead th {\n",
              "        text-align: right;\n",
              "    }\n",
              "</style>\n",
              "<table border=\"1\" class=\"dataframe\">\n",
              "  <thead>\n",
              "    <tr style=\"text-align: right;\">\n",
              "      <th></th>\n",
              "      <th>quoteID</th>\n",
              "      <th>quotation</th>\n",
              "      <th>speaker</th>\n",
              "      <th>qids</th>\n",
              "      <th>date</th>\n",
              "      <th>numOccurrences</th>\n",
              "      <th>probas</th>\n",
              "      <th>urls</th>\n",
              "      <th>phase</th>\n",
              "    </tr>\n",
              "  </thead>\n",
              "  <tbody>\n",
              "    <tr>\n",
              "      <th>0</th>\n",
              "      <td>2020-01-28-000082</td>\n",
              "      <td>[ D ] espite the efforts of the partners to cr...</td>\n",
              "      <td>None</td>\n",
              "      <td>[]</td>\n",
              "      <td>2020-01-28 08:04:05</td>\n",
              "      <td>1</td>\n",
              "      <td>[[None, 0.7272], [Prime Minister Netanyahu, 0....</td>\n",
              "      <td>[http://israelnationalnews.com/News/News.aspx/...</td>\n",
              "      <td>E</td>\n",
              "    </tr>\n",
              "    <tr>\n",
              "      <th>1</th>\n",
              "      <td>2020-01-16-000088</td>\n",
              "      <td>[ Department of Homeland Security ] was livid ...</td>\n",
              "      <td>Sue Myrick</td>\n",
              "      <td>[Q367796]</td>\n",
              "      <td>2020-01-16 12:00:13</td>\n",
              "      <td>1</td>\n",
              "      <td>[[Sue Myrick, 0.8867], [None, 0.0992], [Ron Wy...</td>\n",
              "      <td>[http://thehill.com/opinion/international/4782...</td>\n",
              "      <td>E</td>\n",
              "    </tr>\n",
              "    <tr>\n",
              "      <th>2</th>\n",
              "      <td>2020-02-10-000142</td>\n",
              "      <td>... He (Madhav) also disclosed that the illega...</td>\n",
              "      <td>None</td>\n",
              "      <td>[]</td>\n",
              "      <td>2020-02-10 23:45:54</td>\n",
              "      <td>1</td>\n",
              "      <td>[[None, 0.8926], [Prakash Rai, 0.1074]]</td>\n",
              "      <td>[https://indianexpress.com/article/business/ec...</td>\n",
              "      <td>E</td>\n",
              "    </tr>\n",
              "  </tbody>\n",
              "</table>\n",
              "</div>"
            ],
            "text/plain": [
              "             quoteID  ... phase\n",
              "0  2020-01-28-000082  ...     E\n",
              "1  2020-01-16-000088  ...     E\n",
              "2  2020-02-10-000142  ...     E\n",
              "\n",
              "[3 rows x 9 columns]"
            ]
          },
          "metadata": {},
          "execution_count": 8
        }
      ]
    },
    {
      "cell_type": "code",
      "metadata": {
        "colab": {
          "base_uri": "https://localhost:8080/"
        },
        "id": "lXtgCRTFt3T6",
        "outputId": "1d4cbe3d-fbe6-4b1f-b09d-5547be036bb8"
      },
      "source": [
        "# to create automatically a list of synonyms\n",
        "# https://towardsdatascience.com/synonyms-and-antonyms-in-python-a865a5e14ce8\n",
        "nltk.download('wordnet')\n",
        "\n",
        "def find_synonyms(word):\n",
        "  words = []\n",
        "  for syn in wordnet.synsets(word):\n",
        "    for lm in syn.lemmas():\n",
        "      words.append(lm.name())\n",
        "  return words\n",
        "\n",
        "# example\n",
        "find_synonyms('climate')\n",
        "find_synonyms('environment')"
      ],
      "execution_count": 9,
      "outputs": [
        {
          "output_type": "stream",
          "name": "stdout",
          "text": [
            "[nltk_data] Downloading package wordnet to /root/nltk_data...\n",
            "[nltk_data]   Unzipping corpora/wordnet.zip.\n"
          ]
        },
        {
          "output_type": "execute_result",
          "data": {
            "text/plain": [
              "['environment', 'environment', 'environs', 'surroundings', 'surround']"
            ]
          },
          "metadata": {},
          "execution_count": 9
        }
      ]
    },
    {
      "cell_type": "markdown",
      "metadata": {
        "id": "u0uR07N-x7oB"
      },
      "source": [
        "## Creation of the dataset about climate change"
      ]
    },
    {
      "cell_type": "code",
      "metadata": {
        "colab": {
          "base_uri": "https://localhost:8080/",
          "height": 193
        },
        "id": "FmoDei5vyJ6p",
        "outputId": "1fb81d18-2a02-46d6-beb6-5420ffebddd7"
      },
      "source": [
        "# return the quotes containing one of the words in the list\n",
        "\n",
        "words = ['global warming', 'climate change']\n",
        "\n",
        "def contains_word_in_list(chunk):\n",
        "  return chunk[chunk.quotation.str.contains('|'.join(words))]\n",
        "\n",
        "chunks = pd.read_json(path_data + 'quotes-2020.json.bz2', lines=True, compression='bz2', chunksize=10000)\n",
        "word_in_list_quotes = loop_chuncks(chunks, contains_word_in_list, 3)\n",
        "\n",
        "word_in_list_quotes.sample(3)"
      ],
      "execution_count": 10,
      "outputs": [
        {
          "output_type": "execute_result",
          "data": {
            "text/html": [
              "<div>\n",
              "<style scoped>\n",
              "    .dataframe tbody tr th:only-of-type {\n",
              "        vertical-align: middle;\n",
              "    }\n",
              "\n",
              "    .dataframe tbody tr th {\n",
              "        vertical-align: top;\n",
              "    }\n",
              "\n",
              "    .dataframe thead th {\n",
              "        text-align: right;\n",
              "    }\n",
              "</style>\n",
              "<table border=\"1\" class=\"dataframe\">\n",
              "  <thead>\n",
              "    <tr style=\"text-align: right;\">\n",
              "      <th></th>\n",
              "      <th>quoteID</th>\n",
              "      <th>quotation</th>\n",
              "      <th>speaker</th>\n",
              "      <th>qids</th>\n",
              "      <th>date</th>\n",
              "      <th>numOccurrences</th>\n",
              "      <th>probas</th>\n",
              "      <th>urls</th>\n",
              "      <th>phase</th>\n",
              "    </tr>\n",
              "  </thead>\n",
              "  <tbody>\n",
              "    <tr>\n",
              "      <th>30</th>\n",
              "      <td>2020-01-14-056758</td>\n",
              "      <td>Now, we see the effects of climate change with...</td>\n",
              "      <td>None</td>\n",
              "      <td>[]</td>\n",
              "      <td>2020-01-14 11:00:00</td>\n",
              "      <td>1</td>\n",
              "      <td>[[None, 0.7447], [Scott Morrison, 0.2553]]</td>\n",
              "      <td>[https://www.dazeddigital.com/politics/article...</td>\n",
              "      <td>E</td>\n",
              "    </tr>\n",
              "    <tr>\n",
              "      <th>43</th>\n",
              "      <td>2020-02-12-038593</td>\n",
              "      <td>I think sending a message that Phoenix is not ...</td>\n",
              "      <td>None</td>\n",
              "      <td>[]</td>\n",
              "      <td>2020-02-12 15:25:14</td>\n",
              "      <td>1</td>\n",
              "      <td>[[None, 0.9085], [Jim Waring, 0.0915]]</td>\n",
              "      <td>[http://kjzz.org/content/1438396/after-raising...</td>\n",
              "      <td>E</td>\n",
              "    </tr>\n",
              "    <tr>\n",
              "      <th>24</th>\n",
              "      <td>2020-01-08-060119</td>\n",
              "      <td>precisely why it would be so dangerous and rec...</td>\n",
              "      <td>None</td>\n",
              "      <td>[]</td>\n",
              "      <td>2020-01-08 04:00:00</td>\n",
              "      <td>2</td>\n",
              "      <td>[[None, 0.8504], [Peter Gray, 0.1496]]</td>\n",
              "      <td>[http://theherald.com.au/story/6571744/union-a...</td>\n",
              "      <td>E</td>\n",
              "    </tr>\n",
              "  </tbody>\n",
              "</table>\n",
              "</div>"
            ],
            "text/plain": [
              "              quoteID  ... phase\n",
              "30  2020-01-14-056758  ...     E\n",
              "43  2020-02-12-038593  ...     E\n",
              "24  2020-01-08-060119  ...     E\n",
              "\n",
              "[3 rows x 9 columns]"
            ]
          },
          "metadata": {},
          "execution_count": 10
        }
      ]
    },
    {
      "cell_type": "code",
      "metadata": {
        "id": "AGX8UsEkzI3U"
      },
      "source": [
        "# to load and save pickes (from the course tutorial)\n",
        "def load_pickle(file_path):\n",
        "    with open(file_path, 'rb') as file:\n",
        "        return pickle.load(file)\n",
        "\n",
        "def save_pickle(result, file_path = 'pickle'):\n",
        "    with open(file_path, 'wb') as file:\n",
        "        pickle.dump(result, file)"
      ],
      "execution_count": 11,
      "outputs": []
    },
    {
      "cell_type": "code",
      "metadata": {
        "id": "Cx8ckqUVzhsK"
      },
      "source": [
        "# create a pickle of the quotes about climate change for the 2020 dataset\n",
        "# this have been done for the 6 datasets, commented to not re-run it (very long)\n",
        "# chunks = pd.read_json(path_data + 'quotes-2020.json.bz2', lines=True, compression='bz2', chunksize=10000)\n",
        "# climate_2020 = loop_chuncks(chunks, contains_word_in_list)\n",
        "# path_pickle_2020 = '/content/drive/MyDrive/pickle_2020'\n",
        "# save_pickle(word_in_list_quotes, path_pickle_2020)"
      ],
      "execution_count": 12,
      "outputs": []
    },
    {
      "cell_type": "code",
      "metadata": {
        "id": "FJfzDQtfKN5s"
      },
      "source": [
        "# load the pickles\n",
        "# the pickles need to be added to the drive\n",
        "# download here: https://drive.google.com/drive/folders/1j1Bp1niC0_cqg1kN_LbSrA2TGnq5MTgt?usp=sharing\n",
        "climate_2015 = load_pickle('/content/drive/MyDrive/pickle_2015')\n",
        "climate_2016 = load_pickle('/content/drive/MyDrive/pickle_2016')\n",
        "climate_2017 = load_pickle('/content/drive/MyDrive/pickle_2017')\n",
        "climate_2018 = load_pickle('/content/drive/MyDrive/pickle_2018')\n",
        "climate_2019 = load_pickle('/content/drive/MyDrive/pickle_2019')\n",
        "climate_2020 = load_pickle('/content/drive/MyDrive/pickle_2020')\n",
        "all_years_list = [climate_2015, climate_2016, climate_2017, climate_2018, climate_2019, climate_2020]\n",
        "all_years = [2015, 2016, 2017, 2018, 2019, 2020]\n",
        "for i in range(len(all_years)):\n",
        "  all_years_list[i]['year'] = all_years[i]"
      ],
      "execution_count": 13,
      "outputs": []
    },
    {
      "cell_type": "code",
      "metadata": {
        "id": "otY1eAUqK-TJ",
        "colab": {
          "base_uri": "https://localhost:8080/",
          "height": 278
        },
        "outputId": "dfb75ef3-dbee-4117-ad2d-a0cd8074b555"
      },
      "source": [
        "# create one dataframe for all the years\n",
        "climate_all_years = pd.concat(all_years_list, ignore_index=True)\n",
        "print(climate_all_years.shape)\n",
        "climate_all_years.sample(3)"
      ],
      "execution_count": 14,
      "outputs": [
        {
          "output_type": "stream",
          "name": "stdout",
          "text": [
            "(141512, 10)\n"
          ]
        },
        {
          "output_type": "execute_result",
          "data": {
            "text/html": [
              "<div>\n",
              "<style scoped>\n",
              "    .dataframe tbody tr th:only-of-type {\n",
              "        vertical-align: middle;\n",
              "    }\n",
              "\n",
              "    .dataframe tbody tr th {\n",
              "        vertical-align: top;\n",
              "    }\n",
              "\n",
              "    .dataframe thead th {\n",
              "        text-align: right;\n",
              "    }\n",
              "</style>\n",
              "<table border=\"1\" class=\"dataframe\">\n",
              "  <thead>\n",
              "    <tr style=\"text-align: right;\">\n",
              "      <th></th>\n",
              "      <th>quoteID</th>\n",
              "      <th>quotation</th>\n",
              "      <th>speaker</th>\n",
              "      <th>qids</th>\n",
              "      <th>date</th>\n",
              "      <th>numOccurrences</th>\n",
              "      <th>probas</th>\n",
              "      <th>urls</th>\n",
              "      <th>phase</th>\n",
              "      <th>year</th>\n",
              "    </tr>\n",
              "  </thead>\n",
              "  <tbody>\n",
              "    <tr>\n",
              "      <th>3808</th>\n",
              "      <td>2015-08-02-049994</td>\n",
              "      <td>The disparity in wages and climate change are ...</td>\n",
              "      <td>None</td>\n",
              "      <td>[]</td>\n",
              "      <td>2015-08-02 21:12:15</td>\n",
              "      <td>1</td>\n",
              "      <td>[[None, 0.9403], [Scott Armstrong, 0.0302], [B...</td>\n",
              "      <td>[http://www.trurodaily.com/News/Local/2015-08-...</td>\n",
              "      <td>E</td>\n",
              "      <td>2015</td>\n",
              "    </tr>\n",
              "    <tr>\n",
              "      <th>22460</th>\n",
              "      <td>2015-12-14-079849</td>\n",
              "      <td>The agreement will unlock innovation and inves...</td>\n",
              "      <td>Michael King</td>\n",
              "      <td>[Q10512612, Q18344417, Q18586099, Q2378076, Q2...</td>\n",
              "      <td>2015-12-14 15:30:00</td>\n",
              "      <td>2</td>\n",
              "      <td>[[Michael King, 0.6847], [President Barack Oba...</td>\n",
              "      <td>[http://www.austinchronicle.com/blogs/news/201...</td>\n",
              "      <td>E</td>\n",
              "      <td>2015</td>\n",
              "    </tr>\n",
              "    <tr>\n",
              "      <th>95222</th>\n",
              "      <td>2019-04-29-072261</td>\n",
              "      <td>The Climate Mobilization Act is a down payment...</td>\n",
              "      <td>Costa Constantinides</td>\n",
              "      <td>[Q16208147]</td>\n",
              "      <td>2019-04-29 21:05:32</td>\n",
              "      <td>1</td>\n",
              "      <td>[[Costa Constantinides, 0.8897], [None, 0.1038...</td>\n",
              "      <td>[https://www.americancityandcounty.com/2019/04...</td>\n",
              "      <td>E</td>\n",
              "      <td>2019</td>\n",
              "    </tr>\n",
              "  </tbody>\n",
              "</table>\n",
              "</div>"
            ],
            "text/plain": [
              "                 quoteID  ...  year\n",
              "3808   2015-08-02-049994  ...  2015\n",
              "22460  2015-12-14-079849  ...  2015\n",
              "95222  2019-04-29-072261  ...  2019\n",
              "\n",
              "[3 rows x 10 columns]"
            ]
          },
          "metadata": {},
          "execution_count": 14
        }
      ]
    },
    {
      "cell_type": "markdown",
      "metadata": {
        "id": "A4klUAk4dQ5b"
      },
      "source": [
        "## First analyses"
      ]
    },
    {
      "cell_type": "code",
      "metadata": {
        "id": "9KypfR7bdX9_",
        "colab": {
          "base_uri": "https://localhost:8080/",
          "height": 282
        },
        "outputId": "78902ca1-1239-499a-83ef-4c32f5e654c6"
      },
      "source": [
        "# the top speakers talking about climate change\n",
        "top_speakers = climate_all_years.groupby(by='speaker').count().sort_values(by='quotation', ascending=False).quotation.iloc[1:21]\n",
        "sns.barplot(x=top_speakers[:10].values, y=top_speakers[0:10].index)"
      ],
      "execution_count": 15,
      "outputs": [
        {
          "output_type": "execute_result",
          "data": {
            "text/plain": [
              "<matplotlib.axes._subplots.AxesSubplot at 0x7ff16f88e910>"
            ]
          },
          "metadata": {},
          "execution_count": 15
        },
        {
          "output_type": "display_data",
          "data": {
            "image/png": "[encoded data removed]",
            "text/plain": [
              "<Figure size 432x288 with 1 Axes>"
            ]
          },
          "metadata": {
            "needs_background": "light"
          }
        }
      ]
    },
    {
      "cell_type": "code",
      "metadata": {
        "id": "IdwqzawAeHgX",
        "colab": {
          "base_uri": "https://localhost:8080/",
          "height": 198
        },
        "outputId": "19843be4-e85f-4c65-a3f5-d8924ee3fd04"
      },
      "source": [
        "# word cloud of top speakers for illustration\n",
        "wordcloud = WordCloud().fit_words(dict(top_speakers))\n",
        "plt.imshow(wordcloud, interpolation='bilinear')\n",
        "plt.axis(\"off\")\n",
        "plt.show()"
      ],
      "execution_count": 16,
      "outputs": [
        {
          "output_type": "display_data",
          "data": {
            "image/png": "[encoded data removed]",
            "text/plain": [
              "<Figure size 432x288 with 1 Axes>"
            ]
          },
          "metadata": {
            "needs_background": "light"
          }
        }
      ]
    },
    {
      "cell_type": "code",
      "metadata": {
        "id": "jUbl4i4penYU",
        "colab": {
          "base_uri": "https://localhost:8080/",
          "height": 316
        },
        "outputId": "2a3f7ad4-b043-4476-abed-d0d5fe283753"
      },
      "source": [
        "# words being most used in these quotes about global warming\n",
        "nltk.download('stopwords')\n",
        "topic_words = collections.Counter()\n",
        "stop_words = set(stopwords.words('english'))\n",
        "for index, row in climate_all_years.iterrows():\n",
        "    for word in row.quotation.lower().replace(',', '').replace('.', '').split():\n",
        "        if word not in stop_words:\n",
        "            topic_words[word] += 1\n",
        "top_50_climate_words = topic_words.most_common()[:50]\n",
        "sns.barplot(x=[x[1] for x in top_50_climate_words][:15], y=[x[0] for x in top_50_climate_words][:15])"
      ],
      "execution_count": 17,
      "outputs": [
        {
          "output_type": "stream",
          "name": "stdout",
          "text": [
            "[nltk_data] Downloading package stopwords to /root/nltk_data...\n",
            "[nltk_data]   Unzipping corpora/stopwords.zip.\n"
          ]
        },
        {
          "output_type": "execute_result",
          "data": {
            "text/plain": [
              "<matplotlib.axes._subplots.AxesSubplot at 0x7ff16bda0410>"
            ]
          },
          "metadata": {},
          "execution_count": 17
        },
        {
          "output_type": "display_data",
          "data": {
            "image/png": "[encoded data removed]",
            "text/plain": [
              "<Figure size 432x288 with 1 Axes>"
            ]
          },
          "metadata": {
            "needs_background": "light"
          }
        }
      ]
    },
    {
      "cell_type": "code",
      "metadata": {
        "id": "oh7ZQcSffS43",
        "colab": {
          "base_uri": "https://localhost:8080/",
          "height": 198
        },
        "outputId": "98fe14f1-1a8b-4056-ec8b-92a9b8d17ea0"
      },
      "source": [
        "# word cloud for illustration\n",
        "wordcloud = WordCloud().fit_words(dict(top_50_climate_words))\n",
        "plt.imshow(wordcloud, interpolation='bilinear')\n",
        "plt.axis(\"off\")\n",
        "plt.show()"
      ],
      "execution_count": 18,
      "outputs": [
        {
          "output_type": "display_data",
          "data": {
            "image/png": "[encoded data removed]",
            "text/plain": [
              "<Figure size 432x288 with 1 Axes>"
            ]
          },
          "metadata": {
            "needs_background": "light"
          }
        }
      ]
    },
    {
      "cell_type": "code",
      "metadata": {
        "id": "O-YLxspqgAbs",
        "colab": {
          "base_uri": "https://localhost:8080/",
          "height": 298
        },
        "outputId": "cb197130-bf7d-4832-f32d-25d306241815"
      },
      "source": [
        "# number of quotations about global warming through the years\n",
        "count_years =  climate_all_years.groupby(by='year').count().quotation\n",
        "sns.barplot(x=all_years, y=count_years)\n",
        "plt.title(\"Quotations about global warming though time\")"
      ],
      "execution_count": 19,
      "outputs": [
        {
          "output_type": "execute_result",
          "data": {
            "text/plain": [
              "Text(0.5, 1.0, 'Quotations about global warming though time')"
            ]
          },
          "metadata": {},
          "execution_count": 19
        },
        {
          "output_type": "display_data",
          "data": {
            "image/png": "[encoded data removed]",
            "text/plain": [
              "<Figure size 432x288 with 1 Axes>"
            ]
          },
          "metadata": {
            "needs_background": "light"
          }
        }
      ]
    },
    {
      "cell_type": "markdown",
      "metadata": {
        "id": "46z3liAwh9FX"
      },
      "source": [
        "## Tools for wikidata"
      ]
    },
    {
      "cell_type": "code",
      "metadata": {
        "id": "sBJLEhNziR4X",
        "colab": {
          "base_uri": "https://localhost:8080/",
          "height": 383
        },
        "outputId": "2dc541d1-0a5c-432d-872d-375b1d20dadf"
      },
      "source": [
        "# read the wikidata file\n",
        "path_data_wikidata = '/content/drive/MyDrive/speaker_attributes.parquet/'\n",
        "wikidata = pd.read_parquet(path_data_wikidata)\n",
        "wikidata.head(3)"
      ],
      "execution_count": 20,
      "outputs": [
        {
          "output_type": "execute_result",
          "data": {
            "text/html": [
              "<div>\n",
              "<style scoped>\n",
              "    .dataframe tbody tr th:only-of-type {\n",
              "        vertical-align: middle;\n",
              "    }\n",
              "\n",
              "    .dataframe tbody tr th {\n",
              "        vertical-align: top;\n",
              "    }\n",
              "\n",
              "    .dataframe thead th {\n",
              "        text-align: right;\n",
              "    }\n",
              "</style>\n",
              "<table border=\"1\" class=\"dataframe\">\n",
              "  <thead>\n",
              "    <tr style=\"text-align: right;\">\n",
              "      <th></th>\n",
              "      <th>aliases</th>\n",
              "      <th>date_of_birth</th>\n",
              "      <th>nationality</th>\n",
              "      <th>gender</th>\n",
              "      <th>lastrevid</th>\n",
              "      <th>ethnic_group</th>\n",
              "      <th>US_congress_bio_ID</th>\n",
              "      <th>occupation</th>\n",
              "      <th>party</th>\n",
              "      <th>academic_degree</th>\n",
              "      <th>id</th>\n",
              "      <th>label</th>\n",
              "      <th>candidacy</th>\n",
              "      <th>type</th>\n",
              "      <th>religion</th>\n",
              "    </tr>\n",
              "  </thead>\n",
              "  <tbody>\n",
              "    <tr>\n",
              "      <th>0</th>\n",
              "      <td>[Washington, President Washington, G. Washingt...</td>\n",
              "      <td>[+1732-02-22T00:00:00Z]</td>\n",
              "      <td>[Q161885, Q30]</td>\n",
              "      <td>[Q6581097]</td>\n",
              "      <td>1395141751</td>\n",
              "      <td>None</td>\n",
              "      <td>W000178</td>\n",
              "      <td>[Q82955, Q189290, Q131512, Q1734662, Q294126, ...</td>\n",
              "      <td>[Q327591]</td>\n",
              "      <td>None</td>\n",
              "      <td>Q23</td>\n",
              "      <td>George Washington</td>\n",
              "      <td>[Q698073, Q697949]</td>\n",
              "      <td>item</td>\n",
              "      <td>[Q682443]</td>\n",
              "    </tr>\n",
              "    <tr>\n",
              "      <th>1</th>\n",
              "      <td>[Douglas Noel Adams, Douglas Noël Adams, Dougl...</td>\n",
              "      <td>[+1952-03-11T00:00:00Z]</td>\n",
              "      <td>[Q145]</td>\n",
              "      <td>[Q6581097]</td>\n",
              "      <td>1395737157</td>\n",
              "      <td>[Q7994501]</td>\n",
              "      <td>None</td>\n",
              "      <td>[Q214917, Q28389, Q6625963, Q4853732, Q1884422...</td>\n",
              "      <td>None</td>\n",
              "      <td>None</td>\n",
              "      <td>Q42</td>\n",
              "      <td>Douglas Adams</td>\n",
              "      <td>None</td>\n",
              "      <td>item</td>\n",
              "      <td>None</td>\n",
              "    </tr>\n",
              "    <tr>\n",
              "      <th>2</th>\n",
              "      <td>[Paul Marie Ghislain Otlet, Paul Marie Otlet]</td>\n",
              "      <td>[+1868-08-23T00:00:00Z]</td>\n",
              "      <td>[Q31]</td>\n",
              "      <td>[Q6581097]</td>\n",
              "      <td>1380367296</td>\n",
              "      <td>None</td>\n",
              "      <td>None</td>\n",
              "      <td>[Q36180, Q40348, Q182436, Q1265807, Q205375, Q...</td>\n",
              "      <td>None</td>\n",
              "      <td>None</td>\n",
              "      <td>Q1868</td>\n",
              "      <td>Paul Otlet</td>\n",
              "      <td>None</td>\n",
              "      <td>item</td>\n",
              "      <td>None</td>\n",
              "    </tr>\n",
              "  </tbody>\n",
              "</table>\n",
              "</div>"
            ],
            "text/plain": [
              "                                             aliases  ...   religion\n",
              "0  [Washington, President Washington, G. Washingt...  ...  [Q682443]\n",
              "1  [Douglas Noel Adams, Douglas Noël Adams, Dougl...  ...       None\n",
              "2      [Paul Marie Ghislain Otlet, Paul Marie Otlet]  ...       None\n",
              "\n",
              "[3 rows x 15 columns]"
            ]
          },
          "metadata": {},
          "execution_count": 20
        }
      ]
    },
    {
      "cell_type": "code",
      "metadata": {
        "id": "-UNxr_Vpig6F",
        "colab": {
          "base_uri": "https://localhost:8080/",
          "height": 35
        },
        "outputId": "713cbb38-40bf-444a-efb7-05822dbc2bd8"
      },
      "source": [
        "# to find the label of a QID\n",
        "# from https://stackoverflow.com/questions/40268148/how-to-get-wikidata-labels-by-id-using-sparql\n",
        "\n",
        "def find_QID_label(QID):\n",
        "  url = 'https://query.wikidata.org/sparql'\n",
        "  query = '''\n",
        "  PREFIX rdfs: <http://www.w3.org/2000/01/rdf-schema#> \n",
        "  PREFIX wd: <http://www.wikidata.org/entity/> \n",
        "  SELECT  *\n",
        "  WHERE {\n",
        "          wd:%s rdfs:label ?label .\n",
        "          FILTER (langMatches( lang(?label), \"EN\" ) )\n",
        "        } \n",
        "  LIMIT 1\n",
        "  ''' % (QID)\n",
        "  result = requests.get(url, params = {'format': 'json', 'query': query})\n",
        "  return result.json().get('results').get('bindings')[0].get('label').get('value')\n",
        "\n",
        "# example\n",
        "find_QID_label('Q161885')"
      ],
      "execution_count": 21,
      "outputs": [
        {
          "output_type": "execute_result",
          "data": {
            "application/vnd.google.colaboratory.intrinsic+json": {
              "type": "string"
            },
            "text/plain": [
              "'Great Britain'"
            ]
          },
          "metadata": {},
          "execution_count": 21
        }
      ]
    },
    {
      "cell_type": "code",
      "metadata": {
        "id": "X6qhdisbizsb"
      },
      "source": [
        "# wikidata dataframe without the None name\n",
        "wikidata_clean = wikidata.dropna(axis=0, subset=['aliases'])"
      ],
      "execution_count": 22,
      "outputs": []
    },
    {
      "cell_type": "code",
      "metadata": {
        "id": "P2QFMJDqjRjC",
        "colab": {
          "base_uri": "https://localhost:8080/",
          "height": 318
        },
        "outputId": "2b73609d-c30c-4f79-f383-20970a847101"
      },
      "source": [
        "# to find a speaker in the wikidata df\n",
        "def find_speaker(speaker):\n",
        "  return wikidata_clean[wikidata_clean.aliases.apply(lambda x: speaker in x[0])]\n",
        "\n",
        "# example\n",
        "find_speaker('Joseph Biden')"
      ],
      "execution_count": 23,
      "outputs": [
        {
          "output_type": "execute_result",
          "data": {
            "text/html": [
              "<div>\n",
              "<style scoped>\n",
              "    .dataframe tbody tr th:only-of-type {\n",
              "        vertical-align: middle;\n",
              "    }\n",
              "\n",
              "    .dataframe tbody tr th {\n",
              "        vertical-align: top;\n",
              "    }\n",
              "\n",
              "    .dataframe thead th {\n",
              "        text-align: right;\n",
              "    }\n",
              "</style>\n",
              "<table border=\"1\" class=\"dataframe\">\n",
              "  <thead>\n",
              "    <tr style=\"text-align: right;\">\n",
              "      <th></th>\n",
              "      <th>aliases</th>\n",
              "      <th>date_of_birth</th>\n",
              "      <th>nationality</th>\n",
              "      <th>gender</th>\n",
              "      <th>lastrevid</th>\n",
              "      <th>ethnic_group</th>\n",
              "      <th>US_congress_bio_ID</th>\n",
              "      <th>occupation</th>\n",
              "      <th>party</th>\n",
              "      <th>academic_degree</th>\n",
              "      <th>id</th>\n",
              "      <th>label</th>\n",
              "      <th>candidacy</th>\n",
              "      <th>type</th>\n",
              "      <th>religion</th>\n",
              "    </tr>\n",
              "  </thead>\n",
              "  <tbody>\n",
              "    <tr>\n",
              "      <th>4529264</th>\n",
              "      <td>[Joseph Biden, Joseph R. Biden, Joseph R. Bide...</td>\n",
              "      <td>[+1942-11-20T00:00:00Z]</td>\n",
              "      <td>[Q30]</td>\n",
              "      <td>[Q6581097]</td>\n",
              "      <td>1395965219</td>\n",
              "      <td>None</td>\n",
              "      <td>B000444</td>\n",
              "      <td>[Q82955, Q40348, Q1622272]</td>\n",
              "      <td>[Q29552]</td>\n",
              "      <td>[Q1540185, Q1765120]</td>\n",
              "      <td>Q6279</td>\n",
              "      <td>Joe Biden</td>\n",
              "      <td>[Q22923830, Q7891450]</td>\n",
              "      <td>item</td>\n",
              "      <td>[Q1841]</td>\n",
              "    </tr>\n",
              "    <tr>\n",
              "      <th>7147986</th>\n",
              "      <td>[Joseph Biden Sr., Joseph Robinette Biden Sr.]</td>\n",
              "      <td>[+1915-11-13T00:00:00Z]</td>\n",
              "      <td>[Q30]</td>\n",
              "      <td>[Q6581097]</td>\n",
              "      <td>1393419215</td>\n",
              "      <td>None</td>\n",
              "      <td>None</td>\n",
              "      <td>None</td>\n",
              "      <td>None</td>\n",
              "      <td>None</td>\n",
              "      <td>Q20177093</td>\n",
              "      <td>Joseph R. Biden Sr.</td>\n",
              "      <td>None</td>\n",
              "      <td>item</td>\n",
              "      <td>None</td>\n",
              "    </tr>\n",
              "  </tbody>\n",
              "</table>\n",
              "</div>"
            ],
            "text/plain": [
              "                                                   aliases  ... religion\n",
              "4529264  [Joseph Biden, Joseph R. Biden, Joseph R. Bide...  ...  [Q1841]\n",
              "7147986     [Joseph Biden Sr., Joseph Robinette Biden Sr.]  ...     None\n",
              "\n",
              "[2 rows x 15 columns]"
            ]
          },
          "metadata": {},
          "execution_count": 23
        }
      ]
    },
    {
      "cell_type": "markdown",
      "metadata": {
        "id": "hRGuEu-i69vc"
      },
      "source": [
        "## Nationalities"
      ]
    },
    {
      "cell_type": "code",
      "metadata": {
        "id": "AzN_bDYo3Fyb",
        "colab": {
          "base_uri": "https://localhost:8080/"
        },
        "outputId": "2db6a742-667d-4b95-a774-ad0c6b5c209f"
      },
      "source": [
        "#To use if we want only the first nationality of the speaker\n",
        "#Create a dataframe for the parquet information of the speakers\n",
        "df = wikidata\n",
        "\n",
        "#We will use only the 'nationality', 'id' and 'label' data from this dataframe\n",
        "df = df[['nationality', 'label', 'id']]\n",
        "\n",
        "#We are changing the 'None' value to an empty array\n",
        "empty = pd.Series([[] for _ in range(len(df.index))], index=df.index)\n",
        "df['nationality'] = df['nationality'].fillna(empty)\n",
        "\n",
        "#Here, we are extracting the first nationality of every speaker, and changing the qid country code to -999\n",
        "#for every speaker that did not have a specified nationality\n",
        "df['nationality'] = df.nationality.apply(lambda x: x[0] if len(x) > 0 else 'Q-999')\n",
        "\n",
        "df['nationality'].value_counts().head(20)"
      ],
      "execution_count": 51,
      "outputs": [
        {
          "output_type": "stream",
          "name": "stderr",
          "text": [
            "/usr/local/lib/python3.7/dist-packages/ipykernel_launcher.py:10: SettingWithCopyWarning: \n",
            "A value is trying to be set on a copy of a slice from a DataFrame.\n",
            "Try using .loc[row_indexer,col_indexer] = value instead\n",
            "\n",
            "See the caveats in the documentation: https://pandas.pydata.org/pandas-docs/stable/user_guide/indexing.html#returning-a-view-versus-a-copy\n",
            "  # Remove the CWD from sys.path while we load stuff.\n",
            "/usr/local/lib/python3.7/dist-packages/ipykernel_launcher.py:14: SettingWithCopyWarning: \n",
            "A value is trying to be set on a copy of a slice from a DataFrame.\n",
            "Try using .loc[row_indexer,col_indexer] = value instead\n",
            "\n",
            "See the caveats in the documentation: https://pandas.pydata.org/pandas-docs/stable/user_guide/indexing.html#returning-a-view-versus-a-copy\n",
            "  \n"
          ]
        },
        {
          "output_type": "execute_result",
          "data": {
            "text/plain": [
              "Q-999     5340129\n",
              "Q30        430536\n",
              "Q142       261891\n",
              "Q183       249957\n",
              "Q17        177541\n",
              "Q145       162521\n",
              "Q29        125935\n",
              "Q9903      125906\n",
              "Q38         95147\n",
              "Q16         81559\n",
              "Q34         78606\n",
              "Q15180      76904\n",
              "Q36         72444\n",
              "Q29999      71745\n",
              "Q155        69840\n",
              "Q8733       65530\n",
              "Q668        58211\n",
              "Q20         55953\n",
              "Q31         51919\n",
              "Q408        51617\n",
              "Name: nationality, dtype: int64"
            ]
          },
          "metadata": {},
          "execution_count": 51
        }
      ]
    },
    {
      "cell_type": "code",
      "metadata": {
        "id": "RQOvMOWNYktc",
        "colab": {
          "base_uri": "https://localhost:8080/"
        },
        "outputId": "1a02cd19-6377-4ee0-d366-11be43e875b7"
      },
      "source": [
        "# drop the rows with speaker None\n",
        "climate_all_years_clean = climate_all_years.drop(climate_all_years.index[climate_all_years['speaker'] == 'None'])\n",
        "climate_all_years_clean.shape"
      ],
      "execution_count": 52,
      "outputs": [
        {
          "output_type": "execute_result",
          "data": {
            "text/plain": [
              "(98166, 10)"
            ]
          },
          "metadata": {},
          "execution_count": 52
        }
      ]
    },
    {
      "cell_type": "code",
      "metadata": {
        "id": "MOWBphcbYkqC",
        "colab": {
          "base_uri": "https://localhost:8080/",
          "height": 142
        },
        "outputId": "1d18c746-b77e-47aa-dcc8-c70c68b6a4a7"
      },
      "source": [
        "# load the QID dataset\n",
        "qids = pd.read_csv('/content/drive/MyDrive/wikidata_labels_descriptions_quotebank.csv.bz2', compression='bz2', index_col='QID')\n",
        "qids.head(2)"
      ],
      "execution_count": 53,
      "outputs": [
        {
          "output_type": "execute_result",
          "data": {
            "text/html": [
              "<div>\n",
              "<style scoped>\n",
              "    .dataframe tbody tr th:only-of-type {\n",
              "        vertical-align: middle;\n",
              "    }\n",
              "\n",
              "    .dataframe tbody tr th {\n",
              "        vertical-align: top;\n",
              "    }\n",
              "\n",
              "    .dataframe thead th {\n",
              "        text-align: right;\n",
              "    }\n",
              "</style>\n",
              "<table border=\"1\" class=\"dataframe\">\n",
              "  <thead>\n",
              "    <tr style=\"text-align: right;\">\n",
              "      <th></th>\n",
              "      <th>Label</th>\n",
              "      <th>Description</th>\n",
              "    </tr>\n",
              "    <tr>\n",
              "      <th>QID</th>\n",
              "      <th></th>\n",
              "      <th></th>\n",
              "    </tr>\n",
              "  </thead>\n",
              "  <tbody>\n",
              "    <tr>\n",
              "      <th>Q31</th>\n",
              "      <td>Belgium</td>\n",
              "      <td>country in western Europe</td>\n",
              "    </tr>\n",
              "    <tr>\n",
              "      <th>Q45</th>\n",
              "      <td>Portugal</td>\n",
              "      <td>country in southwestern Europe</td>\n",
              "    </tr>\n",
              "  </tbody>\n",
              "</table>\n",
              "</div>"
            ],
            "text/plain": [
              "        Label                     Description\n",
              "QID                                          \n",
              "Q31   Belgium       country in western Europe\n",
              "Q45  Portugal  country in southwestern Europe"
            ]
          },
          "metadata": {},
          "execution_count": 53
        }
      ]
    },
    {
      "cell_type": "code",
      "metadata": {
        "id": "QTgL-ghrYknT",
        "colab": {
          "base_uri": "https://localhost:8080/",
          "height": 434
        },
        "outputId": "656b07f8-4dc5-402c-cd17-7967e527658b"
      },
      "source": [
        "# merge the quotes about global warming with the countries from wikidata using the qids\n",
        "climate_countries = climate_all_years_clean.explode('qids').merge(wikidata, left_on='qids', right_on='id')\n",
        "print(climate_countries.shape)\n",
        "climate_countries.head(3)"
      ],
      "execution_count": 54,
      "outputs": [
        {
          "output_type": "stream",
          "name": "stdout",
          "text": [
            "(201888, 25)\n"
          ]
        },
        {
          "output_type": "execute_result",
          "data": {
            "text/html": [
              "<div>\n",
              "<style scoped>\n",
              "    .dataframe tbody tr th:only-of-type {\n",
              "        vertical-align: middle;\n",
              "    }\n",
              "\n",
              "    .dataframe tbody tr th {\n",
              "        vertical-align: top;\n",
              "    }\n",
              "\n",
              "    .dataframe thead th {\n",
              "        text-align: right;\n",
              "    }\n",
              "</style>\n",
              "<table border=\"1\" class=\"dataframe\">\n",
              "  <thead>\n",
              "    <tr style=\"text-align: right;\">\n",
              "      <th></th>\n",
              "      <th>quoteID</th>\n",
              "      <th>quotation</th>\n",
              "      <th>speaker</th>\n",
              "      <th>qids</th>\n",
              "      <th>date</th>\n",
              "      <th>numOccurrences</th>\n",
              "      <th>probas</th>\n",
              "      <th>urls</th>\n",
              "      <th>phase</th>\n",
              "      <th>year</th>\n",
              "      <th>aliases</th>\n",
              "      <th>date_of_birth</th>\n",
              "      <th>nationality</th>\n",
              "      <th>gender</th>\n",
              "      <th>lastrevid</th>\n",
              "      <th>ethnic_group</th>\n",
              "      <th>US_congress_bio_ID</th>\n",
              "      <th>occupation</th>\n",
              "      <th>party</th>\n",
              "      <th>academic_degree</th>\n",
              "      <th>id</th>\n",
              "      <th>label</th>\n",
              "      <th>candidacy</th>\n",
              "      <th>type</th>\n",
              "      <th>religion</th>\n",
              "    </tr>\n",
              "  </thead>\n",
              "  <tbody>\n",
              "    <tr>\n",
              "      <th>0</th>\n",
              "      <td>2015-09-28-067347</td>\n",
              "      <td>man-made emissions are an insignificant part o...</td>\n",
              "      <td>John Abraham</td>\n",
              "      <td>Q313025</td>\n",
              "      <td>2015-09-28 23:16:52</td>\n",
              "      <td>1</td>\n",
              "      <td>[[John Abraham, 0.6469], [None, 0.3092], [Will...</td>\n",
              "      <td>[http://www.desmogblog.com/donors-capital-fund]</td>\n",
              "      <td>E</td>\n",
              "      <td>2015</td>\n",
              "      <td>None</td>\n",
              "      <td>[+1972-12-17T00:00:00Z]</td>\n",
              "      <td>[Q668]</td>\n",
              "      <td>[Q6581097]</td>\n",
              "      <td>1354134367</td>\n",
              "      <td>None</td>\n",
              "      <td>None</td>\n",
              "      <td>[Q33999, Q4610556, Q3282637, Q10800557]</td>\n",
              "      <td>None</td>\n",
              "      <td>None</td>\n",
              "      <td>Q313025</td>\n",
              "      <td>John Abraham</td>\n",
              "      <td>None</td>\n",
              "      <td>item</td>\n",
              "      <td>[Q5043]</td>\n",
              "    </tr>\n",
              "    <tr>\n",
              "      <th>1</th>\n",
              "      <td>2015-09-17-007663</td>\n",
              "      <td>Any argument that global warming stopped 18 or...</td>\n",
              "      <td>John Abraham</td>\n",
              "      <td>Q313025</td>\n",
              "      <td>2015-09-17 10:01:00</td>\n",
              "      <td>2</td>\n",
              "      <td>[[John Abraham, 0.8673], [None, 0.1292], [Lama...</td>\n",
              "      <td>[http://www.environmentalhealthnews.org/t/1883...</td>\n",
              "      <td>E</td>\n",
              "      <td>2015</td>\n",
              "      <td>None</td>\n",
              "      <td>[+1972-12-17T00:00:00Z]</td>\n",
              "      <td>[Q668]</td>\n",
              "      <td>[Q6581097]</td>\n",
              "      <td>1354134367</td>\n",
              "      <td>None</td>\n",
              "      <td>None</td>\n",
              "      <td>[Q33999, Q4610556, Q3282637, Q10800557]</td>\n",
              "      <td>None</td>\n",
              "      <td>None</td>\n",
              "      <td>Q313025</td>\n",
              "      <td>John Abraham</td>\n",
              "      <td>None</td>\n",
              "      <td>item</td>\n",
              "      <td>[Q5043]</td>\n",
              "    </tr>\n",
              "    <tr>\n",
              "      <th>2</th>\n",
              "      <td>2015-08-06-023574</td>\n",
              "      <td>found that there was no statistically signific...</td>\n",
              "      <td>John Abraham</td>\n",
              "      <td>Q313025</td>\n",
              "      <td>2015-08-06 15:00:59</td>\n",
              "      <td>1</td>\n",
              "      <td>[[John Abraham, 0.7957], [None, 0.1579], [Greg...</td>\n",
              "      <td>[http://dailykos.com/story/2015/08/06/1409298/...</td>\n",
              "      <td>E</td>\n",
              "      <td>2015</td>\n",
              "      <td>None</td>\n",
              "      <td>[+1972-12-17T00:00:00Z]</td>\n",
              "      <td>[Q668]</td>\n",
              "      <td>[Q6581097]</td>\n",
              "      <td>1354134367</td>\n",
              "      <td>None</td>\n",
              "      <td>None</td>\n",
              "      <td>[Q33999, Q4610556, Q3282637, Q10800557]</td>\n",
              "      <td>None</td>\n",
              "      <td>None</td>\n",
              "      <td>Q313025</td>\n",
              "      <td>John Abraham</td>\n",
              "      <td>None</td>\n",
              "      <td>item</td>\n",
              "      <td>[Q5043]</td>\n",
              "    </tr>\n",
              "  </tbody>\n",
              "</table>\n",
              "</div>"
            ],
            "text/plain": [
              "             quoteID  ... religion\n",
              "0  2015-09-28-067347  ...  [Q5043]\n",
              "1  2015-09-17-007663  ...  [Q5043]\n",
              "2  2015-08-06-023574  ...  [Q5043]\n",
              "\n",
              "[3 rows x 25 columns]"
            ]
          },
          "metadata": {},
          "execution_count": 54
        }
      ]
    },
    {
      "cell_type": "code",
      "metadata": {
        "id": "PooqTzzuYkkw",
        "colab": {
          "base_uri": "https://localhost:8080/",
          "height": 380
        },
        "outputId": "49ad7e50-0219-4650-b07f-c92c9c3693f0"
      },
      "source": [
        "# add the labels of the countries\n",
        "climate_countries_label = climate_countries.explode('nationality').merge(qids, left_on='nationality', right_on='QID')\n",
        "print(climate_countries_label.shape)\n",
        "climate_countries_label.drop(columns=['id', 'label', 'Description', 'aliases', 'date_of_birth', 'gender', \n",
        "                                      'lastrevid', 'ethnic_group', 'US_congress_bio_ID', 'occupation',\n",
        "                                      'party', 'academic_degree', 'candidacy', 'type', 'religion'], axis=1, inplace=True)\n",
        "climate_countries_label = climate_countries_label.rename(columns={'nationality': 'nationality_qid', \n",
        "                                                                  'Label': 'nationality_label'})\n",
        "climate_countries_label.sample(3)"
      ],
      "execution_count": 55,
      "outputs": [
        {
          "output_type": "stream",
          "name": "stdout",
          "text": [
            "(162917, 27)\n"
          ]
        },
        {
          "output_type": "execute_result",
          "data": {
            "text/html": [
              "<div>\n",
              "<style scoped>\n",
              "    .dataframe tbody tr th:only-of-type {\n",
              "        vertical-align: middle;\n",
              "    }\n",
              "\n",
              "    .dataframe tbody tr th {\n",
              "        vertical-align: top;\n",
              "    }\n",
              "\n",
              "    .dataframe thead th {\n",
              "        text-align: right;\n",
              "    }\n",
              "</style>\n",
              "<table border=\"1\" class=\"dataframe\">\n",
              "  <thead>\n",
              "    <tr style=\"text-align: right;\">\n",
              "      <th></th>\n",
              "      <th>quoteID</th>\n",
              "      <th>quotation</th>\n",
              "      <th>speaker</th>\n",
              "      <th>qids</th>\n",
              "      <th>date</th>\n",
              "      <th>numOccurrences</th>\n",
              "      <th>probas</th>\n",
              "      <th>urls</th>\n",
              "      <th>phase</th>\n",
              "      <th>year</th>\n",
              "      <th>nationality_qid</th>\n",
              "      <th>nationality_label</th>\n",
              "    </tr>\n",
              "  </thead>\n",
              "  <tbody>\n",
              "    <tr>\n",
              "      <th>79057</th>\n",
              "      <td>2019-11-27-094440</td>\n",
              "      <td>This decision will position the Water Corporat...</td>\n",
              "      <td>Dave Kelly</td>\n",
              "      <td>Q5229088</td>\n",
              "      <td>2019-11-27 22:28:17</td>\n",
              "      <td>1</td>\n",
              "      <td>[[Dave Kelly, 0.939], [None, 0.0404], [Mark Mc...</td>\n",
              "      <td>[https://www.themandarin.com.au/121548-wa-retu...</td>\n",
              "      <td>E</td>\n",
              "      <td>2019</td>\n",
              "      <td>Q16</td>\n",
              "      <td>Canada</td>\n",
              "    </tr>\n",
              "    <tr>\n",
              "      <th>89390</th>\n",
              "      <td>2020-02-03-029528</td>\n",
              "      <td>I intend to continue to make a positive contri...</td>\n",
              "      <td>Richard Di Natale</td>\n",
              "      <td>Q186010</td>\n",
              "      <td>2020-02-03 00:20:00</td>\n",
              "      <td>2</td>\n",
              "      <td>[[Richard Di Natale, 0.9124], [None, 0.0876]]</td>\n",
              "      <td>[https://www.news.com.au/finance/work/leaders/...</td>\n",
              "      <td>E</td>\n",
              "      <td>2020</td>\n",
              "      <td>Q408</td>\n",
              "      <td>Australia</td>\n",
              "    </tr>\n",
              "    <tr>\n",
              "      <th>45404</th>\n",
              "      <td>2019-07-26-054677</td>\n",
              "      <td>the climate change lobby is the greatest ever ...</td>\n",
              "      <td>Neil Hamilton</td>\n",
              "      <td>Q6988694</td>\n",
              "      <td>2019-07-26 09:39:18</td>\n",
              "      <td>1</td>\n",
              "      <td>[[Neil Hamilton, 0.9152], [None, 0.0848]]</td>\n",
              "      <td>[https://www.walesonline.co.uk/news/politics/u...</td>\n",
              "      <td>E</td>\n",
              "      <td>2019</td>\n",
              "      <td>Q30</td>\n",
              "      <td>United States of America</td>\n",
              "    </tr>\n",
              "  </tbody>\n",
              "</table>\n",
              "</div>"
            ],
            "text/plain": [
              "                 quoteID  ...         nationality_label\n",
              "79057  2019-11-27-094440  ...                    Canada\n",
              "89390  2020-02-03-029528  ...                 Australia\n",
              "45404  2019-07-26-054677  ...  United States of America\n",
              "\n",
              "[3 rows x 12 columns]"
            ]
          },
          "metadata": {},
          "execution_count": 55
        }
      ]
    },
    {
      "cell_type": "code",
      "metadata": {
        "id": "hd8j9zyLYkiC",
        "colab": {
          "base_uri": "https://localhost:8080/",
          "height": 282
        },
        "outputId": "268d0c04-416b-49b0-c3b0-c64d2c781771"
      },
      "source": [
        "# number of quotes by countries\n",
        "countries = climate_countries_label.groupby(by='nationality_label').count().sort_values(by='quotation', ascending=False).quotation\n",
        "sns.barplot(x=countries[:10].values, y=countries[:10].index)"
      ],
      "execution_count": 58,
      "outputs": [
        {
          "output_type": "execute_result",
          "data": {
            "text/plain": [
              "<matplotlib.axes._subplots.AxesSubplot at 0x7fefaf5c6ed0>"
            ]
          },
          "metadata": {},
          "execution_count": 58
        },
        {
          "output_type": "display_data",
          "data": {
            "image/png": "[encoded data removed]",
            "text/plain": [
              "<Figure size 432x288 with 1 Axes>"
            ]
          },
          "metadata": {
            "needs_background": "light"
          }
        }
      ]
    },
    {
      "cell_type": "code",
      "metadata": {
        "id": "mJdQ2Wb6Ykey"
      },
      "source": [
        "pip install pycountry"
      ],
      "execution_count": null,
      "outputs": []
    },
    {
      "cell_type": "code",
      "metadata": {
        "id": "4BkUi13OYkbk"
      },
      "source": [
        "pip install geopandas"
      ],
      "execution_count": null,
      "outputs": []
    },
    {
      "cell_type": "code",
      "metadata": {
        "id": "B2AG2WXgYuYr"
      },
      "source": [
        "pip install mapclassify"
      ],
      "execution_count": null,
      "outputs": []
    },
    {
      "cell_type": "code",
      "metadata": {
        "id": "B3jGvKrMYuVl"
      },
      "source": [
        "import pycountry \n",
        "import geopandas"
      ],
      "execution_count": 62,
      "outputs": []
    },
    {
      "cell_type": "code",
      "metadata": {
        "id": "KUkRqJKKYuSp"
      },
      "source": [
        "# generate country code  based on country name \n",
        "# from https://melaniesoek0120.medium.com/data-visualization-how-to-plot-a-map-with-geopandas-in-python-73b10dcd4b4b\n",
        "def alpha3code(column):\n",
        "    CODE=[]\n",
        "    for country in column:\n",
        "        try:\n",
        "            code=pycountry.countries.get(name=country).alpha_3\n",
        "            CODE.append(code)\n",
        "        except:\n",
        "            CODE.append('None')\n",
        "    return CODE"
      ],
      "execution_count": 63,
      "outputs": []
    },
    {
      "cell_type": "code",
      "metadata": {
        "id": "tdrAcsT_YuP8",
        "colab": {
          "base_uri": "https://localhost:8080/",
          "height": 142
        },
        "outputId": "1eebfa25-f704-417e-c7c3-f37773f5c477"
      },
      "source": [
        "# add to the country dataframe all the infos about the countries for the world map\n",
        "countries_df = pd.DataFrame(countries)\n",
        "countries_df.reset_index(inplace=True)\n",
        "countries_df.replace('United States of America', 'United States', inplace=True)\n",
        "countries_df['CODE'] = alpha3code(countries_df.nationality_label)\n",
        "countries_df = countries_df.drop(countries_df.index[countries_df['CODE'] == 'None'])\n",
        "world = geopandas.read_file(geopandas.datasets.get_path('naturalearth_lowres'))\n",
        "world.columns = ['pop_est', 'continent', 'name', 'CODE', 'gdp_md_est', 'geometry']\n",
        "countries_geo = pd.merge(world, countries_df,on='CODE')\n",
        "countries_geo.sample(3)"
      ],
      "execution_count": 65,
      "outputs": [
        {
          "output_type": "execute_result",
          "data": {
            "text/html": [
              "<div>\n",
              "<style scoped>\n",
              "    .dataframe tbody tr th:only-of-type {\n",
              "        vertical-align: middle;\n",
              "    }\n",
              "\n",
              "    .dataframe tbody tr th {\n",
              "        vertical-align: top;\n",
              "    }\n",
              "\n",
              "    .dataframe thead th {\n",
              "        text-align: right;\n",
              "    }\n",
              "</style>\n",
              "<table border=\"1\" class=\"dataframe\">\n",
              "  <thead>\n",
              "    <tr style=\"text-align: right;\">\n",
              "      <th></th>\n",
              "      <th>pop_est</th>\n",
              "      <th>continent</th>\n",
              "      <th>name</th>\n",
              "      <th>CODE</th>\n",
              "      <th>gdp_md_est</th>\n",
              "      <th>geometry</th>\n",
              "      <th>nationality_label</th>\n",
              "      <th>quotation</th>\n",
              "    </tr>\n",
              "  </thead>\n",
              "  <tbody>\n",
              "    <tr>\n",
              "      <th>26</th>\n",
              "      <td>15460732</td>\n",
              "      <td>North America</td>\n",
              "      <td>Guatemala</td>\n",
              "      <td>GTM</td>\n",
              "      <td>131800.0</td>\n",
              "      <td>POLYGON ((-92.22775 14.53883, -92.20323 14.830...</td>\n",
              "      <td>Guatemala</td>\n",
              "      <td>10</td>\n",
              "    </tr>\n",
              "    <tr>\n",
              "      <th>122</th>\n",
              "      <td>6653210</td>\n",
              "      <td>Africa</td>\n",
              "      <td>Libya</td>\n",
              "      <td>LBY</td>\n",
              "      <td>90890.0</td>\n",
              "      <td>POLYGON ((25.00000 22.00000, 25.00000 20.00304...</td>\n",
              "      <td>Libya</td>\n",
              "      <td>1</td>\n",
              "    </tr>\n",
              "    <tr>\n",
              "      <th>25</th>\n",
              "      <td>6172011</td>\n",
              "      <td>North America</td>\n",
              "      <td>El Salvador</td>\n",
              "      <td>SLV</td>\n",
              "      <td>54790.0</td>\n",
              "      <td>POLYGON ((-89.35333 14.42413, -89.05851 14.340...</td>\n",
              "      <td>El Salvador</td>\n",
              "      <td>8</td>\n",
              "    </tr>\n",
              "  </tbody>\n",
              "</table>\n",
              "</div>"
            ],
            "text/plain": [
              "      pop_est      continent  ... nationality_label quotation\n",
              "26   15460732  North America  ...         Guatemala        10\n",
              "122   6653210         Africa  ...             Libya         1\n",
              "25    6172011  North America  ...       El Salvador         8\n",
              "\n",
              "[3 rows x 8 columns]"
            ]
          },
          "metadata": {},
          "execution_count": 65
        }
      ]
    },
    {
      "cell_type": "code",
      "metadata": {
        "id": "sGNYhf0NYuNG",
        "colab": {
          "base_uri": "https://localhost:8080/",
          "height": 383
        },
        "outputId": "958681e8-e810-4c00-d02c-933de6b85538"
      },
      "source": [
        "# plot the number of quotations on the world map\n",
        "countries_geo.plot(column='quotation', scheme=\"quantiles\", figsize=(15, 20), legend=True, cmap='coolwarm')\n",
        "plt.title('Number of quotations about climate change',fontsize=15)\n",
        "plt.axis(\"off\")\n",
        "plt.show()"
      ],
      "execution_count": 66,
      "outputs": [
        {
          "output_type": "display_data",
          "data": {
            "image/png": "[encoded data removed]",
            "text/plain": [
              "<Figure size 1080x1440 with 1 Axes>"
            ]
          },
          "metadata": {
            "needs_background": "light"
          }
        }
      ]
    },
    {
      "cell_type": "markdown",
      "metadata": {
        "id": "XAW0G6k_sq_J"
      },
      "source": [
        "## Data about climate change from wordbank\n",
        "\n",
        "https://data.worldbank.org/topic/19"
      ]
    },
    {
      "cell_type": "code",
      "metadata": {
        "colab": {
          "base_uri": "https://localhost:8080/",
          "height": 142
        },
        "id": "QLEF0otSs7xU",
        "outputId": "d657292a-8bd1-477f-f8fe-21e87ba09fec"
      },
      "source": [
        "# for later use ?\n",
        "path_data_wordbank1 = '/content/drive/MyDrive/worlddatabank/Metadata_Country_API_19_DS2_en_csv_v2_3159902.csv'\n",
        "wordbank_meta_Country = pd.read_csv(path_data_wordbank1)\n",
        "wordbank_meta_Country.head(3)\n",
        "\n",
        "path_data_wordbank2 = '/content/drive/MyDrive/worlddatabank/Metadata_Indicator_API_19_DS2_en_csv_v2_3159902.csv'\n",
        "wordbank_meta_Indicator = pd.read_csv(path_data_wordbank2)\n",
        "wordbank_meta_Indicator.head(3)\n"
      ],
      "execution_count": 67,
      "outputs": [
        {
          "output_type": "execute_result",
          "data": {
            "text/html": [
              "<div>\n",
              "<style scoped>\n",
              "    .dataframe tbody tr th:only-of-type {\n",
              "        vertical-align: middle;\n",
              "    }\n",
              "\n",
              "    .dataframe tbody tr th {\n",
              "        vertical-align: top;\n",
              "    }\n",
              "\n",
              "    .dataframe thead th {\n",
              "        text-align: right;\n",
              "    }\n",
              "</style>\n",
              "<table border=\"1\" class=\"dataframe\">\n",
              "  <thead>\n",
              "    <tr style=\"text-align: right;\">\n",
              "      <th></th>\n",
              "      <th>INDICATOR_CODE</th>\n",
              "      <th>INDICATOR_NAME</th>\n",
              "      <th>SOURCE_NOTE</th>\n",
              "      <th>SOURCE_ORGANIZATION</th>\n",
              "      <th>Unnamed: 4</th>\n",
              "    </tr>\n",
              "  </thead>\n",
              "  <tbody>\n",
              "    <tr>\n",
              "      <th>0</th>\n",
              "      <td>SP.URB.TOTL.IN.ZS</td>\n",
              "      <td>Urban population (% of total population)</td>\n",
              "      <td>Urban population refers to people living in ur...</td>\n",
              "      <td>United Nations Population Division. World Urba...</td>\n",
              "      <td>NaN</td>\n",
              "    </tr>\n",
              "    <tr>\n",
              "      <th>1</th>\n",
              "      <td>SP.URB.TOTL</td>\n",
              "      <td>Urban population</td>\n",
              "      <td>Urban population refers to people living in ur...</td>\n",
              "      <td>World Bank staff estimates based on the United...</td>\n",
              "      <td>NaN</td>\n",
              "    </tr>\n",
              "    <tr>\n",
              "      <th>2</th>\n",
              "      <td>SP.URB.GROW</td>\n",
              "      <td>Urban population growth (annual %)</td>\n",
              "      <td>Urban population refers to people living in ur...</td>\n",
              "      <td>World Bank staff estimates based on the United...</td>\n",
              "      <td>NaN</td>\n",
              "    </tr>\n",
              "  </tbody>\n",
              "</table>\n",
              "</div>"
            ],
            "text/plain": [
              "      INDICATOR_CODE  ... Unnamed: 4\n",
              "0  SP.URB.TOTL.IN.ZS  ...        NaN\n",
              "1        SP.URB.TOTL  ...        NaN\n",
              "2        SP.URB.GROW  ...        NaN\n",
              "\n",
              "[3 rows x 5 columns]"
            ]
          },
          "metadata": {},
          "execution_count": 67
        }
      ]
    },
    {
      "cell_type": "markdown",
      "metadata": {
        "id": "frVc5to8Y2FQ"
      },
      "source": [
        "## Political parties"
      ]
    },
    {
      "cell_type": "code",
      "metadata": {
        "id": "ocpgBKYqY5yb",
        "colab": {
          "base_uri": "https://localhost:8080/",
          "height": 434
        },
        "outputId": "60d39fd1-f3d0-4c3a-a183-fa77ab1bf835"
      },
      "source": [
        "# merge the quotes about global warming with the wikidata using the qids\n",
        "climate_wikidata = climate_all_years_clean.explode('qids').merge(wikidata, left_on='qids', right_on='id')\n",
        "climate_wikidata.drop(columns=['id', 'label'], axis=1, inplace=True)\n",
        "print(climate_wikidata.shape)\n",
        "climate_wikidata.head(3)"
      ],
      "execution_count": 68,
      "outputs": [
        {
          "output_type": "stream",
          "name": "stdout",
          "text": [
            "(201888, 23)\n"
          ]
        },
        {
          "output_type": "execute_result",
          "data": {
            "text/html": [
              "<div>\n",
              "<style scoped>\n",
              "    .dataframe tbody tr th:only-of-type {\n",
              "        vertical-align: middle;\n",
              "    }\n",
              "\n",
              "    .dataframe tbody tr th {\n",
              "        vertical-align: top;\n",
              "    }\n",
              "\n",
              "    .dataframe thead th {\n",
              "        text-align: right;\n",
              "    }\n",
              "</style>\n",
              "<table border=\"1\" class=\"dataframe\">\n",
              "  <thead>\n",
              "    <tr style=\"text-align: right;\">\n",
              "      <th></th>\n",
              "      <th>quoteID</th>\n",
              "      <th>quotation</th>\n",
              "      <th>speaker</th>\n",
              "      <th>qids</th>\n",
              "      <th>date</th>\n",
              "      <th>numOccurrences</th>\n",
              "      <th>probas</th>\n",
              "      <th>urls</th>\n",
              "      <th>phase</th>\n",
              "      <th>year</th>\n",
              "      <th>aliases</th>\n",
              "      <th>date_of_birth</th>\n",
              "      <th>nationality</th>\n",
              "      <th>gender</th>\n",
              "      <th>lastrevid</th>\n",
              "      <th>ethnic_group</th>\n",
              "      <th>US_congress_bio_ID</th>\n",
              "      <th>occupation</th>\n",
              "      <th>party</th>\n",
              "      <th>academic_degree</th>\n",
              "      <th>candidacy</th>\n",
              "      <th>type</th>\n",
              "      <th>religion</th>\n",
              "    </tr>\n",
              "  </thead>\n",
              "  <tbody>\n",
              "    <tr>\n",
              "      <th>0</th>\n",
              "      <td>2015-09-28-067347</td>\n",
              "      <td>man-made emissions are an insignificant part o...</td>\n",
              "      <td>John Abraham</td>\n",
              "      <td>Q313025</td>\n",
              "      <td>2015-09-28 23:16:52</td>\n",
              "      <td>1</td>\n",
              "      <td>[[John Abraham, 0.6469], [None, 0.3092], [Will...</td>\n",
              "      <td>[http://www.desmogblog.com/donors-capital-fund]</td>\n",
              "      <td>E</td>\n",
              "      <td>2015</td>\n",
              "      <td>None</td>\n",
              "      <td>[+1972-12-17T00:00:00Z]</td>\n",
              "      <td>[Q668]</td>\n",
              "      <td>[Q6581097]</td>\n",
              "      <td>1354134367</td>\n",
              "      <td>None</td>\n",
              "      <td>None</td>\n",
              "      <td>[Q33999, Q4610556, Q3282637, Q10800557]</td>\n",
              "      <td>None</td>\n",
              "      <td>None</td>\n",
              "      <td>None</td>\n",
              "      <td>item</td>\n",
              "      <td>[Q5043]</td>\n",
              "    </tr>\n",
              "    <tr>\n",
              "      <th>1</th>\n",
              "      <td>2015-09-17-007663</td>\n",
              "      <td>Any argument that global warming stopped 18 or...</td>\n",
              "      <td>John Abraham</td>\n",
              "      <td>Q313025</td>\n",
              "      <td>2015-09-17 10:01:00</td>\n",
              "      <td>2</td>\n",
              "      <td>[[John Abraham, 0.8673], [None, 0.1292], [Lama...</td>\n",
              "      <td>[http://www.environmentalhealthnews.org/t/1883...</td>\n",
              "      <td>E</td>\n",
              "      <td>2015</td>\n",
              "      <td>None</td>\n",
              "      <td>[+1972-12-17T00:00:00Z]</td>\n",
              "      <td>[Q668]</td>\n",
              "      <td>[Q6581097]</td>\n",
              "      <td>1354134367</td>\n",
              "      <td>None</td>\n",
              "      <td>None</td>\n",
              "      <td>[Q33999, Q4610556, Q3282637, Q10800557]</td>\n",
              "      <td>None</td>\n",
              "      <td>None</td>\n",
              "      <td>None</td>\n",
              "      <td>item</td>\n",
              "      <td>[Q5043]</td>\n",
              "    </tr>\n",
              "    <tr>\n",
              "      <th>2</th>\n",
              "      <td>2015-08-06-023574</td>\n",
              "      <td>found that there was no statistically signific...</td>\n",
              "      <td>John Abraham</td>\n",
              "      <td>Q313025</td>\n",
              "      <td>2015-08-06 15:00:59</td>\n",
              "      <td>1</td>\n",
              "      <td>[[John Abraham, 0.7957], [None, 0.1579], [Greg...</td>\n",
              "      <td>[http://dailykos.com/story/2015/08/06/1409298/...</td>\n",
              "      <td>E</td>\n",
              "      <td>2015</td>\n",
              "      <td>None</td>\n",
              "      <td>[+1972-12-17T00:00:00Z]</td>\n",
              "      <td>[Q668]</td>\n",
              "      <td>[Q6581097]</td>\n",
              "      <td>1354134367</td>\n",
              "      <td>None</td>\n",
              "      <td>None</td>\n",
              "      <td>[Q33999, Q4610556, Q3282637, Q10800557]</td>\n",
              "      <td>None</td>\n",
              "      <td>None</td>\n",
              "      <td>None</td>\n",
              "      <td>item</td>\n",
              "      <td>[Q5043]</td>\n",
              "    </tr>\n",
              "  </tbody>\n",
              "</table>\n",
              "</div>"
            ],
            "text/plain": [
              "             quoteID  ... religion\n",
              "0  2015-09-28-067347  ...  [Q5043]\n",
              "1  2015-09-17-007663  ...  [Q5043]\n",
              "2  2015-08-06-023574  ...  [Q5043]\n",
              "\n",
              "[3 rows x 23 columns]"
            ]
          },
          "metadata": {},
          "execution_count": 68
        }
      ]
    },
    {
      "cell_type": "code",
      "metadata": {
        "id": "i1Y804lmY70L"
      },
      "source": [
        "# add the labels of the parties\n",
        "climate_wikidata_label = climate_wikidata.explode('party').merge(qids, left_on='party', right_on='QID')\n",
        "climate_wikidata_label.drop(columns=['Description'], axis=1, inplace=True)\n",
        "climate_wikidata_label.rename(columns={'Label': 'party_label'}, inplace=True)"
      ],
      "execution_count": 69,
      "outputs": []
    },
    {
      "cell_type": "code",
      "metadata": {
        "id": "F4mrpWJcY7xc",
        "colab": {
          "base_uri": "https://localhost:8080/",
          "height": 468
        },
        "outputId": "a8de0deb-f65f-417e-f13c-ab198161f40d"
      },
      "source": [
        "# add the labels of all the countries\n",
        "climate_wikidata_label = climate_wikidata_label.explode('nationality').merge(qids, left_on='nationality', right_on='QID')\n",
        "climate_wikidata_label.drop(columns=['Description'], axis=1, inplace=True)\n",
        "climate_wikidata_label.rename(columns={'Label': 'nationality_label'}, inplace=True)\n",
        "climate_wikidata_label.sample(3)"
      ],
      "execution_count": 70,
      "outputs": [
        {
          "output_type": "execute_result",
          "data": {
            "text/html": [
              "<div>\n",
              "<style scoped>\n",
              "    .dataframe tbody tr th:only-of-type {\n",
              "        vertical-align: middle;\n",
              "    }\n",
              "\n",
              "    .dataframe tbody tr th {\n",
              "        vertical-align: top;\n",
              "    }\n",
              "\n",
              "    .dataframe thead th {\n",
              "        text-align: right;\n",
              "    }\n",
              "</style>\n",
              "<table border=\"1\" class=\"dataframe\">\n",
              "  <thead>\n",
              "    <tr style=\"text-align: right;\">\n",
              "      <th></th>\n",
              "      <th>quoteID</th>\n",
              "      <th>quotation</th>\n",
              "      <th>speaker</th>\n",
              "      <th>qids</th>\n",
              "      <th>date</th>\n",
              "      <th>numOccurrences</th>\n",
              "      <th>probas</th>\n",
              "      <th>urls</th>\n",
              "      <th>phase</th>\n",
              "      <th>year</th>\n",
              "      <th>aliases</th>\n",
              "      <th>date_of_birth</th>\n",
              "      <th>nationality</th>\n",
              "      <th>gender</th>\n",
              "      <th>lastrevid</th>\n",
              "      <th>ethnic_group</th>\n",
              "      <th>US_congress_bio_ID</th>\n",
              "      <th>occupation</th>\n",
              "      <th>party</th>\n",
              "      <th>academic_degree</th>\n",
              "      <th>candidacy</th>\n",
              "      <th>type</th>\n",
              "      <th>religion</th>\n",
              "      <th>party_label</th>\n",
              "      <th>nationality_label</th>\n",
              "    </tr>\n",
              "  </thead>\n",
              "  <tbody>\n",
              "    <tr>\n",
              "      <th>8013</th>\n",
              "      <td>2019-10-23-064700</td>\n",
              "      <td>My administration would declare the climate cr...</td>\n",
              "      <td>Tom Steyer</td>\n",
              "      <td>Q16189531</td>\n",
              "      <td>2019-10-23 17:41:57</td>\n",
              "      <td>3</td>\n",
              "      <td>[[Tom Steyer, 0.5726], [None, 0.418], [Donald ...</td>\n",
              "      <td>[https://mynewsla.com/business/2019/10/23/stey...</td>\n",
              "      <td>E</td>\n",
              "      <td>2019</td>\n",
              "      <td>[Thomas Fahr Steyer, Thomas Steyer, Tom Fahr S...</td>\n",
              "      <td>[+1957-06-27T00:00:00Z]</td>\n",
              "      <td>Q30</td>\n",
              "      <td>[Q6581097]</td>\n",
              "      <td>1378981052</td>\n",
              "      <td>None</td>\n",
              "      <td>None</td>\n",
              "      <td>[Q43845, Q26950764, Q12362622, Q2883465]</td>\n",
              "      <td>Q29552</td>\n",
              "      <td>None</td>\n",
              "      <td>None</td>\n",
              "      <td>item</td>\n",
              "      <td>None</td>\n",
              "      <td>Democratic Party</td>\n",
              "      <td>United States of America</td>\n",
              "    </tr>\n",
              "    <tr>\n",
              "      <th>64564</th>\n",
              "      <td>2019-11-04-013377</td>\n",
              "      <td>China plans to place top priority in tackling ...</td>\n",
              "      <td>Li Ganjie</td>\n",
              "      <td>Q16076530</td>\n",
              "      <td>2019-11-04 05:48:16</td>\n",
              "      <td>1</td>\n",
              "      <td>[[Li Ganjie, 0.6154], [None, 0.3074], [Ban Ki-...</td>\n",
              "      <td>[http://www.koreaherald.com/view.php?ud=201911...</td>\n",
              "      <td>E</td>\n",
              "      <td>2019</td>\n",
              "      <td>None</td>\n",
              "      <td>[+1964-01-01T00:00:00Z]</td>\n",
              "      <td>Q148</td>\n",
              "      <td>[Q6581097]</td>\n",
              "      <td>1390134274</td>\n",
              "      <td>None</td>\n",
              "      <td>None</td>\n",
              "      <td>[Q82955]</td>\n",
              "      <td>Q17427</td>\n",
              "      <td>None</td>\n",
              "      <td>None</td>\n",
              "      <td>item</td>\n",
              "      <td>None</td>\n",
              "      <td>Communist Party of China</td>\n",
              "      <td>People's Republic of China</td>\n",
              "    </tr>\n",
              "    <tr>\n",
              "      <th>11250</th>\n",
              "      <td>2018-10-16-105812</td>\n",
              "      <td>The reality that this administration refuses t...</td>\n",
              "      <td>Jay Inslee</td>\n",
              "      <td>Q1100710</td>\n",
              "      <td>2018-10-16 17:07:17</td>\n",
              "      <td>1</td>\n",
              "      <td>[[Jay Inslee, 0.6948], [Adam Smith, 0.1585], [...</td>\n",
              "      <td>[http://thehill.com/policy/defense/411636-top-...</td>\n",
              "      <td>E</td>\n",
              "      <td>2018</td>\n",
              "      <td>[Jay Robert Inslee]</td>\n",
              "      <td>[+1951-02-09T00:00:00Z]</td>\n",
              "      <td>Q30</td>\n",
              "      <td>[Q6581097]</td>\n",
              "      <td>1393018467</td>\n",
              "      <td>None</td>\n",
              "      <td>I000026</td>\n",
              "      <td>[Q82955, Q40348, Q600751]</td>\n",
              "      <td>Q29552</td>\n",
              "      <td>None</td>\n",
              "      <td>None</td>\n",
              "      <td>item</td>\n",
              "      <td>[Q23540]</td>\n",
              "      <td>Democratic Party</td>\n",
              "      <td>United States of America</td>\n",
              "    </tr>\n",
              "  </tbody>\n",
              "</table>\n",
              "</div>"
            ],
            "text/plain": [
              "                 quoteID  ...           nationality_label\n",
              "8013   2019-10-23-064700  ...    United States of America\n",
              "64564  2019-11-04-013377  ...  People's Republic of China\n",
              "11250  2018-10-16-105812  ...    United States of America\n",
              "\n",
              "[3 rows x 25 columns]"
            ]
          },
          "metadata": {},
          "execution_count": 70
        }
      ]
    },
    {
      "cell_type": "code",
      "metadata": {
        "id": "asBoldkWY7ue",
        "colab": {
          "base_uri": "https://localhost:8080/",
          "height": 282
        },
        "outputId": "38f6bd22-15fb-4538-88c7-6732d4e21e91"
      },
      "source": [
        "# number of quotes by parties in the world\n",
        "parties = climate_wikidata_label.groupby(by='party_label').count().sort_values(by='quotation', ascending=False).quotation\n",
        "sns.barplot(x=parties[:10].values, y=parties[:10].index)"
      ],
      "execution_count": 71,
      "outputs": [
        {
          "output_type": "execute_result",
          "data": {
            "text/plain": [
              "<matplotlib.axes._subplots.AxesSubplot at 0x7fef718d2510>"
            ]
          },
          "metadata": {},
          "execution_count": 71
        },
        {
          "output_type": "display_data",
          "data": {
            "image/png": "[encoded data removed]",
            "text/plain": [
              "<Figure size 432x288 with 1 Axes>"
            ]
          },
          "metadata": {
            "needs_background": "light"
          }
        }
      ]
    },
    {
      "cell_type": "code",
      "metadata": {
        "id": "k_ADWWHqY7rs"
      },
      "source": [
        "# number of quotes by countries and parties in the world\n",
        "parties_countries = climate_wikidata_label.groupby(by=['nationality_label', 'party_label']).count().sort_values(by='quotation', ascending=False).quotation\n",
        "parties_countries_df = pd.DataFrame(parties_countries)\n",
        "parties_countries_df.reset_index(inplace=True)\n",
        "parties_countries_df = pd.DataFrame(parties_countries)\n",
        "parties_countries_df.reset_index(inplace=True)"
      ],
      "execution_count": 72,
      "outputs": []
    },
    {
      "cell_type": "code",
      "metadata": {
        "id": "TqjYly0yY7o1",
        "colab": {
          "base_uri": "https://localhost:8080/",
          "height": 296
        },
        "outputId": "d8a38b38-2e9e-45cd-a4c6-8d5469b6ca4e"
      },
      "source": [
        "# parties for the USA\n",
        "US_data = parties_countries_df[parties_countries_df.nationality_label == 'United States of America']\n",
        "sns.barplot(data=US_data[:3], x='quotation', y='party_label')"
      ],
      "execution_count": 73,
      "outputs": [
        {
          "output_type": "execute_result",
          "data": {
            "text/plain": [
              "<matplotlib.axes._subplots.AxesSubplot at 0x7fefaf344110>"
            ]
          },
          "metadata": {},
          "execution_count": 73
        },
        {
          "output_type": "display_data",
          "data": {
            "image/png": "[encoded data removed]",
            "text/plain": [
              "<Figure size 432x288 with 1 Axes>"
            ]
          },
          "metadata": {
            "needs_background": "light"
          }
        }
      ]
    },
    {
      "cell_type": "code",
      "metadata": {
        "id": "4y5tb6CkZA16",
        "colab": {
          "base_uri": "https://localhost:8080/",
          "height": 296
        },
        "outputId": "7a81d980-9c65-4da8-f3a1-2b2ab45755d9"
      },
      "source": [
        "# parties for the UK\n",
        "UK_data = parties_countries_df[parties_countries_df.nationality_label == 'United Kingdom']\n",
        "sns.barplot(data=UK_data[:3], x='quotation', y='party_label')"
      ],
      "execution_count": 74,
      "outputs": [
        {
          "output_type": "execute_result",
          "data": {
            "text/plain": [
              "<matplotlib.axes._subplots.AxesSubplot at 0x7fefaf338f10>"
            ]
          },
          "metadata": {},
          "execution_count": 74
        },
        {
          "output_type": "display_data",
          "data": {
            "image/png": "[encoded data removed]",
            "text/plain": [
              "<Figure size 432x288 with 1 Axes>"
            ]
          },
          "metadata": {
            "needs_background": "light"
          }
        }
      ]
    },
    {
      "cell_type": "code",
      "metadata": {
        "id": "l6TBr7RIZAyK",
        "colab": {
          "base_uri": "https://localhost:8080/",
          "height": 296
        },
        "outputId": "9ee86ded-7ff1-4624-8cde-8309baa23bd3"
      },
      "source": [
        "# parties for Canada\n",
        "canada_data = parties_countries_df[parties_countries_df.nationality_label == 'Canada']\n",
        "sns.barplot(data=canada_data[:3], x='quotation', y='party_label')"
      ],
      "execution_count": 75,
      "outputs": [
        {
          "output_type": "execute_result",
          "data": {
            "text/plain": [
              "<matplotlib.axes._subplots.AxesSubplot at 0x7fefaf29d590>"
            ]
          },
          "metadata": {},
          "execution_count": 75
        },
        {
          "output_type": "display_data",
          "data": {
            "image/png": "[encoded data removed]",
            "text/plain": [
              "<Figure size 432x288 with 1 Axes>"
            ]
          },
          "metadata": {
            "needs_background": "light"
          }
        }
      ]
    }
  ]
}