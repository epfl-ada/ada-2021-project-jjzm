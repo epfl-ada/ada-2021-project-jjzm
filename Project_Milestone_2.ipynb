{
  "nbformat": 4,
  "nbformat_minor": 0,
  "metadata": {
    "colab": {
      "name": "Project Milestone 2.ipynb",
      "provenance": [],
      "collapsed_sections": []
    },
    "kernelspec": {
      "name": "python3",
      "display_name": "Python 3"
    },
    "language_info": {
      "name": "python"
    }
  },
  "cells": [
    {
      "cell_type": "markdown",
      "metadata": {
        "id": "hwcsufM5siRb"
      },
      "source": [
        "# Project Milestone 2"
      ]
    },
    {
      "cell_type": "markdown",
      "metadata": {
        "id": "rDIwbh2Ssx1H"
      },
      "source": [
        "## Tools"
      ]
    },
    {
      "cell_type": "code",
      "metadata": {
        "id": "p3ZUlq_gsnDy"
      },
      "source": [
        "pip install pandas==1.0.5"
      ],
      "execution_count": null,
      "outputs": []
    },
    {
      "cell_type": "code",
      "metadata": {
        "colab": {
          "base_uri": "https://localhost:8080/"
        },
        "id": "ZbelLu3-sxpB",
        "outputId": "0b70e3fd-db49-46e9-ec9e-ef26d4785d6b"
      },
      "source": [
        "import pandas as pd\n",
        "import matplotlib.pyplot as plt\n",
        "import seaborn as sns\n",
        "import collections\n",
        "import nltk\n",
        "import requests\n",
        "import pickle\n",
        "import warnings\n",
        "from nltk.corpus import wordnet\n",
        "from nltk.corpus import stopwords\n",
        "from wordcloud import WordCloud\n",
        "warnings.filterwarnings('ignore')\n",
        "print('pandas version: ' + pd.__version__)"
      ],
      "execution_count": null,
      "outputs": [
        {
          "output_type": "stream",
          "name": "stdout",
          "text": [
            "pandas version: 1.0.5\n"
          ]
        }
      ]
    },
    {
      "cell_type": "code",
      "metadata": {
        "colab": {
          "base_uri": "https://localhost:8080/"
        },
        "id": "3jGqI8P_s7x5",
        "outputId": "0464b6d8-9afa-4465-a586-f4086dcdbc4d"
      },
      "source": [
        "from google.colab import drive\n",
        "drive.mount('/content/drive')"
      ],
      "execution_count": null,
      "outputs": [
        {
          "output_type": "stream",
          "name": "stdout",
          "text": [
            "Mounted at /content/drive\n"
          ]
        }
      ]
    },
    {
      "cell_type": "code",
      "metadata": {
        "id": "JpT3uaZ3tW82"
      },
      "source": [
        "path_data = '/content/drive/MyDrive/Quotebank/'"
      ],
      "execution_count": null,
      "outputs": []
    },
    {
      "cell_type": "code",
      "metadata": {
        "id": "6AP49Ub4tf2D"
      },
      "source": [
        "# loop through nb_chunks_to_read chunks (if 0, through all chunks) and apply process_function to each of them\n",
        "# return the result as a dataframe\n",
        "def loop_chuncks(chunks, process_function, nb_chunks_to_read=0):\n",
        "  i = 0\n",
        "  result = []\n",
        "  columns = None\n",
        "  for chunk in chunks:\n",
        "    processed = process_function(chunk)\n",
        "    if processed is not None:\n",
        "      if not isinstance(processed, pd.Series):\n",
        "        columns = processed.columns\n",
        "      for r in processed.values.tolist():\n",
        "        result.append(r)\n",
        "    i += 1\n",
        "    if i == nb_chunks_to_read:\n",
        "      break\n",
        "  return pd.DataFrame(result, columns=columns)"
      ],
      "execution_count": null,
      "outputs": []
    },
    {
      "cell_type": "code",
      "metadata": {
        "colab": {
          "base_uri": "https://localhost:8080/",
          "height": 346
        },
        "id": "JmtK07x4trUq",
        "outputId": "d39c7eeb-1b60-4b01-8c9b-2366e69846ad"
      },
      "source": [
        "# return the first 3 elements of a chunk\n",
        "def chunck_head(chunk):\n",
        "  return chunk.head(3)\n",
        "\n",
        "# example\n",
        "chunks = pd.read_json(path_data + 'quotes-2020.json.bz2', lines=True, compression='bz2', chunksize=10000)\n",
        "loop_chuncks(chunks, chunck_head, 1)"
      ],
      "execution_count": null,
      "outputs": [
        {
          "output_type": "execute_result",
          "data": {
            "text/html": [
              "<div>\n",
              "<style scoped>\n",
              "    .dataframe tbody tr th:only-of-type {\n",
              "        vertical-align: middle;\n",
              "    }\n",
              "\n",
              "    .dataframe tbody tr th {\n",
              "        vertical-align: top;\n",
              "    }\n",
              "\n",
              "    .dataframe thead th {\n",
              "        text-align: right;\n",
              "    }\n",
              "</style>\n",
              "<table border=\"1\" class=\"dataframe\">\n",
              "  <thead>\n",
              "    <tr style=\"text-align: right;\">\n",
              "      <th></th>\n",
              "      <th>quoteID</th>\n",
              "      <th>quotation</th>\n",
              "      <th>speaker</th>\n",
              "      <th>qids</th>\n",
              "      <th>date</th>\n",
              "      <th>numOccurrences</th>\n",
              "      <th>probas</th>\n",
              "      <th>urls</th>\n",
              "      <th>phase</th>\n",
              "    </tr>\n",
              "  </thead>\n",
              "  <tbody>\n",
              "    <tr>\n",
              "      <th>0</th>\n",
              "      <td>2020-01-28-000082</td>\n",
              "      <td>[ D ] espite the efforts of the partners to cr...</td>\n",
              "      <td>None</td>\n",
              "      <td>[]</td>\n",
              "      <td>2020-01-28 08:04:05</td>\n",
              "      <td>1</td>\n",
              "      <td>[[None, 0.7272], [Prime Minister Netanyahu, 0....</td>\n",
              "      <td>[http://israelnationalnews.com/News/News.aspx/...</td>\n",
              "      <td>E</td>\n",
              "    </tr>\n",
              "    <tr>\n",
              "      <th>1</th>\n",
              "      <td>2020-01-16-000088</td>\n",
              "      <td>[ Department of Homeland Security ] was livid ...</td>\n",
              "      <td>Sue Myrick</td>\n",
              "      <td>[Q367796]</td>\n",
              "      <td>2020-01-16 12:00:13</td>\n",
              "      <td>1</td>\n",
              "      <td>[[Sue Myrick, 0.8867], [None, 0.0992], [Ron Wy...</td>\n",
              "      <td>[http://thehill.com/opinion/international/4782...</td>\n",
              "      <td>E</td>\n",
              "    </tr>\n",
              "    <tr>\n",
              "      <th>2</th>\n",
              "      <td>2020-02-10-000142</td>\n",
              "      <td>... He (Madhav) also disclosed that the illega...</td>\n",
              "      <td>None</td>\n",
              "      <td>[]</td>\n",
              "      <td>2020-02-10 23:45:54</td>\n",
              "      <td>1</td>\n",
              "      <td>[[None, 0.8926], [Prakash Rai, 0.1074]]</td>\n",
              "      <td>[https://indianexpress.com/article/business/ec...</td>\n",
              "      <td>E</td>\n",
              "    </tr>\n",
              "  </tbody>\n",
              "</table>\n",
              "</div>"
            ],
            "text/plain": [
              "             quoteID  ... phase\n",
              "0  2020-01-28-000082  ...     E\n",
              "1  2020-01-16-000088  ...     E\n",
              "2  2020-02-10-000142  ...     E\n",
              "\n",
              "[3 rows x 9 columns]"
            ]
          },
          "metadata": {},
          "execution_count": 6
        }
      ]
    },
    {
      "cell_type": "code",
      "metadata": {
        "colab": {
          "base_uri": "https://localhost:8080/"
        },
        "id": "lXtgCRTFt3T6",
        "outputId": "891d01f5-9698-4585-89d0-9dcbe4b2ea93"
      },
      "source": [
        "# to create automatically a list of synonyms\n",
        "# https://towardsdatascience.com/synonyms-and-antonyms-in-python-a865a5e14ce8\n",
        "nltk.download('wordnet')\n",
        "\n",
        "def find_synonyms(word):\n",
        "  words = []\n",
        "  for syn in wordnet.synsets(word):\n",
        "    for lm in syn.lemmas():\n",
        "      words.append(lm.name())\n",
        "  return words\n",
        "\n",
        "# example\n",
        "find_synonyms('climate')\n",
        "find_synonyms('environment')"
      ],
      "execution_count": null,
      "outputs": [
        {
          "output_type": "stream",
          "name": "stdout",
          "text": [
            "[nltk_data] Downloading package wordnet to /root/nltk_data...\n",
            "[nltk_data]   Unzipping corpora/wordnet.zip.\n"
          ]
        },
        {
          "output_type": "execute_result",
          "data": {
            "text/plain": [
              "['environment', 'environment', 'environs', 'surroundings', 'surround']"
            ]
          },
          "metadata": {},
          "execution_count": 7
        }
      ]
    },
    {
      "cell_type": "markdown",
      "metadata": {
        "id": "u0uR07N-x7oB"
      },
      "source": [
        "## Creation of the dataset about climate change"
      ]
    },
    {
      "cell_type": "code",
      "metadata": {
        "colab": {
          "base_uri": "https://localhost:8080/",
          "height": 312
        },
        "id": "FmoDei5vyJ6p",
        "outputId": "dc55c7ad-6088-410a-8406-19b8888cdaaa"
      },
      "source": [
        "# return the quotes containing one of the words in the list\n",
        "\n",
        "words = ['global warming', 'climate change']\n",
        "\n",
        "def contains_word_in_list(chunk):\n",
        "  return chunk[chunk.quotation.str.contains('|'.join(words), case=False)]\n",
        "\n",
        "chunks = pd.read_json(path_data + 'quotes-2020.json.bz2', lines=True, compression='bz2', chunksize=10000)\n",
        "word_in_list_quotes = loop_chuncks(chunks, contains_word_in_list, 3)\n",
        "\n",
        "word_in_list_quotes.sample(3)"
      ],
      "execution_count": null,
      "outputs": [
        {
          "output_type": "execute_result",
          "data": {
            "text/html": [
              "<div>\n",
              "<style scoped>\n",
              "    .dataframe tbody tr th:only-of-type {\n",
              "        vertical-align: middle;\n",
              "    }\n",
              "\n",
              "    .dataframe tbody tr th {\n",
              "        vertical-align: top;\n",
              "    }\n",
              "\n",
              "    .dataframe thead th {\n",
              "        text-align: right;\n",
              "    }\n",
              "</style>\n",
              "<table border=\"1\" class=\"dataframe\">\n",
              "  <thead>\n",
              "    <tr style=\"text-align: right;\">\n",
              "      <th></th>\n",
              "      <th>quoteID</th>\n",
              "      <th>quotation</th>\n",
              "      <th>speaker</th>\n",
              "      <th>qids</th>\n",
              "      <th>date</th>\n",
              "      <th>numOccurrences</th>\n",
              "      <th>probas</th>\n",
              "      <th>urls</th>\n",
              "      <th>phase</th>\n",
              "    </tr>\n",
              "  </thead>\n",
              "  <tbody>\n",
              "    <tr>\n",
              "      <th>38</th>\n",
              "      <td>2020-03-09-072933</td>\n",
              "      <td>We should not even be thinking about this unle...</td>\n",
              "      <td>None</td>\n",
              "      <td>[]</td>\n",
              "      <td>2020-03-09 05:12:10</td>\n",
              "      <td>1</td>\n",
              "      <td>[[None, 0.8776], [Alan Bishop, 0.1224]]</td>\n",
              "      <td>[http://www.thisiswiltshire.co.uk/news/1829098...</td>\n",
              "      <td>E</td>\n",
              "    </tr>\n",
              "    <tr>\n",
              "      <th>42</th>\n",
              "      <td>2020-03-10-017141</td>\n",
              "      <td>He does seem to understand the politics of cli...</td>\n",
              "      <td>None</td>\n",
              "      <td>[]</td>\n",
              "      <td>2020-03-10 13:04:07</td>\n",
              "      <td>1</td>\n",
              "      <td>[[None, 0.7506], [Mark Meadows, 0.2494]]</td>\n",
              "      <td>[http://www.eenews.net/stories/1062562505]</td>\n",
              "      <td>E</td>\n",
              "    </tr>\n",
              "    <tr>\n",
              "      <th>43</th>\n",
              "      <td>2020-01-15-033881</td>\n",
              "      <td>I sat here in the break and just made notes ab...</td>\n",
              "      <td>None</td>\n",
              "      <td>[]</td>\n",
              "      <td>2020-01-15 07:10:07</td>\n",
              "      <td>1</td>\n",
              "      <td>[[None, 0.4517], [Elizabeth Warren, 0.2713], [...</td>\n",
              "      <td>[https://dailyiowan.com/2020/01/15/presidentia...</td>\n",
              "      <td>E</td>\n",
              "    </tr>\n",
              "  </tbody>\n",
              "</table>\n",
              "</div>"
            ],
            "text/plain": [
              "              quoteID  ... phase\n",
              "38  2020-03-09-072933  ...     E\n",
              "42  2020-03-10-017141  ...     E\n",
              "43  2020-01-15-033881  ...     E\n",
              "\n",
              "[3 rows x 9 columns]"
            ]
          },
          "metadata": {},
          "execution_count": 8
        }
      ]
    },
    {
      "cell_type": "code",
      "metadata": {
        "id": "AGX8UsEkzI3U"
      },
      "source": [
        "# to load and save pickes (from the course tutorial)\n",
        "def load_pickle(file_path):\n",
        "    with open(file_path, 'rb') as file:\n",
        "        return pickle.load(file)\n",
        "\n",
        "def save_pickle(result, file_path = 'pickle'):\n",
        "    with open(file_path, 'wb') as file:\n",
        "        pickle.dump(result, file)"
      ],
      "execution_count": null,
      "outputs": []
    },
    {
      "cell_type": "code",
      "metadata": {
        "id": "Cx8ckqUVzhsK"
      },
      "source": [
        "# create a pickle of the quotes about climate change for the 2020 dataset\n",
        "# this have been done for the 6 datasets, commented to not re-run it (very long)\n",
        "# chunks = pd.read_json(path_data + 'quotes-2020.json.bz2', lines=True, compression='bz2', chunksize=10000)\n",
        "# climate_2020 = loop_chuncks(chunks, contains_word_in_list)\n",
        "# path_pickle_2020 = '/content/drive/MyDrive/pickle_2020'\n",
        "# save_pickle(climate_2020, path_pickle_2020)"
      ],
      "execution_count": null,
      "outputs": []
    },
    {
      "cell_type": "code",
      "metadata": {
        "id": "FJfzDQtfKN5s"
      },
      "source": [
        "# load the pickles\n",
        "# the pickles need to be added to the drive\n",
        "# download here: https://drive.google.com/drive/folders/1j1Bp1niC0_cqg1kN_LbSrA2TGnq5MTgt?usp=sharing\n",
        "climate_2015 = load_pickle('/content/drive/MyDrive/pickle_2015')\n",
        "climate_2016 = load_pickle('/content/drive/MyDrive/pickle_2016')\n",
        "climate_2017 = load_pickle('/content/drive/MyDrive/pickle_2017')\n",
        "climate_2018 = load_pickle('/content/drive/MyDrive/pickle_2018')\n",
        "climate_2019 = load_pickle('/content/drive/MyDrive/pickle_2019')\n",
        "climate_2020 = load_pickle('/content/drive/MyDrive/pickle_2020')\n",
        "all_years_list = [climate_2015, climate_2016, climate_2017, climate_2018, climate_2019, climate_2020]\n",
        "all_years = [2015, 2016, 2017, 2018, 2019, 2020]\n",
        "for i in range(len(all_years)):\n",
        "  all_years_list[i]['year'] = all_years[i]"
      ],
      "execution_count": null,
      "outputs": []
    },
    {
      "cell_type": "code",
      "metadata": {
        "id": "otY1eAUqK-TJ",
        "colab": {
          "base_uri": "https://localhost:8080/",
          "height": 400
        },
        "outputId": "8a9dc79c-58c8-4ecb-c557-ab2b909f3c7a"
      },
      "source": [
        "# create one dataframe for all the years\n",
        "climate_all_years = pd.concat(all_years_list, ignore_index=True)\n",
        "print(climate_all_years.shape)\n",
        "climate_all_years.sample(3)"
      ],
      "execution_count": null,
      "outputs": [
        {
          "output_type": "stream",
          "name": "stdout",
          "text": [
            "(156691, 10)\n"
          ]
        },
        {
          "output_type": "execute_result",
          "data": {
            "text/html": [
              "<div>\n",
              "<style scoped>\n",
              "    .dataframe tbody tr th:only-of-type {\n",
              "        vertical-align: middle;\n",
              "    }\n",
              "\n",
              "    .dataframe tbody tr th {\n",
              "        vertical-align: top;\n",
              "    }\n",
              "\n",
              "    .dataframe thead th {\n",
              "        text-align: right;\n",
              "    }\n",
              "</style>\n",
              "<table border=\"1\" class=\"dataframe\">\n",
              "  <thead>\n",
              "    <tr style=\"text-align: right;\">\n",
              "      <th></th>\n",
              "      <th>quoteID</th>\n",
              "      <th>quotation</th>\n",
              "      <th>speaker</th>\n",
              "      <th>qids</th>\n",
              "      <th>date</th>\n",
              "      <th>numOccurrences</th>\n",
              "      <th>probas</th>\n",
              "      <th>urls</th>\n",
              "      <th>phase</th>\n",
              "      <th>year</th>\n",
              "    </tr>\n",
              "  </thead>\n",
              "  <tbody>\n",
              "    <tr>\n",
              "      <th>98537</th>\n",
              "      <td>2018-12-15-064143</td>\n",
              "      <td>You often see the polar bear used as the poste...</td>\n",
              "      <td>J. Nichols</td>\n",
              "      <td>[Q56740019]</td>\n",
              "      <td>2018-12-15 05:03:00</td>\n",
              "      <td>2</td>\n",
              "      <td>[[J. Nichols, 0.8234], [None, 0.1766]]</td>\n",
              "      <td>[https://www.globalresearch.ca/not-a-fish-tale...</td>\n",
              "      <td>E</td>\n",
              "      <td>2018</td>\n",
              "    </tr>\n",
              "    <tr>\n",
              "      <th>90629</th>\n",
              "      <td>2018-12-19-085544</td>\n",
              "      <td>The failure of global legislators to find solu...</td>\n",
              "      <td>None</td>\n",
              "      <td>[]</td>\n",
              "      <td>2018-12-19 15:29:17</td>\n",
              "      <td>2</td>\n",
              "      <td>[[None, 0.9449], [Donald Trump, 0.0551]]</td>\n",
              "      <td>[http://feeds.mashable.com/~r/Mashable/~3/Z4Xc...</td>\n",
              "      <td>E</td>\n",
              "      <td>2018</td>\n",
              "    </tr>\n",
              "    <tr>\n",
              "      <th>151032</th>\n",
              "      <td>2020-03-09-009666</td>\n",
              "      <td>Climate change is going to increase the uncert...</td>\n",
              "      <td>Nathan Elder</td>\n",
              "      <td>[Q10389856]</td>\n",
              "      <td>2020-03-09 12:00:23</td>\n",
              "      <td>2</td>\n",
              "      <td>[[Nathan Elder, 0.6446], [None, 0.3555]]</td>\n",
              "      <td>[http://www.canoncitydailyrecord.com/2020/03/0...</td>\n",
              "      <td>E</td>\n",
              "      <td>2020</td>\n",
              "    </tr>\n",
              "  </tbody>\n",
              "</table>\n",
              "</div>"
            ],
            "text/plain": [
              "                  quoteID  ...  year\n",
              "98537   2018-12-15-064143  ...  2018\n",
              "90629   2018-12-19-085544  ...  2018\n",
              "151032  2020-03-09-009666  ...  2020\n",
              "\n",
              "[3 rows x 10 columns]"
            ]
          },
          "metadata": {},
          "execution_count": 12
        }
      ]
    },
    {
      "cell_type": "markdown",
      "metadata": {
        "id": "A4klUAk4dQ5b"
      },
      "source": [
        "## First analyses"
      ]
    },
    {
      "cell_type": "code",
      "metadata": {
        "id": "9KypfR7bdX9_",
        "colab": {
          "base_uri": "https://localhost:8080/",
          "height": 282
        },
        "outputId": "802b0fa1-ee71-4063-da8c-6d797be7aad5"
      },
      "source": [
        "# the top speakers talking about climate change\n",
        "top_speakers = climate_all_years.groupby(by='speaker').count().sort_values(by='quotation', ascending=False).quotation.iloc[1:21]\n",
        "sns.barplot(x=top_speakers[:10].values, y=top_speakers[0:10].index)"
      ],
      "execution_count": null,
      "outputs": [
        {
          "output_type": "execute_result",
          "data": {
            "text/plain": [
              "<matplotlib.axes._subplots.AxesSubplot at 0x7f6cb61a8390>"
            ]
          },
          "metadata": {},
          "execution_count": 13
        },
        {
          "output_type": "display_data",
          "data": {
            "image/png": "[encoded data removed]",
            "text/plain": [
              "<Figure size 432x288 with 1 Axes>"
            ]
          },
          "metadata": {
            "needs_background": "light"
          }
        }
      ]
    },
    {
      "cell_type": "code",
      "metadata": {
        "id": "IdwqzawAeHgX",
        "colab": {
          "base_uri": "https://localhost:8080/",
          "height": 198
        },
        "outputId": "d1ce61de-f247-43dc-8ace-24611cbed912"
      },
      "source": [
        "# word cloud of top speakers for illustration\n",
        "wordcloud = WordCloud().fit_words(dict(top_speakers))\n",
        "plt.imshow(wordcloud, interpolation='bilinear')\n",
        "plt.axis(\"off\")\n",
        "plt.show()"
      ],
      "execution_count": null,
      "outputs": [
        {
          "output_type": "display_data",
          "data": {
            "image/png": "[encoded data removed]",
            "text/plain": [
              "<Figure size 432x288 with 1 Axes>"
            ]
          },
          "metadata": {
            "needs_background": "light"
          }
        }
      ]
    },
    {
      "cell_type": "code",
      "metadata": {
        "id": "jUbl4i4penYU",
        "colab": {
          "base_uri": "https://localhost:8080/",
          "height": 316
        },
        "outputId": "657b68ba-48b3-4cd9-e641-8a2f595a5ef7"
      },
      "source": [
        "# words being most used in these quotes about global warming\n",
        "nltk.download('stopwords')\n",
        "topic_words = collections.Counter()\n",
        "stop_words = set(stopwords.words('english'))\n",
        "for index, row in climate_all_years.iterrows():\n",
        "    for word in row.quotation.lower().replace(',', '').replace('.', '').split():\n",
        "        if word not in stop_words:\n",
        "            topic_words[word] += 1\n",
        "top_50_climate_words = topic_words.most_common()[:50]\n",
        "sns.barplot(x=[x[1] for x in top_50_climate_words][:15], y=[x[0] for x in top_50_climate_words][:15])"
      ],
      "execution_count": null,
      "outputs": [
        {
          "output_type": "stream",
          "name": "stdout",
          "text": [
            "[nltk_data] Downloading package stopwords to /root/nltk_data...\n",
            "[nltk_data]   Unzipping corpora/stopwords.zip.\n"
          ]
        },
        {
          "output_type": "execute_result",
          "data": {
            "text/plain": [
              "<matplotlib.axes._subplots.AxesSubplot at 0x7f6cb247b810>"
            ]
          },
          "metadata": {},
          "execution_count": 15
        },
        {
          "output_type": "display_data",
          "data": {
            "image/png": "[encoded data removed]",
            "text/plain": [
              "<Figure size 432x288 with 1 Axes>"
            ]
          },
          "metadata": {
            "needs_background": "light"
          }
        }
      ]
    },
    {
      "cell_type": "code",
      "metadata": {
        "id": "oh7ZQcSffS43",
        "colab": {
          "base_uri": "https://localhost:8080/",
          "height": 198
        },
        "outputId": "b2138041-5030-4b5d-aea8-7550e70a3a18"
      },
      "source": [
        "# word cloud for illustration\n",
        "wordcloud = WordCloud().fit_words(dict(top_50_climate_words))\n",
        "plt.imshow(wordcloud, interpolation='bilinear')\n",
        "plt.axis(\"off\")\n",
        "plt.show()"
      ],
      "execution_count": null,
      "outputs": [
        {
          "output_type": "display_data",
          "data": {
            "image/png": "[encoded data removed]",
            "text/plain": [
              "<Figure size 432x288 with 1 Axes>"
            ]
          },
          "metadata": {
            "needs_background": "light"
          }
        }
      ]
    },
    {
      "cell_type": "code",
      "metadata": {
        "id": "O-YLxspqgAbs",
        "colab": {
          "base_uri": "https://localhost:8080/",
          "height": 298
        },
        "outputId": "4598605d-550d-44ad-eecf-ae362b5d6efa"
      },
      "source": [
        "# number of quotations about global warming through the years\n",
        "count_years =  climate_all_years.groupby(by='year').count().quotation\n",
        "sns.barplot(x=all_years, y=count_years)\n",
        "plt.title(\"Quotations about global warming though time\")"
      ],
      "execution_count": null,
      "outputs": [
        {
          "output_type": "execute_result",
          "data": {
            "text/plain": [
              "Text(0.5, 1.0, 'Quotations about global warming though time')"
            ]
          },
          "metadata": {},
          "execution_count": 17
        },
        {
          "output_type": "display_data",
          "data": {
            "image/png": "[encoded data removed]",
            "text/plain": [
              "<Figure size 432x288 with 1 Axes>"
            ]
          },
          "metadata": {
            "needs_background": "light"
          }
        }
      ]
    },
    {
      "cell_type": "markdown",
      "metadata": {
        "id": "46z3liAwh9FX"
      },
      "source": [
        "## Tools for wikidata"
      ]
    },
    {
      "cell_type": "code",
      "metadata": {
        "id": "sBJLEhNziR4X",
        "colab": {
          "base_uri": "https://localhost:8080/",
          "height": 383
        },
        "outputId": "4b00a8fa-cfe8-4f14-be8d-6e56521ce1a6"
      },
      "source": [
        "# read the wikidata file\n",
        "path_data_wikidata = '/content/drive/MyDrive/speaker_attributes.parquet/'\n",
        "wikidata = pd.read_parquet(path_data_wikidata)\n",
        "wikidata.head(3)"
      ],
      "execution_count": null,
      "outputs": [
        {
          "output_type": "execute_result",
          "data": {
            "text/html": [
              "<div>\n",
              "<style scoped>\n",
              "    .dataframe tbody tr th:only-of-type {\n",
              "        vertical-align: middle;\n",
              "    }\n",
              "\n",
              "    .dataframe tbody tr th {\n",
              "        vertical-align: top;\n",
              "    }\n",
              "\n",
              "    .dataframe thead th {\n",
              "        text-align: right;\n",
              "    }\n",
              "</style>\n",
              "<table border=\"1\" class=\"dataframe\">\n",
              "  <thead>\n",
              "    <tr style=\"text-align: right;\">\n",
              "      <th></th>\n",
              "      <th>aliases</th>\n",
              "      <th>date_of_birth</th>\n",
              "      <th>nationality</th>\n",
              "      <th>gender</th>\n",
              "      <th>lastrevid</th>\n",
              "      <th>ethnic_group</th>\n",
              "      <th>US_congress_bio_ID</th>\n",
              "      <th>occupation</th>\n",
              "      <th>party</th>\n",
              "      <th>academic_degree</th>\n",
              "      <th>id</th>\n",
              "      <th>label</th>\n",
              "      <th>candidacy</th>\n",
              "      <th>type</th>\n",
              "      <th>religion</th>\n",
              "    </tr>\n",
              "  </thead>\n",
              "  <tbody>\n",
              "    <tr>\n",
              "      <th>0</th>\n",
              "      <td>[Washington, President Washington, G. Washingt...</td>\n",
              "      <td>[+1732-02-22T00:00:00Z]</td>\n",
              "      <td>[Q161885, Q30]</td>\n",
              "      <td>[Q6581097]</td>\n",
              "      <td>1395141751</td>\n",
              "      <td>None</td>\n",
              "      <td>W000178</td>\n",
              "      <td>[Q82955, Q189290, Q131512, Q1734662, Q294126, ...</td>\n",
              "      <td>[Q327591]</td>\n",
              "      <td>None</td>\n",
              "      <td>Q23</td>\n",
              "      <td>George Washington</td>\n",
              "      <td>[Q698073, Q697949]</td>\n",
              "      <td>item</td>\n",
              "      <td>[Q682443]</td>\n",
              "    </tr>\n",
              "    <tr>\n",
              "      <th>1</th>\n",
              "      <td>[Douglas Noel Adams, Douglas Noël Adams, Dougl...</td>\n",
              "      <td>[+1952-03-11T00:00:00Z]</td>\n",
              "      <td>[Q145]</td>\n",
              "      <td>[Q6581097]</td>\n",
              "      <td>1395737157</td>\n",
              "      <td>[Q7994501]</td>\n",
              "      <td>None</td>\n",
              "      <td>[Q214917, Q28389, Q6625963, Q4853732, Q1884422...</td>\n",
              "      <td>None</td>\n",
              "      <td>None</td>\n",
              "      <td>Q42</td>\n",
              "      <td>Douglas Adams</td>\n",
              "      <td>None</td>\n",
              "      <td>item</td>\n",
              "      <td>None</td>\n",
              "    </tr>\n",
              "    <tr>\n",
              "      <th>2</th>\n",
              "      <td>[Paul Marie Ghislain Otlet, Paul Marie Otlet]</td>\n",
              "      <td>[+1868-08-23T00:00:00Z]</td>\n",
              "      <td>[Q31]</td>\n",
              "      <td>[Q6581097]</td>\n",
              "      <td>1380367296</td>\n",
              "      <td>None</td>\n",
              "      <td>None</td>\n",
              "      <td>[Q36180, Q40348, Q182436, Q1265807, Q205375, Q...</td>\n",
              "      <td>None</td>\n",
              "      <td>None</td>\n",
              "      <td>Q1868</td>\n",
              "      <td>Paul Otlet</td>\n",
              "      <td>None</td>\n",
              "      <td>item</td>\n",
              "      <td>None</td>\n",
              "    </tr>\n",
              "  </tbody>\n",
              "</table>\n",
              "</div>"
            ],
            "text/plain": [
              "                                             aliases  ...   religion\n",
              "0  [Washington, President Washington, G. Washingt...  ...  [Q682443]\n",
              "1  [Douglas Noel Adams, Douglas Noël Adams, Dougl...  ...       None\n",
              "2      [Paul Marie Ghislain Otlet, Paul Marie Otlet]  ...       None\n",
              "\n",
              "[3 rows x 15 columns]"
            ]
          },
          "metadata": {},
          "execution_count": 18
        }
      ]
    },
    {
      "cell_type": "code",
      "metadata": {
        "id": "-UNxr_Vpig6F",
        "colab": {
          "base_uri": "https://localhost:8080/",
          "height": 35
        },
        "outputId": "eaa88a1f-0129-446c-ef8f-0a6b2c092f60"
      },
      "source": [
        "# to find the label of a QID\n",
        "# from https://stackoverflow.com/questions/40268148/how-to-get-wikidata-labels-by-id-using-sparql\n",
        "\n",
        "def find_QID_label(QID):\n",
        "  url = 'https://query.wikidata.org/sparql'\n",
        "  query = '''\n",
        "  PREFIX rdfs: <http://www.w3.org/2000/01/rdf-schema#> \n",
        "  PREFIX wd: <http://www.wikidata.org/entity/> \n",
        "  SELECT  *\n",
        "  WHERE {\n",
        "          wd:%s rdfs:label ?label .\n",
        "          FILTER (langMatches( lang(?label), \"EN\" ) )\n",
        "        } \n",
        "  LIMIT 1\n",
        "  ''' % (QID)\n",
        "  result = requests.get(url, params = {'format': 'json', 'query': query})\n",
        "  return result.json().get('results').get('bindings')[0].get('label').get('value')\n",
        "\n",
        "# example\n",
        "find_QID_label('Q161885')"
      ],
      "execution_count": null,
      "outputs": [
        {
          "output_type": "execute_result",
          "data": {
            "application/vnd.google.colaboratory.intrinsic+json": {
              "type": "string"
            },
            "text/plain": [
              "'Great Britain'"
            ]
          },
          "metadata": {},
          "execution_count": 19
        }
      ]
    },
    {
      "cell_type": "code",
      "metadata": {
        "id": "X6qhdisbizsb"
      },
      "source": [
        "# wikidata dataframe without the None name\n",
        "wikidata_clean = wikidata.dropna(axis=0, subset=['aliases'])"
      ],
      "execution_count": null,
      "outputs": []
    },
    {
      "cell_type": "code",
      "metadata": {
        "id": "P2QFMJDqjRjC",
        "colab": {
          "base_uri": "https://localhost:8080/",
          "height": 318
        },
        "outputId": "873f81a4-1394-4e44-cad9-497d3ee721ab"
      },
      "source": [
        "# to find a speaker in the wikidata df\n",
        "def find_speaker(speaker):\n",
        "  return wikidata_clean[wikidata_clean.aliases.apply(lambda x: speaker in x[0])]\n",
        "\n",
        "# example\n",
        "find_speaker('Joseph Biden')"
      ],
      "execution_count": null,
      "outputs": [
        {
          "output_type": "execute_result",
          "data": {
            "text/html": [
              "<div>\n",
              "<style scoped>\n",
              "    .dataframe tbody tr th:only-of-type {\n",
              "        vertical-align: middle;\n",
              "    }\n",
              "\n",
              "    .dataframe tbody tr th {\n",
              "        vertical-align: top;\n",
              "    }\n",
              "\n",
              "    .dataframe thead th {\n",
              "        text-align: right;\n",
              "    }\n",
              "</style>\n",
              "<table border=\"1\" class=\"dataframe\">\n",
              "  <thead>\n",
              "    <tr style=\"text-align: right;\">\n",
              "      <th></th>\n",
              "      <th>aliases</th>\n",
              "      <th>date_of_birth</th>\n",
              "      <th>nationality</th>\n",
              "      <th>gender</th>\n",
              "      <th>lastrevid</th>\n",
              "      <th>ethnic_group</th>\n",
              "      <th>US_congress_bio_ID</th>\n",
              "      <th>occupation</th>\n",
              "      <th>party</th>\n",
              "      <th>academic_degree</th>\n",
              "      <th>id</th>\n",
              "      <th>label</th>\n",
              "      <th>candidacy</th>\n",
              "      <th>type</th>\n",
              "      <th>religion</th>\n",
              "    </tr>\n",
              "  </thead>\n",
              "  <tbody>\n",
              "    <tr>\n",
              "      <th>4529264</th>\n",
              "      <td>[Joseph Biden, Joseph R. Biden, Joseph R. Bide...</td>\n",
              "      <td>[+1942-11-20T00:00:00Z]</td>\n",
              "      <td>[Q30]</td>\n",
              "      <td>[Q6581097]</td>\n",
              "      <td>1395965219</td>\n",
              "      <td>None</td>\n",
              "      <td>B000444</td>\n",
              "      <td>[Q82955, Q40348, Q1622272]</td>\n",
              "      <td>[Q29552]</td>\n",
              "      <td>[Q1540185, Q1765120]</td>\n",
              "      <td>Q6279</td>\n",
              "      <td>Joe Biden</td>\n",
              "      <td>[Q22923830, Q7891450]</td>\n",
              "      <td>item</td>\n",
              "      <td>[Q1841]</td>\n",
              "    </tr>\n",
              "    <tr>\n",
              "      <th>7147986</th>\n",
              "      <td>[Joseph Biden Sr., Joseph Robinette Biden Sr.]</td>\n",
              "      <td>[+1915-11-13T00:00:00Z]</td>\n",
              "      <td>[Q30]</td>\n",
              "      <td>[Q6581097]</td>\n",
              "      <td>1393419215</td>\n",
              "      <td>None</td>\n",
              "      <td>None</td>\n",
              "      <td>None</td>\n",
              "      <td>None</td>\n",
              "      <td>None</td>\n",
              "      <td>Q20177093</td>\n",
              "      <td>Joseph R. Biden Sr.</td>\n",
              "      <td>None</td>\n",
              "      <td>item</td>\n",
              "      <td>None</td>\n",
              "    </tr>\n",
              "  </tbody>\n",
              "</table>\n",
              "</div>"
            ],
            "text/plain": [
              "                                                   aliases  ... religion\n",
              "4529264  [Joseph Biden, Joseph R. Biden, Joseph R. Bide...  ...  [Q1841]\n",
              "7147986     [Joseph Biden Sr., Joseph Robinette Biden Sr.]  ...     None\n",
              "\n",
              "[2 rows x 15 columns]"
            ]
          },
          "metadata": {},
          "execution_count": 21
        }
      ]
    },
    {
      "cell_type": "markdown",
      "metadata": {
        "id": "hRGuEu-i69vc"
      },
      "source": [
        "## Nationalities"
      ]
    },
    {
      "cell_type": "code",
      "metadata": {
        "id": "AzN_bDYo3Fyb",
        "colab": {
          "base_uri": "https://localhost:8080/"
        },
        "outputId": "ce113483-a403-497a-e01e-4c8d4d5b04b8"
      },
      "source": [
        "#To use if we want only the first nationality of the speaker\n",
        "#Create a dataframe for the parquet information of the speakers\n",
        "df = wikidata\n",
        "\n",
        "#We will use only the 'nationality', 'id' and 'label' data from this dataframe\n",
        "df = df[['nationality', 'label', 'id']]\n",
        "\n",
        "#We are changing the 'None' value to an empty array\n",
        "empty = pd.Series([[] for _ in range(len(df.index))], index=df.index)\n",
        "df['nationality'] = df['nationality'].fillna(empty)\n",
        "\n",
        "#Here, we are extracting the first nationality of every speaker, and changing the qid country code to -999\n",
        "#for every speaker that did not have a specified nationality\n",
        "df['nationality'] = df.nationality.apply(lambda x: x[0] if len(x) > 0 else 'Q-999')\n",
        "\n",
        "df['nationality'].value_counts().head(20)"
      ],
      "execution_count": null,
      "outputs": [
        {
          "output_type": "execute_result",
          "data": {
            "text/plain": [
              "Q-999     5340129\n",
              "Q30        430536\n",
              "Q142       261891\n",
              "Q183       249957\n",
              "Q17        177541\n",
              "Q145       162521\n",
              "Q29        125935\n",
              "Q9903      125906\n",
              "Q38         95147\n",
              "Q16         81559\n",
              "Q34         78606\n",
              "Q15180      76904\n",
              "Q36         72444\n",
              "Q29999      71745\n",
              "Q155        69840\n",
              "Q8733       65530\n",
              "Q668        58211\n",
              "Q20         55953\n",
              "Q31         51919\n",
              "Q408        51617\n",
              "Name: nationality, dtype: int64"
            ]
          },
          "metadata": {},
          "execution_count": 22
        }
      ]
    },
    {
      "cell_type": "code",
      "metadata": {
        "id": "RQOvMOWNYktc",
        "colab": {
          "base_uri": "https://localhost:8080/"
        },
        "outputId": "10a2e057-36c5-4d24-f6f1-30500faa724b"
      },
      "source": [
        "# drop the rows with speaker None\n",
        "climate_all_years_clean = climate_all_years.drop(climate_all_years.index[climate_all_years['speaker'] == 'None'])\n",
        "climate_all_years_clean.shape"
      ],
      "execution_count": null,
      "outputs": [
        {
          "output_type": "execute_result",
          "data": {
            "text/plain": [
              "(108024, 10)"
            ]
          },
          "metadata": {},
          "execution_count": 23
        }
      ]
    },
    {
      "cell_type": "code",
      "metadata": {
        "id": "MOWBphcbYkqC",
        "colab": {
          "base_uri": "https://localhost:8080/",
          "height": 142
        },
        "outputId": "46f65e9c-6eda-411b-df80-53ef599bc491"
      },
      "source": [
        "# load the QID dataset\n",
        "qids = pd.read_csv('/content/drive/MyDrive/wikidata_labels_descriptions_quotebank.csv.bz2', compression='bz2', index_col='QID')\n",
        "qids.head(2)"
      ],
      "execution_count": null,
      "outputs": [
        {
          "output_type": "execute_result",
          "data": {
            "text/html": [
              "<div>\n",
              "<style scoped>\n",
              "    .dataframe tbody tr th:only-of-type {\n",
              "        vertical-align: middle;\n",
              "    }\n",
              "\n",
              "    .dataframe tbody tr th {\n",
              "        vertical-align: top;\n",
              "    }\n",
              "\n",
              "    .dataframe thead th {\n",
              "        text-align: right;\n",
              "    }\n",
              "</style>\n",
              "<table border=\"1\" class=\"dataframe\">\n",
              "  <thead>\n",
              "    <tr style=\"text-align: right;\">\n",
              "      <th></th>\n",
              "      <th>Label</th>\n",
              "      <th>Description</th>\n",
              "    </tr>\n",
              "    <tr>\n",
              "      <th>QID</th>\n",
              "      <th></th>\n",
              "      <th></th>\n",
              "    </tr>\n",
              "  </thead>\n",
              "  <tbody>\n",
              "    <tr>\n",
              "      <th>Q31</th>\n",
              "      <td>Belgium</td>\n",
              "      <td>country in western Europe</td>\n",
              "    </tr>\n",
              "    <tr>\n",
              "      <th>Q45</th>\n",
              "      <td>Portugal</td>\n",
              "      <td>country in southwestern Europe</td>\n",
              "    </tr>\n",
              "  </tbody>\n",
              "</table>\n",
              "</div>"
            ],
            "text/plain": [
              "        Label                     Description\n",
              "QID                                          \n",
              "Q31   Belgium       country in western Europe\n",
              "Q45  Portugal  country in southwestern Europe"
            ]
          },
          "metadata": {},
          "execution_count": 24
        }
      ]
    },
    {
      "cell_type": "code",
      "metadata": {
        "id": "QTgL-ghrYknT",
        "colab": {
          "base_uri": "https://localhost:8080/",
          "height": 434
        },
        "outputId": "9ff40f01-3f21-4b18-85a2-baa8ec097af8"
      },
      "source": [
        "# merge the quotes about global warming with the countries from wikidata using the qids\n",
        "climate_countries = climate_all_years_clean.explode('qids').merge(wikidata, left_on='qids', right_on='id')\n",
        "print(climate_countries.shape)\n",
        "climate_countries.head(3)"
      ],
      "execution_count": null,
      "outputs": [
        {
          "output_type": "stream",
          "name": "stdout",
          "text": [
            "(221681, 25)\n"
          ]
        },
        {
          "output_type": "execute_result",
          "data": {
            "text/html": [
              "<div>\n",
              "<style scoped>\n",
              "    .dataframe tbody tr th:only-of-type {\n",
              "        vertical-align: middle;\n",
              "    }\n",
              "\n",
              "    .dataframe tbody tr th {\n",
              "        vertical-align: top;\n",
              "    }\n",
              "\n",
              "    .dataframe thead th {\n",
              "        text-align: right;\n",
              "    }\n",
              "</style>\n",
              "<table border=\"1\" class=\"dataframe\">\n",
              "  <thead>\n",
              "    <tr style=\"text-align: right;\">\n",
              "      <th></th>\n",
              "      <th>quoteID</th>\n",
              "      <th>quotation</th>\n",
              "      <th>speaker</th>\n",
              "      <th>qids</th>\n",
              "      <th>date</th>\n",
              "      <th>numOccurrences</th>\n",
              "      <th>probas</th>\n",
              "      <th>urls</th>\n",
              "      <th>phase</th>\n",
              "      <th>year</th>\n",
              "      <th>aliases</th>\n",
              "      <th>date_of_birth</th>\n",
              "      <th>nationality</th>\n",
              "      <th>gender</th>\n",
              "      <th>lastrevid</th>\n",
              "      <th>ethnic_group</th>\n",
              "      <th>US_congress_bio_ID</th>\n",
              "      <th>occupation</th>\n",
              "      <th>party</th>\n",
              "      <th>academic_degree</th>\n",
              "      <th>id</th>\n",
              "      <th>label</th>\n",
              "      <th>candidacy</th>\n",
              "      <th>type</th>\n",
              "      <th>religion</th>\n",
              "    </tr>\n",
              "  </thead>\n",
              "  <tbody>\n",
              "    <tr>\n",
              "      <th>0</th>\n",
              "      <td>2015-09-28-067347</td>\n",
              "      <td>man-made emissions are an insignificant part o...</td>\n",
              "      <td>John Abraham</td>\n",
              "      <td>Q313025</td>\n",
              "      <td>2015-09-28 23:16:52</td>\n",
              "      <td>1</td>\n",
              "      <td>[[John Abraham, 0.6469], [None, 0.3092], [Will...</td>\n",
              "      <td>[http://www.desmogblog.com/donors-capital-fund]</td>\n",
              "      <td>E</td>\n",
              "      <td>2015</td>\n",
              "      <td>None</td>\n",
              "      <td>[+1972-12-17T00:00:00Z]</td>\n",
              "      <td>[Q668]</td>\n",
              "      <td>[Q6581097]</td>\n",
              "      <td>1354134367</td>\n",
              "      <td>None</td>\n",
              "      <td>None</td>\n",
              "      <td>[Q33999, Q4610556, Q3282637, Q10800557]</td>\n",
              "      <td>None</td>\n",
              "      <td>None</td>\n",
              "      <td>Q313025</td>\n",
              "      <td>John Abraham</td>\n",
              "      <td>None</td>\n",
              "      <td>item</td>\n",
              "      <td>[Q5043]</td>\n",
              "    </tr>\n",
              "    <tr>\n",
              "      <th>1</th>\n",
              "      <td>2015-02-26-060320</td>\n",
              "      <td>New Study Finds Fringe Global Warming Contrari...</td>\n",
              "      <td>John Abraham</td>\n",
              "      <td>Q313025</td>\n",
              "      <td>2015-02-26 17:16:07</td>\n",
              "      <td>1</td>\n",
              "      <td>[[John Abraham, 0.7708], [None, 0.2051], [Harr...</td>\n",
              "      <td>[http://www.globalresearch.ca/is-the-u-s-mains...</td>\n",
              "      <td>E</td>\n",
              "      <td>2015</td>\n",
              "      <td>None</td>\n",
              "      <td>[+1972-12-17T00:00:00Z]</td>\n",
              "      <td>[Q668]</td>\n",
              "      <td>[Q6581097]</td>\n",
              "      <td>1354134367</td>\n",
              "      <td>None</td>\n",
              "      <td>None</td>\n",
              "      <td>[Q33999, Q4610556, Q3282637, Q10800557]</td>\n",
              "      <td>None</td>\n",
              "      <td>None</td>\n",
              "      <td>Q313025</td>\n",
              "      <td>John Abraham</td>\n",
              "      <td>None</td>\n",
              "      <td>item</td>\n",
              "      <td>[Q5043]</td>\n",
              "    </tr>\n",
              "    <tr>\n",
              "      <th>2</th>\n",
              "      <td>2015-09-17-007663</td>\n",
              "      <td>Any argument that global warming stopped 18 or...</td>\n",
              "      <td>John Abraham</td>\n",
              "      <td>Q313025</td>\n",
              "      <td>2015-09-17 10:01:00</td>\n",
              "      <td>2</td>\n",
              "      <td>[[John Abraham, 0.8673], [None, 0.1292], [Lama...</td>\n",
              "      <td>[http://www.environmentalhealthnews.org/t/1883...</td>\n",
              "      <td>E</td>\n",
              "      <td>2015</td>\n",
              "      <td>None</td>\n",
              "      <td>[+1972-12-17T00:00:00Z]</td>\n",
              "      <td>[Q668]</td>\n",
              "      <td>[Q6581097]</td>\n",
              "      <td>1354134367</td>\n",
              "      <td>None</td>\n",
              "      <td>None</td>\n",
              "      <td>[Q33999, Q4610556, Q3282637, Q10800557]</td>\n",
              "      <td>None</td>\n",
              "      <td>None</td>\n",
              "      <td>Q313025</td>\n",
              "      <td>John Abraham</td>\n",
              "      <td>None</td>\n",
              "      <td>item</td>\n",
              "      <td>[Q5043]</td>\n",
              "    </tr>\n",
              "  </tbody>\n",
              "</table>\n",
              "</div>"
            ],
            "text/plain": [
              "             quoteID  ... religion\n",
              "0  2015-09-28-067347  ...  [Q5043]\n",
              "1  2015-02-26-060320  ...  [Q5043]\n",
              "2  2015-09-17-007663  ...  [Q5043]\n",
              "\n",
              "[3 rows x 25 columns]"
            ]
          },
          "metadata": {},
          "execution_count": 25
        }
      ]
    },
    {
      "cell_type": "code",
      "metadata": {
        "id": "PooqTzzuYkkw",
        "colab": {
          "base_uri": "https://localhost:8080/",
          "height": 383
        },
        "outputId": "965c7753-8ceb-444f-9470-9a51440b6704"
      },
      "source": [
        "# add the labels of the countries\n",
        "climate_countries_label = climate_countries.explode('nationality').merge(qids, left_on='nationality', right_on='QID')\n",
        "print(climate_countries_label.shape)\n",
        "climate_countries_label.drop(columns=['id', 'label', 'Description', 'aliases', 'date_of_birth', 'gender', \n",
        "                                      'lastrevid', 'ethnic_group', 'US_congress_bio_ID', 'occupation',\n",
        "                                      'party', 'academic_degree', 'candidacy', 'type', 'religion'], axis=1, inplace=True)\n",
        "climate_countries_label = climate_countries_label.rename(columns={'nationality': 'nationality_qid', \n",
        "                                                                  'Label': 'nationality_label'})\n",
        "climate_countries_label.sample(3)"
      ],
      "execution_count": null,
      "outputs": [
        {
          "output_type": "stream",
          "name": "stdout",
          "text": [
            "(178900, 27)\n"
          ]
        },
        {
          "output_type": "execute_result",
          "data": {
            "text/html": [
              "<div>\n",
              "<style scoped>\n",
              "    .dataframe tbody tr th:only-of-type {\n",
              "        vertical-align: middle;\n",
              "    }\n",
              "\n",
              "    .dataframe tbody tr th {\n",
              "        vertical-align: top;\n",
              "    }\n",
              "\n",
              "    .dataframe thead th {\n",
              "        text-align: right;\n",
              "    }\n",
              "</style>\n",
              "<table border=\"1\" class=\"dataframe\">\n",
              "  <thead>\n",
              "    <tr style=\"text-align: right;\">\n",
              "      <th></th>\n",
              "      <th>quoteID</th>\n",
              "      <th>quotation</th>\n",
              "      <th>speaker</th>\n",
              "      <th>qids</th>\n",
              "      <th>date</th>\n",
              "      <th>numOccurrences</th>\n",
              "      <th>probas</th>\n",
              "      <th>urls</th>\n",
              "      <th>phase</th>\n",
              "      <th>year</th>\n",
              "      <th>nationality_qid</th>\n",
              "      <th>nationality_label</th>\n",
              "    </tr>\n",
              "  </thead>\n",
              "  <tbody>\n",
              "    <tr>\n",
              "      <th>126738</th>\n",
              "      <td>2019-10-25-092674</td>\n",
              "      <td>They choose to put profit ahead of millions of...</td>\n",
              "      <td>Mike Smith</td>\n",
              "      <td>Q4758018</td>\n",
              "      <td>2019-10-25 06:44:37</td>\n",
              "      <td>2</td>\n",
              "      <td>[[Mike Smith, 0.7394], [None, 0.2606]]</td>\n",
              "      <td>[https://www.stuff.co.nz/national/116938671/iw...</td>\n",
              "      <td>E</td>\n",
              "      <td>2019</td>\n",
              "      <td>Q145</td>\n",
              "      <td>United Kingdom</td>\n",
              "    </tr>\n",
              "    <tr>\n",
              "      <th>53923</th>\n",
              "      <td>2016-09-26-054949</td>\n",
              "      <td>is in the midst of experiencing climate change...</td>\n",
              "      <td>Efren Carrillo</td>\n",
              "      <td>Q16202115</td>\n",
              "      <td>2016-09-26 19:56:45</td>\n",
              "      <td>1</td>\n",
              "      <td>[[Efren Carrillo, 0.8965], [None, 0.1035]]</td>\n",
              "      <td>[https://nextcity.org/daily/entry/white-house-...</td>\n",
              "      <td>E</td>\n",
              "      <td>2016</td>\n",
              "      <td>Q30</td>\n",
              "      <td>United States of America</td>\n",
              "    </tr>\n",
              "    <tr>\n",
              "      <th>72715</th>\n",
              "      <td>2019-09-15-054716</td>\n",
              "      <td>We took major steps to lower property taxes, b...</td>\n",
              "      <td>Sara Gideon</td>\n",
              "      <td>Q18686341</td>\n",
              "      <td>2019-09-15 08:00:26</td>\n",
              "      <td>2</td>\n",
              "      <td>[[Sara Gideon, 0.8891], [None, 0.1109]]</td>\n",
              "      <td>[https://www.centralmaine.com/2019/09/15/hundr...</td>\n",
              "      <td>E</td>\n",
              "      <td>2019</td>\n",
              "      <td>Q30</td>\n",
              "      <td>United States of America</td>\n",
              "    </tr>\n",
              "  </tbody>\n",
              "</table>\n",
              "</div>"
            ],
            "text/plain": [
              "                  quoteID  ...         nationality_label\n",
              "126738  2019-10-25-092674  ...            United Kingdom\n",
              "53923   2016-09-26-054949  ...  United States of America\n",
              "72715   2019-09-15-054716  ...  United States of America\n",
              "\n",
              "[3 rows x 12 columns]"
            ]
          },
          "metadata": {},
          "execution_count": 26
        }
      ]
    },
    {
      "cell_type": "code",
      "metadata": {
        "id": "hd8j9zyLYkiC",
        "colab": {
          "base_uri": "https://localhost:8080/",
          "height": 282
        },
        "outputId": "9ab599b6-e3dd-446a-a4e3-e2213b943470"
      },
      "source": [
        "# number of quotes by countries\n",
        "countries = climate_countries_label.groupby(by='nationality_label').count().sort_values(by='quotation', ascending=False).quotation\n",
        "sns.barplot(x=countries[:10].values, y=countries[:10].index)"
      ],
      "execution_count": null,
      "outputs": [
        {
          "output_type": "execute_result",
          "data": {
            "text/plain": [
              "<matplotlib.axes._subplots.AxesSubplot at 0x7f6cb2374950>"
            ]
          },
          "metadata": {},
          "execution_count": 27
        },
        {
          "output_type": "display_data",
          "data": {
            "image/png": "[encoded data removed]",
            "text/plain": [
              "<Figure size 432x288 with 1 Axes>"
            ]
          },
          "metadata": {
            "needs_background": "light"
          }
        }
      ]
    },
    {
      "cell_type": "code",
      "metadata": {
        "id": "mJdQ2Wb6Ykey"
      },
      "source": [
        "pip install pycountry"
      ],
      "execution_count": null,
      "outputs": []
    },
    {
      "cell_type": "code",
      "metadata": {
        "id": "4BkUi13OYkbk"
      },
      "source": [
        "pip install geopandas"
      ],
      "execution_count": null,
      "outputs": []
    },
    {
      "cell_type": "code",
      "metadata": {
        "id": "B2AG2WXgYuYr"
      },
      "source": [
        "pip install mapclassify"
      ],
      "execution_count": null,
      "outputs": []
    },
    {
      "cell_type": "code",
      "metadata": {
        "id": "B3jGvKrMYuVl"
      },
      "source": [
        "import pycountry \n",
        "import geopandas"
      ],
      "execution_count": null,
      "outputs": []
    },
    {
      "cell_type": "code",
      "metadata": {
        "id": "KUkRqJKKYuSp"
      },
      "source": [
        "# generate country code  based on country name \n",
        "# from https://melaniesoek0120.medium.com/data-visualization-how-to-plot-a-map-with-geopandas-in-python-73b10dcd4b4b\n",
        "def alpha3code(column):\n",
        "    CODE=[]\n",
        "    for country in column:\n",
        "        try:\n",
        "            code=pycountry.countries.get(name=country).alpha_3\n",
        "            CODE.append(code)\n",
        "        except:\n",
        "            CODE.append('None')\n",
        "    return CODE"
      ],
      "execution_count": null,
      "outputs": []
    },
    {
      "cell_type": "code",
      "metadata": {
        "id": "tdrAcsT_YuP8",
        "colab": {
          "base_uri": "https://localhost:8080/",
          "height": 142
        },
        "outputId": "12afd2b2-3941-4dad-d3e8-7bea30b2aacc"
      },
      "source": [
        "# add to the country dataframe all the infos about the countries for the world map\n",
        "countries_df = pd.DataFrame(countries)\n",
        "countries_df.reset_index(inplace=True)\n",
        "countries_df.replace('United States of America', 'United States', inplace=True)\n",
        "countries_df['CODE'] = alpha3code(countries_df.nationality_label)\n",
        "countries_df = countries_df.drop(countries_df.index[countries_df['CODE'] == 'None'])\n",
        "world = geopandas.read_file(geopandas.datasets.get_path('naturalearth_lowres'))\n",
        "world.columns = ['pop_est', 'continent', 'name', 'CODE', 'gdp_md_est', 'geometry']\n",
        "countries_geo = pd.merge(world, countries_df,on='CODE')\n",
        "countries_geo.sample(3)"
      ],
      "execution_count": null,
      "outputs": [
        {
          "output_type": "execute_result",
          "data": {
            "text/html": [
              "<div>\n",
              "<style scoped>\n",
              "    .dataframe tbody tr th:only-of-type {\n",
              "        vertical-align: middle;\n",
              "    }\n",
              "\n",
              "    .dataframe tbody tr th {\n",
              "        vertical-align: top;\n",
              "    }\n",
              "\n",
              "    .dataframe thead th {\n",
              "        text-align: right;\n",
              "    }\n",
              "</style>\n",
              "<table border=\"1\" class=\"dataframe\">\n",
              "  <thead>\n",
              "    <tr style=\"text-align: right;\">\n",
              "      <th></th>\n",
              "      <th>pop_est</th>\n",
              "      <th>continent</th>\n",
              "      <th>name</th>\n",
              "      <th>CODE</th>\n",
              "      <th>gdp_md_est</th>\n",
              "      <th>geometry</th>\n",
              "      <th>nationality_label</th>\n",
              "      <th>quotation</th>\n",
              "    </tr>\n",
              "  </thead>\n",
              "  <tbody>\n",
              "    <tr>\n",
              "      <th>100</th>\n",
              "      <td>5011102</td>\n",
              "      <td>Europe</td>\n",
              "      <td>Ireland</td>\n",
              "      <td>IRL</td>\n",
              "      <td>322000.0</td>\n",
              "      <td>POLYGON ((-6.19788 53.86757, -6.03299 53.15316...</td>\n",
              "      <td>Ireland</td>\n",
              "      <td>3343</td>\n",
              "    </tr>\n",
              "    <tr>\n",
              "      <th>58</th>\n",
              "      <td>40969443</td>\n",
              "      <td>Africa</td>\n",
              "      <td>Algeria</td>\n",
              "      <td>DZA</td>\n",
              "      <td>609400.0</td>\n",
              "      <td>POLYGON ((-8.68440 27.39574, -8.66512 27.58948...</td>\n",
              "      <td>Algeria</td>\n",
              "      <td>16</td>\n",
              "    </tr>\n",
              "    <tr>\n",
              "      <th>106</th>\n",
              "      <td>62137802</td>\n",
              "      <td>Europe</td>\n",
              "      <td>Italy</td>\n",
              "      <td>ITA</td>\n",
              "      <td>2221000.0</td>\n",
              "      <td>MULTIPOLYGON (((10.44270 46.89355, 11.04856 46...</td>\n",
              "      <td>Italy</td>\n",
              "      <td>589</td>\n",
              "    </tr>\n",
              "  </tbody>\n",
              "</table>\n",
              "</div>"
            ],
            "text/plain": [
              "      pop_est continent  ... nationality_label quotation\n",
              "100   5011102    Europe  ...           Ireland      3343\n",
              "58   40969443    Africa  ...           Algeria        16\n",
              "106  62137802    Europe  ...             Italy       589\n",
              "\n",
              "[3 rows x 8 columns]"
            ]
          },
          "metadata": {},
          "execution_count": 33
        }
      ]
    },
    {
      "cell_type": "code",
      "metadata": {
        "id": "sGNYhf0NYuNG",
        "colab": {
          "base_uri": "https://localhost:8080/",
          "height": 383
        },
        "outputId": "2cb92cd2-ef2b-4ad5-8fa4-4cf21012a13f"
      },
      "source": [
        "# plot the number of quotations on the world map\n",
        "countries_geo.plot(column='quotation', scheme=\"quantiles\", figsize=(15, 20), legend=True, cmap='coolwarm')\n",
        "plt.title('Number of quotations about climate change',fontsize=15)\n",
        "plt.axis(\"off\")\n",
        "plt.show()"
      ],
      "execution_count": null,
      "outputs": [
        {
          "output_type": "display_data",
          "data": {
            "image/png": "[encoded data removed]",
            "text/plain": [
              "<Figure size 1080x1440 with 1 Axes>"
            ]
          },
          "metadata": {
            "needs_background": "light"
          }
        }
      ]
    },
    {
      "cell_type": "markdown",
      "metadata": {
        "id": "XAW0G6k_sq_J"
      },
      "source": [
        "## Data about climate change from wordbank\n",
        "\n",
        "https://data.worldbank.org/topic/19"
      ]
    },
    {
      "cell_type": "code",
      "metadata": {
        "colab": {
          "base_uri": "https://localhost:8080/",
          "height": 210
        },
        "id": "QLEF0otSs7xU",
        "outputId": "2cf6cc8c-faa1-45af-fcae-c2a0936d7aeb"
      },
      "source": [
        "# for later use ?\n",
        "path_data_wordbank1 = '/content/drive/MyDrive/worlddatabank/Metadata_Country_API_19_DS2_en_csv_v2_3159902.csv'\n",
        "wordbank_meta_Country = pd.read_csv(path_data_wordbank1)\n",
        "wordbank_meta_Country.head(3)\n",
        "\n",
        "path_data_wordbank2 = '/content/drive/MyDrive/worlddatabank/Metadata_Indicator_API_19_DS2_en_csv_v2_3159902.csv'\n",
        "wordbank_meta_Indicator = pd.read_csv(path_data_wordbank2)\n",
        "wordbank_meta_Indicator.head(3)\n"
      ],
      "execution_count": null,
      "outputs": [
        {
          "output_type": "execute_result",
          "data": {
            "text/html": [
              "<div>\n",
              "<style scoped>\n",
              "    .dataframe tbody tr th:only-of-type {\n",
              "        vertical-align: middle;\n",
              "    }\n",
              "\n",
              "    .dataframe tbody tr th {\n",
              "        vertical-align: top;\n",
              "    }\n",
              "\n",
              "    .dataframe thead th {\n",
              "        text-align: right;\n",
              "    }\n",
              "</style>\n",
              "<table border=\"1\" class=\"dataframe\">\n",
              "  <thead>\n",
              "    <tr style=\"text-align: right;\">\n",
              "      <th></th>\n",
              "      <th>INDICATOR_CODE</th>\n",
              "      <th>INDICATOR_NAME</th>\n",
              "      <th>SOURCE_NOTE</th>\n",
              "      <th>SOURCE_ORGANIZATION</th>\n",
              "      <th>Unnamed: 4</th>\n",
              "    </tr>\n",
              "  </thead>\n",
              "  <tbody>\n",
              "    <tr>\n",
              "      <th>0</th>\n",
              "      <td>SP.URB.TOTL.IN.ZS</td>\n",
              "      <td>Urban population (% of total population)</td>\n",
              "      <td>Urban population refers to people living in ur...</td>\n",
              "      <td>United Nations Population Division. World Urba...</td>\n",
              "      <td>NaN</td>\n",
              "    </tr>\n",
              "    <tr>\n",
              "      <th>1</th>\n",
              "      <td>SP.URB.TOTL</td>\n",
              "      <td>Urban population</td>\n",
              "      <td>Urban population refers to people living in ur...</td>\n",
              "      <td>World Bank staff estimates based on the United...</td>\n",
              "      <td>NaN</td>\n",
              "    </tr>\n",
              "    <tr>\n",
              "      <th>2</th>\n",
              "      <td>SP.URB.GROW</td>\n",
              "      <td>Urban population growth (annual %)</td>\n",
              "      <td>Urban population refers to people living in ur...</td>\n",
              "      <td>World Bank staff estimates based on the United...</td>\n",
              "      <td>NaN</td>\n",
              "    </tr>\n",
              "  </tbody>\n",
              "</table>\n",
              "</div>"
            ],
            "text/plain": [
              "      INDICATOR_CODE  ... Unnamed: 4\n",
              "0  SP.URB.TOTL.IN.ZS  ...        NaN\n",
              "1        SP.URB.TOTL  ...        NaN\n",
              "2        SP.URB.GROW  ...        NaN\n",
              "\n",
              "[3 rows x 5 columns]"
            ]
          },
          "metadata": {},
          "execution_count": 35
        }
      ]
    },
    {
      "cell_type": "markdown",
      "metadata": {
        "id": "frVc5to8Y2FQ"
      },
      "source": [
        "## Political parties"
      ]
    },
    {
      "cell_type": "code",
      "metadata": {
        "id": "ocpgBKYqY5yb",
        "colab": {
          "base_uri": "https://localhost:8080/",
          "height": 434
        },
        "outputId": "40737e4f-a987-4e92-b431-644749e621d4"
      },
      "source": [
        "# merge the quotes about global warming with the wikidata using the qids\n",
        "climate_wikidata = climate_all_years_clean.explode('qids').merge(wikidata, left_on='qids', right_on='id')\n",
        "climate_wikidata.drop(columns=['id', 'label'], axis=1, inplace=True)\n",
        "print(climate_wikidata.shape)\n",
        "climate_wikidata.head(3)"
      ],
      "execution_count": null,
      "outputs": [
        {
          "output_type": "stream",
          "name": "stdout",
          "text": [
            "(221681, 23)\n"
          ]
        },
        {
          "output_type": "execute_result",
          "data": {
            "text/html": [
              "<div>\n",
              "<style scoped>\n",
              "    .dataframe tbody tr th:only-of-type {\n",
              "        vertical-align: middle;\n",
              "    }\n",
              "\n",
              "    .dataframe tbody tr th {\n",
              "        vertical-align: top;\n",
              "    }\n",
              "\n",
              "    .dataframe thead th {\n",
              "        text-align: right;\n",
              "    }\n",
              "</style>\n",
              "<table border=\"1\" class=\"dataframe\">\n",
              "  <thead>\n",
              "    <tr style=\"text-align: right;\">\n",
              "      <th></th>\n",
              "      <th>quoteID</th>\n",
              "      <th>quotation</th>\n",
              "      <th>speaker</th>\n",
              "      <th>qids</th>\n",
              "      <th>date</th>\n",
              "      <th>numOccurrences</th>\n",
              "      <th>probas</th>\n",
              "      <th>urls</th>\n",
              "      <th>phase</th>\n",
              "      <th>year</th>\n",
              "      <th>aliases</th>\n",
              "      <th>date_of_birth</th>\n",
              "      <th>nationality</th>\n",
              "      <th>gender</th>\n",
              "      <th>lastrevid</th>\n",
              "      <th>ethnic_group</th>\n",
              "      <th>US_congress_bio_ID</th>\n",
              "      <th>occupation</th>\n",
              "      <th>party</th>\n",
              "      <th>academic_degree</th>\n",
              "      <th>candidacy</th>\n",
              "      <th>type</th>\n",
              "      <th>religion</th>\n",
              "    </tr>\n",
              "  </thead>\n",
              "  <tbody>\n",
              "    <tr>\n",
              "      <th>0</th>\n",
              "      <td>2015-09-28-067347</td>\n",
              "      <td>man-made emissions are an insignificant part o...</td>\n",
              "      <td>John Abraham</td>\n",
              "      <td>Q313025</td>\n",
              "      <td>2015-09-28 23:16:52</td>\n",
              "      <td>1</td>\n",
              "      <td>[[John Abraham, 0.6469], [None, 0.3092], [Will...</td>\n",
              "      <td>[http://www.desmogblog.com/donors-capital-fund]</td>\n",
              "      <td>E</td>\n",
              "      <td>2015</td>\n",
              "      <td>None</td>\n",
              "      <td>[+1972-12-17T00:00:00Z]</td>\n",
              "      <td>[Q668]</td>\n",
              "      <td>[Q6581097]</td>\n",
              "      <td>1354134367</td>\n",
              "      <td>None</td>\n",
              "      <td>None</td>\n",
              "      <td>[Q33999, Q4610556, Q3282637, Q10800557]</td>\n",
              "      <td>None</td>\n",
              "      <td>None</td>\n",
              "      <td>None</td>\n",
              "      <td>item</td>\n",
              "      <td>[Q5043]</td>\n",
              "    </tr>\n",
              "    <tr>\n",
              "      <th>1</th>\n",
              "      <td>2015-02-26-060320</td>\n",
              "      <td>New Study Finds Fringe Global Warming Contrari...</td>\n",
              "      <td>John Abraham</td>\n",
              "      <td>Q313025</td>\n",
              "      <td>2015-02-26 17:16:07</td>\n",
              "      <td>1</td>\n",
              "      <td>[[John Abraham, 0.7708], [None, 0.2051], [Harr...</td>\n",
              "      <td>[http://www.globalresearch.ca/is-the-u-s-mains...</td>\n",
              "      <td>E</td>\n",
              "      <td>2015</td>\n",
              "      <td>None</td>\n",
              "      <td>[+1972-12-17T00:00:00Z]</td>\n",
              "      <td>[Q668]</td>\n",
              "      <td>[Q6581097]</td>\n",
              "      <td>1354134367</td>\n",
              "      <td>None</td>\n",
              "      <td>None</td>\n",
              "      <td>[Q33999, Q4610556, Q3282637, Q10800557]</td>\n",
              "      <td>None</td>\n",
              "      <td>None</td>\n",
              "      <td>None</td>\n",
              "      <td>item</td>\n",
              "      <td>[Q5043]</td>\n",
              "    </tr>\n",
              "    <tr>\n",
              "      <th>2</th>\n",
              "      <td>2015-09-17-007663</td>\n",
              "      <td>Any argument that global warming stopped 18 or...</td>\n",
              "      <td>John Abraham</td>\n",
              "      <td>Q313025</td>\n",
              "      <td>2015-09-17 10:01:00</td>\n",
              "      <td>2</td>\n",
              "      <td>[[John Abraham, 0.8673], [None, 0.1292], [Lama...</td>\n",
              "      <td>[http://www.environmentalhealthnews.org/t/1883...</td>\n",
              "      <td>E</td>\n",
              "      <td>2015</td>\n",
              "      <td>None</td>\n",
              "      <td>[+1972-12-17T00:00:00Z]</td>\n",
              "      <td>[Q668]</td>\n",
              "      <td>[Q6581097]</td>\n",
              "      <td>1354134367</td>\n",
              "      <td>None</td>\n",
              "      <td>None</td>\n",
              "      <td>[Q33999, Q4610556, Q3282637, Q10800557]</td>\n",
              "      <td>None</td>\n",
              "      <td>None</td>\n",
              "      <td>None</td>\n",
              "      <td>item</td>\n",
              "      <td>[Q5043]</td>\n",
              "    </tr>\n",
              "  </tbody>\n",
              "</table>\n",
              "</div>"
            ],
            "text/plain": [
              "             quoteID  ... religion\n",
              "0  2015-09-28-067347  ...  [Q5043]\n",
              "1  2015-02-26-060320  ...  [Q5043]\n",
              "2  2015-09-17-007663  ...  [Q5043]\n",
              "\n",
              "[3 rows x 23 columns]"
            ]
          },
          "metadata": {},
          "execution_count": 36
        }
      ]
    },
    {
      "cell_type": "code",
      "metadata": {
        "id": "i1Y804lmY70L"
      },
      "source": [
        "# add the labels of the parties\n",
        "climate_wikidata_label = climate_wikidata.explode('party').merge(qids, left_on='party', right_on='QID')\n",
        "climate_wikidata_label.drop(columns=['Description'], axis=1, inplace=True)\n",
        "climate_wikidata_label.rename(columns={'Label': 'party_label'}, inplace=True)"
      ],
      "execution_count": null,
      "outputs": []
    },
    {
      "cell_type": "code",
      "metadata": {
        "id": "F4mrpWJcY7xc",
        "colab": {
          "base_uri": "https://localhost:8080/",
          "height": 383
        },
        "outputId": "b0e0d07e-34b8-4e12-8e59-88ceb40a3f1a"
      },
      "source": [
        "# add the labels of all the countries\n",
        "climate_wikidata_label = climate_wikidata_label.explode('nationality').merge(qids, left_on='nationality', right_on='QID')\n",
        "climate_wikidata_label.drop(columns=['Description'], axis=1, inplace=True)\n",
        "climate_wikidata_label.rename(columns={'Label': 'nationality_label'}, inplace=True)\n",
        "climate_wikidata_label.sample(3)"
      ],
      "execution_count": null,
      "outputs": [
        {
          "output_type": "execute_result",
          "data": {
            "text/html": [
              "<div>\n",
              "<style scoped>\n",
              "    .dataframe tbody tr th:only-of-type {\n",
              "        vertical-align: middle;\n",
              "    }\n",
              "\n",
              "    .dataframe tbody tr th {\n",
              "        vertical-align: top;\n",
              "    }\n",
              "\n",
              "    .dataframe thead th {\n",
              "        text-align: right;\n",
              "    }\n",
              "</style>\n",
              "<table border=\"1\" class=\"dataframe\">\n",
              "  <thead>\n",
              "    <tr style=\"text-align: right;\">\n",
              "      <th></th>\n",
              "      <th>quoteID</th>\n",
              "      <th>quotation</th>\n",
              "      <th>speaker</th>\n",
              "      <th>qids</th>\n",
              "      <th>date</th>\n",
              "      <th>numOccurrences</th>\n",
              "      <th>probas</th>\n",
              "      <th>urls</th>\n",
              "      <th>phase</th>\n",
              "      <th>year</th>\n",
              "      <th>aliases</th>\n",
              "      <th>date_of_birth</th>\n",
              "      <th>nationality</th>\n",
              "      <th>gender</th>\n",
              "      <th>lastrevid</th>\n",
              "      <th>ethnic_group</th>\n",
              "      <th>US_congress_bio_ID</th>\n",
              "      <th>occupation</th>\n",
              "      <th>party</th>\n",
              "      <th>academic_degree</th>\n",
              "      <th>candidacy</th>\n",
              "      <th>type</th>\n",
              "      <th>religion</th>\n",
              "      <th>party_label</th>\n",
              "      <th>nationality_label</th>\n",
              "    </tr>\n",
              "  </thead>\n",
              "  <tbody>\n",
              "    <tr>\n",
              "      <th>19786</th>\n",
              "      <td>2019-12-02-009588</td>\n",
              "      <td>bold and collaborative action to combat climat...</td>\n",
              "      <td>Tim Walz</td>\n",
              "      <td>Q2434360</td>\n",
              "      <td>2019-12-02 00:00:00</td>\n",
              "      <td>1</td>\n",
              "      <td>[[Tim Walz, 0.8039], [None, 0.1961]]</td>\n",
              "      <td>[http://kstp.com/politics/governor-tim-walz-cr...</td>\n",
              "      <td>E</td>\n",
              "      <td>2019</td>\n",
              "      <td>[Timothy James Walz, Timothy Walz]</td>\n",
              "      <td>[+1964-04-06T00:00:00Z]</td>\n",
              "      <td>Q30</td>\n",
              "      <td>[Q6581097]</td>\n",
              "      <td>1393071237</td>\n",
              "      <td>None</td>\n",
              "      <td>W000799</td>\n",
              "      <td>[Q82955, Q47064, Q974144, Q42331263]</td>\n",
              "      <td>Q29552</td>\n",
              "      <td>None</td>\n",
              "      <td>None</td>\n",
              "      <td>item</td>\n",
              "      <td>[Q75809]</td>\n",
              "      <td>Democratic Party</td>\n",
              "      <td>United States of America</td>\n",
              "    </tr>\n",
              "    <tr>\n",
              "      <th>49376</th>\n",
              "      <td>2017-08-17-013633</td>\n",
              "      <td>Because of climate change, water scarcity, we ...</td>\n",
              "      <td>Patricia de Lille</td>\n",
              "      <td>Q445654</td>\n",
              "      <td>2017-08-17 18:28:08</td>\n",
              "      <td>1</td>\n",
              "      <td>[[Patricia de Lille, 0.5176], [None, 0.4824]]</td>\n",
              "      <td>[http://www.news24.com/SouthAfrica/News/cape-t...</td>\n",
              "      <td>E</td>\n",
              "      <td>2017</td>\n",
              "      <td>None</td>\n",
              "      <td>[+1951-02-17T00:00:00Z]</td>\n",
              "      <td>Q258</td>\n",
              "      <td>[Q6581072]</td>\n",
              "      <td>1367841709</td>\n",
              "      <td>None</td>\n",
              "      <td>None</td>\n",
              "      <td>[Q82955]</td>\n",
              "      <td>Q256561</td>\n",
              "      <td>None</td>\n",
              "      <td>None</td>\n",
              "      <td>item</td>\n",
              "      <td>None</td>\n",
              "      <td>Independent Democrats</td>\n",
              "      <td>South Africa</td>\n",
              "    </tr>\n",
              "    <tr>\n",
              "      <th>70473</th>\n",
              "      <td>2019-10-22-109475</td>\n",
              "      <td>We must not take our eyes off the long-term, e...</td>\n",
              "      <td>Masagos Zulkifli</td>\n",
              "      <td>Q17722375</td>\n",
              "      <td>2019-10-22 07:41:44</td>\n",
              "      <td>1</td>\n",
              "      <td>[[Masagos Zulkifli, 0.9258], [None, 0.0742]]</td>\n",
              "      <td>[https://www.freemalaysiatoday.com/category/bu...</td>\n",
              "      <td>E</td>\n",
              "      <td>2019</td>\n",
              "      <td>None</td>\n",
              "      <td>[+1963-04-16T00:00:00Z]</td>\n",
              "      <td>Q334</td>\n",
              "      <td>[Q6581097]</td>\n",
              "      <td>1318531155</td>\n",
              "      <td>None</td>\n",
              "      <td>None</td>\n",
              "      <td>[Q82955]</td>\n",
              "      <td>Q371395</td>\n",
              "      <td>None</td>\n",
              "      <td>None</td>\n",
              "      <td>item</td>\n",
              "      <td>[Q432]</td>\n",
              "      <td>People's Action Party</td>\n",
              "      <td>Singapore</td>\n",
              "    </tr>\n",
              "  </tbody>\n",
              "</table>\n",
              "</div>"
            ],
            "text/plain": [
              "                 quoteID  ...         nationality_label\n",
              "19786  2019-12-02-009588  ...  United States of America\n",
              "49376  2017-08-17-013633  ...              South Africa\n",
              "70473  2019-10-22-109475  ...                 Singapore\n",
              "\n",
              "[3 rows x 25 columns]"
            ]
          },
          "metadata": {},
          "execution_count": 38
        }
      ]
    },
    {
      "cell_type": "code",
      "metadata": {
        "id": "asBoldkWY7ue",
        "colab": {
          "base_uri": "https://localhost:8080/",
          "height": 282
        },
        "outputId": "68542510-c0be-4fb7-b597-85469b541db4"
      },
      "source": [
        "# number of quotes by parties in the world\n",
        "parties = climate_wikidata_label.groupby(by='party_label').count().sort_values(by='quotation', ascending=False).quotation\n",
        "sns.barplot(x=parties[:10].values, y=parties[:10].index)"
      ],
      "execution_count": null,
      "outputs": [
        {
          "output_type": "execute_result",
          "data": {
            "text/plain": [
              "<matplotlib.axes._subplots.AxesSubplot at 0x7f6aa36dc3d0>"
            ]
          },
          "metadata": {},
          "execution_count": 39
        },
        {
          "output_type": "display_data",
          "data": {
            "image/png": "[encoded data removed]",
            "text/plain": [
              "<Figure size 432x288 with 1 Axes>"
            ]
          },
          "metadata": {
            "needs_background": "light"
          }
        }
      ]
    },
    {
      "cell_type": "code",
      "metadata": {
        "id": "k_ADWWHqY7rs"
      },
      "source": [
        "# number of quotes by countries and parties in the world\n",
        "parties_countries = climate_wikidata_label.groupby(by=['nationality_label', 'party_label']).count().sort_values(by='quotation', ascending=False).quotation\n",
        "parties_countries_df = pd.DataFrame(parties_countries)\n",
        "parties_countries_df.reset_index(inplace=True)\n",
        "parties_countries_df = pd.DataFrame(parties_countries)\n",
        "parties_countries_df.reset_index(inplace=True)"
      ],
      "execution_count": null,
      "outputs": []
    },
    {
      "cell_type": "code",
      "metadata": {
        "id": "TqjYly0yY7o1",
        "colab": {
          "base_uri": "https://localhost:8080/",
          "height": 296
        },
        "outputId": "aa30c2e0-5015-4af9-fbe3-320c251f0c03"
      },
      "source": [
        "# parties for the USA\n",
        "US_data = parties_countries_df[parties_countries_df.nationality_label == 'United States of America']\n",
        "sns.barplot(data=US_data[:3], x='quotation', y='party_label')"
      ],
      "execution_count": null,
      "outputs": [
        {
          "output_type": "execute_result",
          "data": {
            "text/plain": [
              "<matplotlib.axes._subplots.AxesSubplot at 0x7f6aa367dfd0>"
            ]
          },
          "metadata": {},
          "execution_count": 41
        },
        {
          "output_type": "display_data",
          "data": {
            "image/png": "[encoded data removed]",
            "text/plain": [
              "<Figure size 432x288 with 1 Axes>"
            ]
          },
          "metadata": {
            "needs_background": "light"
          }
        }
      ]
    },
    {
      "cell_type": "code",
      "metadata": {
        "id": "4y5tb6CkZA16",
        "colab": {
          "base_uri": "https://localhost:8080/",
          "height": 296
        },
        "outputId": "abb74fc2-f4c3-4c8b-c6e4-54872a785f4a"
      },
      "source": [
        "# parties for the UK\n",
        "UK_data = parties_countries_df[parties_countries_df.nationality_label == 'United Kingdom']\n",
        "sns.barplot(data=UK_data[:3], x='quotation', y='party_label')"
      ],
      "execution_count": null,
      "outputs": [
        {
          "output_type": "execute_result",
          "data": {
            "text/plain": [
              "<matplotlib.axes._subplots.AxesSubplot at 0x7f6aa35d8dd0>"
            ]
          },
          "metadata": {},
          "execution_count": 42
        },
        {
          "output_type": "display_data",
          "data": {
            "image/png": "[encoded data removed]",
            "text/plain": [
              "<Figure size 432x288 with 1 Axes>"
            ]
          },
          "metadata": {
            "needs_background": "light"
          }
        }
      ]
    },
    {
      "cell_type": "code",
      "metadata": {
        "id": "l6TBr7RIZAyK",
        "colab": {
          "base_uri": "https://localhost:8080/",
          "height": 296
        },
        "outputId": "a5c2f27f-4e18-461a-eb1b-ee4daa7cd1a4"
      },
      "source": [
        "# parties for Canada\n",
        "canada_data = parties_countries_df[parties_countries_df.nationality_label == 'Canada']\n",
        "sns.barplot(data=canada_data[:3], x='quotation', y='party_label')"
      ],
      "execution_count": null,
      "outputs": [
        {
          "output_type": "execute_result",
          "data": {
            "text/plain": [
              "<matplotlib.axes._subplots.AxesSubplot at 0x7f6aa355ac90>"
            ]
          },
          "metadata": {},
          "execution_count": 43
        },
        {
          "output_type": "display_data",
          "data": {
            "image/png": "[encoded data removed]",
            "text/plain": [
              "<Figure size 432x288 with 1 Axes>"
            ]
          },
          "metadata": {
            "needs_background": "light"
          }
        }
      ]
    },
    {
      "cell_type": "markdown",
      "metadata": {
        "id": "8qm_ThfjPKcS"
      },
      "source": [
        "## Age categories"
      ]
    },
    {
      "cell_type": "code",
      "metadata": {
        "id": "nRDgNzsZPL6k"
      },
      "source": [
        "# to find the age category\n",
        "def age_category(age):\n",
        "  if age < 17:\n",
        "    return '0-16'\n",
        "  elif age < 31:\n",
        "    return '17-30'\n",
        "  elif age < 46:\n",
        "    return '31-45'\n",
        "  elif age < 66:\n",
        "    return '46-65'\n",
        "  else:\n",
        "    return '66+'"
      ],
      "execution_count": null,
      "outputs": []
    },
    {
      "cell_type": "code",
      "metadata": {
        "colab": {
          "base_uri": "https://localhost:8080/",
          "height": 417
        },
        "id": "huDEzgLNPOpB",
        "outputId": "f134dc48-4ffc-41e0-c646-05f915c750cd"
      },
      "source": [
        "# create birth_year, age and age_category columns\n",
        "climate_wikidata_ages = climate_wikidata_label.dropna(axis=0, subset=['date_of_birth'])\n",
        "climate_wikidata_ages['birth_year'] = climate_wikidata_ages.date_of_birth.apply(lambda x: int(x[0][1:5]))\n",
        "climate_wikidata_ages['age'] = climate_wikidata_ages['year'] - climate_wikidata_ages['birth_year']\n",
        "climate_wikidata_ages['age_category'] = climate_wikidata_ages['age'].apply(age_category)\n",
        "climate_wikidata_ages.sample(3)"
      ],
      "execution_count": null,
      "outputs": [
        {
          "output_type": "execute_result",
          "data": {
            "text/html": [
              "<div>\n",
              "<style scoped>\n",
              "    .dataframe tbody tr th:only-of-type {\n",
              "        vertical-align: middle;\n",
              "    }\n",
              "\n",
              "    .dataframe tbody tr th {\n",
              "        vertical-align: top;\n",
              "    }\n",
              "\n",
              "    .dataframe thead th {\n",
              "        text-align: right;\n",
              "    }\n",
              "</style>\n",
              "<table border=\"1\" class=\"dataframe\">\n",
              "  <thead>\n",
              "    <tr style=\"text-align: right;\">\n",
              "      <th></th>\n",
              "      <th>quoteID</th>\n",
              "      <th>quotation</th>\n",
              "      <th>speaker</th>\n",
              "      <th>qids</th>\n",
              "      <th>date</th>\n",
              "      <th>numOccurrences</th>\n",
              "      <th>probas</th>\n",
              "      <th>urls</th>\n",
              "      <th>phase</th>\n",
              "      <th>year</th>\n",
              "      <th>aliases</th>\n",
              "      <th>date_of_birth</th>\n",
              "      <th>nationality</th>\n",
              "      <th>gender</th>\n",
              "      <th>lastrevid</th>\n",
              "      <th>ethnic_group</th>\n",
              "      <th>US_congress_bio_ID</th>\n",
              "      <th>occupation</th>\n",
              "      <th>party</th>\n",
              "      <th>academic_degree</th>\n",
              "      <th>candidacy</th>\n",
              "      <th>type</th>\n",
              "      <th>religion</th>\n",
              "      <th>party_label</th>\n",
              "      <th>nationality_label</th>\n",
              "      <th>birth_year</th>\n",
              "      <th>age</th>\n",
              "      <th>age_category</th>\n",
              "    </tr>\n",
              "  </thead>\n",
              "  <tbody>\n",
              "    <tr>\n",
              "      <th>28186</th>\n",
              "      <td>2016-07-07-020241</td>\n",
              "      <td>Every time someone comes to see me and asks me...</td>\n",
              "      <td>Marco Rubio</td>\n",
              "      <td>Q324546</td>\n",
              "      <td>2016-07-07 16:58:02</td>\n",
              "      <td>1</td>\n",
              "      <td>[[Marco Rubio, 0.5553], [None, 0.4447]]</td>\n",
              "      <td>[http://esquire.com/news-politics/politics/new...</td>\n",
              "      <td>E</td>\n",
              "      <td>2016</td>\n",
              "      <td>[Marco Antonio Rubio]</td>\n",
              "      <td>[+1971-05-28T00:00:00Z]</td>\n",
              "      <td>Q30</td>\n",
              "      <td>[Q6581097]</td>\n",
              "      <td>1393345921</td>\n",
              "      <td>None</td>\n",
              "      <td>R000595</td>\n",
              "      <td>[Q82955, Q40348]</td>\n",
              "      <td>Q29468</td>\n",
              "      <td>[Q1765120, Q1540185]</td>\n",
              "      <td>None</td>\n",
              "      <td>item</td>\n",
              "      <td>[Q1841, Q7361618]</td>\n",
              "      <td>Republican Party</td>\n",
              "      <td>United States of America</td>\n",
              "      <td>1971</td>\n",
              "      <td>45</td>\n",
              "      <td>31-45</td>\n",
              "    </tr>\n",
              "    <tr>\n",
              "      <th>69766</th>\n",
              "      <td>2019-09-25-023119</td>\n",
              "      <td>Gandhiji's philosophy of life and his unwaveri...</td>\n",
              "      <td>Sheikh Hasina</td>\n",
              "      <td>Q52183</td>\n",
              "      <td>2019-09-25 13:14:14</td>\n",
              "      <td>1</td>\n",
              "      <td>[[Sheikh Hasina, 0.9304], [None, 0.0696]]</td>\n",
              "      <td>[https://bdnews24.com/bangladesh/2019/09/25/ha...</td>\n",
              "      <td>E</td>\n",
              "      <td>2019</td>\n",
              "      <td>[Sheikh Hasina Wazed, Hasina Wazed]</td>\n",
              "      <td>[+1947-09-28T00:00:00Z]</td>\n",
              "      <td>Q843</td>\n",
              "      <td>[Q6581072]</td>\n",
              "      <td>1386365740</td>\n",
              "      <td>None</td>\n",
              "      <td>None</td>\n",
              "      <td>[Q82955]</td>\n",
              "      <td>Q1281480</td>\n",
              "      <td>None</td>\n",
              "      <td>None</td>\n",
              "      <td>item</td>\n",
              "      <td>[Q483654]</td>\n",
              "      <td>Bangladesh Awami League</td>\n",
              "      <td>Pakistan</td>\n",
              "      <td>1947</td>\n",
              "      <td>72</td>\n",
              "      <td>66+</td>\n",
              "    </tr>\n",
              "    <tr>\n",
              "      <th>3203</th>\n",
              "      <td>2015-08-05-095981</td>\n",
              "      <td>The only silver lining to climate change, if t...</td>\n",
              "      <td>President Barack Obama</td>\n",
              "      <td>Q76</td>\n",
              "      <td>2015-08-05 03:25:34</td>\n",
              "      <td>1</td>\n",
              "      <td>[[President Barack Obama, 0.6304], [None, 0.36...</td>\n",
              "      <td>[http://www.providencejournal.com/article/2015...</td>\n",
              "      <td>E</td>\n",
              "      <td>2015</td>\n",
              "      <td>[Barack Hussein Obama II, Barack Obama II, Bar...</td>\n",
              "      <td>[+1961-08-04T00:00:00Z]</td>\n",
              "      <td>Q30</td>\n",
              "      <td>[Q6581097]</td>\n",
              "      <td>1395141963</td>\n",
              "      <td>[Q49085, Q6935055, Q12826303, Q6392846]</td>\n",
              "      <td>O000167</td>\n",
              "      <td>[Q82955, Q40348, Q15958642, Q28532974, Q372436]</td>\n",
              "      <td>Q29552</td>\n",
              "      <td>[Q1765120, Q1540185]</td>\n",
              "      <td>[Q3586671, Q45578, Q4226, Q4791768, Q17067714,...</td>\n",
              "      <td>item</td>\n",
              "      <td>[Q23540, Q1062789, Q960252, Q426316]</td>\n",
              "      <td>Democratic Party</td>\n",
              "      <td>United States of America</td>\n",
              "      <td>1961</td>\n",
              "      <td>54</td>\n",
              "      <td>46-65</td>\n",
              "    </tr>\n",
              "  </tbody>\n",
              "</table>\n",
              "</div>"
            ],
            "text/plain": [
              "                 quoteID  ... age_category\n",
              "28186  2016-07-07-020241  ...        31-45\n",
              "69766  2019-09-25-023119  ...          66+\n",
              "3203   2015-08-05-095981  ...        46-65\n",
              "\n",
              "[3 rows x 28 columns]"
            ]
          },
          "metadata": {},
          "execution_count": 45
        }
      ]
    },
    {
      "cell_type": "code",
      "metadata": {
        "colab": {
          "base_uri": "https://localhost:8080/",
          "height": 282
        },
        "id": "tzgh5-D7POla",
        "outputId": "3d3a5343-a28d-43f5-8a77-c5631e97c4b2"
      },
      "source": [
        "# number of quotes by age category in the world\n",
        "age_categories = climate_wikidata_ages.groupby(by='age_category').count().quotation\n",
        "sns.barplot(x=age_categories[:10].values, y=age_categories[:10].index)"
      ],
      "execution_count": null,
      "outputs": [
        {
          "output_type": "execute_result",
          "data": {
            "text/plain": [
              "<matplotlib.axes._subplots.AxesSubplot at 0x7f6aa353de90>"
            ]
          },
          "metadata": {},
          "execution_count": 46
        },
        {
          "output_type": "display_data",
          "data": {
            "image/png": "[encoded data removed]",
            "text/plain": [
              "<Figure size 432x288 with 1 Axes>"
            ]
          },
          "metadata": {
            "needs_background": "light"
          }
        }
      ]
    }
  ]
}