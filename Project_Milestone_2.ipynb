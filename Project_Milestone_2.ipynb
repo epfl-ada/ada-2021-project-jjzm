{
  "nbformat": 4,
  "nbformat_minor": 0,
  "metadata": {
    "colab": {
      "name": "Project Milestone 2.ipynb",
      "provenance": [],
      "collapsed_sections": []
    },
    "kernelspec": {
      "name": "python3",
      "display_name": "Python 3"
    },
    "language_info": {
      "name": "python"
    }
  },
  "cells": [
    {
      "cell_type": "markdown",
      "metadata": {
        "id": "hwcsufM5siRb"
      },
      "source": [
        "# Project Milestone 2"
      ]
    },
    {
      "cell_type": "markdown",
      "metadata": {
        "id": "rDIwbh2Ssx1H"
      },
      "source": [
        "## Tools"
      ]
    },
    {
      "cell_type": "markdown",
      "metadata": {
        "id": "oPLcfAEd6kpn"
      },
      "source": [
        "In the first part of the notebook, you can observe the primary tools we are using for the analysis. It is required to install the pandas version 1.0.5."
      ]
    },
    {
      "cell_type": "code",
      "metadata": {
        "id": "p3ZUlq_gsnDy"
      },
      "source": [
        "pip install pandas==1.0.5"
      ],
      "execution_count": null,
      "outputs": []
    },
    {
      "cell_type": "code",
      "metadata": {
        "colab": {
          "base_uri": "https://localhost:8080/"
        },
        "id": "ZbelLu3-sxpB",
        "outputId": "aa775418-d2bc-4714-fb83-20af05288800"
      },
      "source": [
        "import pandas as pd\n",
        "import matplotlib.pyplot as plt\n",
        "import seaborn as sns\n",
        "import collections\n",
        "import nltk\n",
        "import requests\n",
        "import pickle\n",
        "import warnings\n",
        "from nltk.corpus import wordnet\n",
        "from nltk.corpus import stopwords\n",
        "from wordcloud import WordCloud\n",
        "warnings.filterwarnings('ignore')\n",
        "print('pandas version: ' + pd.__version__)"
      ],
      "execution_count": 2,
      "outputs": [
        {
          "output_type": "stream",
          "name": "stdout",
          "text": [
            "pandas version: 1.0.5\n"
          ]
        }
      ]
    },
    {
      "cell_type": "code",
      "metadata": {
        "id": "3jGqI8P_s7x5",
        "colab": {
          "base_uri": "https://localhost:8080/"
        },
        "outputId": "b750e926-1386-40ed-a8d7-a34955f5bf37"
      },
      "source": [
        "from google.colab import drive\n",
        "drive.mount('/content/drive')"
      ],
      "execution_count": 3,
      "outputs": [
        {
          "output_type": "stream",
          "name": "stdout",
          "text": [
            "Mounted at /content/drive\n"
          ]
        }
      ]
    },
    {
      "cell_type": "code",
      "metadata": {
        "id": "JpT3uaZ3tW82"
      },
      "source": [
        "path_data = '/content/drive/MyDrive/Quotebank/'"
      ],
      "execution_count": 4,
      "outputs": []
    },
    {
      "cell_type": "markdown",
      "metadata": {
        "id": "NjwhYoSR64Dx"
      },
      "source": [
        "The following three cells include helper functions that helped the creation of our final dataset containing the quotes about climate change. The functions include itetaring through chunks, showing the first few elements of a chunk, and an imported function for finding synonyms of a provided word."
      ]
    },
    {
      "cell_type": "code",
      "metadata": {
        "id": "6AP49Ub4tf2D"
      },
      "source": [
        "# loop through nb_chunks_to_read chunks (if 0, through all chunks) and apply process_function to each of them\n",
        "# return the result as a dataframe\n",
        "def loop_chuncks(chunks, process_function, nb_chunks_to_read=0):\n",
        "  i = 0\n",
        "  result = []\n",
        "  columns = None\n",
        "  for chunk in chunks:\n",
        "    processed = process_function(chunk)\n",
        "    if processed is not None:\n",
        "      if not isinstance(processed, pd.Series):\n",
        "        columns = processed.columns\n",
        "      for r in processed.values.tolist():\n",
        "        result.append(r)\n",
        "    i += 1\n",
        "    if i == nb_chunks_to_read:\n",
        "      break\n",
        "  return pd.DataFrame(result, columns=columns)"
      ],
      "execution_count": 5,
      "outputs": []
    },
    {
      "cell_type": "code",
      "metadata": {
        "id": "JmtK07x4trUq",
        "colab": {
          "base_uri": "https://localhost:8080/",
          "height": 346
        },
        "outputId": "171f8932-6444-4168-a883-2d1984ca28c7"
      },
      "source": [
        "# return the first 3 elements of a chunk\n",
        "def chunck_head(chunk):\n",
        "  return chunk.head(3)\n",
        "\n",
        "# example\n",
        "chunks = pd.read_json(path_data + 'quotes-2020.json.bz2', lines=True, compression='bz2', chunksize=10000)\n",
        "loop_chuncks(chunks, chunck_head, 1)"
      ],
      "execution_count": 6,
      "outputs": [
        {
          "output_type": "execute_result",
          "data": {
            "text/html": [
              "<div>\n",
              "<style scoped>\n",
              "    .dataframe tbody tr th:only-of-type {\n",
              "        vertical-align: middle;\n",
              "    }\n",
              "\n",
              "    .dataframe tbody tr th {\n",
              "        vertical-align: top;\n",
              "    }\n",
              "\n",
              "    .dataframe thead th {\n",
              "        text-align: right;\n",
              "    }\n",
              "</style>\n",
              "<table border=\"1\" class=\"dataframe\">\n",
              "  <thead>\n",
              "    <tr style=\"text-align: right;\">\n",
              "      <th></th>\n",
              "      <th>quoteID</th>\n",
              "      <th>quotation</th>\n",
              "      <th>speaker</th>\n",
              "      <th>qids</th>\n",
              "      <th>date</th>\n",
              "      <th>numOccurrences</th>\n",
              "      <th>probas</th>\n",
              "      <th>urls</th>\n",
              "      <th>phase</th>\n",
              "    </tr>\n",
              "  </thead>\n",
              "  <tbody>\n",
              "    <tr>\n",
              "      <th>0</th>\n",
              "      <td>2020-01-28-000082</td>\n",
              "      <td>[ D ] espite the efforts of the partners to cr...</td>\n",
              "      <td>None</td>\n",
              "      <td>[]</td>\n",
              "      <td>2020-01-28 08:04:05</td>\n",
              "      <td>1</td>\n",
              "      <td>[[None, 0.7272], [Prime Minister Netanyahu, 0....</td>\n",
              "      <td>[http://israelnationalnews.com/News/News.aspx/...</td>\n",
              "      <td>E</td>\n",
              "    </tr>\n",
              "    <tr>\n",
              "      <th>1</th>\n",
              "      <td>2020-01-16-000088</td>\n",
              "      <td>[ Department of Homeland Security ] was livid ...</td>\n",
              "      <td>Sue Myrick</td>\n",
              "      <td>[Q367796]</td>\n",
              "      <td>2020-01-16 12:00:13</td>\n",
              "      <td>1</td>\n",
              "      <td>[[Sue Myrick, 0.8867], [None, 0.0992], [Ron Wy...</td>\n",
              "      <td>[http://thehill.com/opinion/international/4782...</td>\n",
              "      <td>E</td>\n",
              "    </tr>\n",
              "    <tr>\n",
              "      <th>2</th>\n",
              "      <td>2020-02-10-000142</td>\n",
              "      <td>... He (Madhav) also disclosed that the illega...</td>\n",
              "      <td>None</td>\n",
              "      <td>[]</td>\n",
              "      <td>2020-02-10 23:45:54</td>\n",
              "      <td>1</td>\n",
              "      <td>[[None, 0.8926], [Prakash Rai, 0.1074]]</td>\n",
              "      <td>[https://indianexpress.com/article/business/ec...</td>\n",
              "      <td>E</td>\n",
              "    </tr>\n",
              "  </tbody>\n",
              "</table>\n",
              "</div>"
            ],
            "text/plain": [
              "             quoteID  ... phase\n",
              "0  2020-01-28-000082  ...     E\n",
              "1  2020-01-16-000088  ...     E\n",
              "2  2020-02-10-000142  ...     E\n",
              "\n",
              "[3 rows x 9 columns]"
            ]
          },
          "metadata": {},
          "execution_count": 6
        }
      ]
    },
    {
      "cell_type": "code",
      "metadata": {
        "colab": {
          "base_uri": "https://localhost:8080/"
        },
        "id": "lXtgCRTFt3T6",
        "outputId": "9f10da3e-4c95-4d98-cc73-1a92244d24d7"
      },
      "source": [
        "# to create automatically a list of synonyms (not currently used)\n",
        "# https://towardsdatascience.com/synonyms-and-antonyms-in-python-a865a5e14ce8\n",
        "nltk.download('wordnet')\n",
        "\n",
        "def find_synonyms(word):\n",
        "  words = []\n",
        "  for syn in wordnet.synsets(word):\n",
        "    for lm in syn.lemmas():\n",
        "      words.append(lm.name())\n",
        "  return words\n",
        "\n",
        "# example\n",
        "find_synonyms('climate')\n",
        "find_synonyms('environment')"
      ],
      "execution_count": 7,
      "outputs": [
        {
          "output_type": "stream",
          "name": "stdout",
          "text": [
            "[nltk_data] Downloading package wordnet to /root/nltk_data...\n",
            "[nltk_data]   Unzipping corpora/wordnet.zip.\n"
          ]
        },
        {
          "output_type": "execute_result",
          "data": {
            "text/plain": [
              "['environment', 'environment', 'environs', 'surroundings', 'surround']"
            ]
          },
          "metadata": {},
          "execution_count": 7
        }
      ]
    },
    {
      "cell_type": "markdown",
      "metadata": {
        "id": "u0uR07N-x7oB"
      },
      "source": [
        "## Creation of the dataset about climate change"
      ]
    },
    {
      "cell_type": "markdown",
      "metadata": {
        "id": "1LuQUVNu7RNM"
      },
      "source": [
        "The creation of the dataset was executed by iterating through quotes and finding all of them that mention climate change in any matter. We used python pickles to save the extracted quotes, one for every year from 2015 until 2020. We saved the pickles on Google drive and provided the link where you can download it. We provided the code for creating the pickles and commented it, since it needs a long time to execute. The pickles served us well in terms of creating the final dataset and, thus, positively impacted the time our cells needed to run. As a result, we got 156691 quotes about climate change."
      ]
    },
    {
      "cell_type": "code",
      "metadata": {
        "colab": {
          "base_uri": "https://localhost:8080/",
          "height": 346
        },
        "id": "FmoDei5vyJ6p",
        "outputId": "65ea8786-a238-4972-f828-59899a5c25a8"
      },
      "source": [
        "# return the quotes containing one of the words in the list\n",
        "\n",
        "words = ['global warming', 'climate change']\n",
        "\n",
        "def contains_word_in_list(chunk):\n",
        "  return chunk[chunk.quotation.str.contains('|'.join(words), case=False)]\n",
        "\n",
        "chunks = pd.read_json(path_data + 'quotes-2020.json.bz2', lines=True, compression='bz2', chunksize=10000)\n",
        "word_in_list_quotes = loop_chuncks(chunks, contains_word_in_list, 3)\n",
        "\n",
        "word_in_list_quotes.sample(3)"
      ],
      "execution_count": 8,
      "outputs": [
        {
          "output_type": "execute_result",
          "data": {
            "text/html": [
              "<div>\n",
              "<style scoped>\n",
              "    .dataframe tbody tr th:only-of-type {\n",
              "        vertical-align: middle;\n",
              "    }\n",
              "\n",
              "    .dataframe tbody tr th {\n",
              "        vertical-align: top;\n",
              "    }\n",
              "\n",
              "    .dataframe thead th {\n",
              "        text-align: right;\n",
              "    }\n",
              "</style>\n",
              "<table border=\"1\" class=\"dataframe\">\n",
              "  <thead>\n",
              "    <tr style=\"text-align: right;\">\n",
              "      <th></th>\n",
              "      <th>quoteID</th>\n",
              "      <th>quotation</th>\n",
              "      <th>speaker</th>\n",
              "      <th>qids</th>\n",
              "      <th>date</th>\n",
              "      <th>numOccurrences</th>\n",
              "      <th>probas</th>\n",
              "      <th>urls</th>\n",
              "      <th>phase</th>\n",
              "    </tr>\n",
              "  </thead>\n",
              "  <tbody>\n",
              "    <tr>\n",
              "      <th>1</th>\n",
              "      <td>2020-01-29-062975</td>\n",
              "      <td>Many make the link today between their experie...</td>\n",
              "      <td>Peter Maurer</td>\n",
              "      <td>[Q117796, Q42426597]</td>\n",
              "      <td>2020-01-29 09:04:36</td>\n",
              "      <td>5</td>\n",
              "      <td>[[Peter Maurer, 0.8787], [None, 0.1213]]</td>\n",
              "      <td>[http://whbl.com/news/articles/2020/jan/29/hun...</td>\n",
              "      <td>E</td>\n",
              "    </tr>\n",
              "    <tr>\n",
              "      <th>47</th>\n",
              "      <td>2020-02-27-021384</td>\n",
              "      <td>His central campaign issue will be climate cha...</td>\n",
              "      <td>None</td>\n",
              "      <td>[]</td>\n",
              "      <td>2020-02-27 16:16:51</td>\n",
              "      <td>1</td>\n",
              "      <td>[[None, 0.8692], [Jay Inslee, 0.0985], [Amy Kl...</td>\n",
              "      <td>[https://mediamatters.org/broadcast-networks/h...</td>\n",
              "      <td>E</td>\n",
              "    </tr>\n",
              "    <tr>\n",
              "      <th>25</th>\n",
              "      <td>2020-01-08-072392</td>\n",
              "      <td>The insurance claims will be enormous, but so ...</td>\n",
              "      <td>Tim Buckley</td>\n",
              "      <td>[Q7803241]</td>\n",
              "      <td>2020-01-08 11:47:01</td>\n",
              "      <td>3</td>\n",
              "      <td>[[Tim Buckley, 0.8037], [None, 0.1963]]</td>\n",
              "      <td>[http://www.ipsnews.net/2020/01/australias-bus...</td>\n",
              "      <td>E</td>\n",
              "    </tr>\n",
              "  </tbody>\n",
              "</table>\n",
              "</div>"
            ],
            "text/plain": [
              "              quoteID  ... phase\n",
              "1   2020-01-29-062975  ...     E\n",
              "47  2020-02-27-021384  ...     E\n",
              "25  2020-01-08-072392  ...     E\n",
              "\n",
              "[3 rows x 9 columns]"
            ]
          },
          "metadata": {},
          "execution_count": 8
        }
      ]
    },
    {
      "cell_type": "code",
      "metadata": {
        "id": "AGX8UsEkzI3U"
      },
      "source": [
        "# to load and save pickes (from the course tutorial)\n",
        "def load_pickle(file_path):\n",
        "    with open(file_path, 'rb') as file:\n",
        "        return pickle.load(file)\n",
        "\n",
        "def save_pickle(result, file_path = 'pickle'):\n",
        "    with open(file_path, 'wb') as file:\n",
        "        pickle.dump(result, file)"
      ],
      "execution_count": 9,
      "outputs": []
    },
    {
      "cell_type": "code",
      "metadata": {
        "id": "Cx8ckqUVzhsK"
      },
      "source": [
        "# create a pickle of the quotes about climate change for the 2020 dataset\n",
        "# this have been done for the 6 datasets, commented to not re-run it (very long)\n",
        "# chunks = pd.read_json(path_data + 'quotes-2020.json.bz2', lines=True, compression='bz2', chunksize=10000)\n",
        "# climate_2020 = loop_chuncks(chunks, contains_word_in_list)\n",
        "# path_pickle_2020 = '/content/drive/MyDrive/pickle_2020'\n",
        "# save_pickle(climate_2020, path_pickle_2020)"
      ],
      "execution_count": 10,
      "outputs": []
    },
    {
      "cell_type": "code",
      "metadata": {
        "id": "FJfzDQtfKN5s"
      },
      "source": [
        "# load the pickles\n",
        "# the pickles need to be added to the drive\n",
        "# download here: https://drive.google.com/drive/folders/1j1Bp1niC0_cqg1kN_LbSrA2TGnq5MTgt?usp=sharing\n",
        "climate_2015 = load_pickle('/content/drive/MyDrive/pickle_2015')\n",
        "climate_2016 = load_pickle('/content/drive/MyDrive/pickle_2016')\n",
        "climate_2017 = load_pickle('/content/drive/MyDrive/pickle_2017')\n",
        "climate_2018 = load_pickle('/content/drive/MyDrive/pickle_2018')\n",
        "climate_2019 = load_pickle('/content/drive/MyDrive/pickle_2019')\n",
        "climate_2020 = load_pickle('/content/drive/MyDrive/pickle_2020')\n",
        "all_years_list = [climate_2015, climate_2016, climate_2017, climate_2018, climate_2019, climate_2020]\n",
        "all_years = [2015, 2016, 2017, 2018, 2019, 2020]\n",
        "for i in range(len(all_years)):\n",
        "  all_years_list[i]['year'] = all_years[i]"
      ],
      "execution_count": 11,
      "outputs": []
    },
    {
      "cell_type": "code",
      "metadata": {
        "id": "otY1eAUqK-TJ",
        "colab": {
          "base_uri": "https://localhost:8080/",
          "height": 400
        },
        "outputId": "d8e26174-f49b-4466-f33d-aaa02df8496a"
      },
      "source": [
        "# create one dataframe for all the years\n",
        "climate_all_years = pd.concat(all_years_list, ignore_index=True)\n",
        "print(climate_all_years.shape)\n",
        "climate_all_years.sample(3)"
      ],
      "execution_count": 12,
      "outputs": [
        {
          "output_type": "stream",
          "name": "stdout",
          "text": [
            "(156691, 10)\n"
          ]
        },
        {
          "output_type": "execute_result",
          "data": {
            "text/html": [
              "<div>\n",
              "<style scoped>\n",
              "    .dataframe tbody tr th:only-of-type {\n",
              "        vertical-align: middle;\n",
              "    }\n",
              "\n",
              "    .dataframe tbody tr th {\n",
              "        vertical-align: top;\n",
              "    }\n",
              "\n",
              "    .dataframe thead th {\n",
              "        text-align: right;\n",
              "    }\n",
              "</style>\n",
              "<table border=\"1\" class=\"dataframe\">\n",
              "  <thead>\n",
              "    <tr style=\"text-align: right;\">\n",
              "      <th></th>\n",
              "      <th>quoteID</th>\n",
              "      <th>quotation</th>\n",
              "      <th>speaker</th>\n",
              "      <th>qids</th>\n",
              "      <th>date</th>\n",
              "      <th>numOccurrences</th>\n",
              "      <th>probas</th>\n",
              "      <th>urls</th>\n",
              "      <th>phase</th>\n",
              "      <th>year</th>\n",
              "    </tr>\n",
              "  </thead>\n",
              "  <tbody>\n",
              "    <tr>\n",
              "      <th>136182</th>\n",
              "      <td>2019-10-29-013779</td>\n",
              "      <td>Climate change is big priority for our adminis...</td>\n",
              "      <td>Josh Tenorio</td>\n",
              "      <td>[Q58323185]</td>\n",
              "      <td>2019-10-29 14:05:00</td>\n",
              "      <td>1</td>\n",
              "      <td>[[Josh Tenorio, 0.9499], [None, 0.0501]]</td>\n",
              "      <td>[http://www.postguam.com/news/local/climate-ch...</td>\n",
              "      <td>E</td>\n",
              "      <td>2019</td>\n",
              "    </tr>\n",
              "    <tr>\n",
              "      <th>29850</th>\n",
              "      <td>2016-09-16-016995</td>\n",
              "      <td>concept of global warming was created by and f...</td>\n",
              "      <td>Donald Trump</td>\n",
              "      <td>[Q22686, Q27947481]</td>\n",
              "      <td>2016-09-16 17:25:51</td>\n",
              "      <td>15</td>\n",
              "      <td>[[Donald Trump, 0.7106], [None, 0.2369], [Bern...</td>\n",
              "      <td>[http://www.theglobeandmail.com/opinion/trump-...</td>\n",
              "      <td>E</td>\n",
              "      <td>2016</td>\n",
              "    </tr>\n",
              "    <tr>\n",
              "      <th>105483</th>\n",
              "      <td>2019-02-19-014038</td>\n",
              "      <td>Catastrophic events will happen whether climat...</td>\n",
              "      <td>None</td>\n",
              "      <td>[]</td>\n",
              "      <td>2019-02-19 05:49:37</td>\n",
              "      <td>1</td>\n",
              "      <td>[[None, 0.8065], [Terry Jones, 0.1935]]</td>\n",
              "      <td>[https://ksby.com/news/2019/02/18/cal-poly-res...</td>\n",
              "      <td>E</td>\n",
              "      <td>2019</td>\n",
              "    </tr>\n",
              "  </tbody>\n",
              "</table>\n",
              "</div>"
            ],
            "text/plain": [
              "                  quoteID  ...  year\n",
              "136182  2019-10-29-013779  ...  2019\n",
              "29850   2016-09-16-016995  ...  2016\n",
              "105483  2019-02-19-014038  ...  2019\n",
              "\n",
              "[3 rows x 10 columns]"
            ]
          },
          "metadata": {},
          "execution_count": 12
        }
      ]
    },
    {
      "cell_type": "markdown",
      "metadata": {
        "id": "A4klUAk4dQ5b"
      },
      "source": [
        "## First analyses"
      ]
    },
    {
      "cell_type": "markdown",
      "metadata": {
        "id": "fAD4IDBW8SZG"
      },
      "source": [
        "Following few cells show our first, basic analysis. We included the top speakers from the quotes about climate change, the words that appeared the most in our quotes, and number of climate change quotes per year."
      ]
    },
    {
      "cell_type": "code",
      "metadata": {
        "id": "9KypfR7bdX9_",
        "colab": {
          "base_uri": "https://localhost:8080/",
          "height": 282
        },
        "outputId": "97b2a512-06f6-43cf-b59e-30755e5efee3"
      },
      "source": [
        "# the top speakers talking about climate change\n",
        "top_speakers = climate_all_years.groupby(by='speaker').count().sort_values(by='quotation', ascending=False).quotation.iloc[1:21]\n",
        "sns.barplot(x=top_speakers[:10].values, y=top_speakers[0:10].index)"
      ],
      "execution_count": 13,
      "outputs": [
        {
          "output_type": "execute_result",
          "data": {
            "text/plain": [
              "<matplotlib.axes._subplots.AxesSubplot at 0x7f0063b2abd0>"
            ]
          },
          "metadata": {},
          "execution_count": 13
        },
        {
          "output_type": "display_data",
          "data": {
            "image/png": "[encoded data removed]",
            "text/plain": [
              "<Figure size 432x288 with 1 Axes>"
            ]
          },
          "metadata": {
            "needs_background": "light"
          }
        }
      ]
    },
    {
      "cell_type": "code",
      "metadata": {
        "id": "IdwqzawAeHgX",
        "colab": {
          "base_uri": "https://localhost:8080/",
          "height": 198
        },
        "outputId": "9d8299e0-b408-47ff-f926-555c50845f4f"
      },
      "source": [
        "# word cloud of top speakers for illustration\n",
        "wordcloud = WordCloud().fit_words(dict(top_speakers))\n",
        "plt.imshow(wordcloud, interpolation='bilinear')\n",
        "plt.axis(\"off\")\n",
        "plt.show()"
      ],
      "execution_count": 14,
      "outputs": [
        {
          "output_type": "display_data",
          "data": {
            "image/png": "[encoded data removed]",
            "text/plain": [
              "<Figure size 432x288 with 1 Axes>"
            ]
          },
          "metadata": {
            "needs_background": "light"
          }
        }
      ]
    },
    {
      "cell_type": "code",
      "metadata": {
        "id": "jUbl4i4penYU",
        "colab": {
          "base_uri": "https://localhost:8080/",
          "height": 316
        },
        "outputId": "77be6dbd-eeb8-4d87-863e-f9837f8a41cd"
      },
      "source": [
        "# words being most used in these quotes about global warming\n",
        "nltk.download('stopwords')\n",
        "topic_words = collections.Counter()\n",
        "stop_words = set(stopwords.words('english'))\n",
        "for index, row in climate_all_years.iterrows():\n",
        "    for word in row.quotation.lower().replace(',', '').replace('.', '').split():\n",
        "        if word not in stop_words:\n",
        "            topic_words[word] += 1\n",
        "top_50_climate_words = topic_words.most_common()[:50]\n",
        "sns.barplot(x=[x[1] for x in top_50_climate_words][:15], y=[x[0] for x in top_50_climate_words][:15])"
      ],
      "execution_count": 15,
      "outputs": [
        {
          "output_type": "stream",
          "name": "stdout",
          "text": [
            "[nltk_data] Downloading package stopwords to /root/nltk_data...\n",
            "[nltk_data]   Unzipping corpora/stopwords.zip.\n"
          ]
        },
        {
          "output_type": "execute_result",
          "data": {
            "text/plain": [
              "<matplotlib.axes._subplots.AxesSubplot at 0x7f00615b2690>"
            ]
          },
          "metadata": {},
          "execution_count": 15
        },
        {
          "output_type": "display_data",
          "data": {
            "image/png": "[encoded data removed]",
            "text/plain": [
              "<Figure size 432x288 with 1 Axes>"
            ]
          },
          "metadata": {
            "needs_background": "light"
          }
        }
      ]
    },
    {
      "cell_type": "code",
      "metadata": {
        "id": "oh7ZQcSffS43",
        "colab": {
          "base_uri": "https://localhost:8080/",
          "height": 198
        },
        "outputId": "91337071-cb67-4a1f-b079-7e16e2bf02cc"
      },
      "source": [
        "# word cloud for illustration\n",
        "wordcloud = WordCloud().fit_words(dict(top_50_climate_words))\n",
        "plt.imshow(wordcloud, interpolation='bilinear')\n",
        "plt.axis(\"off\")\n",
        "plt.show()"
      ],
      "execution_count": 16,
      "outputs": [
        {
          "output_type": "display_data",
          "data": {
            "image/png": "[encoded data removed]",
            "text/plain": [
              "<Figure size 432x288 with 1 Axes>"
            ]
          },
          "metadata": {
            "needs_background": "light"
          }
        }
      ]
    },
    {
      "cell_type": "code",
      "metadata": {
        "id": "O-YLxspqgAbs",
        "colab": {
          "base_uri": "https://localhost:8080/",
          "height": 298
        },
        "outputId": "5c81aff2-aaa3-4b36-fda6-20a6bbe74a57"
      },
      "source": [
        "# number of quotations about global warming through the years\n",
        "count_years =  climate_all_years.groupby(by='year').count().quotation\n",
        "sns.barplot(x=all_years, y=count_years)\n",
        "plt.title(\"Quotations about global warming though time\")"
      ],
      "execution_count": 17,
      "outputs": [
        {
          "output_type": "execute_result",
          "data": {
            "text/plain": [
              "Text(0.5, 1.0, 'Quotations about global warming though time')"
            ]
          },
          "metadata": {},
          "execution_count": 17
        },
        {
          "output_type": "display_data",
          "data": {
            "image/png": "[encoded data removed]",
            "text/plain": [
              "<Figure size 432x288 with 1 Axes>"
            ]
          },
          "metadata": {
            "needs_background": "light"
          }
        }
      ]
    },
    {
      "cell_type": "markdown",
      "metadata": {
        "id": "cCn5GQzm8pvG"
      },
      "source": [
        "Interestingly enough, we can observe a drop of the number of quotes about climate change in the year 2020."
      ]
    },
    {
      "cell_type": "markdown",
      "metadata": {
        "id": "hRGuEu-i69vc"
      },
      "source": [
        "## Nationalities"
      ]
    },
    {
      "cell_type": "markdown",
      "metadata": {
        "id": "OWJebtiI9Od_"
      },
      "source": [
        "This section of our notebook provided us an augmented dataframe that includes the nationality of a speaker that said something about the climate change in his or her quote. We used Wikidata to extract the information about a country and merge it with the existing quote and its speaker. This will allow us to perform different research questions analysis on speakers which origins are different, and potentially observe the difference between the groups of countries, augmented as regions."
      ]
    },
    {
      "cell_type": "code",
      "metadata": {
        "colab": {
          "base_uri": "https://localhost:8080/",
          "height": 383
        },
        "id": "lJU4tKT8mlI4",
        "outputId": "9ea2be3b-3ace-4a94-9bcb-bcfe229faec9"
      },
      "source": [
        "# read the wikidata file\n",
        "path_data_wikidata = '/content/drive/MyDrive/speaker_attributes.parquet/'\n",
        "wikidata = pd.read_parquet(path_data_wikidata)\n",
        "wikidata.head(3)"
      ],
      "execution_count": 18,
      "outputs": [
        {
          "output_type": "execute_result",
          "data": {
            "text/html": [
              "<div>\n",
              "<style scoped>\n",
              "    .dataframe tbody tr th:only-of-type {\n",
              "        vertical-align: middle;\n",
              "    }\n",
              "\n",
              "    .dataframe tbody tr th {\n",
              "        vertical-align: top;\n",
              "    }\n",
              "\n",
              "    .dataframe thead th {\n",
              "        text-align: right;\n",
              "    }\n",
              "</style>\n",
              "<table border=\"1\" class=\"dataframe\">\n",
              "  <thead>\n",
              "    <tr style=\"text-align: right;\">\n",
              "      <th></th>\n",
              "      <th>aliases</th>\n",
              "      <th>date_of_birth</th>\n",
              "      <th>nationality</th>\n",
              "      <th>gender</th>\n",
              "      <th>lastrevid</th>\n",
              "      <th>ethnic_group</th>\n",
              "      <th>US_congress_bio_ID</th>\n",
              "      <th>occupation</th>\n",
              "      <th>party</th>\n",
              "      <th>academic_degree</th>\n",
              "      <th>id</th>\n",
              "      <th>label</th>\n",
              "      <th>candidacy</th>\n",
              "      <th>type</th>\n",
              "      <th>religion</th>\n",
              "    </tr>\n",
              "  </thead>\n",
              "  <tbody>\n",
              "    <tr>\n",
              "      <th>0</th>\n",
              "      <td>[Washington, President Washington, G. Washingt...</td>\n",
              "      <td>[+1732-02-22T00:00:00Z]</td>\n",
              "      <td>[Q161885, Q30]</td>\n",
              "      <td>[Q6581097]</td>\n",
              "      <td>1395141751</td>\n",
              "      <td>None</td>\n",
              "      <td>W000178</td>\n",
              "      <td>[Q82955, Q189290, Q131512, Q1734662, Q294126, ...</td>\n",
              "      <td>[Q327591]</td>\n",
              "      <td>None</td>\n",
              "      <td>Q23</td>\n",
              "      <td>George Washington</td>\n",
              "      <td>[Q698073, Q697949]</td>\n",
              "      <td>item</td>\n",
              "      <td>[Q682443]</td>\n",
              "    </tr>\n",
              "    <tr>\n",
              "      <th>1</th>\n",
              "      <td>[Douglas Noel Adams, Douglas Noël Adams, Dougl...</td>\n",
              "      <td>[+1952-03-11T00:00:00Z]</td>\n",
              "      <td>[Q145]</td>\n",
              "      <td>[Q6581097]</td>\n",
              "      <td>1395737157</td>\n",
              "      <td>[Q7994501]</td>\n",
              "      <td>None</td>\n",
              "      <td>[Q214917, Q28389, Q6625963, Q4853732, Q1884422...</td>\n",
              "      <td>None</td>\n",
              "      <td>None</td>\n",
              "      <td>Q42</td>\n",
              "      <td>Douglas Adams</td>\n",
              "      <td>None</td>\n",
              "      <td>item</td>\n",
              "      <td>None</td>\n",
              "    </tr>\n",
              "    <tr>\n",
              "      <th>2</th>\n",
              "      <td>[Paul Marie Ghislain Otlet, Paul Marie Otlet]</td>\n",
              "      <td>[+1868-08-23T00:00:00Z]</td>\n",
              "      <td>[Q31]</td>\n",
              "      <td>[Q6581097]</td>\n",
              "      <td>1380367296</td>\n",
              "      <td>None</td>\n",
              "      <td>None</td>\n",
              "      <td>[Q36180, Q40348, Q182436, Q1265807, Q205375, Q...</td>\n",
              "      <td>None</td>\n",
              "      <td>None</td>\n",
              "      <td>Q1868</td>\n",
              "      <td>Paul Otlet</td>\n",
              "      <td>None</td>\n",
              "      <td>item</td>\n",
              "      <td>None</td>\n",
              "    </tr>\n",
              "  </tbody>\n",
              "</table>\n",
              "</div>"
            ],
            "text/plain": [
              "                                             aliases  ...   religion\n",
              "0  [Washington, President Washington, G. Washingt...  ...  [Q682443]\n",
              "1  [Douglas Noel Adams, Douglas Noël Adams, Dougl...  ...       None\n",
              "2      [Paul Marie Ghislain Otlet, Paul Marie Otlet]  ...       None\n",
              "\n",
              "[3 rows x 15 columns]"
            ]
          },
          "metadata": {},
          "execution_count": 18
        }
      ]
    },
    {
      "cell_type": "code",
      "metadata": {
        "id": "G2Ylvft1mlC7"
      },
      "source": [
        "# wikidata dataframe without the None name\n",
        "wikidata_clean = wikidata.dropna(axis=0, subset=['aliases'])"
      ],
      "execution_count": 19,
      "outputs": []
    },
    {
      "cell_type": "code",
      "metadata": {
        "id": "RQOvMOWNYktc",
        "colab": {
          "base_uri": "https://localhost:8080/"
        },
        "outputId": "1a1d63db-185a-4bde-bc2b-badc94431d61"
      },
      "source": [
        "# drop the rows with speaker None\n",
        "climate_all_years_clean = climate_all_years.drop(climate_all_years.index[climate_all_years['speaker'] == 'None'])\n",
        "climate_all_years_clean.shape"
      ],
      "execution_count": 20,
      "outputs": [
        {
          "output_type": "execute_result",
          "data": {
            "text/plain": [
              "(108024, 10)"
            ]
          },
          "metadata": {},
          "execution_count": 20
        }
      ]
    },
    {
      "cell_type": "code",
      "metadata": {
        "id": "MOWBphcbYkqC",
        "colab": {
          "base_uri": "https://localhost:8080/",
          "height": 142
        },
        "outputId": "f9c547bb-ec6b-48e8-c515-0ae445ffd0a2"
      },
      "source": [
        "# load the QID dataset\n",
        "qids = pd.read_csv('/content/drive/MyDrive/wikidata_labels_descriptions_quotebank.csv.bz2', compression='bz2', index_col='QID')\n",
        "qids.head(2)"
      ],
      "execution_count": 21,
      "outputs": [
        {
          "output_type": "execute_result",
          "data": {
            "text/html": [
              "<div>\n",
              "<style scoped>\n",
              "    .dataframe tbody tr th:only-of-type {\n",
              "        vertical-align: middle;\n",
              "    }\n",
              "\n",
              "    .dataframe tbody tr th {\n",
              "        vertical-align: top;\n",
              "    }\n",
              "\n",
              "    .dataframe thead th {\n",
              "        text-align: right;\n",
              "    }\n",
              "</style>\n",
              "<table border=\"1\" class=\"dataframe\">\n",
              "  <thead>\n",
              "    <tr style=\"text-align: right;\">\n",
              "      <th></th>\n",
              "      <th>Label</th>\n",
              "      <th>Description</th>\n",
              "    </tr>\n",
              "    <tr>\n",
              "      <th>QID</th>\n",
              "      <th></th>\n",
              "      <th></th>\n",
              "    </tr>\n",
              "  </thead>\n",
              "  <tbody>\n",
              "    <tr>\n",
              "      <th>Q31</th>\n",
              "      <td>Belgium</td>\n",
              "      <td>country in western Europe</td>\n",
              "    </tr>\n",
              "    <tr>\n",
              "      <th>Q45</th>\n",
              "      <td>Portugal</td>\n",
              "      <td>country in southwestern Europe</td>\n",
              "    </tr>\n",
              "  </tbody>\n",
              "</table>\n",
              "</div>"
            ],
            "text/plain": [
              "        Label                     Description\n",
              "QID                                          \n",
              "Q31   Belgium       country in western Europe\n",
              "Q45  Portugal  country in southwestern Europe"
            ]
          },
          "metadata": {},
          "execution_count": 21
        }
      ]
    },
    {
      "cell_type": "markdown",
      "metadata": {
        "id": "L20oo7zz-DmS"
      },
      "source": [
        "We think that is important to mention that we have speakers in our dataset that have more than one nationality, so we will cover them in the following cells."
      ]
    },
    {
      "cell_type": "code",
      "metadata": {
        "id": "QTgL-ghrYknT",
        "colab": {
          "base_uri": "https://localhost:8080/",
          "height": 434
        },
        "outputId": "9de05765-95d4-421a-f97e-4c181b40ba9d"
      },
      "source": [
        "# merge the quotes about global warming with the countries from wikidata using the qids\n",
        "climate_countries = climate_all_years_clean.explode('qids').merge(wikidata, left_on='qids', right_on='id')\n",
        "print(climate_countries.shape)\n",
        "climate_countries.head(3)"
      ],
      "execution_count": 22,
      "outputs": [
        {
          "output_type": "stream",
          "name": "stdout",
          "text": [
            "(221681, 25)\n"
          ]
        },
        {
          "output_type": "execute_result",
          "data": {
            "text/html": [
              "<div>\n",
              "<style scoped>\n",
              "    .dataframe tbody tr th:only-of-type {\n",
              "        vertical-align: middle;\n",
              "    }\n",
              "\n",
              "    .dataframe tbody tr th {\n",
              "        vertical-align: top;\n",
              "    }\n",
              "\n",
              "    .dataframe thead th {\n",
              "        text-align: right;\n",
              "    }\n",
              "</style>\n",
              "<table border=\"1\" class=\"dataframe\">\n",
              "  <thead>\n",
              "    <tr style=\"text-align: right;\">\n",
              "      <th></th>\n",
              "      <th>quoteID</th>\n",
              "      <th>quotation</th>\n",
              "      <th>speaker</th>\n",
              "      <th>qids</th>\n",
              "      <th>date</th>\n",
              "      <th>numOccurrences</th>\n",
              "      <th>probas</th>\n",
              "      <th>urls</th>\n",
              "      <th>phase</th>\n",
              "      <th>year</th>\n",
              "      <th>aliases</th>\n",
              "      <th>date_of_birth</th>\n",
              "      <th>nationality</th>\n",
              "      <th>gender</th>\n",
              "      <th>lastrevid</th>\n",
              "      <th>ethnic_group</th>\n",
              "      <th>US_congress_bio_ID</th>\n",
              "      <th>occupation</th>\n",
              "      <th>party</th>\n",
              "      <th>academic_degree</th>\n",
              "      <th>id</th>\n",
              "      <th>label</th>\n",
              "      <th>candidacy</th>\n",
              "      <th>type</th>\n",
              "      <th>religion</th>\n",
              "    </tr>\n",
              "  </thead>\n",
              "  <tbody>\n",
              "    <tr>\n",
              "      <th>0</th>\n",
              "      <td>2015-09-28-067347</td>\n",
              "      <td>man-made emissions are an insignificant part o...</td>\n",
              "      <td>John Abraham</td>\n",
              "      <td>Q313025</td>\n",
              "      <td>2015-09-28 23:16:52</td>\n",
              "      <td>1</td>\n",
              "      <td>[[John Abraham, 0.6469], [None, 0.3092], [Will...</td>\n",
              "      <td>[http://www.desmogblog.com/donors-capital-fund]</td>\n",
              "      <td>E</td>\n",
              "      <td>2015</td>\n",
              "      <td>None</td>\n",
              "      <td>[+1972-12-17T00:00:00Z]</td>\n",
              "      <td>[Q668]</td>\n",
              "      <td>[Q6581097]</td>\n",
              "      <td>1354134367</td>\n",
              "      <td>None</td>\n",
              "      <td>None</td>\n",
              "      <td>[Q33999, Q4610556, Q3282637, Q10800557]</td>\n",
              "      <td>None</td>\n",
              "      <td>None</td>\n",
              "      <td>Q313025</td>\n",
              "      <td>John Abraham</td>\n",
              "      <td>None</td>\n",
              "      <td>item</td>\n",
              "      <td>[Q5043]</td>\n",
              "    </tr>\n",
              "    <tr>\n",
              "      <th>1</th>\n",
              "      <td>2015-02-26-060320</td>\n",
              "      <td>New Study Finds Fringe Global Warming Contrari...</td>\n",
              "      <td>John Abraham</td>\n",
              "      <td>Q313025</td>\n",
              "      <td>2015-02-26 17:16:07</td>\n",
              "      <td>1</td>\n",
              "      <td>[[John Abraham, 0.7708], [None, 0.2051], [Harr...</td>\n",
              "      <td>[http://www.globalresearch.ca/is-the-u-s-mains...</td>\n",
              "      <td>E</td>\n",
              "      <td>2015</td>\n",
              "      <td>None</td>\n",
              "      <td>[+1972-12-17T00:00:00Z]</td>\n",
              "      <td>[Q668]</td>\n",
              "      <td>[Q6581097]</td>\n",
              "      <td>1354134367</td>\n",
              "      <td>None</td>\n",
              "      <td>None</td>\n",
              "      <td>[Q33999, Q4610556, Q3282637, Q10800557]</td>\n",
              "      <td>None</td>\n",
              "      <td>None</td>\n",
              "      <td>Q313025</td>\n",
              "      <td>John Abraham</td>\n",
              "      <td>None</td>\n",
              "      <td>item</td>\n",
              "      <td>[Q5043]</td>\n",
              "    </tr>\n",
              "    <tr>\n",
              "      <th>2</th>\n",
              "      <td>2015-09-17-007663</td>\n",
              "      <td>Any argument that global warming stopped 18 or...</td>\n",
              "      <td>John Abraham</td>\n",
              "      <td>Q313025</td>\n",
              "      <td>2015-09-17 10:01:00</td>\n",
              "      <td>2</td>\n",
              "      <td>[[John Abraham, 0.8673], [None, 0.1292], [Lama...</td>\n",
              "      <td>[http://www.environmentalhealthnews.org/t/1883...</td>\n",
              "      <td>E</td>\n",
              "      <td>2015</td>\n",
              "      <td>None</td>\n",
              "      <td>[+1972-12-17T00:00:00Z]</td>\n",
              "      <td>[Q668]</td>\n",
              "      <td>[Q6581097]</td>\n",
              "      <td>1354134367</td>\n",
              "      <td>None</td>\n",
              "      <td>None</td>\n",
              "      <td>[Q33999, Q4610556, Q3282637, Q10800557]</td>\n",
              "      <td>None</td>\n",
              "      <td>None</td>\n",
              "      <td>Q313025</td>\n",
              "      <td>John Abraham</td>\n",
              "      <td>None</td>\n",
              "      <td>item</td>\n",
              "      <td>[Q5043]</td>\n",
              "    </tr>\n",
              "  </tbody>\n",
              "</table>\n",
              "</div>"
            ],
            "text/plain": [
              "             quoteID  ... religion\n",
              "0  2015-09-28-067347  ...  [Q5043]\n",
              "1  2015-02-26-060320  ...  [Q5043]\n",
              "2  2015-09-17-007663  ...  [Q5043]\n",
              "\n",
              "[3 rows x 25 columns]"
            ]
          },
          "metadata": {},
          "execution_count": 22
        }
      ]
    },
    {
      "cell_type": "code",
      "metadata": {
        "id": "PooqTzzuYkkw",
        "colab": {
          "base_uri": "https://localhost:8080/",
          "height": 434
        },
        "outputId": "b8f28ef1-3319-446c-d85e-6c9c624afd8e"
      },
      "source": [
        "# add the labels of the countries\n",
        "climate_countries_label = climate_countries.explode('nationality').merge(qids, left_on='nationality', right_on='QID')\n",
        "print(climate_countries_label.shape)\n",
        "climate_countries_label.drop(columns=['id', 'label', 'Description', 'aliases', 'date_of_birth', 'gender', \n",
        "                                      'lastrevid', 'ethnic_group', 'US_congress_bio_ID', 'occupation',\n",
        "                                      'party', 'academic_degree', 'candidacy', 'type', 'religion'], axis=1, inplace=True)\n",
        "climate_countries_label = climate_countries_label.rename(columns={'nationality': 'nationality_qid', \n",
        "                                                                  'Label': 'nationality_label'})\n",
        "climate_countries_label.sample(3)"
      ],
      "execution_count": 23,
      "outputs": [
        {
          "output_type": "stream",
          "name": "stdout",
          "text": [
            "(178900, 27)\n"
          ]
        },
        {
          "output_type": "execute_result",
          "data": {
            "text/html": [
              "<div>\n",
              "<style scoped>\n",
              "    .dataframe tbody tr th:only-of-type {\n",
              "        vertical-align: middle;\n",
              "    }\n",
              "\n",
              "    .dataframe tbody tr th {\n",
              "        vertical-align: top;\n",
              "    }\n",
              "\n",
              "    .dataframe thead th {\n",
              "        text-align: right;\n",
              "    }\n",
              "</style>\n",
              "<table border=\"1\" class=\"dataframe\">\n",
              "  <thead>\n",
              "    <tr style=\"text-align: right;\">\n",
              "      <th></th>\n",
              "      <th>quoteID</th>\n",
              "      <th>quotation</th>\n",
              "      <th>speaker</th>\n",
              "      <th>qids</th>\n",
              "      <th>date</th>\n",
              "      <th>numOccurrences</th>\n",
              "      <th>probas</th>\n",
              "      <th>urls</th>\n",
              "      <th>phase</th>\n",
              "      <th>year</th>\n",
              "      <th>nationality_qid</th>\n",
              "      <th>nationality_label</th>\n",
              "    </tr>\n",
              "  </thead>\n",
              "  <tbody>\n",
              "    <tr>\n",
              "      <th>67141</th>\n",
              "      <td>2017-09-24-068213</td>\n",
              "      <td>These days with climate change and high-risk o...</td>\n",
              "      <td>Larry Bishop</td>\n",
              "      <td>Q593071</td>\n",
              "      <td>2017-09-24 07:53:39</td>\n",
              "      <td>1</td>\n",
              "      <td>[[Larry Bishop, 0.9468], [None, 0.0532]]</td>\n",
              "      <td>[https://www.noozhawk.com/article/irv_beiman_o...</td>\n",
              "      <td>E</td>\n",
              "      <td>2017</td>\n",
              "      <td>Q30</td>\n",
              "      <td>United States of America</td>\n",
              "    </tr>\n",
              "    <tr>\n",
              "      <th>108510</th>\n",
              "      <td>2018-12-02-008049</td>\n",
              "      <td>Climate change, the death of oceans, these are...</td>\n",
              "      <td>Paul Martin</td>\n",
              "      <td>Q44694092</td>\n",
              "      <td>2018-12-02 19:26:11</td>\n",
              "      <td>1</td>\n",
              "      <td>[[Paul Martin, 0.7372], [Lawrence Summers, 0.2...</td>\n",
              "      <td>[https://www.hellenicshippingnews.com/the-late...</td>\n",
              "      <td>E</td>\n",
              "      <td>2018</td>\n",
              "      <td>Q664</td>\n",
              "      <td>New Zealand</td>\n",
              "    </tr>\n",
              "    <tr>\n",
              "      <th>134983</th>\n",
              "      <td>2017-08-10-126792</td>\n",
              "      <td>The reason it has dried up over a long period ...</td>\n",
              "      <td>Ian Read</td>\n",
              "      <td>Q20797619</td>\n",
              "      <td>2017-08-10 17:00:00</td>\n",
              "      <td>3</td>\n",
              "      <td>[[Ian Read, 0.7294], [None, 0.2706]]</td>\n",
              "      <td>[http://m.nzherald.co.nz/entertainment/news/ar...</td>\n",
              "      <td>E</td>\n",
              "      <td>2017</td>\n",
              "      <td>Q145</td>\n",
              "      <td>United Kingdom</td>\n",
              "    </tr>\n",
              "  </tbody>\n",
              "</table>\n",
              "</div>"
            ],
            "text/plain": [
              "                  quoteID  ...         nationality_label\n",
              "67141   2017-09-24-068213  ...  United States of America\n",
              "108510  2018-12-02-008049  ...               New Zealand\n",
              "134983  2017-08-10-126792  ...            United Kingdom\n",
              "\n",
              "[3 rows x 12 columns]"
            ]
          },
          "metadata": {},
          "execution_count": 23
        }
      ]
    },
    {
      "cell_type": "code",
      "metadata": {
        "id": "hd8j9zyLYkiC",
        "colab": {
          "base_uri": "https://localhost:8080/",
          "height": 282
        },
        "outputId": "1cbaa7c4-a631-46fd-e5f1-5a6a5d3281b3"
      },
      "source": [
        "# number of quotes by countries\n",
        "countries = climate_countries_label.groupby(by='nationality_label').count().sort_values(by='quotation', ascending=False).quotation\n",
        "sns.barplot(x=countries[:10].values, y=countries[:10].index)"
      ],
      "execution_count": 24,
      "outputs": [
        {
          "output_type": "execute_result",
          "data": {
            "text/plain": [
              "<matplotlib.axes._subplots.AxesSubplot at 0x7f00610b02d0>"
            ]
          },
          "metadata": {},
          "execution_count": 24
        },
        {
          "output_type": "display_data",
          "data": {
            "image/png": "[encoded data removed]",
            "text/plain": [
              "<Figure size 432x288 with 1 Axes>"
            ]
          },
          "metadata": {
            "needs_background": "light"
          }
        }
      ]
    },
    {
      "cell_type": "markdown",
      "metadata": {
        "id": "n8wzbuAV-Z13"
      },
      "source": [
        "It is time for a clear visualization of the nationality of our speakers, so we are providing an intersting map of the world for a clear vision! :)"
      ]
    },
    {
      "cell_type": "code",
      "metadata": {
        "id": "mJdQ2Wb6Ykey"
      },
      "source": [
        "pip install pycountry"
      ],
      "execution_count": null,
      "outputs": []
    },
    {
      "cell_type": "code",
      "metadata": {
        "id": "4BkUi13OYkbk"
      },
      "source": [
        "pip install geopandas"
      ],
      "execution_count": null,
      "outputs": []
    },
    {
      "cell_type": "code",
      "metadata": {
        "id": "B2AG2WXgYuYr"
      },
      "source": [
        "pip install mapclassify"
      ],
      "execution_count": null,
      "outputs": []
    },
    {
      "cell_type": "code",
      "metadata": {
        "id": "B3jGvKrMYuVl"
      },
      "source": [
        "import pycountry \n",
        "import geopandas"
      ],
      "execution_count": 28,
      "outputs": []
    },
    {
      "cell_type": "code",
      "metadata": {
        "id": "KUkRqJKKYuSp"
      },
      "source": [
        "# generate country code  based on country name \n",
        "# from https://melaniesoek0120.medium.com/data-visualization-how-to-plot-a-map-with-geopandas-in-python-73b10dcd4b4b\n",
        "def alpha3code(column):\n",
        "    CODE=[]\n",
        "    for country in column:\n",
        "        try:\n",
        "            code=pycountry.countries.get(name=country).alpha_3\n",
        "            CODE.append(code)\n",
        "        except:\n",
        "            CODE.append('None')\n",
        "    return CODE"
      ],
      "execution_count": 29,
      "outputs": []
    },
    {
      "cell_type": "code",
      "metadata": {
        "id": "tdrAcsT_YuP8",
        "colab": {
          "base_uri": "https://localhost:8080/",
          "height": 142
        },
        "outputId": "b7e793d4-b02f-4e27-ddba-7d157f1b1491"
      },
      "source": [
        "# add to the country dataframe all the infos about the countries for the world map\n",
        "countries_df = pd.DataFrame(countries)\n",
        "countries_df.reset_index(inplace=True)\n",
        "countries_df.replace('United States of America', 'United States', inplace=True)\n",
        "countries_df['CODE'] = alpha3code(countries_df.nationality_label)\n",
        "countries_df = countries_df.drop(countries_df.index[countries_df['CODE'] == 'None'])\n",
        "world = geopandas.read_file(geopandas.datasets.get_path('naturalearth_lowres'))\n",
        "world.columns = ['pop_est', 'continent', 'name', 'CODE', 'gdp_md_est', 'geometry']\n",
        "countries_geo = pd.merge(world, countries_df,on='CODE')\n",
        "countries_geo.sample(3)"
      ],
      "execution_count": 30,
      "outputs": [
        {
          "output_type": "execute_result",
          "data": {
            "text/html": [
              "<div>\n",
              "<style scoped>\n",
              "    .dataframe tbody tr th:only-of-type {\n",
              "        vertical-align: middle;\n",
              "    }\n",
              "\n",
              "    .dataframe tbody tr th {\n",
              "        vertical-align: top;\n",
              "    }\n",
              "\n",
              "    .dataframe thead th {\n",
              "        text-align: right;\n",
              "    }\n",
              "</style>\n",
              "<table border=\"1\" class=\"dataframe\">\n",
              "  <thead>\n",
              "    <tr style=\"text-align: right;\">\n",
              "      <th></th>\n",
              "      <th>pop_est</th>\n",
              "      <th>continent</th>\n",
              "      <th>name</th>\n",
              "      <th>CODE</th>\n",
              "      <th>gdp_md_est</th>\n",
              "      <th>geometry</th>\n",
              "      <th>nationality_label</th>\n",
              "      <th>quotation</th>\n",
              "    </tr>\n",
              "  </thead>\n",
              "  <tbody>\n",
              "    <tr>\n",
              "      <th>54</th>\n",
              "      <td>29310273</td>\n",
              "      <td>Africa</td>\n",
              "      <td>Angola</td>\n",
              "      <td>AGO</td>\n",
              "      <td>189000.0</td>\n",
              "      <td>MULTIPOLYGON (((12.99552 -4.78110, 12.63161 -4...</td>\n",
              "      <td>Angola</td>\n",
              "      <td>11</td>\n",
              "    </tr>\n",
              "    <tr>\n",
              "      <th>112</th>\n",
              "      <td>104256076</td>\n",
              "      <td>Asia</td>\n",
              "      <td>Philippines</td>\n",
              "      <td>PHL</td>\n",
              "      <td>801900.0</td>\n",
              "      <td>MULTIPOLYGON (((120.83390 12.70450, 120.32344 ...</td>\n",
              "      <td>Philippines</td>\n",
              "      <td>655</td>\n",
              "    </tr>\n",
              "    <tr>\n",
              "      <th>61</th>\n",
              "      <td>2314307</td>\n",
              "      <td>Asia</td>\n",
              "      <td>Qatar</td>\n",
              "      <td>QAT</td>\n",
              "      <td>334500.0</td>\n",
              "      <td>POLYGON ((50.81011 24.75474, 50.74391 25.48242...</td>\n",
              "      <td>Qatar</td>\n",
              "      <td>11</td>\n",
              "    </tr>\n",
              "  </tbody>\n",
              "</table>\n",
              "</div>"
            ],
            "text/plain": [
              "       pop_est continent  ... nationality_label quotation\n",
              "54    29310273    Africa  ...            Angola        11\n",
              "112  104256076      Asia  ...       Philippines       655\n",
              "61     2314307      Asia  ...             Qatar        11\n",
              "\n",
              "[3 rows x 8 columns]"
            ]
          },
          "metadata": {},
          "execution_count": 30
        }
      ]
    },
    {
      "cell_type": "code",
      "metadata": {
        "id": "sGNYhf0NYuNG",
        "colab": {
          "base_uri": "https://localhost:8080/",
          "height": 383
        },
        "outputId": "5d95c7f7-ff58-4cd9-fe36-bbd236810b89"
      },
      "source": [
        "# plot the number of quotations on the world map\n",
        "countries_geo.plot(column='quotation', scheme=\"quantiles\", figsize=(15, 20), legend=True, cmap='coolwarm')\n",
        "plt.title('Number of quotations about climate change',fontsize=15)\n",
        "plt.axis(\"off\")\n",
        "plt.show()"
      ],
      "execution_count": 31,
      "outputs": [
        {
          "output_type": "display_data",
          "data": {
            "image/png": "[encoded data removed]",
            "text/plain": [
              "<Figure size 1080x1440 with 1 Axes>"
            ]
          },
          "metadata": {
            "needs_background": "light"
          }
        }
      ]
    },
    {
      "cell_type": "markdown",
      "metadata": {
        "id": "frVc5to8Y2FQ"
      },
      "source": [
        "## Political parties"
      ]
    },
    {
      "cell_type": "markdown",
      "metadata": {
        "id": "ZxXFGIeF_AYr"
      },
      "source": [
        "Political parties are an important part of our analysis, so in this section we are extracting all the information about them that we will merge with our data set containing quotes abog climate change. The idea is, also, to divide the political parties into left-wing and right-wing parties and try to perform a classification that will provide us with the information is there a difference on how left-wing and right-wing parties treat climate change."
      ]
    },
    {
      "cell_type": "code",
      "metadata": {
        "id": "ocpgBKYqY5yb",
        "colab": {
          "base_uri": "https://localhost:8080/",
          "height": 434
        },
        "outputId": "f9e64405-ba86-4e68-a348-f8ee5c575e91"
      },
      "source": [
        "# merge the quotes about global warming with the wikidata using the qids\n",
        "climate_wikidata = climate_all_years_clean.explode('qids').merge(wikidata, left_on='qids', right_on='id')\n",
        "climate_wikidata.drop(columns=['id', 'label'], axis=1, inplace=True)\n",
        "print(climate_wikidata.shape)\n",
        "climate_wikidata.head(3)"
      ],
      "execution_count": 32,
      "outputs": [
        {
          "output_type": "stream",
          "name": "stdout",
          "text": [
            "(221681, 23)\n"
          ]
        },
        {
          "output_type": "execute_result",
          "data": {
            "text/html": [
              "<div>\n",
              "<style scoped>\n",
              "    .dataframe tbody tr th:only-of-type {\n",
              "        vertical-align: middle;\n",
              "    }\n",
              "\n",
              "    .dataframe tbody tr th {\n",
              "        vertical-align: top;\n",
              "    }\n",
              "\n",
              "    .dataframe thead th {\n",
              "        text-align: right;\n",
              "    }\n",
              "</style>\n",
              "<table border=\"1\" class=\"dataframe\">\n",
              "  <thead>\n",
              "    <tr style=\"text-align: right;\">\n",
              "      <th></th>\n",
              "      <th>quoteID</th>\n",
              "      <th>quotation</th>\n",
              "      <th>speaker</th>\n",
              "      <th>qids</th>\n",
              "      <th>date</th>\n",
              "      <th>numOccurrences</th>\n",
              "      <th>probas</th>\n",
              "      <th>urls</th>\n",
              "      <th>phase</th>\n",
              "      <th>year</th>\n",
              "      <th>aliases</th>\n",
              "      <th>date_of_birth</th>\n",
              "      <th>nationality</th>\n",
              "      <th>gender</th>\n",
              "      <th>lastrevid</th>\n",
              "      <th>ethnic_group</th>\n",
              "      <th>US_congress_bio_ID</th>\n",
              "      <th>occupation</th>\n",
              "      <th>party</th>\n",
              "      <th>academic_degree</th>\n",
              "      <th>candidacy</th>\n",
              "      <th>type</th>\n",
              "      <th>religion</th>\n",
              "    </tr>\n",
              "  </thead>\n",
              "  <tbody>\n",
              "    <tr>\n",
              "      <th>0</th>\n",
              "      <td>2015-09-28-067347</td>\n",
              "      <td>man-made emissions are an insignificant part o...</td>\n",
              "      <td>John Abraham</td>\n",
              "      <td>Q313025</td>\n",
              "      <td>2015-09-28 23:16:52</td>\n",
              "      <td>1</td>\n",
              "      <td>[[John Abraham, 0.6469], [None, 0.3092], [Will...</td>\n",
              "      <td>[http://www.desmogblog.com/donors-capital-fund]</td>\n",
              "      <td>E</td>\n",
              "      <td>2015</td>\n",
              "      <td>None</td>\n",
              "      <td>[+1972-12-17T00:00:00Z]</td>\n",
              "      <td>[Q668]</td>\n",
              "      <td>[Q6581097]</td>\n",
              "      <td>1354134367</td>\n",
              "      <td>None</td>\n",
              "      <td>None</td>\n",
              "      <td>[Q33999, Q4610556, Q3282637, Q10800557]</td>\n",
              "      <td>None</td>\n",
              "      <td>None</td>\n",
              "      <td>None</td>\n",
              "      <td>item</td>\n",
              "      <td>[Q5043]</td>\n",
              "    </tr>\n",
              "    <tr>\n",
              "      <th>1</th>\n",
              "      <td>2015-02-26-060320</td>\n",
              "      <td>New Study Finds Fringe Global Warming Contrari...</td>\n",
              "      <td>John Abraham</td>\n",
              "      <td>Q313025</td>\n",
              "      <td>2015-02-26 17:16:07</td>\n",
              "      <td>1</td>\n",
              "      <td>[[John Abraham, 0.7708], [None, 0.2051], [Harr...</td>\n",
              "      <td>[http://www.globalresearch.ca/is-the-u-s-mains...</td>\n",
              "      <td>E</td>\n",
              "      <td>2015</td>\n",
              "      <td>None</td>\n",
              "      <td>[+1972-12-17T00:00:00Z]</td>\n",
              "      <td>[Q668]</td>\n",
              "      <td>[Q6581097]</td>\n",
              "      <td>1354134367</td>\n",
              "      <td>None</td>\n",
              "      <td>None</td>\n",
              "      <td>[Q33999, Q4610556, Q3282637, Q10800557]</td>\n",
              "      <td>None</td>\n",
              "      <td>None</td>\n",
              "      <td>None</td>\n",
              "      <td>item</td>\n",
              "      <td>[Q5043]</td>\n",
              "    </tr>\n",
              "    <tr>\n",
              "      <th>2</th>\n",
              "      <td>2015-09-17-007663</td>\n",
              "      <td>Any argument that global warming stopped 18 or...</td>\n",
              "      <td>John Abraham</td>\n",
              "      <td>Q313025</td>\n",
              "      <td>2015-09-17 10:01:00</td>\n",
              "      <td>2</td>\n",
              "      <td>[[John Abraham, 0.8673], [None, 0.1292], [Lama...</td>\n",
              "      <td>[http://www.environmentalhealthnews.org/t/1883...</td>\n",
              "      <td>E</td>\n",
              "      <td>2015</td>\n",
              "      <td>None</td>\n",
              "      <td>[+1972-12-17T00:00:00Z]</td>\n",
              "      <td>[Q668]</td>\n",
              "      <td>[Q6581097]</td>\n",
              "      <td>1354134367</td>\n",
              "      <td>None</td>\n",
              "      <td>None</td>\n",
              "      <td>[Q33999, Q4610556, Q3282637, Q10800557]</td>\n",
              "      <td>None</td>\n",
              "      <td>None</td>\n",
              "      <td>None</td>\n",
              "      <td>item</td>\n",
              "      <td>[Q5043]</td>\n",
              "    </tr>\n",
              "  </tbody>\n",
              "</table>\n",
              "</div>"
            ],
            "text/plain": [
              "             quoteID  ... religion\n",
              "0  2015-09-28-067347  ...  [Q5043]\n",
              "1  2015-02-26-060320  ...  [Q5043]\n",
              "2  2015-09-17-007663  ...  [Q5043]\n",
              "\n",
              "[3 rows x 23 columns]"
            ]
          },
          "metadata": {},
          "execution_count": 32
        }
      ]
    },
    {
      "cell_type": "code",
      "metadata": {
        "id": "i1Y804lmY70L"
      },
      "source": [
        "# add the labels of the parties\n",
        "climate_wikidata_label = climate_wikidata.explode('party').merge(qids, left_on='party', right_on='QID')\n",
        "climate_wikidata_label.drop(columns=['Description'], axis=1, inplace=True)\n",
        "climate_wikidata_label.rename(columns={'Label': 'party_label'}, inplace=True)"
      ],
      "execution_count": 33,
      "outputs": []
    },
    {
      "cell_type": "code",
      "metadata": {
        "id": "F4mrpWJcY7xc",
        "colab": {
          "base_uri": "https://localhost:8080/",
          "height": 434
        },
        "outputId": "998b6dcf-510b-416c-e0dd-31053b1d416f"
      },
      "source": [
        "# add the labels of all the countries\n",
        "climate_wikidata_label = climate_wikidata_label.explode('nationality').merge(qids, left_on='nationality', right_on='QID')\n",
        "climate_wikidata_label.drop(columns=['Description'], axis=1, inplace=True)\n",
        "climate_wikidata_label.rename(columns={'Label': 'nationality_label'}, inplace=True)\n",
        "climate_wikidata_label.sample(3)"
      ],
      "execution_count": 34,
      "outputs": [
        {
          "output_type": "execute_result",
          "data": {
            "text/html": [
              "<div>\n",
              "<style scoped>\n",
              "    .dataframe tbody tr th:only-of-type {\n",
              "        vertical-align: middle;\n",
              "    }\n",
              "\n",
              "    .dataframe tbody tr th {\n",
              "        vertical-align: top;\n",
              "    }\n",
              "\n",
              "    .dataframe thead th {\n",
              "        text-align: right;\n",
              "    }\n",
              "</style>\n",
              "<table border=\"1\" class=\"dataframe\">\n",
              "  <thead>\n",
              "    <tr style=\"text-align: right;\">\n",
              "      <th></th>\n",
              "      <th>quoteID</th>\n",
              "      <th>quotation</th>\n",
              "      <th>speaker</th>\n",
              "      <th>qids</th>\n",
              "      <th>date</th>\n",
              "      <th>numOccurrences</th>\n",
              "      <th>probas</th>\n",
              "      <th>urls</th>\n",
              "      <th>phase</th>\n",
              "      <th>year</th>\n",
              "      <th>aliases</th>\n",
              "      <th>date_of_birth</th>\n",
              "      <th>nationality</th>\n",
              "      <th>gender</th>\n",
              "      <th>lastrevid</th>\n",
              "      <th>ethnic_group</th>\n",
              "      <th>US_congress_bio_ID</th>\n",
              "      <th>occupation</th>\n",
              "      <th>party</th>\n",
              "      <th>academic_degree</th>\n",
              "      <th>candidacy</th>\n",
              "      <th>type</th>\n",
              "      <th>religion</th>\n",
              "      <th>party_label</th>\n",
              "      <th>nationality_label</th>\n",
              "    </tr>\n",
              "  </thead>\n",
              "  <tbody>\n",
              "    <tr>\n",
              "      <th>7775</th>\n",
              "      <td>2018-10-17-154847</td>\n",
              "      <td>You have scientists on both sides of the issue...</td>\n",
              "      <td>Donald Trump</td>\n",
              "      <td>Q22686</td>\n",
              "      <td>2018-10-17 19:06:02</td>\n",
              "      <td>2</td>\n",
              "      <td>[[Donald Trump, 0.6431], [None, 0.3569]]</td>\n",
              "      <td>[http://vanityfair.com/news/2018/10/trump-very...</td>\n",
              "      <td>E</td>\n",
              "      <td>2018</td>\n",
              "      <td>[Donald John Trump, Donald J. Trump, Trump, Th...</td>\n",
              "      <td>[+1946-06-14T00:00:00Z]</td>\n",
              "      <td>Q30</td>\n",
              "      <td>[Q6581097]</td>\n",
              "      <td>1395141850</td>\n",
              "      <td>None</td>\n",
              "      <td>None</td>\n",
              "      <td>[Q911554, Q557880, Q3427922, Q15980158, Q13152...</td>\n",
              "      <td>Q29552</td>\n",
              "      <td>[Q787674]</td>\n",
              "      <td>[Q699872, Q22923830, Q38051523]</td>\n",
              "      <td>item</td>\n",
              "      <td>[Q178169]</td>\n",
              "      <td>Democratic Party</td>\n",
              "      <td>United States of America</td>\n",
              "    </tr>\n",
              "    <tr>\n",
              "      <th>55171</th>\n",
              "      <td>2020-01-15-067243</td>\n",
              "      <td>Quite frankly, allowing some provinces to... l...</td>\n",
              "      <td>Brian Pallister</td>\n",
              "      <td>Q2924976</td>\n",
              "      <td>2020-01-15 12:34:00</td>\n",
              "      <td>8</td>\n",
              "      <td>[[Brian Pallister, 0.8072], [None, 0.1803], [J...</td>\n",
              "      <td>[http://www.newwestrecord.ca/manitoba-premier-...</td>\n",
              "      <td>E</td>\n",
              "      <td>2020</td>\n",
              "      <td>None</td>\n",
              "      <td>[+1954-07-06T00:00:00Z]</td>\n",
              "      <td>Q16</td>\n",
              "      <td>[Q6581097]</td>\n",
              "      <td>1389226247</td>\n",
              "      <td>None</td>\n",
              "      <td>None</td>\n",
              "      <td>[Q17516936, Q82955]</td>\n",
              "      <td>Q3366633</td>\n",
              "      <td>None</td>\n",
              "      <td>None</td>\n",
              "      <td>item</td>\n",
              "      <td>None</td>\n",
              "      <td>Progressive Conservative Party of Manitoba</td>\n",
              "      <td>Canada</td>\n",
              "    </tr>\n",
              "    <tr>\n",
              "      <th>55188</th>\n",
              "      <td>2019-09-28-016117</td>\n",
              "      <td>I have a drawer full of letters and, much to m...</td>\n",
              "      <td>Rochelle Squires</td>\n",
              "      <td>Q24053382</td>\n",
              "      <td>2019-09-28 00:00:00</td>\n",
              "      <td>1</td>\n",
              "      <td>[[Rochelle Squires, 0.938], [None, 0.062]]</td>\n",
              "      <td>[https://www.winnipegfreepress.com/local/city-...</td>\n",
              "      <td>E</td>\n",
              "      <td>2019</td>\n",
              "      <td>None</td>\n",
              "      <td>None</td>\n",
              "      <td>Q16</td>\n",
              "      <td>[Q6581072]</td>\n",
              "      <td>1389304648</td>\n",
              "      <td>None</td>\n",
              "      <td>None</td>\n",
              "      <td>[Q82955]</td>\n",
              "      <td>Q3366633</td>\n",
              "      <td>None</td>\n",
              "      <td>None</td>\n",
              "      <td>item</td>\n",
              "      <td>None</td>\n",
              "      <td>Progressive Conservative Party of Manitoba</td>\n",
              "      <td>Canada</td>\n",
              "    </tr>\n",
              "  </tbody>\n",
              "</table>\n",
              "</div>"
            ],
            "text/plain": [
              "                 quoteID  ...         nationality_label\n",
              "7775   2018-10-17-154847  ...  United States of America\n",
              "55171  2020-01-15-067243  ...                    Canada\n",
              "55188  2019-09-28-016117  ...                    Canada\n",
              "\n",
              "[3 rows x 25 columns]"
            ]
          },
          "metadata": {},
          "execution_count": 34
        }
      ]
    },
    {
      "cell_type": "code",
      "metadata": {
        "id": "asBoldkWY7ue",
        "colab": {
          "base_uri": "https://localhost:8080/",
          "height": 282
        },
        "outputId": "a82b47b5-b2c3-486e-aa6e-008942d78852"
      },
      "source": [
        "# number of quotes by parties in the world\n",
        "parties = climate_wikidata_label.groupby(by='party_label').count().sort_values(by='quotation', ascending=False).quotation\n",
        "sns.barplot(x=parties[:10].values, y=parties[:10].index)"
      ],
      "execution_count": 35,
      "outputs": [
        {
          "output_type": "execute_result",
          "data": {
            "text/plain": [
              "<matplotlib.axes._subplots.AxesSubplot at 0x7efe8e314490>"
            ]
          },
          "metadata": {},
          "execution_count": 35
        },
        {
          "output_type": "display_data",
          "data": {
            "image/png": "[encoded data removed]",
            "text/plain": [
              "<Figure size 432x288 with 1 Axes>"
            ]
          },
          "metadata": {
            "needs_background": "light"
          }
        }
      ]
    },
    {
      "cell_type": "code",
      "metadata": {
        "id": "k_ADWWHqY7rs"
      },
      "source": [
        "# number of quotes by countries and parties in the world\n",
        "parties_countries = climate_wikidata_label.groupby(by=['nationality_label', 'party_label']).count().sort_values(by='quotation', ascending=False).quotation\n",
        "parties_countries_df = pd.DataFrame(parties_countries)\n",
        "parties_countries_df.reset_index(inplace=True)\n",
        "parties_countries_df = pd.DataFrame(parties_countries)\n",
        "parties_countries_df.reset_index(inplace=True)"
      ],
      "execution_count": 36,
      "outputs": []
    },
    {
      "cell_type": "code",
      "metadata": {
        "id": "TqjYly0yY7o1",
        "colab": {
          "base_uri": "https://localhost:8080/",
          "height": 296
        },
        "outputId": "c9904d73-6eb8-4e11-d229-225c71f6a6b2"
      },
      "source": [
        "# parties for the USA\n",
        "US_data = parties_countries_df[parties_countries_df.nationality_label == 'United States of America']\n",
        "sns.barplot(data=US_data[:3], x='quotation', y='party_label')"
      ],
      "execution_count": 37,
      "outputs": [
        {
          "output_type": "execute_result",
          "data": {
            "text/plain": [
              "<matplotlib.axes._subplots.AxesSubplot at 0x7efe85a7f750>"
            ]
          },
          "metadata": {},
          "execution_count": 37
        },
        {
          "output_type": "display_data",
          "data": {
            "image/png": "[encoded data removed]",
            "text/plain": [
              "<Figure size 432x288 with 1 Axes>"
            ]
          },
          "metadata": {
            "needs_background": "light"
          }
        }
      ]
    },
    {
      "cell_type": "code",
      "metadata": {
        "id": "4y5tb6CkZA16",
        "colab": {
          "base_uri": "https://localhost:8080/",
          "height": 296
        },
        "outputId": "e5790083-5da3-4505-b971-9ce3943f1780"
      },
      "source": [
        "# parties for the UK\n",
        "UK_data = parties_countries_df[parties_countries_df.nationality_label == 'United Kingdom']\n",
        "sns.barplot(data=UK_data[:3], x='quotation', y='party_label')"
      ],
      "execution_count": 38,
      "outputs": [
        {
          "output_type": "execute_result",
          "data": {
            "text/plain": [
              "<matplotlib.axes._subplots.AxesSubplot at 0x7efe859d0e90>"
            ]
          },
          "metadata": {},
          "execution_count": 38
        },
        {
          "output_type": "display_data",
          "data": {
            "image/png": "[encoded data removed]",
            "text/plain": [
              "<Figure size 432x288 with 1 Axes>"
            ]
          },
          "metadata": {
            "needs_background": "light"
          }
        }
      ]
    },
    {
      "cell_type": "code",
      "metadata": {
        "id": "l6TBr7RIZAyK",
        "colab": {
          "base_uri": "https://localhost:8080/",
          "height": 296
        },
        "outputId": "c0e731a5-5625-471e-99bc-b9d03961d290"
      },
      "source": [
        "# parties for Canada\n",
        "canada_data = parties_countries_df[parties_countries_df.nationality_label == 'Canada']\n",
        "sns.barplot(data=canada_data[:3], x='quotation', y='party_label')"
      ],
      "execution_count": 39,
      "outputs": [
        {
          "output_type": "execute_result",
          "data": {
            "text/plain": [
              "<matplotlib.axes._subplots.AxesSubplot at 0x7efe8594d050>"
            ]
          },
          "metadata": {},
          "execution_count": 39
        },
        {
          "output_type": "display_data",
          "data": {
            "image/png": "[encoded data removed]",
            "text/plain": [
              "<Figure size 432x288 with 1 Axes>"
            ]
          },
          "metadata": {
            "needs_background": "light"
          }
        }
      ]
    },
    {
      "cell_type": "markdown",
      "metadata": {
        "id": "8qm_ThfjPKcS"
      },
      "source": [
        "## Age categories"
      ]
    },
    {
      "cell_type": "markdown",
      "metadata": {
        "id": "8Y3rEniv_wtO"
      },
      "source": [
        "Age categories analysis will help us determine is there a significant difference in the opinions of different age groups about climate change. By adding the age information to every speaker of a quote, we will try to summarize, compare, and observe the opinions that people of a certain age have about climate change."
      ]
    },
    {
      "cell_type": "code",
      "metadata": {
        "id": "nRDgNzsZPL6k"
      },
      "source": [
        "# to find the age category\n",
        "def age_category(age):\n",
        "  if age < 17:\n",
        "    return '0-16'\n",
        "  elif age < 31:\n",
        "    return '17-30'\n",
        "  elif age < 46:\n",
        "    return '31-45'\n",
        "  elif age < 66:\n",
        "    return '46-65'\n",
        "  else:\n",
        "    return '66+'"
      ],
      "execution_count": 40,
      "outputs": []
    },
    {
      "cell_type": "code",
      "metadata": {
        "colab": {
          "base_uri": "https://localhost:8080/",
          "height": 417
        },
        "id": "huDEzgLNPOpB",
        "outputId": "644d4065-a47f-4138-b14d-2067cba99162"
      },
      "source": [
        "# create birth_year, age and age_category columns\n",
        "climate_wikidata_ages = climate_wikidata_label.dropna(axis=0, subset=['date_of_birth'])\n",
        "climate_wikidata_ages['birth_year'] = climate_wikidata_ages.date_of_birth.apply(lambda x: int(x[0][1:5]))\n",
        "climate_wikidata_ages['age'] = climate_wikidata_ages['year'] - climate_wikidata_ages['birth_year']\n",
        "climate_wikidata_ages['age_category'] = climate_wikidata_ages['age'].apply(age_category)\n",
        "climate_wikidata_ages.sample(3)"
      ],
      "execution_count": 41,
      "outputs": [
        {
          "output_type": "execute_result",
          "data": {
            "text/html": [
              "<div>\n",
              "<style scoped>\n",
              "    .dataframe tbody tr th:only-of-type {\n",
              "        vertical-align: middle;\n",
              "    }\n",
              "\n",
              "    .dataframe tbody tr th {\n",
              "        vertical-align: top;\n",
              "    }\n",
              "\n",
              "    .dataframe thead th {\n",
              "        text-align: right;\n",
              "    }\n",
              "</style>\n",
              "<table border=\"1\" class=\"dataframe\">\n",
              "  <thead>\n",
              "    <tr style=\"text-align: right;\">\n",
              "      <th></th>\n",
              "      <th>quoteID</th>\n",
              "      <th>quotation</th>\n",
              "      <th>speaker</th>\n",
              "      <th>qids</th>\n",
              "      <th>date</th>\n",
              "      <th>numOccurrences</th>\n",
              "      <th>probas</th>\n",
              "      <th>urls</th>\n",
              "      <th>phase</th>\n",
              "      <th>year</th>\n",
              "      <th>aliases</th>\n",
              "      <th>date_of_birth</th>\n",
              "      <th>nationality</th>\n",
              "      <th>gender</th>\n",
              "      <th>lastrevid</th>\n",
              "      <th>ethnic_group</th>\n",
              "      <th>US_congress_bio_ID</th>\n",
              "      <th>occupation</th>\n",
              "      <th>party</th>\n",
              "      <th>academic_degree</th>\n",
              "      <th>candidacy</th>\n",
              "      <th>type</th>\n",
              "      <th>religion</th>\n",
              "      <th>party_label</th>\n",
              "      <th>nationality_label</th>\n",
              "      <th>birth_year</th>\n",
              "      <th>age</th>\n",
              "      <th>age_category</th>\n",
              "    </tr>\n",
              "  </thead>\n",
              "  <tbody>\n",
              "    <tr>\n",
              "      <th>32764</th>\n",
              "      <td>2019-11-19-019006</td>\n",
              "      <td>Estimates say that climate change will cost Am...</td>\n",
              "      <td>Mike Thompson</td>\n",
              "      <td>Q6849042</td>\n",
              "      <td>2019-11-19 21:04:32</td>\n",
              "      <td>1</td>\n",
              "      <td>[[Mike Thompson, 0.8207], [None, 0.1793]]</td>\n",
              "      <td>[http://biodieselmagazine.com/articles/2516847...</td>\n",
              "      <td>E</td>\n",
              "      <td>2019</td>\n",
              "      <td>None</td>\n",
              "      <td>[+1976-10-11T00:00:00Z]</td>\n",
              "      <td>Q30</td>\n",
              "      <td>[Q6581097]</td>\n",
              "      <td>1392780925</td>\n",
              "      <td>None</td>\n",
              "      <td>None</td>\n",
              "      <td>[Q82955]</td>\n",
              "      <td>Q29468</td>\n",
              "      <td>None</td>\n",
              "      <td>None</td>\n",
              "      <td>item</td>\n",
              "      <td>None</td>\n",
              "      <td>Republican Party</td>\n",
              "      <td>United States of America</td>\n",
              "      <td>1976</td>\n",
              "      <td>43</td>\n",
              "      <td>31-45</td>\n",
              "    </tr>\n",
              "    <tr>\n",
              "      <th>73527</th>\n",
              "      <td>2018-10-03-124117</td>\n",
              "      <td>We are recognising a statesman who embodies tr...</td>\n",
              "      <td>Antonio Guterres</td>\n",
              "      <td>Q311440</td>\n",
              "      <td>2018-10-03 20:15:37</td>\n",
              "      <td>2</td>\n",
              "      <td>[[Antonio Guterres, 0.4184], [None, 0.246], [N...</td>\n",
              "      <td>[http://www.asianage.com/india/all-india/04101...</td>\n",
              "      <td>E</td>\n",
              "      <td>2018</td>\n",
              "      <td>[António Manuel de Oliveira Guterres, Antonio ...</td>\n",
              "      <td>[+1949-04-30T00:00:00Z]</td>\n",
              "      <td>Q45</td>\n",
              "      <td>[Q6581097]</td>\n",
              "      <td>1393338513</td>\n",
              "      <td>None</td>\n",
              "      <td>None</td>\n",
              "      <td>[Q82955, Q81096, Q5669847]</td>\n",
              "      <td>Q847263</td>\n",
              "      <td>None</td>\n",
              "      <td>None</td>\n",
              "      <td>item</td>\n",
              "      <td>[Q9592]</td>\n",
              "      <td>Socialist Party</td>\n",
              "      <td>Portugal</td>\n",
              "      <td>1949</td>\n",
              "      <td>69</td>\n",
              "      <td>66+</td>\n",
              "    </tr>\n",
              "    <tr>\n",
              "      <th>17367</th>\n",
              "      <td>2018-10-11-018031</td>\n",
              "      <td>Climate change is real, it is being driven by ...</td>\n",
              "      <td>Chuck Schumer</td>\n",
              "      <td>Q380900</td>\n",
              "      <td>2018-10-11 17:59:34</td>\n",
              "      <td>1</td>\n",
              "      <td>[[Chuck Schumer, 0.8816], [None, 0.1184]]</td>\n",
              "      <td>[http://pjmedia.com/news-and-politics/schumer-...</td>\n",
              "      <td>E</td>\n",
              "      <td>2018</td>\n",
              "      <td>[Charles Ellis \"Chuck\" Schumer, Charles Schume...</td>\n",
              "      <td>[+1950-11-23T00:00:00Z, +1950-10-23T00:00:00Z]</td>\n",
              "      <td>Q30</td>\n",
              "      <td>[Q6581097]</td>\n",
              "      <td>1393497897</td>\n",
              "      <td>[Q7325]</td>\n",
              "      <td>S000148</td>\n",
              "      <td>[Q82955]</td>\n",
              "      <td>Q29552</td>\n",
              "      <td>None</td>\n",
              "      <td>None</td>\n",
              "      <td>item</td>\n",
              "      <td>[Q9268, Q1133485]</td>\n",
              "      <td>Democratic Party</td>\n",
              "      <td>United States of America</td>\n",
              "      <td>1950</td>\n",
              "      <td>68</td>\n",
              "      <td>66+</td>\n",
              "    </tr>\n",
              "  </tbody>\n",
              "</table>\n",
              "</div>"
            ],
            "text/plain": [
              "                 quoteID  ... age_category\n",
              "32764  2019-11-19-019006  ...        31-45\n",
              "73527  2018-10-03-124117  ...          66+\n",
              "17367  2018-10-11-018031  ...          66+\n",
              "\n",
              "[3 rows x 28 columns]"
            ]
          },
          "metadata": {},
          "execution_count": 41
        }
      ]
    },
    {
      "cell_type": "code",
      "metadata": {
        "colab": {
          "base_uri": "https://localhost:8080/",
          "height": 282
        },
        "id": "tzgh5-D7POla",
        "outputId": "3849086b-b392-4e1c-f9b2-868bc0ccde8c"
      },
      "source": [
        "# number of quotes by age category in the world\n",
        "age_categories = climate_wikidata_ages.groupby(by='age_category').count().quotation\n",
        "sns.barplot(x=age_categories[:10].values, y=age_categories[:10].index)"
      ],
      "execution_count": 42,
      "outputs": [
        {
          "output_type": "execute_result",
          "data": {
            "text/plain": [
              "<matplotlib.axes._subplots.AxesSubplot at 0x7efe8463e290>"
            ]
          },
          "metadata": {},
          "execution_count": 42
        },
        {
          "output_type": "display_data",
          "data": {
            "image/png": "[encoded data removed]",
            "text/plain": [
              "<Figure size 432x288 with 1 Axes>"
            ]
          },
          "metadata": {
            "needs_background": "light"
          }
        }
      ]
    },
    {
      "cell_type": "markdown",
      "metadata": {
        "id": "sJtPCW1M6g3D"
      },
      "source": [
        "## Sentiment analysis\n"
      ]
    },
    {
      "cell_type": "markdown",
      "metadata": {
        "id": "9hFY0f5U_KMA"
      },
      "source": [
        "In this part of our analysis, we will implement the afinn library with a goal of extracting the sentiment score of the quotes about climate change. The quotes will be placed in three different groups: positive, negative, and neutral. "
      ]
    },
    {
      "cell_type": "code",
      "metadata": {
        "id": "M2ewmzKY6k9M"
      },
      "source": [
        "! pip install afinn"
      ],
      "execution_count": null,
      "outputs": []
    },
    {
      "cell_type": "code",
      "metadata": {
        "id": "DvmoWi0r6-f7"
      },
      "source": [
        "from afinn import Afinn\n",
        "afn = Afinn()"
      ],
      "execution_count": 44,
      "outputs": []
    },
    {
      "cell_type": "code",
      "metadata": {
        "id": "UYkGWgmU7GJj"
      },
      "source": [
        "#We are iterating through the quotes, and the afinn calculates the sentiment score for every quote\n",
        "sentiments = [afn.score(quote) for quote in climate_all_years.quotation]"
      ],
      "execution_count": 45,
      "outputs": []
    },
    {
      "cell_type": "code",
      "metadata": {
        "id": "FjQ3eYzV8f42"
      },
      "source": [
        "#Every quote will be enriched with its sentiment category\n",
        "sentiment_category = ['positive' if score > 0 else 'negative' if score < 0 else 'neutral' for score in sentiments]"
      ],
      "execution_count": 46,
      "outputs": []
    },
    {
      "cell_type": "code",
      "metadata": {
        "id": "g8vcYmOA8odT"
      },
      "source": [
        "#Adding the sentiment score and category to the dataframe with quotes\n",
        "climate_all_years['sentiment_score'] = sentiments\n",
        "climate_all_years['sentiment_category'] = sentiment_category"
      ],
      "execution_count": 47,
      "outputs": []
    },
    {
      "cell_type": "code",
      "metadata": {
        "colab": {
          "base_uri": "https://localhost:8080/"
        },
        "id": "jx8n6Xpj86HS",
        "outputId": "f1dde735-df99-40f4-dbc1-04c08e12666c"
      },
      "source": [
        "#Describing the sentiment score\n",
        "climate_all_years['sentiment_score'].describe()"
      ],
      "execution_count": 48,
      "outputs": [
        {
          "output_type": "execute_result",
          "data": {
            "text/plain": [
              "count    156691.000000\n",
              "mean          0.495957\n",
              "std           4.048494\n",
              "min         -46.000000\n",
              "25%          -2.000000\n",
              "50%           0.000000\n",
              "75%           2.000000\n",
              "max          71.000000\n",
              "Name: sentiment_score, dtype: float64"
            ]
          },
          "metadata": {},
          "execution_count": 48
        }
      ]
    },
    {
      "cell_type": "code",
      "metadata": {
        "colab": {
          "base_uri": "https://localhost:8080/"
        },
        "id": "1OVh4yzH9B-h",
        "outputId": "36e88400-2e45-413f-c6e1-62083f107f16"
      },
      "source": [
        "#Describing the sentiment category\n",
        "climate_all_years['sentiment_category'].value_counts()"
      ],
      "execution_count": 49,
      "outputs": [
        {
          "output_type": "execute_result",
          "data": {
            "text/plain": [
              "positive    66784\n",
              "negative    53078\n",
              "neutral     36829\n",
              "Name: sentiment_category, dtype: int64"
            ]
          },
          "metadata": {},
          "execution_count": 49
        }
      ]
    }
  ]
}