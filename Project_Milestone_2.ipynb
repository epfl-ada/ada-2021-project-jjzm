{
  "nbformat": 4,
  "nbformat_minor": 0,
  "metadata": {
    "colab": {
      "name": "Project Milestone 2.ipynb",
      "provenance": [],
      "collapsed_sections": []
    },
    "kernelspec": {
      "name": "python3",
      "display_name": "Python 3"
    },
    "language_info": {
      "name": "python"
    }
  },
  "cells": [
    {
      "cell_type": "markdown",
      "metadata": {
        "id": "hwcsufM5siRb"
      },
      "source": [
        "# Project Milestone 2"
      ]
    },
    {
      "cell_type": "markdown",
      "metadata": {
        "id": "rDIwbh2Ssx1H"
      },
      "source": [
        "## Tools"
      ]
    },
    {
      "cell_type": "markdown",
      "metadata": {
        "id": "oPLcfAEd6kpn"
      },
      "source": [
        "In the first part of the notebook, you can observe the primary tools we are using for the analysis. It is required to install the pandas version 1.0.5."
      ]
    },
    {
      "cell_type": "code",
      "metadata": {
        "id": "p3ZUlq_gsnDy"
      },
      "source": [
        "pip install pandas==1.0.5"
      ],
      "execution_count": null,
      "outputs": []
    },
    {
      "cell_type": "code",
      "metadata": {
        "colab": {
          "base_uri": "https://localhost:8080/"
        },
        "id": "ZbelLu3-sxpB",
        "outputId": "f2d30918-6421-4399-fb9c-f56f1ec1cb3b"
      },
      "source": [
        "import pandas as pd\n",
        "import matplotlib.pyplot as plt\n",
        "import seaborn as sns\n",
        "import collections\n",
        "import nltk\n",
        "import requests\n",
        "import pickle\n",
        "import warnings\n",
        "from nltk.corpus import wordnet\n",
        "from nltk.corpus import stopwords\n",
        "from wordcloud import WordCloud\n",
        "warnings.filterwarnings('ignore')\n",
        "print('pandas version: ' + pd.__version__)"
      ],
      "execution_count": 24,
      "outputs": [
        {
          "output_type": "stream",
          "name": "stdout",
          "text": [
            "pandas version: 1.0.5\n"
          ]
        }
      ]
    },
    {
      "cell_type": "code",
      "metadata": {
        "id": "3jGqI8P_s7x5",
        "colab": {
          "base_uri": "https://localhost:8080/"
        },
        "outputId": "aef72dc2-65f2-4765-d39c-171ea0c7c392"
      },
      "source": [
        "from google.colab import drive\n",
        "drive.mount('/content/drive')"
      ],
      "execution_count": 25,
      "outputs": [
        {
          "output_type": "stream",
          "name": "stdout",
          "text": [
            "Drive already mounted at /content/drive; to attempt to forcibly remount, call drive.mount(\"/content/drive\", force_remount=True).\n"
          ]
        }
      ]
    },
    {
      "cell_type": "code",
      "metadata": {
        "id": "JpT3uaZ3tW82"
      },
      "source": [
        "path_data = '/content/drive/MyDrive/Quotebank/'"
      ],
      "execution_count": 26,
      "outputs": []
    },
    {
      "cell_type": "markdown",
      "metadata": {
        "id": "NjwhYoSR64Dx"
      },
      "source": [
        "The following three cells include helper functions that helped the creation of our final dataset containing the quotes about climate change. The functions include itetaring through chunks, showing the first few elements of a chunk, and an imported function for finding synonyms of a provided word."
      ]
    },
    {
      "cell_type": "code",
      "metadata": {
        "id": "6AP49Ub4tf2D"
      },
      "source": [
        "# loop through nb_chunks_to_read chunks (if 0, through all chunks) and apply process_function to each of them\n",
        "# return the result as a dataframe\n",
        "def loop_chuncks(chunks, process_function, nb_chunks_to_read=0):\n",
        "  i = 0\n",
        "  result = []\n",
        "  columns = None\n",
        "  for chunk in chunks:\n",
        "    processed = process_function(chunk)\n",
        "    if processed is not None:\n",
        "      if not isinstance(processed, pd.Series):\n",
        "        columns = processed.columns\n",
        "      for r in processed.values.tolist():\n",
        "        result.append(r)\n",
        "    i += 1\n",
        "    if i == nb_chunks_to_read:\n",
        "      break\n",
        "  return pd.DataFrame(result, columns=columns)"
      ],
      "execution_count": 27,
      "outputs": []
    },
    {
      "cell_type": "code",
      "metadata": {
        "id": "JmtK07x4trUq",
        "colab": {
          "base_uri": "https://localhost:8080/",
          "height": 346
        },
        "outputId": "2f5fa5f3-db21-4f48-f94b-225b210499e4"
      },
      "source": [
        "# return the first 3 elements of a chunk\n",
        "def chunck_head(chunk):\n",
        "  return chunk.head(3)\n",
        "\n",
        "# example\n",
        "chunks = pd.read_json(path_data + 'quotes-2020.json.bz2', lines=True, compression='bz2', chunksize=10000)\n",
        "loop_chuncks(chunks, chunck_head, 1)"
      ],
      "execution_count": 28,
      "outputs": [
        {
          "output_type": "execute_result",
          "data": {
            "text/html": [
              "<div>\n",
              "<style scoped>\n",
              "    .dataframe tbody tr th:only-of-type {\n",
              "        vertical-align: middle;\n",
              "    }\n",
              "\n",
              "    .dataframe tbody tr th {\n",
              "        vertical-align: top;\n",
              "    }\n",
              "\n",
              "    .dataframe thead th {\n",
              "        text-align: right;\n",
              "    }\n",
              "</style>\n",
              "<table border=\"1\" class=\"dataframe\">\n",
              "  <thead>\n",
              "    <tr style=\"text-align: right;\">\n",
              "      <th></th>\n",
              "      <th>quoteID</th>\n",
              "      <th>quotation</th>\n",
              "      <th>speaker</th>\n",
              "      <th>qids</th>\n",
              "      <th>date</th>\n",
              "      <th>numOccurrences</th>\n",
              "      <th>probas</th>\n",
              "      <th>urls</th>\n",
              "      <th>phase</th>\n",
              "    </tr>\n",
              "  </thead>\n",
              "  <tbody>\n",
              "    <tr>\n",
              "      <th>0</th>\n",
              "      <td>2020-01-28-000082</td>\n",
              "      <td>[ D ] espite the efforts of the partners to cr...</td>\n",
              "      <td>None</td>\n",
              "      <td>[]</td>\n",
              "      <td>2020-01-28 08:04:05</td>\n",
              "      <td>1</td>\n",
              "      <td>[[None, 0.7272], [Prime Minister Netanyahu, 0....</td>\n",
              "      <td>[http://israelnationalnews.com/News/News.aspx/...</td>\n",
              "      <td>E</td>\n",
              "    </tr>\n",
              "    <tr>\n",
              "      <th>1</th>\n",
              "      <td>2020-01-16-000088</td>\n",
              "      <td>[ Department of Homeland Security ] was livid ...</td>\n",
              "      <td>Sue Myrick</td>\n",
              "      <td>[Q367796]</td>\n",
              "      <td>2020-01-16 12:00:13</td>\n",
              "      <td>1</td>\n",
              "      <td>[[Sue Myrick, 0.8867], [None, 0.0992], [Ron Wy...</td>\n",
              "      <td>[http://thehill.com/opinion/international/4782...</td>\n",
              "      <td>E</td>\n",
              "    </tr>\n",
              "    <tr>\n",
              "      <th>2</th>\n",
              "      <td>2020-02-10-000142</td>\n",
              "      <td>... He (Madhav) also disclosed that the illega...</td>\n",
              "      <td>None</td>\n",
              "      <td>[]</td>\n",
              "      <td>2020-02-10 23:45:54</td>\n",
              "      <td>1</td>\n",
              "      <td>[[None, 0.8926], [Prakash Rai, 0.1074]]</td>\n",
              "      <td>[https://indianexpress.com/article/business/ec...</td>\n",
              "      <td>E</td>\n",
              "    </tr>\n",
              "  </tbody>\n",
              "</table>\n",
              "</div>"
            ],
            "text/plain": [
              "             quoteID  ... phase\n",
              "0  2020-01-28-000082  ...     E\n",
              "1  2020-01-16-000088  ...     E\n",
              "2  2020-02-10-000142  ...     E\n",
              "\n",
              "[3 rows x 9 columns]"
            ]
          },
          "metadata": {},
          "execution_count": 28
        }
      ]
    },
    {
      "cell_type": "code",
      "metadata": {
        "id": "lXtgCRTFt3T6",
        "colab": {
          "base_uri": "https://localhost:8080/"
        },
        "outputId": "be8ea257-e66b-41f2-cb23-65798705d095"
      },
      "source": [
        "# to create automatically a list of synonyms (not currently used)\n",
        "# https://towardsdatascience.com/synonyms-and-antonyms-in-python-a865a5e14ce8\n",
        "nltk.download('wordnet')\n",
        "\n",
        "def find_synonyms(word):\n",
        "  words = []\n",
        "  for syn in wordnet.synsets(word):\n",
        "    for lm in syn.lemmas():\n",
        "      words.append(lm.name())\n",
        "  return words\n",
        "\n",
        "# example\n",
        "find_synonyms('climate')\n",
        "find_synonyms('environment')"
      ],
      "execution_count": 29,
      "outputs": [
        {
          "output_type": "stream",
          "name": "stdout",
          "text": [
            "[nltk_data] Downloading package wordnet to /root/nltk_data...\n",
            "[nltk_data]   Package wordnet is already up-to-date!\n"
          ]
        },
        {
          "output_type": "execute_result",
          "data": {
            "text/plain": [
              "['environment', 'environment', 'environs', 'surroundings', 'surround']"
            ]
          },
          "metadata": {},
          "execution_count": 29
        }
      ]
    },
    {
      "cell_type": "markdown",
      "metadata": {
        "id": "u0uR07N-x7oB"
      },
      "source": [
        "## Creation of the dataset about climate change"
      ]
    },
    {
      "cell_type": "markdown",
      "metadata": {
        "id": "1LuQUVNu7RNM"
      },
      "source": [
        "The creation of the dataset was executed by iterating through quotes and finding all of them that mention climate change in any matter. We used python pickles to save the extracted quotes, one for every year from 2015 until 2020. We saved the pickles on Google drive and provided the link where you can download it. We provided the code for creating the pickles and commented it, since it needs a long time to execute. The pickles served us well in terms of creating the final dataset and, thus, positively impacted the time our cells needed to run. As a result, we got 156691 quotes about climate change."
      ]
    },
    {
      "cell_type": "code",
      "metadata": {
        "id": "FmoDei5vyJ6p",
        "colab": {
          "base_uri": "https://localhost:8080/",
          "height": 380
        },
        "outputId": "5287c35b-0657-408e-e77c-0d22a2089510"
      },
      "source": [
        "# return the quotes containing one of the words in the list\n",
        "\n",
        "words = ['global warming', 'climate change']\n",
        "\n",
        "def contains_word_in_list(chunk):\n",
        "  return chunk[chunk.quotation.str.contains('|'.join(words), case=False)]\n",
        "\n",
        "chunks = pd.read_json(path_data + 'quotes-2020.json.bz2', lines=True, compression='bz2', chunksize=10000)\n",
        "word_in_list_quotes = loop_chuncks(chunks, contains_word_in_list, 3)\n",
        "\n",
        "word_in_list_quotes.sample(3)"
      ],
      "execution_count": 30,
      "outputs": [
        {
          "output_type": "execute_result",
          "data": {
            "text/html": [
              "<div>\n",
              "<style scoped>\n",
              "    .dataframe tbody tr th:only-of-type {\n",
              "        vertical-align: middle;\n",
              "    }\n",
              "\n",
              "    .dataframe tbody tr th {\n",
              "        vertical-align: top;\n",
              "    }\n",
              "\n",
              "    .dataframe thead th {\n",
              "        text-align: right;\n",
              "    }\n",
              "</style>\n",
              "<table border=\"1\" class=\"dataframe\">\n",
              "  <thead>\n",
              "    <tr style=\"text-align: right;\">\n",
              "      <th></th>\n",
              "      <th>quoteID</th>\n",
              "      <th>quotation</th>\n",
              "      <th>speaker</th>\n",
              "      <th>qids</th>\n",
              "      <th>date</th>\n",
              "      <th>numOccurrences</th>\n",
              "      <th>probas</th>\n",
              "      <th>urls</th>\n",
              "      <th>phase</th>\n",
              "    </tr>\n",
              "  </thead>\n",
              "  <tbody>\n",
              "    <tr>\n",
              "      <th>51</th>\n",
              "      <td>2020-02-07-082877</td>\n",
              "      <td>The experts tell us that we're heading for thr...</td>\n",
              "      <td>None</td>\n",
              "      <td>[]</td>\n",
              "      <td>2020-02-07 05:18:00</td>\n",
              "      <td>3</td>\n",
              "      <td>[[None, 0.8622], [Barnaby Joyce, 0.1378]]</td>\n",
              "      <td>[http://www.northerndailyleader.com.au/story/6...</td>\n",
              "      <td>E</td>\n",
              "    </tr>\n",
              "    <tr>\n",
              "      <th>18</th>\n",
              "      <td>2020-02-05-014594</td>\n",
              "      <td>Climate change is only the concern of woke cap...</td>\n",
              "      <td>None</td>\n",
              "      <td>[]</td>\n",
              "      <td>2020-02-05 21:00:00</td>\n",
              "      <td>1</td>\n",
              "      <td>[[None, 0.7569], [Adam Bandt, 0.0941], [Richar...</td>\n",
              "      <td>[https://independentaustralia.net/article-disp...</td>\n",
              "      <td>E</td>\n",
              "    </tr>\n",
              "    <tr>\n",
              "      <th>6</th>\n",
              "      <td>2020-01-04-039724</td>\n",
              "      <td>tracks directly back to the issues of climate ...</td>\n",
              "      <td>David Caldicott</td>\n",
              "      <td>[Q46527942, Q5232089]</td>\n",
              "      <td>2020-01-04 04:07:00</td>\n",
              "      <td>1</td>\n",
              "      <td>[[David Caldicott, 0.5867], [None, 0.217], [Ni...</td>\n",
              "      <td>[https://www.geelongadvertiser.com.au/news/nat...</td>\n",
              "      <td>E</td>\n",
              "    </tr>\n",
              "  </tbody>\n",
              "</table>\n",
              "</div>"
            ],
            "text/plain": [
              "              quoteID  ... phase\n",
              "51  2020-02-07-082877  ...     E\n",
              "18  2020-02-05-014594  ...     E\n",
              "6   2020-01-04-039724  ...     E\n",
              "\n",
              "[3 rows x 9 columns]"
            ]
          },
          "metadata": {},
          "execution_count": 30
        }
      ]
    },
    {
      "cell_type": "code",
      "metadata": {
        "id": "AGX8UsEkzI3U"
      },
      "source": [
        "# to load and save pickes (from the course tutorial)\n",
        "def load_pickle(file_path):\n",
        "    with open(file_path, 'rb') as file:\n",
        "        return pickle.load(file)\n",
        "\n",
        "def save_pickle(result, file_path = 'pickle'):\n",
        "    with open(file_path, 'wb') as file:\n",
        "        pickle.dump(result, file)"
      ],
      "execution_count": 31,
      "outputs": []
    },
    {
      "cell_type": "code",
      "metadata": {
        "id": "Cx8ckqUVzhsK"
      },
      "source": [
        "# create a pickle of the quotes about climate change for the 2020 dataset\n",
        "# this have been done for the 6 datasets, commented to not re-run it (very long)\n",
        "# chunks = pd.read_json(path_data + 'quotes-2020.json.bz2', lines=True, compression='bz2', chunksize=10000)\n",
        "# climate_2020 = loop_chuncks(chunks, contains_word_in_list)\n",
        "# path_pickle_2020 = '/content/drive/MyDrive/pickle_2020'\n",
        "# save_pickle(climate_2020, path_pickle_2020)"
      ],
      "execution_count": 32,
      "outputs": []
    },
    {
      "cell_type": "code",
      "metadata": {
        "id": "FJfzDQtfKN5s"
      },
      "source": [
        "# load the pickles\n",
        "# the pickles need to be added to the drive\n",
        "# download here: https://drive.google.com/drive/folders/1j1Bp1niC0_cqg1kN_LbSrA2TGnq5MTgt?usp=sharing\n",
        "climate_2015 = load_pickle('/content/drive/MyDrive/pickle_2015')\n",
        "climate_2016 = load_pickle('/content/drive/MyDrive/pickle_2016')\n",
        "climate_2017 = load_pickle('/content/drive/MyDrive/pickle_2017')\n",
        "climate_2018 = load_pickle('/content/drive/MyDrive/pickle_2018')\n",
        "climate_2019 = load_pickle('/content/drive/MyDrive/pickle_2019')\n",
        "climate_2020 = load_pickle('/content/drive/MyDrive/pickle_2020')\n",
        "all_years_list = [climate_2015, climate_2016, climate_2017, climate_2018, climate_2019, climate_2020]\n",
        "all_years = [2015, 2016, 2017, 2018, 2019, 2020]\n",
        "for i in range(len(all_years)):\n",
        "  all_years_list[i]['year'] = all_years[i]"
      ],
      "execution_count": 33,
      "outputs": []
    },
    {
      "cell_type": "code",
      "metadata": {
        "id": "otY1eAUqK-TJ",
        "colab": {
          "base_uri": "https://localhost:8080/",
          "height": 468
        },
        "outputId": "4523fddb-047b-49d1-e24b-875aecf830bb"
      },
      "source": [
        "# create one dataframe for all the years\n",
        "climate_all_years = pd.concat(all_years_list, ignore_index=True)\n",
        "print(climate_all_years.shape)\n",
        "climate_all_years.sample(3)"
      ],
      "execution_count": 34,
      "outputs": [
        {
          "output_type": "stream",
          "name": "stdout",
          "text": [
            "(156691, 10)\n"
          ]
        },
        {
          "output_type": "execute_result",
          "data": {
            "text/html": [
              "<div>\n",
              "<style scoped>\n",
              "    .dataframe tbody tr th:only-of-type {\n",
              "        vertical-align: middle;\n",
              "    }\n",
              "\n",
              "    .dataframe tbody tr th {\n",
              "        vertical-align: top;\n",
              "    }\n",
              "\n",
              "    .dataframe thead th {\n",
              "        text-align: right;\n",
              "    }\n",
              "</style>\n",
              "<table border=\"1\" class=\"dataframe\">\n",
              "  <thead>\n",
              "    <tr style=\"text-align: right;\">\n",
              "      <th></th>\n",
              "      <th>quoteID</th>\n",
              "      <th>quotation</th>\n",
              "      <th>speaker</th>\n",
              "      <th>qids</th>\n",
              "      <th>date</th>\n",
              "      <th>numOccurrences</th>\n",
              "      <th>probas</th>\n",
              "      <th>urls</th>\n",
              "      <th>phase</th>\n",
              "      <th>year</th>\n",
              "    </tr>\n",
              "  </thead>\n",
              "  <tbody>\n",
              "    <tr>\n",
              "      <th>98778</th>\n",
              "      <td>2018-03-20-156604</td>\n",
              "      <td>We've always been saying within our movement t...</td>\n",
              "      <td>Jesús Vázquez</td>\n",
              "      <td>[Q30084824, Q56527657, Q942570]</td>\n",
              "      <td>2018-03-20 16:30:21</td>\n",
              "      <td>1</td>\n",
              "      <td>[[Jesús Vázquez, 0.7122], [None, 0.2878]]</td>\n",
              "      <td>[https://theintercept.com/2018/03/20/puerto-ri...</td>\n",
              "      <td>E</td>\n",
              "      <td>2018</td>\n",
              "    </tr>\n",
              "    <tr>\n",
              "      <th>71738</th>\n",
              "      <td>2017-02-01-019594</td>\n",
              "      <td>Climate change is real. Climate change is real.</td>\n",
              "      <td>Lisa Murkowski</td>\n",
              "      <td>[Q22360]</td>\n",
              "      <td>2017-02-01 06:00:00</td>\n",
              "      <td>3</td>\n",
              "      <td>[[Lisa Murkowski, 0.5756], [None, 0.4244]]</td>\n",
              "      <td>[http://www.courant.com/opinion/hc-op-fresh-ta...</td>\n",
              "      <td>E</td>\n",
              "      <td>2017</td>\n",
              "    </tr>\n",
              "    <tr>\n",
              "      <th>144716</th>\n",
              "      <td>2019-08-13-009025</td>\n",
              "      <td>Besides being a unique show high on adventure ...</td>\n",
              "      <td>Akshay Kumar</td>\n",
              "      <td>[Q233748]</td>\n",
              "      <td>2019-08-13 13:03:41</td>\n",
              "      <td>1</td>\n",
              "      <td>[[Akshay Kumar, 0.702], [None, 0.1865], [Naren...</td>\n",
              "      <td>[https://www.sentinelassam.com/entertainment/a...</td>\n",
              "      <td>E</td>\n",
              "      <td>2019</td>\n",
              "    </tr>\n",
              "  </tbody>\n",
              "</table>\n",
              "</div>"
            ],
            "text/plain": [
              "                  quoteID  ...  year\n",
              "98778   2018-03-20-156604  ...  2018\n",
              "71738   2017-02-01-019594  ...  2017\n",
              "144716  2019-08-13-009025  ...  2019\n",
              "\n",
              "[3 rows x 10 columns]"
            ]
          },
          "metadata": {},
          "execution_count": 34
        }
      ]
    },
    {
      "cell_type": "markdown",
      "metadata": {
        "id": "A4klUAk4dQ5b"
      },
      "source": [
        "## First analyses"
      ]
    },
    {
      "cell_type": "markdown",
      "metadata": {
        "id": "fAD4IDBW8SZG"
      },
      "source": [
        "Following few cells show our first, basic analysis. We included the top speakers from the quotes about climate change, the words that appeared the most in our quotes, and number of climate change quotes per year."
      ]
    },
    {
      "cell_type": "code",
      "metadata": {
        "id": "9KypfR7bdX9_",
        "colab": {
          "base_uri": "https://localhost:8080/",
          "height": 282
        },
        "outputId": "f5e12462-af62-4672-ade8-8fd33db40111"
      },
      "source": [
        "# the top speakers talking about climate change\n",
        "top_speakers = climate_all_years.groupby(by='speaker').count().sort_values(by='quotation', ascending=False).quotation.iloc[1:21]\n",
        "sns.barplot(x=top_speakers[:10].values, y=top_speakers[0:10].index)"
      ],
      "execution_count": 35,
      "outputs": [
        {
          "output_type": "execute_result",
          "data": {
            "text/plain": [
              "<matplotlib.axes._subplots.AxesSubplot at 0x7ff1f2ddf2d0>"
            ]
          },
          "metadata": {},
          "execution_count": 35
        },
        {
          "output_type": "display_data",
          "data": {
            "image/png": "[encoded data removed]",
            "text/plain": [
              "<Figure size 432x288 with 1 Axes>"
            ]
          },
          "metadata": {
            "needs_background": "light"
          }
        }
      ]
    },
    {
      "cell_type": "code",
      "metadata": {
        "id": "IdwqzawAeHgX",
        "colab": {
          "base_uri": "https://localhost:8080/",
          "height": 198
        },
        "outputId": "882a3f7a-84c9-4b47-efef-0996dd089702"
      },
      "source": [
        "# word cloud of top speakers for illustration\n",
        "wordcloud = WordCloud().fit_words(dict(top_speakers))\n",
        "plt.imshow(wordcloud, interpolation='bilinear')\n",
        "plt.axis(\"off\")\n",
        "plt.show()"
      ],
      "execution_count": 36,
      "outputs": [
        {
          "output_type": "display_data",
          "data": {
            "image/png": "[encoded data removed]",
            "text/plain": [
              "<Figure size 432x288 with 1 Axes>"
            ]
          },
          "metadata": {
            "needs_background": "light"
          }
        }
      ]
    },
    {
      "cell_type": "code",
      "metadata": {
        "id": "jUbl4i4penYU",
        "colab": {
          "base_uri": "https://localhost:8080/",
          "height": 316
        },
        "outputId": "8db0eed7-3909-463b-81e0-ce0877247a12"
      },
      "source": [
        "# words being most used in these quotes about global warming\n",
        "nltk.download('stopwords')\n",
        "topic_words = collections.Counter()\n",
        "stop_words = set(stopwords.words('english'))\n",
        "for index, row in climate_all_years.iterrows():\n",
        "    for word in row.quotation.lower().replace(',', '').replace('.', '').split():\n",
        "        if word not in stop_words:\n",
        "            topic_words[word] += 1\n",
        "top_50_climate_words = topic_words.most_common()[:50]\n",
        "sns.barplot(x=[x[1] for x in top_50_climate_words][:15], y=[x[0] for x in top_50_climate_words][:15])"
      ],
      "execution_count": 37,
      "outputs": [
        {
          "output_type": "stream",
          "name": "stdout",
          "text": [
            "[nltk_data] Downloading package stopwords to /root/nltk_data...\n",
            "[nltk_data]   Unzipping corpora/stopwords.zip.\n"
          ]
        },
        {
          "output_type": "execute_result",
          "data": {
            "text/plain": [
              "<matplotlib.axes._subplots.AxesSubplot at 0x7ff1ef0b6d10>"
            ]
          },
          "metadata": {},
          "execution_count": 37
        },
        {
          "output_type": "display_data",
          "data": {
            "image/png": "[encoded data removed]",
            "text/plain": [
              "<Figure size 432x288 with 1 Axes>"
            ]
          },
          "metadata": {
            "needs_background": "light"
          }
        }
      ]
    },
    {
      "cell_type": "code",
      "metadata": {
        "id": "oh7ZQcSffS43",
        "colab": {
          "base_uri": "https://localhost:8080/",
          "height": 198
        },
        "outputId": "b0d0ac3e-1c2f-4c8f-93bc-321f0ca914b3"
      },
      "source": [
        "# word cloud for illustration\n",
        "wordcloud = WordCloud().fit_words(dict(top_50_climate_words))\n",
        "plt.imshow(wordcloud, interpolation='bilinear')\n",
        "plt.axis(\"off\")\n",
        "plt.show()"
      ],
      "execution_count": 38,
      "outputs": [
        {
          "output_type": "display_data",
          "data": {
            "image/png": "[encoded data removed]",
            "text/plain": [
              "<Figure size 432x288 with 1 Axes>"
            ]
          },
          "metadata": {
            "needs_background": "light"
          }
        }
      ]
    },
    {
      "cell_type": "code",
      "metadata": {
        "id": "O-YLxspqgAbs",
        "colab": {
          "base_uri": "https://localhost:8080/",
          "height": 298
        },
        "outputId": "7d7cc892-3f73-4a77-8c18-6cc44832cfa2"
      },
      "source": [
        "# number of quotations about global warming through the years\n",
        "count_years =  climate_all_years.groupby(by='year').count().quotation\n",
        "sns.barplot(x=all_years, y=count_years)\n",
        "plt.title(\"Quotations about global warming though time\")"
      ],
      "execution_count": 39,
      "outputs": [
        {
          "output_type": "execute_result",
          "data": {
            "text/plain": [
              "Text(0.5, 1.0, 'Quotations about global warming though time')"
            ]
          },
          "metadata": {},
          "execution_count": 39
        },
        {
          "output_type": "display_data",
          "data": {
            "image/png": "[encoded data removed]",
            "text/plain": [
              "<Figure size 432x288 with 1 Axes>"
            ]
          },
          "metadata": {
            "needs_background": "light"
          }
        }
      ]
    },
    {
      "cell_type": "markdown",
      "metadata": {
        "id": "cCn5GQzm8pvG"
      },
      "source": [
        "Interestingly enough, we can observe a drop of the number of quotes about climate change in the year 2020."
      ]
    },
    {
      "cell_type": "markdown",
      "metadata": {
        "id": "hRGuEu-i69vc"
      },
      "source": [
        "## Nationalities"
      ]
    },
    {
      "cell_type": "markdown",
      "metadata": {
        "id": "OWJebtiI9Od_"
      },
      "source": [
        "This section of our notebook provided us an augmented dataframe that includes the nationality of a speaker that said something about the climate change in his or her quote. We used Wikidata to extract the information about a country and merge it with the existing quote and its speaker. This will allow us to perform different research questions analysis on speakers which origins are different, and potentially observe the difference between the groups of countries, augmented as regions."
      ]
    },
    {
      "cell_type": "code",
      "metadata": {
        "id": "lJU4tKT8mlI4",
        "colab": {
          "base_uri": "https://localhost:8080/",
          "height": 383
        },
        "outputId": "d61e19f3-fa3a-4688-c63b-cbe87331123e"
      },
      "source": [
        "# read the wikidata file\n",
        "path_data_wikidata = '/content/drive/MyDrive/speaker_attributes.parquet/'\n",
        "wikidata = pd.read_parquet(path_data_wikidata)\n",
        "wikidata.head(3)"
      ],
      "execution_count": 40,
      "outputs": [
        {
          "output_type": "execute_result",
          "data": {
            "text/html": [
              "<div>\n",
              "<style scoped>\n",
              "    .dataframe tbody tr th:only-of-type {\n",
              "        vertical-align: middle;\n",
              "    }\n",
              "\n",
              "    .dataframe tbody tr th {\n",
              "        vertical-align: top;\n",
              "    }\n",
              "\n",
              "    .dataframe thead th {\n",
              "        text-align: right;\n",
              "    }\n",
              "</style>\n",
              "<table border=\"1\" class=\"dataframe\">\n",
              "  <thead>\n",
              "    <tr style=\"text-align: right;\">\n",
              "      <th></th>\n",
              "      <th>aliases</th>\n",
              "      <th>date_of_birth</th>\n",
              "      <th>nationality</th>\n",
              "      <th>gender</th>\n",
              "      <th>lastrevid</th>\n",
              "      <th>ethnic_group</th>\n",
              "      <th>US_congress_bio_ID</th>\n",
              "      <th>occupation</th>\n",
              "      <th>party</th>\n",
              "      <th>academic_degree</th>\n",
              "      <th>id</th>\n",
              "      <th>label</th>\n",
              "      <th>candidacy</th>\n",
              "      <th>type</th>\n",
              "      <th>religion</th>\n",
              "    </tr>\n",
              "  </thead>\n",
              "  <tbody>\n",
              "    <tr>\n",
              "      <th>0</th>\n",
              "      <td>[Washington, President Washington, G. Washingt...</td>\n",
              "      <td>[+1732-02-22T00:00:00Z]</td>\n",
              "      <td>[Q161885, Q30]</td>\n",
              "      <td>[Q6581097]</td>\n",
              "      <td>1395141751</td>\n",
              "      <td>None</td>\n",
              "      <td>W000178</td>\n",
              "      <td>[Q82955, Q189290, Q131512, Q1734662, Q294126, ...</td>\n",
              "      <td>[Q327591]</td>\n",
              "      <td>None</td>\n",
              "      <td>Q23</td>\n",
              "      <td>George Washington</td>\n",
              "      <td>[Q698073, Q697949]</td>\n",
              "      <td>item</td>\n",
              "      <td>[Q682443]</td>\n",
              "    </tr>\n",
              "    <tr>\n",
              "      <th>1</th>\n",
              "      <td>[Douglas Noel Adams, Douglas Noël Adams, Dougl...</td>\n",
              "      <td>[+1952-03-11T00:00:00Z]</td>\n",
              "      <td>[Q145]</td>\n",
              "      <td>[Q6581097]</td>\n",
              "      <td>1395737157</td>\n",
              "      <td>[Q7994501]</td>\n",
              "      <td>None</td>\n",
              "      <td>[Q214917, Q28389, Q6625963, Q4853732, Q1884422...</td>\n",
              "      <td>None</td>\n",
              "      <td>None</td>\n",
              "      <td>Q42</td>\n",
              "      <td>Douglas Adams</td>\n",
              "      <td>None</td>\n",
              "      <td>item</td>\n",
              "      <td>None</td>\n",
              "    </tr>\n",
              "    <tr>\n",
              "      <th>2</th>\n",
              "      <td>[Paul Marie Ghislain Otlet, Paul Marie Otlet]</td>\n",
              "      <td>[+1868-08-23T00:00:00Z]</td>\n",
              "      <td>[Q31]</td>\n",
              "      <td>[Q6581097]</td>\n",
              "      <td>1380367296</td>\n",
              "      <td>None</td>\n",
              "      <td>None</td>\n",
              "      <td>[Q36180, Q40348, Q182436, Q1265807, Q205375, Q...</td>\n",
              "      <td>None</td>\n",
              "      <td>None</td>\n",
              "      <td>Q1868</td>\n",
              "      <td>Paul Otlet</td>\n",
              "      <td>None</td>\n",
              "      <td>item</td>\n",
              "      <td>None</td>\n",
              "    </tr>\n",
              "  </tbody>\n",
              "</table>\n",
              "</div>"
            ],
            "text/plain": [
              "                                             aliases  ...   religion\n",
              "0  [Washington, President Washington, G. Washingt...  ...  [Q682443]\n",
              "1  [Douglas Noel Adams, Douglas Noël Adams, Dougl...  ...       None\n",
              "2      [Paul Marie Ghislain Otlet, Paul Marie Otlet]  ...       None\n",
              "\n",
              "[3 rows x 15 columns]"
            ]
          },
          "metadata": {},
          "execution_count": 40
        }
      ]
    },
    {
      "cell_type": "code",
      "metadata": {
        "id": "G2Ylvft1mlC7"
      },
      "source": [
        "# wikidata dataframe without the None name\n",
        "wikidata_clean = wikidata.dropna(axis=0, subset=['aliases'])"
      ],
      "execution_count": 41,
      "outputs": []
    },
    {
      "cell_type": "code",
      "metadata": {
        "id": "RQOvMOWNYktc",
        "colab": {
          "base_uri": "https://localhost:8080/"
        },
        "outputId": "ac99d2bc-7a20-4850-8122-51f5c374d8c8"
      },
      "source": [
        "# drop the rows with speaker None\n",
        "climate_all_years_clean = climate_all_years.drop(climate_all_years.index[climate_all_years['speaker'] == 'None'])\n",
        "climate_all_years_clean.shape"
      ],
      "execution_count": 42,
      "outputs": [
        {
          "output_type": "execute_result",
          "data": {
            "text/plain": [
              "(108024, 10)"
            ]
          },
          "metadata": {},
          "execution_count": 42
        }
      ]
    },
    {
      "cell_type": "code",
      "metadata": {
        "id": "MOWBphcbYkqC",
        "colab": {
          "base_uri": "https://localhost:8080/",
          "height": 142
        },
        "outputId": "c34467e4-cf88-4ce7-8258-8a6779ad47df"
      },
      "source": [
        "# load the QID dataset\n",
        "qids = pd.read_csv('/content/drive/MyDrive/wikidata_labels_descriptions_quotebank.csv.bz2', compression='bz2', index_col='QID')\n",
        "qids.head(2)"
      ],
      "execution_count": 43,
      "outputs": [
        {
          "output_type": "execute_result",
          "data": {
            "text/html": [
              "<div>\n",
              "<style scoped>\n",
              "    .dataframe tbody tr th:only-of-type {\n",
              "        vertical-align: middle;\n",
              "    }\n",
              "\n",
              "    .dataframe tbody tr th {\n",
              "        vertical-align: top;\n",
              "    }\n",
              "\n",
              "    .dataframe thead th {\n",
              "        text-align: right;\n",
              "    }\n",
              "</style>\n",
              "<table border=\"1\" class=\"dataframe\">\n",
              "  <thead>\n",
              "    <tr style=\"text-align: right;\">\n",
              "      <th></th>\n",
              "      <th>Label</th>\n",
              "      <th>Description</th>\n",
              "    </tr>\n",
              "    <tr>\n",
              "      <th>QID</th>\n",
              "      <th></th>\n",
              "      <th></th>\n",
              "    </tr>\n",
              "  </thead>\n",
              "  <tbody>\n",
              "    <tr>\n",
              "      <th>Q31</th>\n",
              "      <td>Belgium</td>\n",
              "      <td>country in western Europe</td>\n",
              "    </tr>\n",
              "    <tr>\n",
              "      <th>Q45</th>\n",
              "      <td>Portugal</td>\n",
              "      <td>country in southwestern Europe</td>\n",
              "    </tr>\n",
              "  </tbody>\n",
              "</table>\n",
              "</div>"
            ],
            "text/plain": [
              "        Label                     Description\n",
              "QID                                          \n",
              "Q31   Belgium       country in western Europe\n",
              "Q45  Portugal  country in southwestern Europe"
            ]
          },
          "metadata": {},
          "execution_count": 43
        }
      ]
    },
    {
      "cell_type": "markdown",
      "metadata": {
        "id": "L20oo7zz-DmS"
      },
      "source": [
        "We think that is important to mention that we have speakers in our dataset that have more than one nationality, so we will cover them in the following cells."
      ]
    },
    {
      "cell_type": "code",
      "metadata": {
        "id": "QTgL-ghrYknT",
        "colab": {
          "base_uri": "https://localhost:8080/",
          "height": 434
        },
        "outputId": "5c700348-6ba0-403c-ea7f-4d237e858c2d"
      },
      "source": [
        "# merge the quotes about global warming with the countries from wikidata using the qids\n",
        "climate_countries = climate_all_years_clean.explode('qids').merge(wikidata, left_on='qids', right_on='id')\n",
        "print(climate_countries.shape)\n",
        "climate_countries.head(3)"
      ],
      "execution_count": 44,
      "outputs": [
        {
          "output_type": "stream",
          "name": "stdout",
          "text": [
            "(221681, 25)\n"
          ]
        },
        {
          "output_type": "execute_result",
          "data": {
            "text/html": [
              "<div>\n",
              "<style scoped>\n",
              "    .dataframe tbody tr th:only-of-type {\n",
              "        vertical-align: middle;\n",
              "    }\n",
              "\n",
              "    .dataframe tbody tr th {\n",
              "        vertical-align: top;\n",
              "    }\n",
              "\n",
              "    .dataframe thead th {\n",
              "        text-align: right;\n",
              "    }\n",
              "</style>\n",
              "<table border=\"1\" class=\"dataframe\">\n",
              "  <thead>\n",
              "    <tr style=\"text-align: right;\">\n",
              "      <th></th>\n",
              "      <th>quoteID</th>\n",
              "      <th>quotation</th>\n",
              "      <th>speaker</th>\n",
              "      <th>qids</th>\n",
              "      <th>date</th>\n",
              "      <th>numOccurrences</th>\n",
              "      <th>probas</th>\n",
              "      <th>urls</th>\n",
              "      <th>phase</th>\n",
              "      <th>year</th>\n",
              "      <th>aliases</th>\n",
              "      <th>date_of_birth</th>\n",
              "      <th>nationality</th>\n",
              "      <th>gender</th>\n",
              "      <th>lastrevid</th>\n",
              "      <th>ethnic_group</th>\n",
              "      <th>US_congress_bio_ID</th>\n",
              "      <th>occupation</th>\n",
              "      <th>party</th>\n",
              "      <th>academic_degree</th>\n",
              "      <th>id</th>\n",
              "      <th>label</th>\n",
              "      <th>candidacy</th>\n",
              "      <th>type</th>\n",
              "      <th>religion</th>\n",
              "    </tr>\n",
              "  </thead>\n",
              "  <tbody>\n",
              "    <tr>\n",
              "      <th>0</th>\n",
              "      <td>2015-09-28-067347</td>\n",
              "      <td>man-made emissions are an insignificant part o...</td>\n",
              "      <td>John Abraham</td>\n",
              "      <td>Q313025</td>\n",
              "      <td>2015-09-28 23:16:52</td>\n",
              "      <td>1</td>\n",
              "      <td>[[John Abraham, 0.6469], [None, 0.3092], [Will...</td>\n",
              "      <td>[http://www.desmogblog.com/donors-capital-fund]</td>\n",
              "      <td>E</td>\n",
              "      <td>2015</td>\n",
              "      <td>None</td>\n",
              "      <td>[+1972-12-17T00:00:00Z]</td>\n",
              "      <td>[Q668]</td>\n",
              "      <td>[Q6581097]</td>\n",
              "      <td>1354134367</td>\n",
              "      <td>None</td>\n",
              "      <td>None</td>\n",
              "      <td>[Q33999, Q4610556, Q3282637, Q10800557]</td>\n",
              "      <td>None</td>\n",
              "      <td>None</td>\n",
              "      <td>Q313025</td>\n",
              "      <td>John Abraham</td>\n",
              "      <td>None</td>\n",
              "      <td>item</td>\n",
              "      <td>[Q5043]</td>\n",
              "    </tr>\n",
              "    <tr>\n",
              "      <th>1</th>\n",
              "      <td>2015-02-26-060320</td>\n",
              "      <td>New Study Finds Fringe Global Warming Contrari...</td>\n",
              "      <td>John Abraham</td>\n",
              "      <td>Q313025</td>\n",
              "      <td>2015-02-26 17:16:07</td>\n",
              "      <td>1</td>\n",
              "      <td>[[John Abraham, 0.7708], [None, 0.2051], [Harr...</td>\n",
              "      <td>[http://www.globalresearch.ca/is-the-u-s-mains...</td>\n",
              "      <td>E</td>\n",
              "      <td>2015</td>\n",
              "      <td>None</td>\n",
              "      <td>[+1972-12-17T00:00:00Z]</td>\n",
              "      <td>[Q668]</td>\n",
              "      <td>[Q6581097]</td>\n",
              "      <td>1354134367</td>\n",
              "      <td>None</td>\n",
              "      <td>None</td>\n",
              "      <td>[Q33999, Q4610556, Q3282637, Q10800557]</td>\n",
              "      <td>None</td>\n",
              "      <td>None</td>\n",
              "      <td>Q313025</td>\n",
              "      <td>John Abraham</td>\n",
              "      <td>None</td>\n",
              "      <td>item</td>\n",
              "      <td>[Q5043]</td>\n",
              "    </tr>\n",
              "    <tr>\n",
              "      <th>2</th>\n",
              "      <td>2015-09-17-007663</td>\n",
              "      <td>Any argument that global warming stopped 18 or...</td>\n",
              "      <td>John Abraham</td>\n",
              "      <td>Q313025</td>\n",
              "      <td>2015-09-17 10:01:00</td>\n",
              "      <td>2</td>\n",
              "      <td>[[John Abraham, 0.8673], [None, 0.1292], [Lama...</td>\n",
              "      <td>[http://www.environmentalhealthnews.org/t/1883...</td>\n",
              "      <td>E</td>\n",
              "      <td>2015</td>\n",
              "      <td>None</td>\n",
              "      <td>[+1972-12-17T00:00:00Z]</td>\n",
              "      <td>[Q668]</td>\n",
              "      <td>[Q6581097]</td>\n",
              "      <td>1354134367</td>\n",
              "      <td>None</td>\n",
              "      <td>None</td>\n",
              "      <td>[Q33999, Q4610556, Q3282637, Q10800557]</td>\n",
              "      <td>None</td>\n",
              "      <td>None</td>\n",
              "      <td>Q313025</td>\n",
              "      <td>John Abraham</td>\n",
              "      <td>None</td>\n",
              "      <td>item</td>\n",
              "      <td>[Q5043]</td>\n",
              "    </tr>\n",
              "  </tbody>\n",
              "</table>\n",
              "</div>"
            ],
            "text/plain": [
              "             quoteID  ... religion\n",
              "0  2015-09-28-067347  ...  [Q5043]\n",
              "1  2015-02-26-060320  ...  [Q5043]\n",
              "2  2015-09-17-007663  ...  [Q5043]\n",
              "\n",
              "[3 rows x 25 columns]"
            ]
          },
          "metadata": {},
          "execution_count": 44
        }
      ]
    },
    {
      "cell_type": "code",
      "metadata": {
        "id": "PooqTzzuYkkw",
        "colab": {
          "base_uri": "https://localhost:8080/",
          "height": 417
        },
        "outputId": "0ec32ddd-6042-4f97-8d71-11a7f35c128e"
      },
      "source": [
        "# add the labels of the countries\n",
        "climate_countries_label = climate_countries.explode('nationality').merge(qids, left_on='nationality', right_on='QID')\n",
        "print(climate_countries_label.shape)\n",
        "climate_countries_label.drop(columns=['id', 'label', 'Description', 'aliases', 'gender', 'lastrevid', 'ethnic_group', \n",
        "                                      'US_congress_bio_ID', 'occupation', 'academic_degree', 'candidacy', 'type', \n",
        "                                      'religion'], axis=1, inplace=True)\n",
        "climate_countries_label = climate_countries_label.rename(columns={'nationality': 'nationality_qid', \n",
        "                                                                  'Label': 'nationality_label'})\n",
        "climate_countries_label.sample(3)"
      ],
      "execution_count": 45,
      "outputs": [
        {
          "output_type": "stream",
          "name": "stdout",
          "text": [
            "(178900, 27)\n"
          ]
        },
        {
          "output_type": "execute_result",
          "data": {
            "text/html": [
              "<div>\n",
              "<style scoped>\n",
              "    .dataframe tbody tr th:only-of-type {\n",
              "        vertical-align: middle;\n",
              "    }\n",
              "\n",
              "    .dataframe tbody tr th {\n",
              "        vertical-align: top;\n",
              "    }\n",
              "\n",
              "    .dataframe thead th {\n",
              "        text-align: right;\n",
              "    }\n",
              "</style>\n",
              "<table border=\"1\" class=\"dataframe\">\n",
              "  <thead>\n",
              "    <tr style=\"text-align: right;\">\n",
              "      <th></th>\n",
              "      <th>quoteID</th>\n",
              "      <th>quotation</th>\n",
              "      <th>speaker</th>\n",
              "      <th>qids</th>\n",
              "      <th>date</th>\n",
              "      <th>numOccurrences</th>\n",
              "      <th>probas</th>\n",
              "      <th>urls</th>\n",
              "      <th>phase</th>\n",
              "      <th>year</th>\n",
              "      <th>date_of_birth</th>\n",
              "      <th>nationality_qid</th>\n",
              "      <th>party</th>\n",
              "      <th>nationality_label</th>\n",
              "    </tr>\n",
              "  </thead>\n",
              "  <tbody>\n",
              "    <tr>\n",
              "      <th>178758</th>\n",
              "      <td>2018-11-02-056000</td>\n",
              "      <td>In light of the most recently released data on...</td>\n",
              "      <td>John Hamilton</td>\n",
              "      <td>Q28955335</td>\n",
              "      <td>2018-11-02 14:19:53</td>\n",
              "      <td>1</td>\n",
              "      <td>[[John Hamilton, 0.908], [None, 0.092]]</td>\n",
              "      <td>[http://www.wbiw.com/local/archive/2018/11/cit...</td>\n",
              "      <td>E</td>\n",
              "      <td>2018</td>\n",
              "      <td>None</td>\n",
              "      <td>Q215530</td>\n",
              "      <td>None</td>\n",
              "      <td>Kingdom of Ireland</td>\n",
              "    </tr>\n",
              "    <tr>\n",
              "      <th>37169</th>\n",
              "      <td>2015-07-28-034094</td>\n",
              "      <td>I don't want to speak for everyone who walks o...</td>\n",
              "      <td>Rebecca Brown</td>\n",
              "      <td>Q11890336</td>\n",
              "      <td>2015-07-28 08:31:19</td>\n",
              "      <td>1</td>\n",
              "      <td>[[Rebecca Brown, 0.8064], [None, 0.1769], [Jay...</td>\n",
              "      <td>[http://yakimaherald.com/news/yakima-could-los...</td>\n",
              "      <td>E</td>\n",
              "      <td>2015</td>\n",
              "      <td>[+1992-08-18T00:00:00Z]</td>\n",
              "      <td>Q30</td>\n",
              "      <td>None</td>\n",
              "      <td>United States of America</td>\n",
              "    </tr>\n",
              "    <tr>\n",
              "      <th>18922</th>\n",
              "      <td>2016-04-22-000398</td>\n",
              "      <td>[ Lincoln ] was speaking before the U.S. Congr...</td>\n",
              "      <td>Leonardo DiCaprio</td>\n",
              "      <td>Q38111</td>\n",
              "      <td>2016-04-22 19:27:09</td>\n",
              "      <td>1</td>\n",
              "      <td>[[Leonardo DiCaprio, 0.51], [None, 0.2864], [A...</td>\n",
              "      <td>[http://www.inquisitr.com/3022208/leonardo-dic...</td>\n",
              "      <td>E</td>\n",
              "      <td>2016</td>\n",
              "      <td>[+1974-11-11T00:00:00Z]</td>\n",
              "      <td>Q30</td>\n",
              "      <td>[Q29552]</td>\n",
              "      <td>United States of America</td>\n",
              "    </tr>\n",
              "  </tbody>\n",
              "</table>\n",
              "</div>"
            ],
            "text/plain": [
              "                  quoteID  ...         nationality_label\n",
              "178758  2018-11-02-056000  ...        Kingdom of Ireland\n",
              "37169   2015-07-28-034094  ...  United States of America\n",
              "18922   2016-04-22-000398  ...  United States of America\n",
              "\n",
              "[3 rows x 14 columns]"
            ]
          },
          "metadata": {},
          "execution_count": 45
        }
      ]
    },
    {
      "cell_type": "code",
      "metadata": {
        "id": "hd8j9zyLYkiC",
        "colab": {
          "base_uri": "https://localhost:8080/",
          "height": 282
        },
        "outputId": "f8e71de3-6821-45a3-db08-0c876c800a86"
      },
      "source": [
        "# number of quotes by countries\n",
        "countries = climate_countries_label.groupby(by='nationality_label').count().sort_values(by='quotation', ascending=False).quotation\n",
        "sns.barplot(x=countries[:10].values, y=countries[:10].index)"
      ],
      "execution_count": 46,
      "outputs": [
        {
          "output_type": "execute_result",
          "data": {
            "text/plain": [
              "<matplotlib.axes._subplots.AxesSubplot at 0x7ff20a85b990>"
            ]
          },
          "metadata": {},
          "execution_count": 46
        },
        {
          "output_type": "display_data",
          "data": {
            "image/png": "[encoded data removed]",
            "text/plain": [
              "<Figure size 432x288 with 1 Axes>"
            ]
          },
          "metadata": {
            "needs_background": "light"
          }
        }
      ]
    },
    {
      "cell_type": "markdown",
      "metadata": {
        "id": "n8wzbuAV-Z13"
      },
      "source": [
        "It is time for a clear visualization of the nationality of our speakers, so we are providing an intersting map of the world for a clear vision! :)"
      ]
    },
    {
      "cell_type": "code",
      "metadata": {
        "id": "mJdQ2Wb6Ykey"
      },
      "source": [
        "pip install pycountry"
      ],
      "execution_count": null,
      "outputs": []
    },
    {
      "cell_type": "code",
      "metadata": {
        "id": "4BkUi13OYkbk"
      },
      "source": [
        "pip install geopandas"
      ],
      "execution_count": null,
      "outputs": []
    },
    {
      "cell_type": "code",
      "metadata": {
        "id": "B2AG2WXgYuYr"
      },
      "source": [
        "pip install mapclassify"
      ],
      "execution_count": null,
      "outputs": []
    },
    {
      "cell_type": "code",
      "metadata": {
        "id": "B3jGvKrMYuVl"
      },
      "source": [
        "import pycountry \n",
        "import geopandas"
      ],
      "execution_count": 50,
      "outputs": []
    },
    {
      "cell_type": "code",
      "metadata": {
        "id": "KUkRqJKKYuSp"
      },
      "source": [
        "# generate country code  based on country name \n",
        "# from https://melaniesoek0120.medium.com/data-visualization-how-to-plot-a-map-with-geopandas-in-python-73b10dcd4b4b\n",
        "def alpha3code(column):\n",
        "    CODE=[]\n",
        "    for country in column:\n",
        "        try:\n",
        "            code=pycountry.countries.get(name=country).alpha_3\n",
        "            CODE.append(code)\n",
        "        except:\n",
        "            CODE.append('None')\n",
        "    return CODE"
      ],
      "execution_count": 51,
      "outputs": []
    },
    {
      "cell_type": "code",
      "metadata": {
        "id": "tdrAcsT_YuP8",
        "colab": {
          "base_uri": "https://localhost:8080/",
          "height": 142
        },
        "outputId": "1b74fe25-105b-48b4-ee2b-3cc96652d3a1"
      },
      "source": [
        "# add to the country dataframe all the infos about the countries for the world map\n",
        "countries_df = pd.DataFrame(countries)\n",
        "countries_df.reset_index(inplace=True)\n",
        "countries_df.replace('United States of America', 'United States', inplace=True)\n",
        "countries_df['CODE'] = alpha3code(countries_df.nationality_label)\n",
        "countries_df = countries_df.drop(countries_df.index[countries_df['CODE'] == 'None'])\n",
        "world = geopandas.read_file(geopandas.datasets.get_path('naturalearth_lowres'))\n",
        "world.columns = ['pop_est', 'continent', 'name', 'CODE', 'gdp_md_est', 'geometry']\n",
        "countries_geo = pd.merge(world, countries_df,on='CODE')\n",
        "countries_geo.sample(3)"
      ],
      "execution_count": 52,
      "outputs": [
        {
          "output_type": "execute_result",
          "data": {
            "text/html": [
              "<div>\n",
              "<style scoped>\n",
              "    .dataframe tbody tr th:only-of-type {\n",
              "        vertical-align: middle;\n",
              "    }\n",
              "\n",
              "    .dataframe tbody tr th {\n",
              "        vertical-align: top;\n",
              "    }\n",
              "\n",
              "    .dataframe thead th {\n",
              "        text-align: right;\n",
              "    }\n",
              "</style>\n",
              "<table border=\"1\" class=\"dataframe\">\n",
              "  <thead>\n",
              "    <tr style=\"text-align: right;\">\n",
              "      <th></th>\n",
              "      <th>pop_est</th>\n",
              "      <th>continent</th>\n",
              "      <th>name</th>\n",
              "      <th>CODE</th>\n",
              "      <th>gdp_md_est</th>\n",
              "      <th>geometry</th>\n",
              "      <th>nationality_label</th>\n",
              "      <th>quotation</th>\n",
              "    </tr>\n",
              "  </thead>\n",
              "  <tbody>\n",
              "    <tr>\n",
              "      <th>38</th>\n",
              "      <td>17885245</td>\n",
              "      <td>Africa</td>\n",
              "      <td>Mali</td>\n",
              "      <td>MLI</td>\n",
              "      <td>38090.0</td>\n",
              "      <td>POLYGON ((-11.51394 12.44299, -11.46790 12.754...</td>\n",
              "      <td>Mali</td>\n",
              "      <td>10</td>\n",
              "    </tr>\n",
              "    <tr>\n",
              "      <th>54</th>\n",
              "      <td>29310273</td>\n",
              "      <td>Africa</td>\n",
              "      <td>Angola</td>\n",
              "      <td>AGO</td>\n",
              "      <td>189000.0</td>\n",
              "      <td>MULTIPOLYGON (((12.99552 -4.78110, 12.63161 -4...</td>\n",
              "      <td>Angola</td>\n",
              "      <td>11</td>\n",
              "    </tr>\n",
              "    <tr>\n",
              "      <th>123</th>\n",
              "      <td>97041072</td>\n",
              "      <td>Africa</td>\n",
              "      <td>Egypt</td>\n",
              "      <td>EGY</td>\n",
              "      <td>1105000.0</td>\n",
              "      <td>POLYGON ((36.86623 22.00000, 32.90000 22.00000...</td>\n",
              "      <td>Egypt</td>\n",
              "      <td>58</td>\n",
              "    </tr>\n",
              "  </tbody>\n",
              "</table>\n",
              "</div>"
            ],
            "text/plain": [
              "      pop_est continent  ... nationality_label quotation\n",
              "38   17885245    Africa  ...              Mali        10\n",
              "54   29310273    Africa  ...            Angola        11\n",
              "123  97041072    Africa  ...             Egypt        58\n",
              "\n",
              "[3 rows x 8 columns]"
            ]
          },
          "metadata": {},
          "execution_count": 52
        }
      ]
    },
    {
      "cell_type": "code",
      "metadata": {
        "id": "sGNYhf0NYuNG",
        "colab": {
          "base_uri": "https://localhost:8080/",
          "height": 383
        },
        "outputId": "4a6d9f54-c31c-40f0-b4f3-4678775b1d0a"
      },
      "source": [
        "# plot the number of quotations on the world map\n",
        "countries_geo.plot(column='quotation', scheme=\"quantiles\", figsize=(15, 20), legend=True, cmap='coolwarm')\n",
        "plt.title('Number of quotations about climate change',fontsize=15)\n",
        "plt.axis(\"off\")\n",
        "plt.show()"
      ],
      "execution_count": 53,
      "outputs": [
        {
          "output_type": "display_data",
          "data": {
            "image/png": "[encoded data removed]",
            "text/plain": [
              "<Figure size 1080x1440 with 1 Axes>"
            ]
          },
          "metadata": {
            "needs_background": "light"
          }
        }
      ]
    },
    {
      "cell_type": "markdown",
      "metadata": {
        "id": "frVc5to8Y2FQ"
      },
      "source": [
        "## Political parties"
      ]
    },
    {
      "cell_type": "markdown",
      "metadata": {
        "id": "ZxXFGIeF_AYr"
      },
      "source": [
        "Political parties are an important part of our analysis, so in this section we are extracting all the information about them that we will merge with our data set containing quotes abog climate change. The idea is, also, to divide the political parties into left-wing and right-wing parties and try to perform a classification that will provide us with the information is there a difference on how left-wing and right-wing parties treat climate change."
      ]
    },
    {
      "cell_type": "code",
      "metadata": {
        "id": "i1Y804lmY70L"
      },
      "source": [
        "# add the labels of the parties\n",
        "climate_wikidata_label = climate_countries_label.explode('party').merge(qids, left_on='party', right_on='QID')\n",
        "climate_wikidata_label.drop(columns=['Description'], axis=1, inplace=True)\n",
        "climate_wikidata_label.rename(columns={'Label': 'party_label', 'party': 'party_qid'}, inplace=True)"
      ],
      "execution_count": 55,
      "outputs": []
    },
    {
      "cell_type": "code",
      "metadata": {
        "id": "asBoldkWY7ue",
        "colab": {
          "base_uri": "https://localhost:8080/",
          "height": 282
        },
        "outputId": "f5dc326b-96a5-44ad-ce72-2c7b683e2618"
      },
      "source": [
        "# number of quotes by parties in the world\n",
        "parties = climate_wikidata_label.groupby(by='party_label').count().sort_values(by='quotation', ascending=False).quotation\n",
        "sns.barplot(x=parties[:10].values, y=parties[:10].index)"
      ],
      "execution_count": 57,
      "outputs": [
        {
          "output_type": "execute_result",
          "data": {
            "text/plain": [
              "<matplotlib.axes._subplots.AxesSubplot at 0x7ff01861e1d0>"
            ]
          },
          "metadata": {},
          "execution_count": 57
        },
        {
          "output_type": "display_data",
          "data": {
            "image/png": "[encoded data removed]",
            "text/plain": [
              "<Figure size 432x288 with 1 Axes>"
            ]
          },
          "metadata": {
            "needs_background": "light"
          }
        }
      ]
    },
    {
      "cell_type": "code",
      "metadata": {
        "id": "k_ADWWHqY7rs"
      },
      "source": [
        "# number of quotes by countries and parties in the world\n",
        "parties_countries = climate_wikidata_label.groupby(by=['nationality_label', 'party_label']).count().sort_values(by='quotation', ascending=False).quotation\n",
        "parties_countries_df = pd.DataFrame(parties_countries)\n",
        "parties_countries_df.reset_index(inplace=True)"
      ],
      "execution_count": 72,
      "outputs": []
    },
    {
      "cell_type": "code",
      "metadata": {
        "id": "TqjYly0yY7o1",
        "colab": {
          "base_uri": "https://localhost:8080/",
          "height": 296
        },
        "outputId": "d7b43a0c-6ced-4a7e-d321-90384dd36776"
      },
      "source": [
        "# parties for the USA\n",
        "US_data = parties_countries_df[parties_countries_df.nationality_label == 'United States of America']\n",
        "sns.barplot(data=US_data[:3], x='quotation', y='party_label')"
      ],
      "execution_count": 59,
      "outputs": [
        {
          "output_type": "execute_result",
          "data": {
            "text/plain": [
              "<matplotlib.axes._subplots.AxesSubplot at 0x7ff01854e290>"
            ]
          },
          "metadata": {},
          "execution_count": 59
        },
        {
          "output_type": "display_data",
          "data": {
            "image/png": "[encoded data removed]",
            "text/plain": [
              "<Figure size 432x288 with 1 Axes>"
            ]
          },
          "metadata": {
            "needs_background": "light"
          }
        }
      ]
    },
    {
      "cell_type": "code",
      "metadata": {
        "id": "4y5tb6CkZA16",
        "colab": {
          "base_uri": "https://localhost:8080/",
          "height": 296
        },
        "outputId": "351aa841-696b-413d-f6c1-df525ab940f0"
      },
      "source": [
        "# parties for the UK\n",
        "UK_data = parties_countries_df[parties_countries_df.nationality_label == 'United Kingdom']\n",
        "sns.barplot(data=UK_data[:3], x='quotation', y='party_label')"
      ],
      "execution_count": 60,
      "outputs": [
        {
          "output_type": "execute_result",
          "data": {
            "text/plain": [
              "<matplotlib.axes._subplots.AxesSubplot at 0x7ff01851df50>"
            ]
          },
          "metadata": {},
          "execution_count": 60
        },
        {
          "output_type": "display_data",
          "data": {
            "image/png": "[encoded data removed]",
            "text/plain": [
              "<Figure size 432x288 with 1 Axes>"
            ]
          },
          "metadata": {
            "needs_background": "light"
          }
        }
      ]
    },
    {
      "cell_type": "code",
      "metadata": {
        "id": "l6TBr7RIZAyK",
        "colab": {
          "base_uri": "https://localhost:8080/",
          "height": 296
        },
        "outputId": "e948fe5a-2d51-459e-ac58-99feaa24c869"
      },
      "source": [
        "# parties for Canada\n",
        "canada_data = parties_countries_df[parties_countries_df.nationality_label == 'Canada']\n",
        "sns.barplot(data=canada_data[:3], x='quotation', y='party_label')"
      ],
      "execution_count": 61,
      "outputs": [
        {
          "output_type": "execute_result",
          "data": {
            "text/plain": [
              "<matplotlib.axes._subplots.AxesSubplot at 0x7ff018490810>"
            ]
          },
          "metadata": {},
          "execution_count": 61
        },
        {
          "output_type": "display_data",
          "data": {
            "image/png": "[encoded data removed]",
            "text/plain": [
              "<Figure size 432x288 with 1 Axes>"
            ]
          },
          "metadata": {
            "needs_background": "light"
          }
        }
      ]
    },
    {
      "cell_type": "markdown",
      "metadata": {
        "id": "8qm_ThfjPKcS"
      },
      "source": [
        "## Age categories"
      ]
    },
    {
      "cell_type": "markdown",
      "metadata": {
        "id": "8Y3rEniv_wtO"
      },
      "source": [
        "Age categories analysis will help us determine is there a significant difference in the opinions of different age groups about climate change. By adding the age information to every speaker of a quote, we will try to summarize, compare, and observe the opinions that people of a certain age have about climate change."
      ]
    },
    {
      "cell_type": "code",
      "metadata": {
        "id": "nRDgNzsZPL6k"
      },
      "source": [
        "# to find the age category\n",
        "def age_category(age):\n",
        "  if age < 17:\n",
        "    return '0-16'\n",
        "  elif age < 31:\n",
        "    return '17-30'\n",
        "  elif age < 46:\n",
        "    return '31-45'\n",
        "  elif age < 66:\n",
        "    return '46-65'\n",
        "  else:\n",
        "    return '66+'"
      ],
      "execution_count": 62,
      "outputs": []
    },
    {
      "cell_type": "code",
      "metadata": {
        "id": "huDEzgLNPOpB",
        "colab": {
          "base_uri": "https://localhost:8080/",
          "height": 417
        },
        "outputId": "cef7a4dd-365c-4bae-cf4e-571517a704fc"
      },
      "source": [
        "# create birth_year, age and age_category columns\n",
        "climate_wikidata_ages = climate_wikidata_label.dropna(axis=0, subset=['date_of_birth'])\n",
        "climate_wikidata_ages['birth_year'] = climate_wikidata_ages.date_of_birth.apply(lambda x: int(x[0][1:5]))\n",
        "climate_wikidata_ages['age'] = climate_wikidata_ages['year'] - climate_wikidata_ages['birth_year']\n",
        "climate_wikidata_ages['age_category'] = climate_wikidata_ages['age'].apply(age_category)\n",
        "climate_wikidata_ages.sample(3)"
      ],
      "execution_count": 63,
      "outputs": [
        {
          "output_type": "execute_result",
          "data": {
            "text/html": [
              "<div>\n",
              "<style scoped>\n",
              "    .dataframe tbody tr th:only-of-type {\n",
              "        vertical-align: middle;\n",
              "    }\n",
              "\n",
              "    .dataframe tbody tr th {\n",
              "        vertical-align: top;\n",
              "    }\n",
              "\n",
              "    .dataframe thead th {\n",
              "        text-align: right;\n",
              "    }\n",
              "</style>\n",
              "<table border=\"1\" class=\"dataframe\">\n",
              "  <thead>\n",
              "    <tr style=\"text-align: right;\">\n",
              "      <th></th>\n",
              "      <th>quoteID</th>\n",
              "      <th>quotation</th>\n",
              "      <th>speaker</th>\n",
              "      <th>qids</th>\n",
              "      <th>date</th>\n",
              "      <th>numOccurrences</th>\n",
              "      <th>probas</th>\n",
              "      <th>urls</th>\n",
              "      <th>phase</th>\n",
              "      <th>year</th>\n",
              "      <th>date_of_birth</th>\n",
              "      <th>nationality_qid</th>\n",
              "      <th>party_qid</th>\n",
              "      <th>nationality_label</th>\n",
              "      <th>party_label</th>\n",
              "      <th>birth_year</th>\n",
              "      <th>age</th>\n",
              "      <th>age_category</th>\n",
              "    </tr>\n",
              "  </thead>\n",
              "  <tbody>\n",
              "    <tr>\n",
              "      <th>23564</th>\n",
              "      <td>2019-08-27-093277</td>\n",
              "      <td>We must change how we view climate change. We ...</td>\n",
              "      <td>Yvette Clarke</td>\n",
              "      <td>Q461679</td>\n",
              "      <td>2019-08-27 18:00:36</td>\n",
              "      <td>1</td>\n",
              "      <td>[[Yvette Clarke, 0.7329], [None, 0.2671]]</td>\n",
              "      <td>[https://www.bkreader.com/2019/08/27/climate-c...</td>\n",
              "      <td>E</td>\n",
              "      <td>2019</td>\n",
              "      <td>[+1964-11-21T00:00:00Z]</td>\n",
              "      <td>Q30</td>\n",
              "      <td>Q29552</td>\n",
              "      <td>United States of America</td>\n",
              "      <td>Democratic Party</td>\n",
              "      <td>1964</td>\n",
              "      <td>55</td>\n",
              "      <td>46-65</td>\n",
              "    </tr>\n",
              "    <tr>\n",
              "      <th>31102</th>\n",
              "      <td>2018-02-09-118708</td>\n",
              "      <td>the role human activity plays [ in climate cha...</td>\n",
              "      <td>John Barrasso</td>\n",
              "      <td>Q720521</td>\n",
              "      <td>2018-02-09 19:06:39</td>\n",
              "      <td>3</td>\n",
              "      <td>[[John Barrasso, 0.434], [Sheldon Whitehouse, ...</td>\n",
              "      <td>[http://www.lmtonline.com/news/article/Energy-...</td>\n",
              "      <td>E</td>\n",
              "      <td>2018</td>\n",
              "      <td>[+1952-07-21T00:00:00Z]</td>\n",
              "      <td>Q30</td>\n",
              "      <td>Q29468</td>\n",
              "      <td>United States of America</td>\n",
              "      <td>Republican Party</td>\n",
              "      <td>1952</td>\n",
              "      <td>66</td>\n",
              "      <td>66+</td>\n",
              "    </tr>\n",
              "    <tr>\n",
              "      <th>72831</th>\n",
              "      <td>2019-08-07-016721</td>\n",
              "      <td>During our talks today, we emphasized the sign...</td>\n",
              "      <td>Andrew Holness</td>\n",
              "      <td>Q505200</td>\n",
              "      <td>2019-08-07 16:40:05</td>\n",
              "      <td>1</td>\n",
              "      <td>[[Andrew Holness, 0.858], [None, 0.1322], [Mar...</td>\n",
              "      <td>[https://jis.gov.jm/government-signs-mous-with...</td>\n",
              "      <td>E</td>\n",
              "      <td>2019</td>\n",
              "      <td>[+1972-07-22T00:00:00Z]</td>\n",
              "      <td>Q766</td>\n",
              "      <td>Q1539301</td>\n",
              "      <td>Jamaica</td>\n",
              "      <td>Jamaica Labour Party</td>\n",
              "      <td>1972</td>\n",
              "      <td>47</td>\n",
              "      <td>46-65</td>\n",
              "    </tr>\n",
              "  </tbody>\n",
              "</table>\n",
              "</div>"
            ],
            "text/plain": [
              "                 quoteID  ... age_category\n",
              "23564  2019-08-27-093277  ...        46-65\n",
              "31102  2018-02-09-118708  ...          66+\n",
              "72831  2019-08-07-016721  ...        46-65\n",
              "\n",
              "[3 rows x 18 columns]"
            ]
          },
          "metadata": {},
          "execution_count": 63
        }
      ]
    },
    {
      "cell_type": "code",
      "metadata": {
        "id": "tzgh5-D7POla",
        "colab": {
          "base_uri": "https://localhost:8080/",
          "height": 282
        },
        "outputId": "7a001371-68fa-4ad1-9459-ded301c2f3f9"
      },
      "source": [
        "# number of quotes by age category in the world\n",
        "age_categories = climate_wikidata_ages.groupby(by='age_category').count().quotation\n",
        "sns.barplot(x=age_categories[:10].values, y=age_categories[:10].index)"
      ],
      "execution_count": 64,
      "outputs": [
        {
          "output_type": "execute_result",
          "data": {
            "text/plain": [
              "<matplotlib.axes._subplots.AxesSubplot at 0x7ff018430290>"
            ]
          },
          "metadata": {},
          "execution_count": 64
        },
        {
          "output_type": "display_data",
          "data": {
            "image/png": "[encoded data removed]",
            "text/plain": [
              "<Figure size 432x288 with 1 Axes>"
            ]
          },
          "metadata": {
            "needs_background": "light"
          }
        }
      ]
    },
    {
      "cell_type": "markdown",
      "metadata": {
        "id": "sJtPCW1M6g3D"
      },
      "source": [
        "## Sentiment analysis\n"
      ]
    },
    {
      "cell_type": "markdown",
      "metadata": {
        "id": "9hFY0f5U_KMA"
      },
      "source": [
        "In this part of our analysis, we will implement the afinn library with a goal of extracting the sentiment score of the quotes about climate change. The quotes will be placed in three different groups: positive, negative, and neutral. "
      ]
    },
    {
      "cell_type": "code",
      "metadata": {
        "id": "M2ewmzKY6k9M"
      },
      "source": [
        "! pip install afinn"
      ],
      "execution_count": null,
      "outputs": []
    },
    {
      "cell_type": "code",
      "metadata": {
        "id": "DvmoWi0r6-f7"
      },
      "source": [
        "from afinn import Afinn\n",
        "afn = Afinn()"
      ],
      "execution_count": 66,
      "outputs": []
    },
    {
      "cell_type": "code",
      "metadata": {
        "id": "UYkGWgmU7GJj"
      },
      "source": [
        "#We are iterating through the quotes, and the afinn calculates the sentiment score for every quote\n",
        "sentiments = [afn.score(quote) for quote in climate_all_years.quotation]"
      ],
      "execution_count": 67,
      "outputs": []
    },
    {
      "cell_type": "code",
      "metadata": {
        "id": "FjQ3eYzV8f42"
      },
      "source": [
        "#Every quote will be enriched with its sentiment category\n",
        "sentiment_category = ['positive' if score > 0 else 'negative' if score < 0 else 'neutral' for score in sentiments]"
      ],
      "execution_count": 68,
      "outputs": []
    },
    {
      "cell_type": "code",
      "metadata": {
        "id": "g8vcYmOA8odT"
      },
      "source": [
        "#Adding the sentiment score and category to the dataframe with quotes\n",
        "climate_all_years['sentiment_score'] = sentiments\n",
        "climate_all_years['sentiment_category'] = sentiment_category"
      ],
      "execution_count": 69,
      "outputs": []
    },
    {
      "cell_type": "code",
      "metadata": {
        "id": "jx8n6Xpj86HS",
        "colab": {
          "base_uri": "https://localhost:8080/"
        },
        "outputId": "34633b23-2d5f-4fe2-ed3b-7ec7b56869e1"
      },
      "source": [
        "#Describing the sentiment score\n",
        "climate_all_years['sentiment_score'].describe()"
      ],
      "execution_count": 70,
      "outputs": [
        {
          "output_type": "execute_result",
          "data": {
            "text/plain": [
              "count    156691.000000\n",
              "mean          0.495957\n",
              "std           4.048494\n",
              "min         -46.000000\n",
              "25%          -2.000000\n",
              "50%           0.000000\n",
              "75%           2.000000\n",
              "max          71.000000\n",
              "Name: sentiment_score, dtype: float64"
            ]
          },
          "metadata": {},
          "execution_count": 70
        }
      ]
    },
    {
      "cell_type": "code",
      "metadata": {
        "id": "1OVh4yzH9B-h",
        "colab": {
          "base_uri": "https://localhost:8080/"
        },
        "outputId": "3287e409-d835-44cb-ac1d-63601ce1bf9d"
      },
      "source": [
        "#Describing the sentiment category\n",
        "climate_all_years['sentiment_category'].value_counts()"
      ],
      "execution_count": 71,
      "outputs": [
        {
          "output_type": "execute_result",
          "data": {
            "text/plain": [
              "positive    66784\n",
              "negative    53078\n",
              "neutral     36829\n",
              "Name: sentiment_category, dtype: int64"
            ]
          },
          "metadata": {},
          "execution_count": 71
        }
      ]
    }
  ]
}