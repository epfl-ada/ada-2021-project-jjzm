{
  "nbformat": 4,
  "nbformat_minor": 0,
  "metadata": {
    "colab": {
      "name": "Project Milestone 2.ipynb",
      "provenance": [],
      "collapsed_sections": []
    },
    "kernelspec": {
      "name": "python3",
      "display_name": "Python 3"
    },
    "language_info": {
      "name": "python"
    }
  },
  "cells": [
    {
      "cell_type": "markdown",
      "metadata": {
        "id": "hwcsufM5siRb"
      },
      "source": [
        "# Project Milestone 2"
      ]
    },
    {
      "cell_type": "markdown",
      "metadata": {
        "id": "rDIwbh2Ssx1H"
      },
      "source": [
        "## Tools"
      ]
    },
    {
      "cell_type": "code",
      "metadata": {
        "id": "p3ZUlq_gsnDy"
      },
      "source": [
        "pip install pandas==1.0.5"
      ],
      "execution_count": null,
      "outputs": []
    },
    {
      "cell_type": "code",
      "metadata": {
        "colab": {
          "base_uri": "https://localhost:8080/"
        },
        "id": "ZbelLu3-sxpB",
        "outputId": "72ddbd37-606f-4a9b-f109-060b34994f9c"
      },
      "source": [
        "import pandas as pd\n",
        "import matplotlib.pyplot as plt\n",
        "import seaborn as sns\n",
        "import collections\n",
        "import nltk\n",
        "import requests\n",
        "import pickle\n",
        "import warnings\n",
        "from nltk.corpus import wordnet\n",
        "from nltk.corpus import stopwords\n",
        "from wordcloud import WordCloud\n",
        "warnings.filterwarnings('ignore')\n",
        "print('pandas version: ' + pd.__version__)"
      ],
      "execution_count": 2,
      "outputs": [
        {
          "output_type": "stream",
          "name": "stdout",
          "text": [
            "pandas version: 1.0.5\n"
          ]
        }
      ]
    },
    {
      "cell_type": "code",
      "metadata": {
        "colab": {
          "base_uri": "https://localhost:8080/"
        },
        "id": "3jGqI8P_s7x5",
        "outputId": "7441c7e1-ed08-4ba1-cedb-44622545db8a"
      },
      "source": [
        "from google.colab import drive\n",
        "drive.mount('/content/drive')"
      ],
      "execution_count": 3,
      "outputs": [
        {
          "output_type": "stream",
          "name": "stdout",
          "text": [
            "Mounted at /content/drive\n"
          ]
        }
      ]
    },
    {
      "cell_type": "code",
      "metadata": {
        "id": "JpT3uaZ3tW82"
      },
      "source": [
        "path_data = '/content/drive/MyDrive/Quotebank/'"
      ],
      "execution_count": 4,
      "outputs": []
    },
    {
      "cell_type": "code",
      "metadata": {
        "id": "6AP49Ub4tf2D"
      },
      "source": [
        "# loop through nb_chunks_to_read chunks (if 0, through all chunks) and apply process_function to each of them\n",
        "# return the result as a dataframe\n",
        "def loop_chuncks(chunks, process_function, nb_chunks_to_read=0):\n",
        "  i = 0\n",
        "  result = []\n",
        "  columns = None\n",
        "  for chunk in chunks:\n",
        "    processed = process_function(chunk)\n",
        "    if processed is not None:\n",
        "      if not isinstance(processed, pd.Series):\n",
        "        columns = processed.columns\n",
        "      for r in processed.values.tolist():\n",
        "        result.append(r)\n",
        "    i += 1\n",
        "    if i == nb_chunks_to_read:\n",
        "      break\n",
        "  return pd.DataFrame(result, columns=columns)"
      ],
      "execution_count": 5,
      "outputs": []
    },
    {
      "cell_type": "code",
      "metadata": {
        "colab": {
          "base_uri": "https://localhost:8080/",
          "height": 346
        },
        "id": "JmtK07x4trUq",
        "outputId": "05be1fc8-ff65-4b02-b285-3625c4f2d357"
      },
      "source": [
        "# return the first 3 elements of a chunk\n",
        "def chunck_head(chunk):\n",
        "  return chunk.head(3)\n",
        "\n",
        "# example\n",
        "chunks = pd.read_json(path_data + 'quotes-2020.json.bz2', lines=True, compression='bz2', chunksize=10000)\n",
        "loop_chuncks(chunks, chunck_head, 1)"
      ],
      "execution_count": 6,
      "outputs": [
        {
          "output_type": "execute_result",
          "data": {
            "text/html": [
              "<div>\n",
              "<style scoped>\n",
              "    .dataframe tbody tr th:only-of-type {\n",
              "        vertical-align: middle;\n",
              "    }\n",
              "\n",
              "    .dataframe tbody tr th {\n",
              "        vertical-align: top;\n",
              "    }\n",
              "\n",
              "    .dataframe thead th {\n",
              "        text-align: right;\n",
              "    }\n",
              "</style>\n",
              "<table border=\"1\" class=\"dataframe\">\n",
              "  <thead>\n",
              "    <tr style=\"text-align: right;\">\n",
              "      <th></th>\n",
              "      <th>quoteID</th>\n",
              "      <th>quotation</th>\n",
              "      <th>speaker</th>\n",
              "      <th>qids</th>\n",
              "      <th>date</th>\n",
              "      <th>numOccurrences</th>\n",
              "      <th>probas</th>\n",
              "      <th>urls</th>\n",
              "      <th>phase</th>\n",
              "    </tr>\n",
              "  </thead>\n",
              "  <tbody>\n",
              "    <tr>\n",
              "      <th>0</th>\n",
              "      <td>2020-01-28-000082</td>\n",
              "      <td>[ D ] espite the efforts of the partners to cr...</td>\n",
              "      <td>None</td>\n",
              "      <td>[]</td>\n",
              "      <td>2020-01-28 08:04:05</td>\n",
              "      <td>1</td>\n",
              "      <td>[[None, 0.7272], [Prime Minister Netanyahu, 0....</td>\n",
              "      <td>[http://israelnationalnews.com/News/News.aspx/...</td>\n",
              "      <td>E</td>\n",
              "    </tr>\n",
              "    <tr>\n",
              "      <th>1</th>\n",
              "      <td>2020-01-16-000088</td>\n",
              "      <td>[ Department of Homeland Security ] was livid ...</td>\n",
              "      <td>Sue Myrick</td>\n",
              "      <td>[Q367796]</td>\n",
              "      <td>2020-01-16 12:00:13</td>\n",
              "      <td>1</td>\n",
              "      <td>[[Sue Myrick, 0.8867], [None, 0.0992], [Ron Wy...</td>\n",
              "      <td>[http://thehill.com/opinion/international/4782...</td>\n",
              "      <td>E</td>\n",
              "    </tr>\n",
              "    <tr>\n",
              "      <th>2</th>\n",
              "      <td>2020-02-10-000142</td>\n",
              "      <td>... He (Madhav) also disclosed that the illega...</td>\n",
              "      <td>None</td>\n",
              "      <td>[]</td>\n",
              "      <td>2020-02-10 23:45:54</td>\n",
              "      <td>1</td>\n",
              "      <td>[[None, 0.8926], [Prakash Rai, 0.1074]]</td>\n",
              "      <td>[https://indianexpress.com/article/business/ec...</td>\n",
              "      <td>E</td>\n",
              "    </tr>\n",
              "  </tbody>\n",
              "</table>\n",
              "</div>"
            ],
            "text/plain": [
              "             quoteID  ... phase\n",
              "0  2020-01-28-000082  ...     E\n",
              "1  2020-01-16-000088  ...     E\n",
              "2  2020-02-10-000142  ...     E\n",
              "\n",
              "[3 rows x 9 columns]"
            ]
          },
          "metadata": {},
          "execution_count": 6
        }
      ]
    },
    {
      "cell_type": "code",
      "metadata": {
        "colab": {
          "base_uri": "https://localhost:8080/"
        },
        "id": "lXtgCRTFt3T6",
        "outputId": "a3782cbf-b3ac-4d7e-bf81-adf8242ba49f"
      },
      "source": [
        "# to create automatically a list of synonyms\n",
        "# https://towardsdatascience.com/synonyms-and-antonyms-in-python-a865a5e14ce8\n",
        "nltk.download('wordnet')\n",
        "\n",
        "def find_synonyms(word):\n",
        "  words = []\n",
        "  for syn in wordnet.synsets(word):\n",
        "    for lm in syn.lemmas():\n",
        "      words.append(lm.name())\n",
        "  return words\n",
        "\n",
        "# example\n",
        "find_synonyms('climate')\n",
        "find_synonyms('environment')"
      ],
      "execution_count": 7,
      "outputs": [
        {
          "output_type": "stream",
          "name": "stdout",
          "text": [
            "[nltk_data] Downloading package wordnet to /root/nltk_data...\n",
            "[nltk_data]   Unzipping corpora/wordnet.zip.\n"
          ]
        },
        {
          "output_type": "execute_result",
          "data": {
            "text/plain": [
              "['environment', 'environment', 'environs', 'surroundings', 'surround']"
            ]
          },
          "metadata": {},
          "execution_count": 7
        }
      ]
    },
    {
      "cell_type": "markdown",
      "metadata": {
        "id": "u0uR07N-x7oB"
      },
      "source": [
        "## Creation of the dataset about climate change"
      ]
    },
    {
      "cell_type": "code",
      "metadata": {
        "colab": {
          "base_uri": "https://localhost:8080/",
          "height": 329
        },
        "id": "FmoDei5vyJ6p",
        "outputId": "390c1adb-daa0-4c5f-ec3b-870bb6f5dfed"
      },
      "source": [
        "# return the quotes containing one of the words in the list\n",
        "\n",
        "words = ['global warming', 'climate change']\n",
        "\n",
        "def contains_word_in_list(chunk):\n",
        "  return chunk[chunk.quotation.str.contains('|'.join(words))]\n",
        "\n",
        "chunks = pd.read_json(path_data + 'quotes-2020.json.bz2', lines=True, compression='bz2', chunksize=10000)\n",
        "word_in_list_quotes = loop_chuncks(chunks, contains_word_in_list, 3)\n",
        "\n",
        "word_in_list_quotes.sample(3)"
      ],
      "execution_count": 8,
      "outputs": [
        {
          "output_type": "execute_result",
          "data": {
            "text/html": [
              "<div>\n",
              "<style scoped>\n",
              "    .dataframe tbody tr th:only-of-type {\n",
              "        vertical-align: middle;\n",
              "    }\n",
              "\n",
              "    .dataframe tbody tr th {\n",
              "        vertical-align: top;\n",
              "    }\n",
              "\n",
              "    .dataframe thead th {\n",
              "        text-align: right;\n",
              "    }\n",
              "</style>\n",
              "<table border=\"1\" class=\"dataframe\">\n",
              "  <thead>\n",
              "    <tr style=\"text-align: right;\">\n",
              "      <th></th>\n",
              "      <th>quoteID</th>\n",
              "      <th>quotation</th>\n",
              "      <th>speaker</th>\n",
              "      <th>qids</th>\n",
              "      <th>date</th>\n",
              "      <th>numOccurrences</th>\n",
              "      <th>probas</th>\n",
              "      <th>urls</th>\n",
              "      <th>phase</th>\n",
              "    </tr>\n",
              "  </thead>\n",
              "  <tbody>\n",
              "    <tr>\n",
              "      <th>39</th>\n",
              "      <td>2020-03-16-027132</td>\n",
              "      <td>If storminess increases with climate change, a...</td>\n",
              "      <td>None</td>\n",
              "      <td>[]</td>\n",
              "      <td>2020-03-16 00:00:00</td>\n",
              "      <td>3</td>\n",
              "      <td>[[None, 0.9405], [Andrew Ashton, 0.0595]]</td>\n",
              "      <td>[http://news.mit.edu/2020/wave-power-coastal-e...</td>\n",
              "      <td>E</td>\n",
              "    </tr>\n",
              "    <tr>\n",
              "      <th>25</th>\n",
              "      <td>2020-02-06-075836</td>\n",
              "      <td>press companies to disclose plans for operatin...</td>\n",
              "      <td>Larry Fink</td>\n",
              "      <td>[Q3218882, Q6490307]</td>\n",
              "      <td>2020-02-06 05:00:00</td>\n",
              "      <td>1</td>\n",
              "      <td>[[Larry Fink, 0.8982], [None, 0.1018]]</td>\n",
              "      <td>[http://businesslive.co.za/fm/money-and-invest...</td>\n",
              "      <td>E</td>\n",
              "    </tr>\n",
              "    <tr>\n",
              "      <th>0</th>\n",
              "      <td>2020-02-27-004325</td>\n",
              "      <td>And it's also in the context of decades of utt...</td>\n",
              "      <td>None</td>\n",
              "      <td>[]</td>\n",
              "      <td>2020-02-27 15:17:36</td>\n",
              "      <td>1</td>\n",
              "      <td>[[None, 0.8786], [Bernie Sanders, 0.1214]]</td>\n",
              "      <td>[http://www.eenews.net/stories/1062457547]</td>\n",
              "      <td>E</td>\n",
              "    </tr>\n",
              "  </tbody>\n",
              "</table>\n",
              "</div>"
            ],
            "text/plain": [
              "              quoteID  ... phase\n",
              "39  2020-03-16-027132  ...     E\n",
              "25  2020-02-06-075836  ...     E\n",
              "0   2020-02-27-004325  ...     E\n",
              "\n",
              "[3 rows x 9 columns]"
            ]
          },
          "metadata": {},
          "execution_count": 8
        }
      ]
    },
    {
      "cell_type": "code",
      "metadata": {
        "id": "AGX8UsEkzI3U"
      },
      "source": [
        "# to load and save pickes (from the course tutorial)\n",
        "def load_pickle(file_path):\n",
        "    with open(file_path, 'rb') as file:\n",
        "        return pickle.load(file)\n",
        "\n",
        "def save_pickle(result, file_path = 'pickle'):\n",
        "    with open(file_path, 'wb') as file:\n",
        "        pickle.dump(result, file)"
      ],
      "execution_count": 9,
      "outputs": []
    },
    {
      "cell_type": "code",
      "metadata": {
        "id": "Cx8ckqUVzhsK"
      },
      "source": [
        "# create a pickle of the quotes about climate change for the 2020 dataset\n",
        "# this have been done for the 6 datasets, commented to not re-run it (very long)\n",
        "# chunks = pd.read_json(path_data + 'quotes-2020.json.bz2', lines=True, compression='bz2', chunksize=10000)\n",
        "# climate_2020 = loop_chuncks(chunks, contains_word_in_list)\n",
        "# path_pickle_2020 = '/content/drive/MyDrive/pickle_2020'\n",
        "# save_pickle(word_in_list_quotes, path_pickle_2020)"
      ],
      "execution_count": 10,
      "outputs": []
    },
    {
      "cell_type": "code",
      "metadata": {
        "id": "FJfzDQtfKN5s"
      },
      "source": [
        "# load the pickles\n",
        "# the pickles need to be added to the drive\n",
        "# download here: https://drive.google.com/drive/folders/1j1Bp1niC0_cqg1kN_LbSrA2TGnq5MTgt?usp=sharing\n",
        "climate_2015 = load_pickle('/content/drive/MyDrive/pickle_2015')\n",
        "climate_2016 = load_pickle('/content/drive/MyDrive/pickle_2016')\n",
        "climate_2017 = load_pickle('/content/drive/MyDrive/pickle_2017')\n",
        "climate_2018 = load_pickle('/content/drive/MyDrive/pickle_2018')\n",
        "climate_2019 = load_pickle('/content/drive/MyDrive/pickle_2019')\n",
        "climate_2020 = load_pickle('/content/drive/MyDrive/pickle_2020')\n",
        "all_years_list = [climate_2015, climate_2016, climate_2017, climate_2018, climate_2019, climate_2020]\n",
        "all_years = [2015, 2016, 2017, 2018, 2019, 2020]\n",
        "for i in range(len(all_years)):\n",
        "  all_years_list[i]['year'] = all_years[i]"
      ],
      "execution_count": 11,
      "outputs": []
    },
    {
      "cell_type": "code",
      "metadata": {
        "id": "otY1eAUqK-TJ",
        "colab": {
          "base_uri": "https://localhost:8080/",
          "height": 400
        },
        "outputId": "a11ad98f-358d-48cc-89fa-451dc97bf87c"
      },
      "source": [
        "# create one dataframe for all the years\n",
        "climate_all_years = pd.concat(all_years_list, ignore_index=True)\n",
        "print(climate_all_years.shape)\n",
        "climate_all_years.sample(3)"
      ],
      "execution_count": 12,
      "outputs": [
        {
          "output_type": "stream",
          "name": "stdout",
          "text": [
            "(141512, 10)\n"
          ]
        },
        {
          "output_type": "execute_result",
          "data": {
            "text/html": [
              "<div>\n",
              "<style scoped>\n",
              "    .dataframe tbody tr th:only-of-type {\n",
              "        vertical-align: middle;\n",
              "    }\n",
              "\n",
              "    .dataframe tbody tr th {\n",
              "        vertical-align: top;\n",
              "    }\n",
              "\n",
              "    .dataframe thead th {\n",
              "        text-align: right;\n",
              "    }\n",
              "</style>\n",
              "<table border=\"1\" class=\"dataframe\">\n",
              "  <thead>\n",
              "    <tr style=\"text-align: right;\">\n",
              "      <th></th>\n",
              "      <th>quoteID</th>\n",
              "      <th>quotation</th>\n",
              "      <th>speaker</th>\n",
              "      <th>qids</th>\n",
              "      <th>date</th>\n",
              "      <th>numOccurrences</th>\n",
              "      <th>probas</th>\n",
              "      <th>urls</th>\n",
              "      <th>phase</th>\n",
              "      <th>year</th>\n",
              "    </tr>\n",
              "  </thead>\n",
              "  <tbody>\n",
              "    <tr>\n",
              "      <th>114336</th>\n",
              "      <td>2019-12-06-089684</td>\n",
              "      <td>The reality of climate change-hotter and drier...</td>\n",
              "      <td>Malcolm Turnbull</td>\n",
              "      <td>[Q927550]</td>\n",
              "      <td>2019-12-06 16:09:13</td>\n",
              "      <td>1</td>\n",
              "      <td>[[Malcolm Turnbull, 0.8551], [None, 0.1449]]</td>\n",
              "      <td>[http://cnn.com/2019/12/06/australia/sydney-sm...</td>\n",
              "      <td>E</td>\n",
              "      <td>2019</td>\n",
              "    </tr>\n",
              "    <tr>\n",
              "      <th>3828</th>\n",
              "      <td>2015-07-17-024982</td>\n",
              "      <td>He leaves a legacy of helping people learn abo...</td>\n",
              "      <td>John Houck</td>\n",
              "      <td>[Q16193645]</td>\n",
              "      <td>2015-07-17 03:39:03</td>\n",
              "      <td>6</td>\n",
              "      <td>[[John Houck, 0.8857], [None, 0.1073], [Karen ...</td>\n",
              "      <td>[http://www.kirotv.com/news/news/point-defianc...</td>\n",
              "      <td>E</td>\n",
              "      <td>2015</td>\n",
              "    </tr>\n",
              "    <tr>\n",
              "      <th>141487</th>\n",
              "      <td>2020-01-24-105942</td>\n",
              "      <td>We'll see weather bombs in the future -- very ...</td>\n",
              "      <td>None</td>\n",
              "      <td>[]</td>\n",
              "      <td>2020-01-24 01:50:24</td>\n",
              "      <td>6</td>\n",
              "      <td>[[None, 0.8002], [Christian Seiler, 0.1998]]</td>\n",
              "      <td>[http://www.gfwadvertiser.ca/news/canada/frida...</td>\n",
              "      <td>E</td>\n",
              "      <td>2020</td>\n",
              "    </tr>\n",
              "  </tbody>\n",
              "</table>\n",
              "</div>"
            ],
            "text/plain": [
              "                  quoteID  ...  year\n",
              "114336  2019-12-06-089684  ...  2019\n",
              "3828    2015-07-17-024982  ...  2015\n",
              "141487  2020-01-24-105942  ...  2020\n",
              "\n",
              "[3 rows x 10 columns]"
            ]
          },
          "metadata": {},
          "execution_count": 12
        }
      ]
    },
    {
      "cell_type": "markdown",
      "metadata": {
        "id": "A4klUAk4dQ5b"
      },
      "source": [
        "## First analyses"
      ]
    },
    {
      "cell_type": "code",
      "metadata": {
        "id": "9KypfR7bdX9_",
        "colab": {
          "base_uri": "https://localhost:8080/",
          "height": 282
        },
        "outputId": "66d06787-3fd2-499c-e776-d8bc730e1a6e"
      },
      "source": [
        "# the top speakers talking about climate change\n",
        "top_speakers = climate_all_years.groupby(by='speaker').count().sort_values(by='quotation', ascending=False).quotation.iloc[1:21]\n",
        "sns.barplot(x=top_speakers[:10].values, y=top_speakers[0:10].index)"
      ],
      "execution_count": 13,
      "outputs": [
        {
          "output_type": "execute_result",
          "data": {
            "text/plain": [
              "<matplotlib.axes._subplots.AxesSubplot at 0x7f373899cf50>"
            ]
          },
          "metadata": {},
          "execution_count": 13
        },
        {
          "output_type": "display_data",
          "data": {
            "image/png": "[encoded data removed]",
            "text/plain": [
              "<Figure size 432x288 with 1 Axes>"
            ]
          },
          "metadata": {
            "needs_background": "light"
          }
        }
      ]
    },
    {
      "cell_type": "code",
      "metadata": {
        "id": "IdwqzawAeHgX",
        "colab": {
          "base_uri": "https://localhost:8080/",
          "height": 198
        },
        "outputId": "5eca3c8b-a341-4b35-e45c-2a9c74a2706c"
      },
      "source": [
        "# word cloud of top speakers for illustration\n",
        "wordcloud = WordCloud().fit_words(dict(top_speakers))\n",
        "plt.imshow(wordcloud, interpolation='bilinear')\n",
        "plt.axis(\"off\")\n",
        "plt.show()"
      ],
      "execution_count": 14,
      "outputs": [
        {
          "output_type": "display_data",
          "data": {
            "image/png": "[encoded data removed]",
            "text/plain": [
              "<Figure size 432x288 with 1 Axes>"
            ]
          },
          "metadata": {
            "needs_background": "light"
          }
        }
      ]
    },
    {
      "cell_type": "code",
      "metadata": {
        "id": "jUbl4i4penYU",
        "colab": {
          "base_uri": "https://localhost:8080/",
          "height": 316
        },
        "outputId": "be6dcc66-cad6-4d11-ae15-1b051610cc39"
      },
      "source": [
        "# words being most used in these quotes about global warming\n",
        "nltk.download('stopwords')\n",
        "topic_words = collections.Counter()\n",
        "stop_words = set(stopwords.words('english'))\n",
        "for index, row in climate_all_years.iterrows():\n",
        "    for word in row.quotation.lower().replace(',', '').replace('.', '').split():\n",
        "        if word not in stop_words:\n",
        "            topic_words[word] += 1\n",
        "top_50_climate_words = topic_words.most_common()[:50]\n",
        "sns.barplot(x=[x[1] for x in top_50_climate_words][:15], y=[x[0] for x in top_50_climate_words][:15])"
      ],
      "execution_count": 15,
      "outputs": [
        {
          "output_type": "stream",
          "name": "stdout",
          "text": [
            "[nltk_data] Downloading package stopwords to /root/nltk_data...\n",
            "[nltk_data]   Unzipping corpora/stopwords.zip.\n"
          ]
        },
        {
          "output_type": "execute_result",
          "data": {
            "text/plain": [
              "<matplotlib.axes._subplots.AxesSubplot at 0x7f3734f63910>"
            ]
          },
          "metadata": {},
          "execution_count": 15
        },
        {
          "output_type": "display_data",
          "data": {
            "image/png": "[encoded data removed]",
            "text/plain": [
              "<Figure size 432x288 with 1 Axes>"
            ]
          },
          "metadata": {
            "needs_background": "light"
          }
        }
      ]
    },
    {
      "cell_type": "code",
      "metadata": {
        "id": "oh7ZQcSffS43",
        "colab": {
          "base_uri": "https://localhost:8080/",
          "height": 198
        },
        "outputId": "d1127c7f-cc20-426e-dcc6-6f79734bb60e"
      },
      "source": [
        "# word cloud for illustration\n",
        "wordcloud = WordCloud().fit_words(dict(top_50_climate_words))\n",
        "plt.imshow(wordcloud, interpolation='bilinear')\n",
        "plt.axis(\"off\")\n",
        "plt.show()"
      ],
      "execution_count": 16,
      "outputs": [
        {
          "output_type": "display_data",
          "data": {
            "image/png": "[encoded data removed]",
            "text/plain": [
              "<Figure size 432x288 with 1 Axes>"
            ]
          },
          "metadata": {
            "needs_background": "light"
          }
        }
      ]
    },
    {
      "cell_type": "code",
      "metadata": {
        "id": "O-YLxspqgAbs",
        "colab": {
          "base_uri": "https://localhost:8080/",
          "height": 298
        },
        "outputId": "04778354-a0f6-4a5e-c914-11ec0bc99ba0"
      },
      "source": [
        "# number of quotations about global warming through the years\n",
        "count_years =  climate_all_years.groupby(by='year').count().quotation\n",
        "sns.barplot(x=all_years, y=count_years)\n",
        "plt.title(\"Quotations about global warming though time\")"
      ],
      "execution_count": 17,
      "outputs": [
        {
          "output_type": "execute_result",
          "data": {
            "text/plain": [
              "Text(0.5, 1.0, 'Quotations about global warming though time')"
            ]
          },
          "metadata": {},
          "execution_count": 17
        },
        {
          "output_type": "display_data",
          "data": {
            "image/png": "[encoded data removed]",
            "text/plain": [
              "<Figure size 432x288 with 1 Axes>"
            ]
          },
          "metadata": {
            "needs_background": "light"
          }
        }
      ]
    },
    {
      "cell_type": "markdown",
      "metadata": {
        "id": "46z3liAwh9FX"
      },
      "source": [
        "## Tools for wikidata"
      ]
    },
    {
      "cell_type": "code",
      "metadata": {
        "id": "sBJLEhNziR4X",
        "colab": {
          "base_uri": "https://localhost:8080/",
          "height": 383
        },
        "outputId": "6955b25a-7265-4dd0-cd3b-49dc037e2a3d"
      },
      "source": [
        "# read the wikidata file\n",
        "path_data_wikidata = '/content/drive/MyDrive/speaker_attributes.parquet/'\n",
        "wikidata = pd.read_parquet(path_data_wikidata)\n",
        "wikidata.head(3)"
      ],
      "execution_count": 18,
      "outputs": [
        {
          "output_type": "execute_result",
          "data": {
            "text/html": [
              "<div>\n",
              "<style scoped>\n",
              "    .dataframe tbody tr th:only-of-type {\n",
              "        vertical-align: middle;\n",
              "    }\n",
              "\n",
              "    .dataframe tbody tr th {\n",
              "        vertical-align: top;\n",
              "    }\n",
              "\n",
              "    .dataframe thead th {\n",
              "        text-align: right;\n",
              "    }\n",
              "</style>\n",
              "<table border=\"1\" class=\"dataframe\">\n",
              "  <thead>\n",
              "    <tr style=\"text-align: right;\">\n",
              "      <th></th>\n",
              "      <th>aliases</th>\n",
              "      <th>date_of_birth</th>\n",
              "      <th>nationality</th>\n",
              "      <th>gender</th>\n",
              "      <th>lastrevid</th>\n",
              "      <th>ethnic_group</th>\n",
              "      <th>US_congress_bio_ID</th>\n",
              "      <th>occupation</th>\n",
              "      <th>party</th>\n",
              "      <th>academic_degree</th>\n",
              "      <th>id</th>\n",
              "      <th>label</th>\n",
              "      <th>candidacy</th>\n",
              "      <th>type</th>\n",
              "      <th>religion</th>\n",
              "    </tr>\n",
              "  </thead>\n",
              "  <tbody>\n",
              "    <tr>\n",
              "      <th>0</th>\n",
              "      <td>[Washington, President Washington, G. Washingt...</td>\n",
              "      <td>[+1732-02-22T00:00:00Z]</td>\n",
              "      <td>[Q161885, Q30]</td>\n",
              "      <td>[Q6581097]</td>\n",
              "      <td>1395141751</td>\n",
              "      <td>None</td>\n",
              "      <td>W000178</td>\n",
              "      <td>[Q82955, Q189290, Q131512, Q1734662, Q294126, ...</td>\n",
              "      <td>[Q327591]</td>\n",
              "      <td>None</td>\n",
              "      <td>Q23</td>\n",
              "      <td>George Washington</td>\n",
              "      <td>[Q698073, Q697949]</td>\n",
              "      <td>item</td>\n",
              "      <td>[Q682443]</td>\n",
              "    </tr>\n",
              "    <tr>\n",
              "      <th>1</th>\n",
              "      <td>[Douglas Noel Adams, Douglas Noël Adams, Dougl...</td>\n",
              "      <td>[+1952-03-11T00:00:00Z]</td>\n",
              "      <td>[Q145]</td>\n",
              "      <td>[Q6581097]</td>\n",
              "      <td>1395737157</td>\n",
              "      <td>[Q7994501]</td>\n",
              "      <td>None</td>\n",
              "      <td>[Q214917, Q28389, Q6625963, Q4853732, Q1884422...</td>\n",
              "      <td>None</td>\n",
              "      <td>None</td>\n",
              "      <td>Q42</td>\n",
              "      <td>Douglas Adams</td>\n",
              "      <td>None</td>\n",
              "      <td>item</td>\n",
              "      <td>None</td>\n",
              "    </tr>\n",
              "    <tr>\n",
              "      <th>2</th>\n",
              "      <td>[Paul Marie Ghislain Otlet, Paul Marie Otlet]</td>\n",
              "      <td>[+1868-08-23T00:00:00Z]</td>\n",
              "      <td>[Q31]</td>\n",
              "      <td>[Q6581097]</td>\n",
              "      <td>1380367296</td>\n",
              "      <td>None</td>\n",
              "      <td>None</td>\n",
              "      <td>[Q36180, Q40348, Q182436, Q1265807, Q205375, Q...</td>\n",
              "      <td>None</td>\n",
              "      <td>None</td>\n",
              "      <td>Q1868</td>\n",
              "      <td>Paul Otlet</td>\n",
              "      <td>None</td>\n",
              "      <td>item</td>\n",
              "      <td>None</td>\n",
              "    </tr>\n",
              "  </tbody>\n",
              "</table>\n",
              "</div>"
            ],
            "text/plain": [
              "                                             aliases  ...   religion\n",
              "0  [Washington, President Washington, G. Washingt...  ...  [Q682443]\n",
              "1  [Douglas Noel Adams, Douglas Noël Adams, Dougl...  ...       None\n",
              "2      [Paul Marie Ghislain Otlet, Paul Marie Otlet]  ...       None\n",
              "\n",
              "[3 rows x 15 columns]"
            ]
          },
          "metadata": {},
          "execution_count": 18
        }
      ]
    },
    {
      "cell_type": "code",
      "metadata": {
        "id": "-UNxr_Vpig6F",
        "colab": {
          "base_uri": "https://localhost:8080/",
          "height": 35
        },
        "outputId": "f2d93653-d934-4a71-b407-3aa0c1907b35"
      },
      "source": [
        "# to find the label of a QID\n",
        "# from https://stackoverflow.com/questions/40268148/how-to-get-wikidata-labels-by-id-using-sparql\n",
        "\n",
        "def find_QID_label(QID):\n",
        "  url = 'https://query.wikidata.org/sparql'\n",
        "  query = '''\n",
        "  PREFIX rdfs: <http://www.w3.org/2000/01/rdf-schema#> \n",
        "  PREFIX wd: <http://www.wikidata.org/entity/> \n",
        "  SELECT  *\n",
        "  WHERE {\n",
        "          wd:%s rdfs:label ?label .\n",
        "          FILTER (langMatches( lang(?label), \"EN\" ) )\n",
        "        } \n",
        "  LIMIT 1\n",
        "  ''' % (QID)\n",
        "  result = requests.get(url, params = {'format': 'json', 'query': query})\n",
        "  return result.json().get('results').get('bindings')[0].get('label').get('value')\n",
        "\n",
        "# example\n",
        "find_QID_label('Q161885')"
      ],
      "execution_count": 19,
      "outputs": [
        {
          "output_type": "execute_result",
          "data": {
            "application/vnd.google.colaboratory.intrinsic+json": {
              "type": "string"
            },
            "text/plain": [
              "'Great Britain'"
            ]
          },
          "metadata": {},
          "execution_count": 19
        }
      ]
    },
    {
      "cell_type": "code",
      "metadata": {
        "id": "X6qhdisbizsb"
      },
      "source": [
        "# wikidata dataframe without the None name\n",
        "wikidata_clean = wikidata.dropna(axis=0, subset=['aliases'])"
      ],
      "execution_count": 20,
      "outputs": []
    },
    {
      "cell_type": "code",
      "metadata": {
        "id": "P2QFMJDqjRjC",
        "colab": {
          "base_uri": "https://localhost:8080/",
          "height": 318
        },
        "outputId": "e631d9a8-bf2a-4d17-be2a-b12032e674bb"
      },
      "source": [
        "# to find a speaker in the wikidata df\n",
        "def find_speaker(speaker):\n",
        "  return wikidata_clean[wikidata_clean.aliases.apply(lambda x: speaker in x[0])]\n",
        "\n",
        "# example\n",
        "find_speaker('Joseph Biden')"
      ],
      "execution_count": 21,
      "outputs": [
        {
          "output_type": "execute_result",
          "data": {
            "text/html": [
              "<div>\n",
              "<style scoped>\n",
              "    .dataframe tbody tr th:only-of-type {\n",
              "        vertical-align: middle;\n",
              "    }\n",
              "\n",
              "    .dataframe tbody tr th {\n",
              "        vertical-align: top;\n",
              "    }\n",
              "\n",
              "    .dataframe thead th {\n",
              "        text-align: right;\n",
              "    }\n",
              "</style>\n",
              "<table border=\"1\" class=\"dataframe\">\n",
              "  <thead>\n",
              "    <tr style=\"text-align: right;\">\n",
              "      <th></th>\n",
              "      <th>aliases</th>\n",
              "      <th>date_of_birth</th>\n",
              "      <th>nationality</th>\n",
              "      <th>gender</th>\n",
              "      <th>lastrevid</th>\n",
              "      <th>ethnic_group</th>\n",
              "      <th>US_congress_bio_ID</th>\n",
              "      <th>occupation</th>\n",
              "      <th>party</th>\n",
              "      <th>academic_degree</th>\n",
              "      <th>id</th>\n",
              "      <th>label</th>\n",
              "      <th>candidacy</th>\n",
              "      <th>type</th>\n",
              "      <th>religion</th>\n",
              "    </tr>\n",
              "  </thead>\n",
              "  <tbody>\n",
              "    <tr>\n",
              "      <th>4529264</th>\n",
              "      <td>[Joseph Biden, Joseph R. Biden, Joseph R. Bide...</td>\n",
              "      <td>[+1942-11-20T00:00:00Z]</td>\n",
              "      <td>[Q30]</td>\n",
              "      <td>[Q6581097]</td>\n",
              "      <td>1395965219</td>\n",
              "      <td>None</td>\n",
              "      <td>B000444</td>\n",
              "      <td>[Q82955, Q40348, Q1622272]</td>\n",
              "      <td>[Q29552]</td>\n",
              "      <td>[Q1540185, Q1765120]</td>\n",
              "      <td>Q6279</td>\n",
              "      <td>Joe Biden</td>\n",
              "      <td>[Q22923830, Q7891450]</td>\n",
              "      <td>item</td>\n",
              "      <td>[Q1841]</td>\n",
              "    </tr>\n",
              "    <tr>\n",
              "      <th>7147986</th>\n",
              "      <td>[Joseph Biden Sr., Joseph Robinette Biden Sr.]</td>\n",
              "      <td>[+1915-11-13T00:00:00Z]</td>\n",
              "      <td>[Q30]</td>\n",
              "      <td>[Q6581097]</td>\n",
              "      <td>1393419215</td>\n",
              "      <td>None</td>\n",
              "      <td>None</td>\n",
              "      <td>None</td>\n",
              "      <td>None</td>\n",
              "      <td>None</td>\n",
              "      <td>Q20177093</td>\n",
              "      <td>Joseph R. Biden Sr.</td>\n",
              "      <td>None</td>\n",
              "      <td>item</td>\n",
              "      <td>None</td>\n",
              "    </tr>\n",
              "  </tbody>\n",
              "</table>\n",
              "</div>"
            ],
            "text/plain": [
              "                                                   aliases  ... religion\n",
              "4529264  [Joseph Biden, Joseph R. Biden, Joseph R. Bide...  ...  [Q1841]\n",
              "7147986     [Joseph Biden Sr., Joseph Robinette Biden Sr.]  ...     None\n",
              "\n",
              "[2 rows x 15 columns]"
            ]
          },
          "metadata": {},
          "execution_count": 21
        }
      ]
    },
    {
      "cell_type": "markdown",
      "metadata": {
        "id": "hRGuEu-i69vc"
      },
      "source": [
        "## Nationalities"
      ]
    },
    {
      "cell_type": "code",
      "metadata": {
        "id": "AzN_bDYo3Fyb",
        "colab": {
          "base_uri": "https://localhost:8080/"
        },
        "outputId": "93fad32f-194d-43c3-d5eb-3405f770e6a2"
      },
      "source": [
        "#To use if we want only the first nationality of the speaker\n",
        "#Create a dataframe for the parquet information of the speakers\n",
        "df = wikidata\n",
        "\n",
        "#We will use only the 'nationality', 'id' and 'label' data from this dataframe\n",
        "df = df[['nationality', 'label', 'id']]\n",
        "\n",
        "#We are changing the 'None' value to an empty array\n",
        "empty = pd.Series([[] for _ in range(len(df.index))], index=df.index)\n",
        "df['nationality'] = df['nationality'].fillna(empty)\n",
        "\n",
        "#Here, we are extracting the first nationality of every speaker, and changing the qid country code to -999\n",
        "#for every speaker that did not have a specified nationality\n",
        "df['nationality'] = df.nationality.apply(lambda x: x[0] if len(x) > 0 else 'Q-999')\n",
        "\n",
        "df['nationality'].value_counts().head(20)"
      ],
      "execution_count": 22,
      "outputs": [
        {
          "output_type": "execute_result",
          "data": {
            "text/plain": [
              "Q-999     5340129\n",
              "Q30        430536\n",
              "Q142       261891\n",
              "Q183       249957\n",
              "Q17        177541\n",
              "Q145       162521\n",
              "Q29        125935\n",
              "Q9903      125906\n",
              "Q38         95147\n",
              "Q16         81559\n",
              "Q34         78606\n",
              "Q15180      76904\n",
              "Q36         72444\n",
              "Q29999      71745\n",
              "Q155        69840\n",
              "Q8733       65530\n",
              "Q668        58211\n",
              "Q20         55953\n",
              "Q31         51919\n",
              "Q408        51617\n",
              "Name: nationality, dtype: int64"
            ]
          },
          "metadata": {},
          "execution_count": 22
        }
      ]
    },
    {
      "cell_type": "code",
      "metadata": {
        "id": "RQOvMOWNYktc",
        "colab": {
          "base_uri": "https://localhost:8080/"
        },
        "outputId": "2b3eca26-2b04-4ac3-b6ee-d4695bb64f75"
      },
      "source": [
        "# drop the rows with speaker None\n",
        "climate_all_years_clean = climate_all_years.drop(climate_all_years.index[climate_all_years['speaker'] == 'None'])\n",
        "climate_all_years_clean.shape"
      ],
      "execution_count": 23,
      "outputs": [
        {
          "output_type": "execute_result",
          "data": {
            "text/plain": [
              "(98166, 10)"
            ]
          },
          "metadata": {},
          "execution_count": 23
        }
      ]
    },
    {
      "cell_type": "code",
      "metadata": {
        "id": "MOWBphcbYkqC",
        "colab": {
          "base_uri": "https://localhost:8080/",
          "height": 142
        },
        "outputId": "51630e45-8545-468d-85ff-5ee0c2369645"
      },
      "source": [
        "# load the QID dataset\n",
        "qids = pd.read_csv('/content/drive/MyDrive/wikidata_labels_descriptions_quotebank.csv.bz2', compression='bz2', index_col='QID')\n",
        "qids.head(2)"
      ],
      "execution_count": 24,
      "outputs": [
        {
          "output_type": "execute_result",
          "data": {
            "text/html": [
              "<div>\n",
              "<style scoped>\n",
              "    .dataframe tbody tr th:only-of-type {\n",
              "        vertical-align: middle;\n",
              "    }\n",
              "\n",
              "    .dataframe tbody tr th {\n",
              "        vertical-align: top;\n",
              "    }\n",
              "\n",
              "    .dataframe thead th {\n",
              "        text-align: right;\n",
              "    }\n",
              "</style>\n",
              "<table border=\"1\" class=\"dataframe\">\n",
              "  <thead>\n",
              "    <tr style=\"text-align: right;\">\n",
              "      <th></th>\n",
              "      <th>Label</th>\n",
              "      <th>Description</th>\n",
              "    </tr>\n",
              "    <tr>\n",
              "      <th>QID</th>\n",
              "      <th></th>\n",
              "      <th></th>\n",
              "    </tr>\n",
              "  </thead>\n",
              "  <tbody>\n",
              "    <tr>\n",
              "      <th>Q31</th>\n",
              "      <td>Belgium</td>\n",
              "      <td>country in western Europe</td>\n",
              "    </tr>\n",
              "    <tr>\n",
              "      <th>Q45</th>\n",
              "      <td>Portugal</td>\n",
              "      <td>country in southwestern Europe</td>\n",
              "    </tr>\n",
              "  </tbody>\n",
              "</table>\n",
              "</div>"
            ],
            "text/plain": [
              "        Label                     Description\n",
              "QID                                          \n",
              "Q31   Belgium       country in western Europe\n",
              "Q45  Portugal  country in southwestern Europe"
            ]
          },
          "metadata": {},
          "execution_count": 24
        }
      ]
    },
    {
      "cell_type": "code",
      "metadata": {
        "id": "QTgL-ghrYknT",
        "colab": {
          "base_uri": "https://localhost:8080/",
          "height": 434
        },
        "outputId": "4458262d-d48b-41e9-cabc-0aa726ed5060"
      },
      "source": [
        "# merge the quotes about global warming with the countries from wikidata using the qids\n",
        "climate_countries = climate_all_years_clean.explode('qids').merge(wikidata, left_on='qids', right_on='id')\n",
        "print(climate_countries.shape)\n",
        "climate_countries.head(3)"
      ],
      "execution_count": 25,
      "outputs": [
        {
          "output_type": "stream",
          "name": "stdout",
          "text": [
            "(201888, 25)\n"
          ]
        },
        {
          "output_type": "execute_result",
          "data": {
            "text/html": [
              "<div>\n",
              "<style scoped>\n",
              "    .dataframe tbody tr th:only-of-type {\n",
              "        vertical-align: middle;\n",
              "    }\n",
              "\n",
              "    .dataframe tbody tr th {\n",
              "        vertical-align: top;\n",
              "    }\n",
              "\n",
              "    .dataframe thead th {\n",
              "        text-align: right;\n",
              "    }\n",
              "</style>\n",
              "<table border=\"1\" class=\"dataframe\">\n",
              "  <thead>\n",
              "    <tr style=\"text-align: right;\">\n",
              "      <th></th>\n",
              "      <th>quoteID</th>\n",
              "      <th>quotation</th>\n",
              "      <th>speaker</th>\n",
              "      <th>qids</th>\n",
              "      <th>date</th>\n",
              "      <th>numOccurrences</th>\n",
              "      <th>probas</th>\n",
              "      <th>urls</th>\n",
              "      <th>phase</th>\n",
              "      <th>year</th>\n",
              "      <th>aliases</th>\n",
              "      <th>date_of_birth</th>\n",
              "      <th>nationality</th>\n",
              "      <th>gender</th>\n",
              "      <th>lastrevid</th>\n",
              "      <th>ethnic_group</th>\n",
              "      <th>US_congress_bio_ID</th>\n",
              "      <th>occupation</th>\n",
              "      <th>party</th>\n",
              "      <th>academic_degree</th>\n",
              "      <th>id</th>\n",
              "      <th>label</th>\n",
              "      <th>candidacy</th>\n",
              "      <th>type</th>\n",
              "      <th>religion</th>\n",
              "    </tr>\n",
              "  </thead>\n",
              "  <tbody>\n",
              "    <tr>\n",
              "      <th>0</th>\n",
              "      <td>2015-09-28-067347</td>\n",
              "      <td>man-made emissions are an insignificant part o...</td>\n",
              "      <td>John Abraham</td>\n",
              "      <td>Q313025</td>\n",
              "      <td>2015-09-28 23:16:52</td>\n",
              "      <td>1</td>\n",
              "      <td>[[John Abraham, 0.6469], [None, 0.3092], [Will...</td>\n",
              "      <td>[http://www.desmogblog.com/donors-capital-fund]</td>\n",
              "      <td>E</td>\n",
              "      <td>2015</td>\n",
              "      <td>None</td>\n",
              "      <td>[+1972-12-17T00:00:00Z]</td>\n",
              "      <td>[Q668]</td>\n",
              "      <td>[Q6581097]</td>\n",
              "      <td>1354134367</td>\n",
              "      <td>None</td>\n",
              "      <td>None</td>\n",
              "      <td>[Q33999, Q4610556, Q3282637, Q10800557]</td>\n",
              "      <td>None</td>\n",
              "      <td>None</td>\n",
              "      <td>Q313025</td>\n",
              "      <td>John Abraham</td>\n",
              "      <td>None</td>\n",
              "      <td>item</td>\n",
              "      <td>[Q5043]</td>\n",
              "    </tr>\n",
              "    <tr>\n",
              "      <th>1</th>\n",
              "      <td>2015-09-17-007663</td>\n",
              "      <td>Any argument that global warming stopped 18 or...</td>\n",
              "      <td>John Abraham</td>\n",
              "      <td>Q313025</td>\n",
              "      <td>2015-09-17 10:01:00</td>\n",
              "      <td>2</td>\n",
              "      <td>[[John Abraham, 0.8673], [None, 0.1292], [Lama...</td>\n",
              "      <td>[http://www.environmentalhealthnews.org/t/1883...</td>\n",
              "      <td>E</td>\n",
              "      <td>2015</td>\n",
              "      <td>None</td>\n",
              "      <td>[+1972-12-17T00:00:00Z]</td>\n",
              "      <td>[Q668]</td>\n",
              "      <td>[Q6581097]</td>\n",
              "      <td>1354134367</td>\n",
              "      <td>None</td>\n",
              "      <td>None</td>\n",
              "      <td>[Q33999, Q4610556, Q3282637, Q10800557]</td>\n",
              "      <td>None</td>\n",
              "      <td>None</td>\n",
              "      <td>Q313025</td>\n",
              "      <td>John Abraham</td>\n",
              "      <td>None</td>\n",
              "      <td>item</td>\n",
              "      <td>[Q5043]</td>\n",
              "    </tr>\n",
              "    <tr>\n",
              "      <th>2</th>\n",
              "      <td>2015-08-06-023574</td>\n",
              "      <td>found that there was no statistically signific...</td>\n",
              "      <td>John Abraham</td>\n",
              "      <td>Q313025</td>\n",
              "      <td>2015-08-06 15:00:59</td>\n",
              "      <td>1</td>\n",
              "      <td>[[John Abraham, 0.7957], [None, 0.1579], [Greg...</td>\n",
              "      <td>[http://dailykos.com/story/2015/08/06/1409298/...</td>\n",
              "      <td>E</td>\n",
              "      <td>2015</td>\n",
              "      <td>None</td>\n",
              "      <td>[+1972-12-17T00:00:00Z]</td>\n",
              "      <td>[Q668]</td>\n",
              "      <td>[Q6581097]</td>\n",
              "      <td>1354134367</td>\n",
              "      <td>None</td>\n",
              "      <td>None</td>\n",
              "      <td>[Q33999, Q4610556, Q3282637, Q10800557]</td>\n",
              "      <td>None</td>\n",
              "      <td>None</td>\n",
              "      <td>Q313025</td>\n",
              "      <td>John Abraham</td>\n",
              "      <td>None</td>\n",
              "      <td>item</td>\n",
              "      <td>[Q5043]</td>\n",
              "    </tr>\n",
              "  </tbody>\n",
              "</table>\n",
              "</div>"
            ],
            "text/plain": [
              "             quoteID  ... religion\n",
              "0  2015-09-28-067347  ...  [Q5043]\n",
              "1  2015-09-17-007663  ...  [Q5043]\n",
              "2  2015-08-06-023574  ...  [Q5043]\n",
              "\n",
              "[3 rows x 25 columns]"
            ]
          },
          "metadata": {},
          "execution_count": 25
        }
      ]
    },
    {
      "cell_type": "code",
      "metadata": {
        "id": "PooqTzzuYkkw",
        "colab": {
          "base_uri": "https://localhost:8080/",
          "height": 383
        },
        "outputId": "ee9711e0-26d7-47a1-c895-71a9b9485574"
      },
      "source": [
        "# add the labels of the countries\n",
        "climate_countries_label = climate_countries.explode('nationality').merge(qids, left_on='nationality', right_on='QID')\n",
        "print(climate_countries_label.shape)\n",
        "climate_countries_label.drop(columns=['id', 'label', 'Description', 'aliases', 'date_of_birth', 'gender', \n",
        "                                      'lastrevid', 'ethnic_group', 'US_congress_bio_ID', 'occupation',\n",
        "                                      'party', 'academic_degree', 'candidacy', 'type', 'religion'], axis=1, inplace=True)\n",
        "climate_countries_label = climate_countries_label.rename(columns={'nationality': 'nationality_qid', \n",
        "                                                                  'Label': 'nationality_label'})\n",
        "climate_countries_label.sample(3)"
      ],
      "execution_count": 26,
      "outputs": [
        {
          "output_type": "stream",
          "name": "stdout",
          "text": [
            "(162917, 27)\n"
          ]
        },
        {
          "output_type": "execute_result",
          "data": {
            "text/html": [
              "<div>\n",
              "<style scoped>\n",
              "    .dataframe tbody tr th:only-of-type {\n",
              "        vertical-align: middle;\n",
              "    }\n",
              "\n",
              "    .dataframe tbody tr th {\n",
              "        vertical-align: top;\n",
              "    }\n",
              "\n",
              "    .dataframe thead th {\n",
              "        text-align: right;\n",
              "    }\n",
              "</style>\n",
              "<table border=\"1\" class=\"dataframe\">\n",
              "  <thead>\n",
              "    <tr style=\"text-align: right;\">\n",
              "      <th></th>\n",
              "      <th>quoteID</th>\n",
              "      <th>quotation</th>\n",
              "      <th>speaker</th>\n",
              "      <th>qids</th>\n",
              "      <th>date</th>\n",
              "      <th>numOccurrences</th>\n",
              "      <th>probas</th>\n",
              "      <th>urls</th>\n",
              "      <th>phase</th>\n",
              "      <th>year</th>\n",
              "      <th>nationality_qid</th>\n",
              "      <th>nationality_label</th>\n",
              "    </tr>\n",
              "  </thead>\n",
              "  <tbody>\n",
              "    <tr>\n",
              "      <th>123793</th>\n",
              "      <td>2019-10-07-084135</td>\n",
              "      <td>They should not be making recommendations on t...</td>\n",
              "      <td>David Jenkins</td>\n",
              "      <td>Q932705</td>\n",
              "      <td>2019-10-07 18:17:34</td>\n",
              "      <td>1</td>\n",
              "      <td>[[David Jenkins, 0.8346], [None, 0.1654]]</td>\n",
              "      <td>[https://leaderpost.com/health/eating-red-meat...</td>\n",
              "      <td>E</td>\n",
              "      <td>2019</td>\n",
              "      <td>Q145</td>\n",
              "      <td>United Kingdom</td>\n",
              "    </tr>\n",
              "    <tr>\n",
              "      <th>34015</th>\n",
              "      <td>2019-09-17-106272</td>\n",
              "      <td>We have ten years to radically transform our c...</td>\n",
              "      <td>Mike O'Brien</td>\n",
              "      <td>Q16215980</td>\n",
              "      <td>2019-09-17 04:00:00</td>\n",
              "      <td>1</td>\n",
              "      <td>[[Mike O'Brien, 0.8046], [None, 0.1954]]</td>\n",
              "      <td>[https://www.commondreams.org/news/2019/09/17/...</td>\n",
              "      <td>E</td>\n",
              "      <td>2019</td>\n",
              "      <td>Q30</td>\n",
              "      <td>United States of America</td>\n",
              "    </tr>\n",
              "    <tr>\n",
              "      <th>89987</th>\n",
              "      <td>2017-10-10-129755</td>\n",
              "      <td>There's a good argument for decoupling climate...</td>\n",
              "      <td>Grant King</td>\n",
              "      <td>Q5596295</td>\n",
              "      <td>2017-10-10 02:06:13</td>\n",
              "      <td>1</td>\n",
              "      <td>[[Grant King, 0.7992], [None, 0.2008]]</td>\n",
              "      <td>[http://www.afr.com/business/energy/electricit...</td>\n",
              "      <td>E</td>\n",
              "      <td>2017</td>\n",
              "      <td>Q408</td>\n",
              "      <td>Australia</td>\n",
              "    </tr>\n",
              "  </tbody>\n",
              "</table>\n",
              "</div>"
            ],
            "text/plain": [
              "                  quoteID  ...         nationality_label\n",
              "123793  2019-10-07-084135  ...            United Kingdom\n",
              "34015   2019-09-17-106272  ...  United States of America\n",
              "89987   2017-10-10-129755  ...                 Australia\n",
              "\n",
              "[3 rows x 12 columns]"
            ]
          },
          "metadata": {},
          "execution_count": 26
        }
      ]
    },
    {
      "cell_type": "code",
      "metadata": {
        "id": "hd8j9zyLYkiC",
        "colab": {
          "base_uri": "https://localhost:8080/",
          "height": 282
        },
        "outputId": "0fceb0a7-fa86-4bfd-c70c-8843b7a3346d"
      },
      "source": [
        "# number of quotes by countries\n",
        "countries = climate_countries_label.groupby(by='nationality_label').count().sort_values(by='quotation', ascending=False).quotation\n",
        "sns.barplot(x=countries[:10].values, y=countries[:10].index)"
      ],
      "execution_count": 27,
      "outputs": [
        {
          "output_type": "execute_result",
          "data": {
            "text/plain": [
              "<matplotlib.axes._subplots.AxesSubplot at 0x7f355ffc40d0>"
            ]
          },
          "metadata": {},
          "execution_count": 27
        },
        {
          "output_type": "display_data",
          "data": {
            "image/png": "[encoded data removed]",
            "text/plain": [
              "<Figure size 432x288 with 1 Axes>"
            ]
          },
          "metadata": {
            "needs_background": "light"
          }
        }
      ]
    },
    {
      "cell_type": "code",
      "metadata": {
        "id": "mJdQ2Wb6Ykey",
        "colab": {
          "base_uri": "https://localhost:8080/"
        },
        "outputId": "2eef766f-8c16-429c-f0cf-c0dd4bf3efb9"
      },
      "source": [
        "pip install pycountry"
      ],
      "execution_count": 28,
      "outputs": [
        {
          "output_type": "stream",
          "name": "stdout",
          "text": [
            "Collecting pycountry\n",
            "  Downloading pycountry-20.7.3.tar.gz (10.1 MB)\n",
            "\u001b[K     |████████████████████████████████| 10.1 MB 13.8 MB/s \n",
            "\u001b[?25hBuilding wheels for collected packages: pycountry\n",
            "  Building wheel for pycountry (setup.py) ... \u001b[?25l\u001b[?25hdone\n",
            "  Created wheel for pycountry: filename=pycountry-20.7.3-py2.py3-none-any.whl size=10746883 sha256=c7909afc638f0c2899d71cf46528f85aa59ec882c5d7e7e4a77cf4a8f50b9157\n",
            "  Stored in directory: /root/.cache/pip/wheels/57/e8/3f/120ccc1ff7541c108bc5d656e2a14c39da0d824653b62284c6\n",
            "Successfully built pycountry\n",
            "Installing collected packages: pycountry\n",
            "Successfully installed pycountry-20.7.3\n"
          ]
        }
      ]
    },
    {
      "cell_type": "code",
      "metadata": {
        "id": "4BkUi13OYkbk",
        "colab": {
          "base_uri": "https://localhost:8080/"
        },
        "outputId": "e746c376-83f3-4a8d-fe9a-2accdcd36a84"
      },
      "source": [
        "pip install geopandas"
      ],
      "execution_count": 29,
      "outputs": [
        {
          "output_type": "stream",
          "name": "stdout",
          "text": [
            "Collecting geopandas\n",
            "  Downloading geopandas-0.10.2-py2.py3-none-any.whl (1.0 MB)\n",
            "\u001b[K     |████████████████████████████████| 1.0 MB 13.2 MB/s \n",
            "\u001b[?25hCollecting fiona>=1.8\n",
            "  Downloading Fiona-1.8.20-cp37-cp37m-manylinux1_x86_64.whl (15.4 MB)\n",
            "\u001b[K     |████████████████████████████████| 15.4 MB 81 kB/s \n",
            "\u001b[?25hRequirement already satisfied: pandas>=0.25.0 in /usr/local/lib/python3.7/dist-packages (from geopandas) (1.0.5)\n",
            "Collecting pyproj>=2.2.0\n",
            "  Downloading pyproj-3.2.1-cp37-cp37m-manylinux2010_x86_64.whl (6.3 MB)\n",
            "\u001b[K     |████████████████████████████████| 6.3 MB 53.3 MB/s \n",
            "\u001b[?25hRequirement already satisfied: shapely>=1.6 in /usr/local/lib/python3.7/dist-packages (from geopandas) (1.8.0)\n",
            "Requirement already satisfied: certifi in /usr/local/lib/python3.7/dist-packages (from fiona>=1.8->geopandas) (2021.10.8)\n",
            "Requirement already satisfied: click>=4.0 in /usr/local/lib/python3.7/dist-packages (from fiona>=1.8->geopandas) (7.1.2)\n",
            "Collecting munch\n",
            "  Downloading munch-2.5.0-py2.py3-none-any.whl (10 kB)\n",
            "Requirement already satisfied: attrs>=17 in /usr/local/lib/python3.7/dist-packages (from fiona>=1.8->geopandas) (21.2.0)\n",
            "Requirement already satisfied: setuptools in /usr/local/lib/python3.7/dist-packages (from fiona>=1.8->geopandas) (57.4.0)\n",
            "Requirement already satisfied: six>=1.7 in /usr/local/lib/python3.7/dist-packages (from fiona>=1.8->geopandas) (1.15.0)\n",
            "Collecting cligj>=0.5\n",
            "  Downloading cligj-0.7.2-py3-none-any.whl (7.1 kB)\n",
            "Collecting click-plugins>=1.0\n",
            "  Downloading click_plugins-1.1.1-py2.py3-none-any.whl (7.5 kB)\n",
            "Requirement already satisfied: numpy>=1.13.3 in /usr/local/lib/python3.7/dist-packages (from pandas>=0.25.0->geopandas) (1.19.5)\n",
            "Requirement already satisfied: python-dateutil>=2.6.1 in /usr/local/lib/python3.7/dist-packages (from pandas>=0.25.0->geopandas) (2.8.2)\n",
            "Requirement already satisfied: pytz>=2017.2 in /usr/local/lib/python3.7/dist-packages (from pandas>=0.25.0->geopandas) (2018.9)\n",
            "Installing collected packages: munch, cligj, click-plugins, pyproj, fiona, geopandas\n",
            "Successfully installed click-plugins-1.1.1 cligj-0.7.2 fiona-1.8.20 geopandas-0.10.2 munch-2.5.0 pyproj-3.2.1\n"
          ]
        }
      ]
    },
    {
      "cell_type": "code",
      "metadata": {
        "id": "B2AG2WXgYuYr",
        "colab": {
          "base_uri": "https://localhost:8080/"
        },
        "outputId": "e6e9a74d-c74c-49fd-acfb-6a795f2b8b43"
      },
      "source": [
        "pip install mapclassify"
      ],
      "execution_count": 30,
      "outputs": [
        {
          "output_type": "stream",
          "name": "stdout",
          "text": [
            "Collecting mapclassify\n",
            "  Downloading mapclassify-2.4.3-py3-none-any.whl (38 kB)\n",
            "Requirement already satisfied: scikit-learn in /usr/local/lib/python3.7/dist-packages (from mapclassify) (0.22.2.post1)\n",
            "Requirement already satisfied: numpy>=1.3 in /usr/local/lib/python3.7/dist-packages (from mapclassify) (1.19.5)\n",
            "Requirement already satisfied: pandas>=1.0 in /usr/local/lib/python3.7/dist-packages (from mapclassify) (1.0.5)\n",
            "Requirement already satisfied: networkx in /usr/local/lib/python3.7/dist-packages (from mapclassify) (2.6.3)\n",
            "Requirement already satisfied: scipy>=1.0 in /usr/local/lib/python3.7/dist-packages (from mapclassify) (1.4.1)\n",
            "Requirement already satisfied: pytz>=2017.2 in /usr/local/lib/python3.7/dist-packages (from pandas>=1.0->mapclassify) (2018.9)\n",
            "Requirement already satisfied: python-dateutil>=2.6.1 in /usr/local/lib/python3.7/dist-packages (from pandas>=1.0->mapclassify) (2.8.2)\n",
            "Requirement already satisfied: six>=1.5 in /usr/local/lib/python3.7/dist-packages (from python-dateutil>=2.6.1->pandas>=1.0->mapclassify) (1.15.0)\n",
            "Requirement already satisfied: joblib>=0.11 in /usr/local/lib/python3.7/dist-packages (from scikit-learn->mapclassify) (1.1.0)\n",
            "Installing collected packages: mapclassify\n",
            "Successfully installed mapclassify-2.4.3\n"
          ]
        }
      ]
    },
    {
      "cell_type": "code",
      "metadata": {
        "id": "B3jGvKrMYuVl"
      },
      "source": [
        "import pycountry \n",
        "import geopandas"
      ],
      "execution_count": 31,
      "outputs": []
    },
    {
      "cell_type": "code",
      "metadata": {
        "id": "KUkRqJKKYuSp"
      },
      "source": [
        "# generate country code  based on country name \n",
        "# from https://melaniesoek0120.medium.com/data-visualization-how-to-plot-a-map-with-geopandas-in-python-73b10dcd4b4b\n",
        "def alpha3code(column):\n",
        "    CODE=[]\n",
        "    for country in column:\n",
        "        try:\n",
        "            code=pycountry.countries.get(name=country).alpha_3\n",
        "            CODE.append(code)\n",
        "        except:\n",
        "            CODE.append('None')\n",
        "    return CODE"
      ],
      "execution_count": 32,
      "outputs": []
    },
    {
      "cell_type": "code",
      "metadata": {
        "id": "tdrAcsT_YuP8",
        "colab": {
          "base_uri": "https://localhost:8080/",
          "height": 142
        },
        "outputId": "4ebba4a5-ffa7-4472-a7fe-958b035ee8da"
      },
      "source": [
        "# add to the country dataframe all the infos about the countries for the world map\n",
        "countries_df = pd.DataFrame(countries)\n",
        "countries_df.reset_index(inplace=True)\n",
        "countries_df.replace('United States of America', 'United States', inplace=True)\n",
        "countries_df['CODE'] = alpha3code(countries_df.nationality_label)\n",
        "countries_df = countries_df.drop(countries_df.index[countries_df['CODE'] == 'None'])\n",
        "world = geopandas.read_file(geopandas.datasets.get_path('naturalearth_lowres'))\n",
        "world.columns = ['pop_est', 'continent', 'name', 'CODE', 'gdp_md_est', 'geometry']\n",
        "countries_geo = pd.merge(world, countries_df,on='CODE')\n",
        "countries_geo.sample(3)"
      ],
      "execution_count": 33,
      "outputs": [
        {
          "output_type": "execute_result",
          "data": {
            "text/html": [
              "<div>\n",
              "<style scoped>\n",
              "    .dataframe tbody tr th:only-of-type {\n",
              "        vertical-align: middle;\n",
              "    }\n",
              "\n",
              "    .dataframe tbody tr th {\n",
              "        vertical-align: top;\n",
              "    }\n",
              "\n",
              "    .dataframe thead th {\n",
              "        text-align: right;\n",
              "    }\n",
              "</style>\n",
              "<table border=\"1\" class=\"dataframe\">\n",
              "  <thead>\n",
              "    <tr style=\"text-align: right;\">\n",
              "      <th></th>\n",
              "      <th>pop_est</th>\n",
              "      <th>continent</th>\n",
              "      <th>name</th>\n",
              "      <th>CODE</th>\n",
              "      <th>gdp_md_est</th>\n",
              "      <th>geometry</th>\n",
              "      <th>nationality_label</th>\n",
              "      <th>quotation</th>\n",
              "    </tr>\n",
              "  </thead>\n",
              "  <tbody>\n",
              "    <tr>\n",
              "      <th>39</th>\n",
              "      <td>3758571</td>\n",
              "      <td>Africa</td>\n",
              "      <td>Mauritania</td>\n",
              "      <td>MRT</td>\n",
              "      <td>16710.0</td>\n",
              "      <td>POLYGON ((-17.06342 20.99975, -16.84519 21.333...</td>\n",
              "      <td>Mauritania</td>\n",
              "      <td>1</td>\n",
              "    </tr>\n",
              "    <tr>\n",
              "      <th>77</th>\n",
              "      <td>9960487</td>\n",
              "      <td>Europe</td>\n",
              "      <td>Sweden</td>\n",
              "      <td>SWE</td>\n",
              "      <td>498100.0</td>\n",
              "      <td>POLYGON ((11.02737 58.85615, 11.46827 59.43239...</td>\n",
              "      <td>Sweden</td>\n",
              "      <td>626</td>\n",
              "    </tr>\n",
              "    <tr>\n",
              "      <th>62</th>\n",
              "      <td>2875422</td>\n",
              "      <td>Asia</td>\n",
              "      <td>Kuwait</td>\n",
              "      <td>KWT</td>\n",
              "      <td>301100.0</td>\n",
              "      <td>POLYGON ((47.97452 29.97582, 48.18319 29.53448...</td>\n",
              "      <td>Kuwait</td>\n",
              "      <td>4</td>\n",
              "    </tr>\n",
              "  </tbody>\n",
              "</table>\n",
              "</div>"
            ],
            "text/plain": [
              "    pop_est continent  ... nationality_label quotation\n",
              "39  3758571    Africa  ...        Mauritania         1\n",
              "77  9960487    Europe  ...            Sweden       626\n",
              "62  2875422      Asia  ...            Kuwait         4\n",
              "\n",
              "[3 rows x 8 columns]"
            ]
          },
          "metadata": {},
          "execution_count": 33
        }
      ]
    },
    {
      "cell_type": "code",
      "metadata": {
        "id": "sGNYhf0NYuNG",
        "colab": {
          "base_uri": "https://localhost:8080/",
          "height": 383
        },
        "outputId": "533985fc-9e40-43e0-b3d1-06e2fe1f863d"
      },
      "source": [
        "# plot the number of quotations on the world map\n",
        "countries_geo.plot(column='quotation', scheme=\"quantiles\", figsize=(15, 20), legend=True, cmap='coolwarm')\n",
        "plt.title('Number of quotations about climate change',fontsize=15)\n",
        "plt.axis(\"off\")\n",
        "plt.show()"
      ],
      "execution_count": 34,
      "outputs": [
        {
          "output_type": "display_data",
          "data": {
            "image/png": "[encoded data removed]",
            "text/plain": [
              "<Figure size 1080x1440 with 1 Axes>"
            ]
          },
          "metadata": {
            "needs_background": "light"
          }
        }
      ]
    },
    {
      "cell_type": "markdown",
      "metadata": {
        "id": "XAW0G6k_sq_J"
      },
      "source": [
        "## Data about climate change from wordbank\n",
        "\n",
        "https://data.worldbank.org/topic/19"
      ]
    },
    {
      "cell_type": "code",
      "metadata": {
        "colab": {
          "base_uri": "https://localhost:8080/",
          "height": 210
        },
        "id": "QLEF0otSs7xU",
        "outputId": "d341a19d-4b1b-4d9f-ccc1-e2ca17ed461a"
      },
      "source": [
        "# for later use ?\n",
        "path_data_wordbank1 = '/content/drive/MyDrive/worlddatabank/Metadata_Country_API_19_DS2_en_csv_v2_3159902.csv'\n",
        "wordbank_meta_Country = pd.read_csv(path_data_wordbank1)\n",
        "wordbank_meta_Country.head(3)\n",
        "\n",
        "path_data_wordbank2 = '/content/drive/MyDrive/worlddatabank/Metadata_Indicator_API_19_DS2_en_csv_v2_3159902.csv'\n",
        "wordbank_meta_Indicator = pd.read_csv(path_data_wordbank2)\n",
        "wordbank_meta_Indicator.head(3)\n"
      ],
      "execution_count": 35,
      "outputs": [
        {
          "output_type": "execute_result",
          "data": {
            "text/html": [
              "<div>\n",
              "<style scoped>\n",
              "    .dataframe tbody tr th:only-of-type {\n",
              "        vertical-align: middle;\n",
              "    }\n",
              "\n",
              "    .dataframe tbody tr th {\n",
              "        vertical-align: top;\n",
              "    }\n",
              "\n",
              "    .dataframe thead th {\n",
              "        text-align: right;\n",
              "    }\n",
              "</style>\n",
              "<table border=\"1\" class=\"dataframe\">\n",
              "  <thead>\n",
              "    <tr style=\"text-align: right;\">\n",
              "      <th></th>\n",
              "      <th>INDICATOR_CODE</th>\n",
              "      <th>INDICATOR_NAME</th>\n",
              "      <th>SOURCE_NOTE</th>\n",
              "      <th>SOURCE_ORGANIZATION</th>\n",
              "      <th>Unnamed: 4</th>\n",
              "    </tr>\n",
              "  </thead>\n",
              "  <tbody>\n",
              "    <tr>\n",
              "      <th>0</th>\n",
              "      <td>SP.URB.TOTL.IN.ZS</td>\n",
              "      <td>Urban population (% of total population)</td>\n",
              "      <td>Urban population refers to people living in ur...</td>\n",
              "      <td>United Nations Population Division. World Urba...</td>\n",
              "      <td>NaN</td>\n",
              "    </tr>\n",
              "    <tr>\n",
              "      <th>1</th>\n",
              "      <td>SP.URB.TOTL</td>\n",
              "      <td>Urban population</td>\n",
              "      <td>Urban population refers to people living in ur...</td>\n",
              "      <td>World Bank staff estimates based on the United...</td>\n",
              "      <td>NaN</td>\n",
              "    </tr>\n",
              "    <tr>\n",
              "      <th>2</th>\n",
              "      <td>SP.URB.GROW</td>\n",
              "      <td>Urban population growth (annual %)</td>\n",
              "      <td>Urban population refers to people living in ur...</td>\n",
              "      <td>World Bank staff estimates based on the United...</td>\n",
              "      <td>NaN</td>\n",
              "    </tr>\n",
              "  </tbody>\n",
              "</table>\n",
              "</div>"
            ],
            "text/plain": [
              "      INDICATOR_CODE  ... Unnamed: 4\n",
              "0  SP.URB.TOTL.IN.ZS  ...        NaN\n",
              "1        SP.URB.TOTL  ...        NaN\n",
              "2        SP.URB.GROW  ...        NaN\n",
              "\n",
              "[3 rows x 5 columns]"
            ]
          },
          "metadata": {},
          "execution_count": 35
        }
      ]
    },
    {
      "cell_type": "markdown",
      "metadata": {
        "id": "frVc5to8Y2FQ"
      },
      "source": [
        "## Political parties"
      ]
    },
    {
      "cell_type": "code",
      "metadata": {
        "id": "ocpgBKYqY5yb",
        "colab": {
          "base_uri": "https://localhost:8080/",
          "height": 434
        },
        "outputId": "c3ccca97-b45e-402a-993b-b1dad0cd566a"
      },
      "source": [
        "# merge the quotes about global warming with the wikidata using the qids\n",
        "climate_wikidata = climate_all_years_clean.explode('qids').merge(wikidata, left_on='qids', right_on='id')\n",
        "climate_wikidata.drop(columns=['id', 'label'], axis=1, inplace=True)\n",
        "print(climate_wikidata.shape)\n",
        "climate_wikidata.head(3)"
      ],
      "execution_count": 36,
      "outputs": [
        {
          "output_type": "stream",
          "name": "stdout",
          "text": [
            "(201888, 23)\n"
          ]
        },
        {
          "output_type": "execute_result",
          "data": {
            "text/html": [
              "<div>\n",
              "<style scoped>\n",
              "    .dataframe tbody tr th:only-of-type {\n",
              "        vertical-align: middle;\n",
              "    }\n",
              "\n",
              "    .dataframe tbody tr th {\n",
              "        vertical-align: top;\n",
              "    }\n",
              "\n",
              "    .dataframe thead th {\n",
              "        text-align: right;\n",
              "    }\n",
              "</style>\n",
              "<table border=\"1\" class=\"dataframe\">\n",
              "  <thead>\n",
              "    <tr style=\"text-align: right;\">\n",
              "      <th></th>\n",
              "      <th>quoteID</th>\n",
              "      <th>quotation</th>\n",
              "      <th>speaker</th>\n",
              "      <th>qids</th>\n",
              "      <th>date</th>\n",
              "      <th>numOccurrences</th>\n",
              "      <th>probas</th>\n",
              "      <th>urls</th>\n",
              "      <th>phase</th>\n",
              "      <th>year</th>\n",
              "      <th>aliases</th>\n",
              "      <th>date_of_birth</th>\n",
              "      <th>nationality</th>\n",
              "      <th>gender</th>\n",
              "      <th>lastrevid</th>\n",
              "      <th>ethnic_group</th>\n",
              "      <th>US_congress_bio_ID</th>\n",
              "      <th>occupation</th>\n",
              "      <th>party</th>\n",
              "      <th>academic_degree</th>\n",
              "      <th>candidacy</th>\n",
              "      <th>type</th>\n",
              "      <th>religion</th>\n",
              "    </tr>\n",
              "  </thead>\n",
              "  <tbody>\n",
              "    <tr>\n",
              "      <th>0</th>\n",
              "      <td>2015-09-28-067347</td>\n",
              "      <td>man-made emissions are an insignificant part o...</td>\n",
              "      <td>John Abraham</td>\n",
              "      <td>Q313025</td>\n",
              "      <td>2015-09-28 23:16:52</td>\n",
              "      <td>1</td>\n",
              "      <td>[[John Abraham, 0.6469], [None, 0.3092], [Will...</td>\n",
              "      <td>[http://www.desmogblog.com/donors-capital-fund]</td>\n",
              "      <td>E</td>\n",
              "      <td>2015</td>\n",
              "      <td>None</td>\n",
              "      <td>[+1972-12-17T00:00:00Z]</td>\n",
              "      <td>[Q668]</td>\n",
              "      <td>[Q6581097]</td>\n",
              "      <td>1354134367</td>\n",
              "      <td>None</td>\n",
              "      <td>None</td>\n",
              "      <td>[Q33999, Q4610556, Q3282637, Q10800557]</td>\n",
              "      <td>None</td>\n",
              "      <td>None</td>\n",
              "      <td>None</td>\n",
              "      <td>item</td>\n",
              "      <td>[Q5043]</td>\n",
              "    </tr>\n",
              "    <tr>\n",
              "      <th>1</th>\n",
              "      <td>2015-09-17-007663</td>\n",
              "      <td>Any argument that global warming stopped 18 or...</td>\n",
              "      <td>John Abraham</td>\n",
              "      <td>Q313025</td>\n",
              "      <td>2015-09-17 10:01:00</td>\n",
              "      <td>2</td>\n",
              "      <td>[[John Abraham, 0.8673], [None, 0.1292], [Lama...</td>\n",
              "      <td>[http://www.environmentalhealthnews.org/t/1883...</td>\n",
              "      <td>E</td>\n",
              "      <td>2015</td>\n",
              "      <td>None</td>\n",
              "      <td>[+1972-12-17T00:00:00Z]</td>\n",
              "      <td>[Q668]</td>\n",
              "      <td>[Q6581097]</td>\n",
              "      <td>1354134367</td>\n",
              "      <td>None</td>\n",
              "      <td>None</td>\n",
              "      <td>[Q33999, Q4610556, Q3282637, Q10800557]</td>\n",
              "      <td>None</td>\n",
              "      <td>None</td>\n",
              "      <td>None</td>\n",
              "      <td>item</td>\n",
              "      <td>[Q5043]</td>\n",
              "    </tr>\n",
              "    <tr>\n",
              "      <th>2</th>\n",
              "      <td>2015-08-06-023574</td>\n",
              "      <td>found that there was no statistically signific...</td>\n",
              "      <td>John Abraham</td>\n",
              "      <td>Q313025</td>\n",
              "      <td>2015-08-06 15:00:59</td>\n",
              "      <td>1</td>\n",
              "      <td>[[John Abraham, 0.7957], [None, 0.1579], [Greg...</td>\n",
              "      <td>[http://dailykos.com/story/2015/08/06/1409298/...</td>\n",
              "      <td>E</td>\n",
              "      <td>2015</td>\n",
              "      <td>None</td>\n",
              "      <td>[+1972-12-17T00:00:00Z]</td>\n",
              "      <td>[Q668]</td>\n",
              "      <td>[Q6581097]</td>\n",
              "      <td>1354134367</td>\n",
              "      <td>None</td>\n",
              "      <td>None</td>\n",
              "      <td>[Q33999, Q4610556, Q3282637, Q10800557]</td>\n",
              "      <td>None</td>\n",
              "      <td>None</td>\n",
              "      <td>None</td>\n",
              "      <td>item</td>\n",
              "      <td>[Q5043]</td>\n",
              "    </tr>\n",
              "  </tbody>\n",
              "</table>\n",
              "</div>"
            ],
            "text/plain": [
              "             quoteID  ... religion\n",
              "0  2015-09-28-067347  ...  [Q5043]\n",
              "1  2015-09-17-007663  ...  [Q5043]\n",
              "2  2015-08-06-023574  ...  [Q5043]\n",
              "\n",
              "[3 rows x 23 columns]"
            ]
          },
          "metadata": {},
          "execution_count": 36
        }
      ]
    },
    {
      "cell_type": "code",
      "metadata": {
        "id": "i1Y804lmY70L"
      },
      "source": [
        "# add the labels of the parties\n",
        "climate_wikidata_label = climate_wikidata.explode('party').merge(qids, left_on='party', right_on='QID')\n",
        "climate_wikidata_label.drop(columns=['Description'], axis=1, inplace=True)\n",
        "climate_wikidata_label.rename(columns={'Label': 'party_label'}, inplace=True)"
      ],
      "execution_count": 37,
      "outputs": []
    },
    {
      "cell_type": "code",
      "metadata": {
        "id": "F4mrpWJcY7xc",
        "colab": {
          "base_uri": "https://localhost:8080/",
          "height": 417
        },
        "outputId": "42b98039-1416-454d-b8eb-0fb3ee4845dc"
      },
      "source": [
        "# add the labels of all the countries\n",
        "climate_wikidata_label = climate_wikidata_label.explode('nationality').merge(qids, left_on='nationality', right_on='QID')\n",
        "climate_wikidata_label.drop(columns=['Description'], axis=1, inplace=True)\n",
        "climate_wikidata_label.rename(columns={'Label': 'nationality_label'}, inplace=True)\n",
        "climate_wikidata_label.sample(3)"
      ],
      "execution_count": 38,
      "outputs": [
        {
          "output_type": "execute_result",
          "data": {
            "text/html": [
              "<div>\n",
              "<style scoped>\n",
              "    .dataframe tbody tr th:only-of-type {\n",
              "        vertical-align: middle;\n",
              "    }\n",
              "\n",
              "    .dataframe tbody tr th {\n",
              "        vertical-align: top;\n",
              "    }\n",
              "\n",
              "    .dataframe thead th {\n",
              "        text-align: right;\n",
              "    }\n",
              "</style>\n",
              "<table border=\"1\" class=\"dataframe\">\n",
              "  <thead>\n",
              "    <tr style=\"text-align: right;\">\n",
              "      <th></th>\n",
              "      <th>quoteID</th>\n",
              "      <th>quotation</th>\n",
              "      <th>speaker</th>\n",
              "      <th>qids</th>\n",
              "      <th>date</th>\n",
              "      <th>numOccurrences</th>\n",
              "      <th>probas</th>\n",
              "      <th>urls</th>\n",
              "      <th>phase</th>\n",
              "      <th>year</th>\n",
              "      <th>aliases</th>\n",
              "      <th>date_of_birth</th>\n",
              "      <th>nationality</th>\n",
              "      <th>gender</th>\n",
              "      <th>lastrevid</th>\n",
              "      <th>ethnic_group</th>\n",
              "      <th>US_congress_bio_ID</th>\n",
              "      <th>occupation</th>\n",
              "      <th>party</th>\n",
              "      <th>academic_degree</th>\n",
              "      <th>candidacy</th>\n",
              "      <th>type</th>\n",
              "      <th>religion</th>\n",
              "      <th>party_label</th>\n",
              "      <th>nationality_label</th>\n",
              "    </tr>\n",
              "  </thead>\n",
              "  <tbody>\n",
              "    <tr>\n",
              "      <th>30374</th>\n",
              "      <td>2019-08-07-104377</td>\n",
              "      <td>We laugh at the superstition and folly of thos...</td>\n",
              "      <td>Tom McClintock</td>\n",
              "      <td>Q535887</td>\n",
              "      <td>2019-08-07 05:54:06</td>\n",
              "      <td>1</td>\n",
              "      <td>[[Tom McClintock, 0.6977], [None, 0.2933], [Pr...</td>\n",
              "      <td>[https://www.heartland.org/news-opinion/news/c...</td>\n",
              "      <td>E</td>\n",
              "      <td>2019</td>\n",
              "      <td>None</td>\n",
              "      <td>[+1956-07-10T00:00:00Z]</td>\n",
              "      <td>Q30</td>\n",
              "      <td>[Q6581097]</td>\n",
              "      <td>1393631560</td>\n",
              "      <td>None</td>\n",
              "      <td>M001177</td>\n",
              "      <td>[Q82955, Q1930187, Q485178]</td>\n",
              "      <td>Q29468</td>\n",
              "      <td>None</td>\n",
              "      <td>None</td>\n",
              "      <td>item</td>\n",
              "      <td>None</td>\n",
              "      <td>Republican Party</td>\n",
              "      <td>United States of America</td>\n",
              "    </tr>\n",
              "    <tr>\n",
              "      <th>14757</th>\n",
              "      <td>2019-04-18-059147</td>\n",
              "      <td>We must achieve 100 percent clean and renewabl...</td>\n",
              "      <td>Kirsten Gillibrand</td>\n",
              "      <td>Q22222</td>\n",
              "      <td>2019-04-18 09:00:12</td>\n",
              "      <td>1</td>\n",
              "      <td>[[Kirsten Gillibrand, 0.5546], [Tulsi Gabbard,...</td>\n",
              "      <td>[https://www.nytimes.com/2019/04/18/us/politic...</td>\n",
              "      <td>E</td>\n",
              "      <td>2019</td>\n",
              "      <td>[Kirsten Elizabeth Rutnik Gillibrand, Kirsten ...</td>\n",
              "      <td>[+1966-12-09T00:00:00Z]</td>\n",
              "      <td>Q30</td>\n",
              "      <td>[Q6581072]</td>\n",
              "      <td>1392787827</td>\n",
              "      <td>None</td>\n",
              "      <td>G000555</td>\n",
              "      <td>[Q82955, Q40348]</td>\n",
              "      <td>Q29552</td>\n",
              "      <td>[Q1765120, Q1540185, Q18745564]</td>\n",
              "      <td>None</td>\n",
              "      <td>item</td>\n",
              "      <td>[Q9592, Q7361618]</td>\n",
              "      <td>Democratic Party</td>\n",
              "      <td>United States of America</td>\n",
              "    </tr>\n",
              "    <tr>\n",
              "      <th>21235</th>\n",
              "      <td>2020-02-21-040580</td>\n",
              "      <td>join a cohort of leading companies that take a...</td>\n",
              "      <td>Michael Bloomberg</td>\n",
              "      <td>Q607</td>\n",
              "      <td>2020-02-21 17:06:43</td>\n",
              "      <td>1</td>\n",
              "      <td>[[Michael Bloomberg, 0.7205], [None, 0.2795]]</td>\n",
              "      <td>[https://www.manilatimes.net/2020/02/22/busine...</td>\n",
              "      <td>E</td>\n",
              "      <td>2020</td>\n",
              "      <td>[Michael Rubens Bloomberg, Michael R. Bloomber...</td>\n",
              "      <td>[+1942-02-14T00:00:00Z]</td>\n",
              "      <td>Q30</td>\n",
              "      <td>[Q6581097]</td>\n",
              "      <td>1391164280</td>\n",
              "      <td>[Q7325]</td>\n",
              "      <td>None</td>\n",
              "      <td>[Q43845, Q82955, Q2095549, Q36180, Q1424605, Q...</td>\n",
              "      <td>Q29468</td>\n",
              "      <td>None</td>\n",
              "      <td>None</td>\n",
              "      <td>item</td>\n",
              "      <td>[Q9268, Q1133485]</td>\n",
              "      <td>Republican Party</td>\n",
              "      <td>United States of America</td>\n",
              "    </tr>\n",
              "  </tbody>\n",
              "</table>\n",
              "</div>"
            ],
            "text/plain": [
              "                 quoteID  ...         nationality_label\n",
              "30374  2019-08-07-104377  ...  United States of America\n",
              "14757  2019-04-18-059147  ...  United States of America\n",
              "21235  2020-02-21-040580  ...  United States of America\n",
              "\n",
              "[3 rows x 25 columns]"
            ]
          },
          "metadata": {},
          "execution_count": 38
        }
      ]
    },
    {
      "cell_type": "code",
      "metadata": {
        "id": "asBoldkWY7ue",
        "colab": {
          "base_uri": "https://localhost:8080/",
          "height": 282
        },
        "outputId": "6b0b27be-a897-4b54-e7a4-656908cf183f"
      },
      "source": [
        "# number of quotes by parties in the world\n",
        "parties = climate_wikidata_label.groupby(by='party_label').count().sort_values(by='quotation', ascending=False).quotation\n",
        "sns.barplot(x=parties[:10].values, y=parties[:10].index)"
      ],
      "execution_count": 39,
      "outputs": [
        {
          "output_type": "execute_result",
          "data": {
            "text/plain": [
              "<matplotlib.axes._subplots.AxesSubplot at 0x7f355ff73690>"
            ]
          },
          "metadata": {},
          "execution_count": 39
        },
        {
          "output_type": "display_data",
          "data": {
            "image/png": "[encoded data removed]",
            "text/plain": [
              "<Figure size 432x288 with 1 Axes>"
            ]
          },
          "metadata": {
            "needs_background": "light"
          }
        }
      ]
    },
    {
      "cell_type": "code",
      "metadata": {
        "id": "k_ADWWHqY7rs"
      },
      "source": [
        "# number of quotes by countries and parties in the world\n",
        "parties_countries = climate_wikidata_label.groupby(by=['nationality_label', 'party_label']).count().sort_values(by='quotation', ascending=False).quotation\n",
        "parties_countries_df = pd.DataFrame(parties_countries)\n",
        "parties_countries_df.reset_index(inplace=True)\n",
        "parties_countries_df = pd.DataFrame(parties_countries)\n",
        "parties_countries_df.reset_index(inplace=True)"
      ],
      "execution_count": 40,
      "outputs": []
    },
    {
      "cell_type": "code",
      "metadata": {
        "id": "TqjYly0yY7o1",
        "colab": {
          "base_uri": "https://localhost:8080/",
          "height": 296
        },
        "outputId": "af941599-4c81-4d19-852a-c3053fb27604"
      },
      "source": [
        "# parties for the USA\n",
        "US_data = parties_countries_df[parties_countries_df.nationality_label == 'United States of America']\n",
        "sns.barplot(data=US_data[:3], x='quotation', y='party_label')"
      ],
      "execution_count": 41,
      "outputs": [
        {
          "output_type": "execute_result",
          "data": {
            "text/plain": [
              "<matplotlib.axes._subplots.AxesSubplot at 0x7f35460b0a90>"
            ]
          },
          "metadata": {},
          "execution_count": 41
        },
        {
          "output_type": "display_data",
          "data": {
            "image/png": "[encoded data removed]",
            "text/plain": [
              "<Figure size 432x288 with 1 Axes>"
            ]
          },
          "metadata": {
            "needs_background": "light"
          }
        }
      ]
    },
    {
      "cell_type": "code",
      "metadata": {
        "id": "4y5tb6CkZA16",
        "colab": {
          "base_uri": "https://localhost:8080/",
          "height": 296
        },
        "outputId": "8b0ccefc-e78c-474c-f563-ac5e9bb50317"
      },
      "source": [
        "# parties for the UK\n",
        "UK_data = parties_countries_df[parties_countries_df.nationality_label == 'United Kingdom']\n",
        "sns.barplot(data=UK_data[:3], x='quotation', y='party_label')"
      ],
      "execution_count": 42,
      "outputs": [
        {
          "output_type": "execute_result",
          "data": {
            "text/plain": [
              "<matplotlib.axes._subplots.AxesSubplot at 0x7f3546032f90>"
            ]
          },
          "metadata": {},
          "execution_count": 42
        },
        {
          "output_type": "display_data",
          "data": {
            "image/png": "[encoded data removed]",
            "text/plain": [
              "<Figure size 432x288 with 1 Axes>"
            ]
          },
          "metadata": {
            "needs_background": "light"
          }
        }
      ]
    },
    {
      "cell_type": "code",
      "metadata": {
        "id": "l6TBr7RIZAyK",
        "colab": {
          "base_uri": "https://localhost:8080/",
          "height": 296
        },
        "outputId": "f207920d-50f4-401d-9e7e-692a14a0b548"
      },
      "source": [
        "# parties for Canada\n",
        "canada_data = parties_countries_df[parties_countries_df.nationality_label == 'Canada']\n",
        "sns.barplot(data=canada_data[:3], x='quotation', y='party_label')"
      ],
      "execution_count": 43,
      "outputs": [
        {
          "output_type": "execute_result",
          "data": {
            "text/plain": [
              "<matplotlib.axes._subplots.AxesSubplot at 0x7f3545f9ee50>"
            ]
          },
          "metadata": {},
          "execution_count": 43
        },
        {
          "output_type": "display_data",
          "data": {
            "image/png": "[encoded data removed]",
            "text/plain": [
              "<Figure size 432x288 with 1 Axes>"
            ]
          },
          "metadata": {
            "needs_background": "light"
          }
        }
      ]
    },
    {
      "cell_type": "markdown",
      "metadata": {
        "id": "8qm_ThfjPKcS"
      },
      "source": [
        "## Age categories"
      ]
    },
    {
      "cell_type": "code",
      "metadata": {
        "id": "nRDgNzsZPL6k"
      },
      "source": [
        "# to find the age category\n",
        "def age_category(age):\n",
        "  if age < 17:\n",
        "    return '0-16'\n",
        "  elif age < 31:\n",
        "    return '17-30'\n",
        "  elif age < 46:\n",
        "    return '31-45'\n",
        "  elif age < 66:\n",
        "    return '46-65'\n",
        "  else:\n",
        "    return '66+'"
      ],
      "execution_count": 44,
      "outputs": []
    },
    {
      "cell_type": "code",
      "metadata": {
        "colab": {
          "base_uri": "https://localhost:8080/",
          "height": 485
        },
        "id": "huDEzgLNPOpB",
        "outputId": "fae7f7f2-726d-42a9-c03f-4de16b9c00a2"
      },
      "source": [
        "# create birth_year, age and age_category columns\n",
        "climate_wikidata_ages = climate_wikidata_label.dropna(axis=0, subset=['date_of_birth'])\n",
        "climate_wikidata_ages['birth_year'] = climate_wikidata_ages.date_of_birth.apply(lambda x: int(x[0][1:5]))\n",
        "climate_wikidata_ages['age'] = climate_wikidata_ages['year'] - climate_wikidata_ages['birth_year']\n",
        "climate_wikidata_ages['age_category'] = climate_wikidata_ages['age'].apply(age_category)\n",
        "climate_wikidata_ages.sample(3)"
      ],
      "execution_count": 45,
      "outputs": [
        {
          "output_type": "execute_result",
          "data": {
            "text/html": [
              "<div>\n",
              "<style scoped>\n",
              "    .dataframe tbody tr th:only-of-type {\n",
              "        vertical-align: middle;\n",
              "    }\n",
              "\n",
              "    .dataframe tbody tr th {\n",
              "        vertical-align: top;\n",
              "    }\n",
              "\n",
              "    .dataframe thead th {\n",
              "        text-align: right;\n",
              "    }\n",
              "</style>\n",
              "<table border=\"1\" class=\"dataframe\">\n",
              "  <thead>\n",
              "    <tr style=\"text-align: right;\">\n",
              "      <th></th>\n",
              "      <th>quoteID</th>\n",
              "      <th>quotation</th>\n",
              "      <th>speaker</th>\n",
              "      <th>qids</th>\n",
              "      <th>date</th>\n",
              "      <th>numOccurrences</th>\n",
              "      <th>probas</th>\n",
              "      <th>urls</th>\n",
              "      <th>phase</th>\n",
              "      <th>year</th>\n",
              "      <th>aliases</th>\n",
              "      <th>date_of_birth</th>\n",
              "      <th>nationality</th>\n",
              "      <th>gender</th>\n",
              "      <th>lastrevid</th>\n",
              "      <th>ethnic_group</th>\n",
              "      <th>US_congress_bio_ID</th>\n",
              "      <th>occupation</th>\n",
              "      <th>party</th>\n",
              "      <th>academic_degree</th>\n",
              "      <th>candidacy</th>\n",
              "      <th>type</th>\n",
              "      <th>religion</th>\n",
              "      <th>party_label</th>\n",
              "      <th>nationality_label</th>\n",
              "      <th>birth_year</th>\n",
              "      <th>age</th>\n",
              "      <th>age_category</th>\n",
              "    </tr>\n",
              "  </thead>\n",
              "  <tbody>\n",
              "    <tr>\n",
              "      <th>15831</th>\n",
              "      <td>2019-05-18-031145</td>\n",
              "      <td>Let's stop fighting and start fixing. And we c...</td>\n",
              "      <td>Jill Biden</td>\n",
              "      <td>Q235349</td>\n",
              "      <td>2019-05-18 21:15:27</td>\n",
              "      <td>8</td>\n",
              "      <td>[[Jill Biden, 0.6432], [None, 0.3443], [Presid...</td>\n",
              "      <td>[http://6abc.com/joe-biden-gives-pitch-on-unit...</td>\n",
              "      <td>E</td>\n",
              "      <td>2019</td>\n",
              "      <td>[Jill Tracy Jacobs Biden, Jill Tracy Biden, Ji...</td>\n",
              "      <td>[+1951-06-03T00:00:00Z]</td>\n",
              "      <td>Q30</td>\n",
              "      <td>[Q6581072]</td>\n",
              "      <td>1392844379</td>\n",
              "      <td>None</td>\n",
              "      <td>None</td>\n",
              "      <td>[Q203184, Q82955, Q37226]</td>\n",
              "      <td>Q29552</td>\n",
              "      <td>None</td>\n",
              "      <td>None</td>\n",
              "      <td>item</td>\n",
              "      <td>None</td>\n",
              "      <td>Democratic Party</td>\n",
              "      <td>United States of America</td>\n",
              "      <td>1951</td>\n",
              "      <td>68</td>\n",
              "      <td>66+</td>\n",
              "    </tr>\n",
              "    <tr>\n",
              "      <th>69001</th>\n",
              "      <td>2019-02-13-099821</td>\n",
              "      <td>We know that 30 percent of the land area of th...</td>\n",
              "      <td>Winston Lackin</td>\n",
              "      <td>Q3486213</td>\n",
              "      <td>2019-02-13 18:03:05</td>\n",
              "      <td>2</td>\n",
              "      <td>[[Winston Lackin, 0.9267], [None, 0.0733]]</td>\n",
              "      <td>[http://www.globalissues.org/news/2019/02/13/2...</td>\n",
              "      <td>E</td>\n",
              "      <td>2019</td>\n",
              "      <td>None</td>\n",
              "      <td>[+1954-12-23T00:00:00Z]</td>\n",
              "      <td>Q730</td>\n",
              "      <td>[Q6581097]</td>\n",
              "      <td>1332660270</td>\n",
              "      <td>None</td>\n",
              "      <td>None</td>\n",
              "      <td>[Q82955]</td>\n",
              "      <td>Q2420320</td>\n",
              "      <td>None</td>\n",
              "      <td>None</td>\n",
              "      <td>item</td>\n",
              "      <td>None</td>\n",
              "      <td>National Democratic Party</td>\n",
              "      <td>Suriname</td>\n",
              "      <td>1954</td>\n",
              "      <td>65</td>\n",
              "      <td>46-65</td>\n",
              "    </tr>\n",
              "    <tr>\n",
              "      <th>30179</th>\n",
              "      <td>2017-06-02-009735</td>\n",
              "      <td>As someone who believes that climate change is...</td>\n",
              "      <td>Brian Mast</td>\n",
              "      <td>Q27733854</td>\n",
              "      <td>2017-06-02 14:08:02</td>\n",
              "      <td>1</td>\n",
              "      <td>[[Brian Mast, 0.9243], [None, 0.0713], [Don Ba...</td>\n",
              "      <td>[http://www.climatechangenews.com/2017/06/02/r...</td>\n",
              "      <td>E</td>\n",
              "      <td>2017</td>\n",
              "      <td>[Brian J. Mast]</td>\n",
              "      <td>[+1980-07-10T00:00:00Z]</td>\n",
              "      <td>Q30</td>\n",
              "      <td>[Q6581097]</td>\n",
              "      <td>1392217146</td>\n",
              "      <td>None</td>\n",
              "      <td>M001199</td>\n",
              "      <td>[Q82955, Q485178]</td>\n",
              "      <td>Q29468</td>\n",
              "      <td>None</td>\n",
              "      <td>None</td>\n",
              "      <td>item</td>\n",
              "      <td>None</td>\n",
              "      <td>Republican Party</td>\n",
              "      <td>United States of America</td>\n",
              "      <td>1980</td>\n",
              "      <td>37</td>\n",
              "      <td>31-45</td>\n",
              "    </tr>\n",
              "  </tbody>\n",
              "</table>\n",
              "</div>"
            ],
            "text/plain": [
              "                 quoteID  ... age_category\n",
              "15831  2019-05-18-031145  ...          66+\n",
              "69001  2019-02-13-099821  ...        46-65\n",
              "30179  2017-06-02-009735  ...        31-45\n",
              "\n",
              "[3 rows x 28 columns]"
            ]
          },
          "metadata": {},
          "execution_count": 45
        }
      ]
    },
    {
      "cell_type": "code",
      "metadata": {
        "colab": {
          "base_uri": "https://localhost:8080/",
          "height": 282
        },
        "id": "tzgh5-D7POla",
        "outputId": "0f912dd8-b3a2-4ec1-8a0f-41b2b4be889c"
      },
      "source": [
        "# number of quotes by age category in the world\n",
        "age_categories = climate_wikidata_ages.groupby(by='age_category').count().quotation\n",
        "sns.barplot(x=age_categories[:10].values, y=age_categories[:10].index)"
      ],
      "execution_count": 46,
      "outputs": [
        {
          "output_type": "execute_result",
          "data": {
            "text/plain": [
              "<matplotlib.axes._subplots.AxesSubplot at 0x7f354601db90>"
            ]
          },
          "metadata": {},
          "execution_count": 46
        },
        {
          "output_type": "display_data",
          "data": {
            "image/png": "[encoded data removed]",
            "text/plain": [
              "<Figure size 432x288 with 1 Axes>"
            ]
          },
          "metadata": {
            "needs_background": "light"
          }
        }
      ]
    },
    {
      "cell_type": "code",
      "metadata": {
        "id": "HuOh_WFhPOem"
      },
      "source": [
        ""
      ],
      "execution_count": null,
      "outputs": []
    }
  ]
}